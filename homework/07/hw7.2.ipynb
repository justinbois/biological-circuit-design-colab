{
 "cells": [
  {
   "cell_type": "markdown",
   "metadata": {},
   "source": [
    "# Homework 7.2: Dynamics of a chemostat (50 pts)\n",
    "\n",
    "\n",
    "<hr>"
   ]
  },
  {
   "cell_type": "markdown",
   "metadata": {},
   "source": [
    "In this problem, we will investigate the dynamics of a [chemostat](https://en.wikipedia.org/wiki/Chemostat). Here, a solution of bacteria in medium is held in a well-mixed, well-aerated vessel with a total solution volume $V$. There is an inflow of sterile medium that has necessary nutrients for the bacteria to grow. To maintain the constant volume, there is an equal outflow of the bacterial medium. The outflowing medium contains depleted nutrients, living and dead bacteria, and waste.\n",
    "\n",
    "Let $Q$ be the volumetric inflow rate of fresh medium (and also the outflow rate). Let $c$ be the concentration of living bacterial cells in the vessel and let $n$ be the concentration of nutrient in the vessel. We denote by $n_0$ the concentration of nutrients in the incoming fresh medium. \n",
    "\n",
    "**a)** Explain why the following equation is a reasonable model for bacterial concentration.\n",
    "\n",
    "\\begin{align}\n",
    "\\frac{\\mathrm{d}c}{\\mathrm{d}t} = \\beta\\,\\frac{n/k}{1 + n/k}\\,c -  \\frac{Q}{V}\\,c.\n",
    "\\end{align}\n",
    "\n",
    "**b)** Taking the above equation as given, and defining by $\\nu$ the number of nutrient molecules needed to make one bacterium, derive an expression for $\\mathrm{d}n/\\mathrm{d}t$.\n",
    "\n",
    "**c)** Nondimensionalize your equations. You should end up with two dimensionless parameters. One is a dimensionless version of the inlet nutrient concentration and another is a dimensionless growth rate.\n",
    "\n",
    "**d)** Analyze the circuit. Include at least the following in your analysis:\n",
    "\n",
    "- The number of fixed points for various parameter values.\n",
    "- Phase portraits with nullclines and fixed points.\n",
    "\n",
    "Based on your analysis, propose an inlet flow rate that will ensure a stable bacterial population."
   ]
  },
  {
   "cell_type": "markdown",
   "metadata": {},
   "source": [
    "<br />"
   ]
  }
 ],
 "metadata": {
  "anaconda-cloud": {},
  "kernelspec": {
   "display_name": "Python 3",
   "language": "python",
   "name": "python3"
  },
  "language_info": {
   "codemirror_mode": {
    "name": "ipython",
    "version": 3
   },
   "file_extension": ".py",
   "mimetype": "text/x-python",
   "name": "python",
   "nbconvert_exporter": "python",
   "pygments_lexer": "ipython3",
   "version": "3.8.8"
  }
 },
 "nbformat": 4,
 "nbformat_minor": 4
}
