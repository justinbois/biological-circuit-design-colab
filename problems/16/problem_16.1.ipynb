{
 "cells": [
  {
   "cell_type": "markdown",
   "metadata": {},
   "source": [
    "# Problem 16.1: Dynamics of noise\n",
    "\n",
    "<hr>"
   ]
  },
  {
   "cell_type": "markdown",
   "metadata": {},
   "source": [
    "In the chapter, we worked out that the dynamics of the mean copy number of unregulated gene expression follow the same ODE we introduced at the very beginning,\n",
    "\n",
    "\\begin{align}\n",
    "\\frac{\\mathrm{d}\\langle n \\rangle}{\\mathrm{d}t} = \\beta - \\gamma \\langle n \\rangle.\n",
    "\\end{align}\n",
    "\n",
    "We also worked out that the steady state distribution is Poisson;\n",
    "\n",
    "\\begin{align}\n",
    "P(n) = \\frac{1}{n!}\\left(\\frac{\\beta}{\\gamma}\\right)^n\\mathrm{e}^{-\\beta / \\gamma}.\n",
    "\\end{align}\n",
    "\n",
    "Here, we will work out the dynamics of the variance in $n$ and demonstrate that the steady state variance and noise are indeed what we get from a Poisson distribution.\n",
    "\n",
    "**a)** Derive a differential equation for the variance $\\sigma^2 = \\left\\langle n^2 \\right\\rangle - \\langle n \\rangle ^2$. Your ODE should only have $\\langle n \\rangle$ and $\\sigma^2$ as variables. *Hint:* First write down an expression for $\\mathrm{d}\\left\\langle n^2 \\right\\rangle / \\mathrm{d}t$, and then use the fact that\n",
    "\n",
    "\\begin{align}\n",
    "\\frac{\\mathrm{d}\\sigma^2}{\\mathrm{d}t} = \\frac{\\mathrm{d}}{\\mathrm{d}t}\\left(\\left\\langle n^2 \\right\\rangle - \\langle n \\rangle^2\\right)\n",
    "= \\frac{\\mathrm{d}\\left\\langle n^2 \\right\\rangle}{\\mathrm{d}t} - \\frac{\\mathrm{d}\\left\\langle n \\right\\rangle^2}{\\mathrm{d}t}\n",
    "= \\frac{\\mathrm{d}\\left\\langle n^2 \\right\\rangle}{\\mathrm{d}t} - 2\\langle n \\rangle\\,\\frac{\\mathrm{d}\\left\\langle n \\right\\rangle}{\\mathrm{d}t}.\n",
    "\\end{align}\n",
    "\n",
    "**b)** Assuming we start at $t = 0$ with no gene product ($n = 0$), solve for $\\langle n \\rangle(t)$ and $\\sigma^2(t)$ to show that the mean and variance are equal for all time, and therefore the Fano factor is always unity. *Hint:* We have already solved for $\\langle n \\rangle(t)$ in the notes. The resulting ODE for $\\sigma^2(t)$ may be solved by integrating factor.\n",
    "\n",
    "**c)** Take the limit of $t \\to \\infty$ of the above solutions to show that the steady state noise is $\\eta = \\sqrt{\\gamma/\\beta}$, as we have shown in the chapter."
   ]
  },
  {
   "cell_type": "markdown",
   "metadata": {},
   "source": [
    "<br />"
   ]
  }
 ],
 "metadata": {
  "anaconda-cloud": {},
  "kernelspec": {
   "display_name": "Python 3 (ipykernel)",
   "language": "python",
   "name": "python3"
  },
  "language_info": {
   "codemirror_mode": {
    "name": "ipython",
    "version": 3
   },
   "file_extension": ".py",
   "mimetype": "text/x-python",
   "name": "python",
   "nbconvert_exporter": "python",
   "pygments_lexer": "ipython3",
   "version": "3.9.12"
  }
 },
 "nbformat": 4,
 "nbformat_minor": 4
}
