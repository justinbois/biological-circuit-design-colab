{
 "cells": [
  {
   "cell_type": "markdown",
   "metadata": {},
   "source": [
    "# 2. Design principles governing the rate of gene expression\n",
    "\n",
    "<hr>"
   ]
  },
  {
   "cell_type": "markdown",
   "metadata": {},
   "source": [
    "**Key concepts and design principles**\n",
    "\n",
    "- Protein degradation rates determine response times.\n",
    "- Increased protein turnover speeds up the response time of a gene expression system. \n",
    "- Negative autoregulation accelerates turn-on times, but not turn-off times.\n",
    "\n",
    "**Techniques**\n",
    "\n",
    "- Steady state normalization allows analysis of response times. \n",
    "- Numerical solution of ODEs using Python.\n",
    "- Interactive plotting using Bokeh.\n",
    "\n",
    "<hr>\n"
   ]
  },
  {
   "cell_type": "code",
   "execution_count": 1,
   "metadata": {
    "tags": []
   },
   "outputs": [
    {
     "data": {
      "text/html": [
       "\n",
       "    <div class=\"bk-root\">\n",
       "        <a href=\"https://bokeh.org\" target=\"_blank\" class=\"bk-logo bk-logo-small bk-logo-notebook\"></a>\n",
       "        <span id=\"1002\">Loading BokehJS ...</span>\n",
       "    </div>"
      ]
     },
     "metadata": {},
     "output_type": "display_data"
    },
    {
     "data": {
      "application/javascript": [
       "\n",
       "(function(root) {\n",
       "  function now() {\n",
       "    return new Date();\n",
       "  }\n",
       "\n",
       "  const force = true;\n",
       "\n",
       "  if (typeof root._bokeh_onload_callbacks === \"undefined\" || force === true) {\n",
       "    root._bokeh_onload_callbacks = [];\n",
       "    root._bokeh_is_loading = undefined;\n",
       "  }\n",
       "\n",
       "  const JS_MIME_TYPE = 'application/javascript';\n",
       "  const HTML_MIME_TYPE = 'text/html';\n",
       "  const EXEC_MIME_TYPE = 'application/vnd.bokehjs_exec.v0+json';\n",
       "  const CLASS_NAME = 'output_bokeh rendered_html';\n",
       "\n",
       "  /**\n",
       "   * Render data to the DOM node\n",
       "   */\n",
       "  function render(props, node) {\n",
       "    const script = document.createElement(\"script\");\n",
       "    node.appendChild(script);\n",
       "  }\n",
       "\n",
       "  /**\n",
       "   * Handle when an output is cleared or removed\n",
       "   */\n",
       "  function handleClearOutput(event, handle) {\n",
       "    const cell = handle.cell;\n",
       "\n",
       "    const id = cell.output_area._bokeh_element_id;\n",
       "    const server_id = cell.output_area._bokeh_server_id;\n",
       "    // Clean up Bokeh references\n",
       "    if (id != null && id in Bokeh.index) {\n",
       "      Bokeh.index[id].model.document.clear();\n",
       "      delete Bokeh.index[id];\n",
       "    }\n",
       "\n",
       "    if (server_id !== undefined) {\n",
       "      // Clean up Bokeh references\n",
       "      const cmd_clean = \"from bokeh.io.state import curstate; print(curstate().uuid_to_server['\" + server_id + \"'].get_sessions()[0].document.roots[0]._id)\";\n",
       "      cell.notebook.kernel.execute(cmd_clean, {\n",
       "        iopub: {\n",
       "          output: function(msg) {\n",
       "            const id = msg.content.text.trim();\n",
       "            if (id in Bokeh.index) {\n",
       "              Bokeh.index[id].model.document.clear();\n",
       "              delete Bokeh.index[id];\n",
       "            }\n",
       "          }\n",
       "        }\n",
       "      });\n",
       "      // Destroy server and session\n",
       "      const cmd_destroy = \"import bokeh.io.notebook as ion; ion.destroy_server('\" + server_id + \"')\";\n",
       "      cell.notebook.kernel.execute(cmd_destroy);\n",
       "    }\n",
       "  }\n",
       "\n",
       "  /**\n",
       "   * Handle when a new output is added\n",
       "   */\n",
       "  function handleAddOutput(event, handle) {\n",
       "    const output_area = handle.output_area;\n",
       "    const output = handle.output;\n",
       "\n",
       "    // limit handleAddOutput to display_data with EXEC_MIME_TYPE content only\n",
       "    if ((output.output_type != \"display_data\") || (!Object.prototype.hasOwnProperty.call(output.data, EXEC_MIME_TYPE))) {\n",
       "      return\n",
       "    }\n",
       "\n",
       "    const toinsert = output_area.element.find(\".\" + CLASS_NAME.split(' ')[0]);\n",
       "\n",
       "    if (output.metadata[EXEC_MIME_TYPE][\"id\"] !== undefined) {\n",
       "      toinsert[toinsert.length - 1].firstChild.textContent = output.data[JS_MIME_TYPE];\n",
       "      // store reference to embed id on output_area\n",
       "      output_area._bokeh_element_id = output.metadata[EXEC_MIME_TYPE][\"id\"];\n",
       "    }\n",
       "    if (output.metadata[EXEC_MIME_TYPE][\"server_id\"] !== undefined) {\n",
       "      const bk_div = document.createElement(\"div\");\n",
       "      bk_div.innerHTML = output.data[HTML_MIME_TYPE];\n",
       "      const script_attrs = bk_div.children[0].attributes;\n",
       "      for (let i = 0; i < script_attrs.length; i++) {\n",
       "        toinsert[toinsert.length - 1].firstChild.setAttribute(script_attrs[i].name, script_attrs[i].value);\n",
       "        toinsert[toinsert.length - 1].firstChild.textContent = bk_div.children[0].textContent\n",
       "      }\n",
       "      // store reference to server id on output_area\n",
       "      output_area._bokeh_server_id = output.metadata[EXEC_MIME_TYPE][\"server_id\"];\n",
       "    }\n",
       "  }\n",
       "\n",
       "  function register_renderer(events, OutputArea) {\n",
       "\n",
       "    function append_mime(data, metadata, element) {\n",
       "      // create a DOM node to render to\n",
       "      const toinsert = this.create_output_subarea(\n",
       "        metadata,\n",
       "        CLASS_NAME,\n",
       "        EXEC_MIME_TYPE\n",
       "      );\n",
       "      this.keyboard_manager.register_events(toinsert);\n",
       "      // Render to node\n",
       "      const props = {data: data, metadata: metadata[EXEC_MIME_TYPE]};\n",
       "      render(props, toinsert[toinsert.length - 1]);\n",
       "      element.append(toinsert);\n",
       "      return toinsert\n",
       "    }\n",
       "\n",
       "    /* Handle when an output is cleared or removed */\n",
       "    events.on('clear_output.CodeCell', handleClearOutput);\n",
       "    events.on('delete.Cell', handleClearOutput);\n",
       "\n",
       "    /* Handle when a new output is added */\n",
       "    events.on('output_added.OutputArea', handleAddOutput);\n",
       "\n",
       "    /**\n",
       "     * Register the mime type and append_mime function with output_area\n",
       "     */\n",
       "    OutputArea.prototype.register_mime_type(EXEC_MIME_TYPE, append_mime, {\n",
       "      /* Is output safe? */\n",
       "      safe: true,\n",
       "      /* Index of renderer in `output_area.display_order` */\n",
       "      index: 0\n",
       "    });\n",
       "  }\n",
       "\n",
       "  // register the mime type if in Jupyter Notebook environment and previously unregistered\n",
       "  if (root.Jupyter !== undefined) {\n",
       "    const events = require('base/js/events');\n",
       "    const OutputArea = require('notebook/js/outputarea').OutputArea;\n",
       "\n",
       "    if (OutputArea.prototype.mime_types().indexOf(EXEC_MIME_TYPE) == -1) {\n",
       "      register_renderer(events, OutputArea);\n",
       "    }\n",
       "  }\n",
       "\n",
       "  \n",
       "  if (typeof (root._bokeh_timeout) === \"undefined\" || force === true) {\n",
       "    root._bokeh_timeout = Date.now() + 5000;\n",
       "    root._bokeh_failed_load = false;\n",
       "  }\n",
       "\n",
       "  const NB_LOAD_WARNING = {'data': {'text/html':\n",
       "     \"<div style='background-color: #fdd'>\\n\"+\n",
       "     \"<p>\\n\"+\n",
       "     \"BokehJS does not appear to have successfully loaded. If loading BokehJS from CDN, this \\n\"+\n",
       "     \"may be due to a slow or bad network connection. Possible fixes:\\n\"+\n",
       "     \"</p>\\n\"+\n",
       "     \"<ul>\\n\"+\n",
       "     \"<li>re-rerun `output_notebook()` to attempt to load from CDN again, or</li>\\n\"+\n",
       "     \"<li>use INLINE resources instead, as so:</li>\\n\"+\n",
       "     \"</ul>\\n\"+\n",
       "     \"<code>\\n\"+\n",
       "     \"from bokeh.resources import INLINE\\n\"+\n",
       "     \"output_notebook(resources=INLINE)\\n\"+\n",
       "     \"</code>\\n\"+\n",
       "     \"</div>\"}};\n",
       "\n",
       "  function display_loaded() {\n",
       "    const el = document.getElementById(\"1002\");\n",
       "    if (el != null) {\n",
       "      el.textContent = \"BokehJS is loading...\";\n",
       "    }\n",
       "    if (root.Bokeh !== undefined) {\n",
       "      if (el != null) {\n",
       "        el.textContent = \"BokehJS \" + root.Bokeh.version + \" successfully loaded.\";\n",
       "      }\n",
       "    } else if (Date.now() < root._bokeh_timeout) {\n",
       "      setTimeout(display_loaded, 100)\n",
       "    }\n",
       "  }\n",
       "\n",
       "\n",
       "  function run_callbacks() {\n",
       "    try {\n",
       "      root._bokeh_onload_callbacks.forEach(function(callback) {\n",
       "        if (callback != null)\n",
       "          callback();\n",
       "      });\n",
       "    } finally {\n",
       "      delete root._bokeh_onload_callbacks\n",
       "    }\n",
       "    console.debug(\"Bokeh: all callbacks have finished\");\n",
       "  }\n",
       "\n",
       "  function load_libs(css_urls, js_urls, callback) {\n",
       "    if (css_urls == null) css_urls = [];\n",
       "    if (js_urls == null) js_urls = [];\n",
       "\n",
       "    root._bokeh_onload_callbacks.push(callback);\n",
       "    if (root._bokeh_is_loading > 0) {\n",
       "      console.debug(\"Bokeh: BokehJS is being loaded, scheduling callback at\", now());\n",
       "      return null;\n",
       "    }\n",
       "    if (js_urls == null || js_urls.length === 0) {\n",
       "      run_callbacks();\n",
       "      return null;\n",
       "    }\n",
       "    console.debug(\"Bokeh: BokehJS not loaded, scheduling load and callback at\", now());\n",
       "    root._bokeh_is_loading = css_urls.length + js_urls.length;\n",
       "\n",
       "    function on_load() {\n",
       "      root._bokeh_is_loading--;\n",
       "      if (root._bokeh_is_loading === 0) {\n",
       "        console.debug(\"Bokeh: all BokehJS libraries/stylesheets loaded\");\n",
       "        run_callbacks()\n",
       "      }\n",
       "    }\n",
       "\n",
       "    function on_error(url) {\n",
       "      console.error(\"failed to load \" + url);\n",
       "    }\n",
       "\n",
       "    for (let i = 0; i < css_urls.length; i++) {\n",
       "      const url = css_urls[i];\n",
       "      const element = document.createElement(\"link\");\n",
       "      element.onload = on_load;\n",
       "      element.onerror = on_error.bind(null, url);\n",
       "      element.rel = \"stylesheet\";\n",
       "      element.type = \"text/css\";\n",
       "      element.href = url;\n",
       "      console.debug(\"Bokeh: injecting link tag for BokehJS stylesheet: \", url);\n",
       "      document.body.appendChild(element);\n",
       "    }\n",
       "\n",
       "    for (let i = 0; i < js_urls.length; i++) {\n",
       "      const url = js_urls[i];\n",
       "      const element = document.createElement('script');\n",
       "      element.onload = on_load;\n",
       "      element.onerror = on_error.bind(null, url);\n",
       "      element.async = false;\n",
       "      element.src = url;\n",
       "      console.debug(\"Bokeh: injecting script tag for BokehJS library: \", url);\n",
       "      document.head.appendChild(element);\n",
       "    }\n",
       "  };\n",
       "\n",
       "  function inject_raw_css(css) {\n",
       "    const element = document.createElement(\"style\");\n",
       "    element.appendChild(document.createTextNode(css));\n",
       "    document.body.appendChild(element);\n",
       "  }\n",
       "\n",
       "  \n",
       "  const js_urls = [\"https://cdn.bokeh.org/bokeh/release/bokeh-2.4.2.min.js\", \"https://cdn.bokeh.org/bokeh/release/bokeh-gl-2.4.2.min.js\", \"https://cdn.bokeh.org/bokeh/release/bokeh-widgets-2.4.2.min.js\", \"https://cdn.bokeh.org/bokeh/release/bokeh-tables-2.4.2.min.js\", \"https://cdn.bokeh.org/bokeh/release/bokeh-mathjax-2.4.2.min.js\"];\n",
       "  const css_urls = [];\n",
       "  \n",
       "\n",
       "  const inline_js = [\n",
       "    function(Bokeh) {\n",
       "      Bokeh.set_log_level(\"info\");\n",
       "    },\n",
       "    function(Bokeh) {\n",
       "    \n",
       "    \n",
       "    }\n",
       "  ];\n",
       "\n",
       "  function run_inline_js() {\n",
       "    \n",
       "    if (root.Bokeh !== undefined || force === true) {\n",
       "      \n",
       "    for (let i = 0; i < inline_js.length; i++) {\n",
       "      inline_js[i].call(root, root.Bokeh);\n",
       "    }\n",
       "    if (force === true) {\n",
       "        display_loaded();\n",
       "      }} else if (Date.now() < root._bokeh_timeout) {\n",
       "      setTimeout(run_inline_js, 100);\n",
       "    } else if (!root._bokeh_failed_load) {\n",
       "      console.log(\"Bokeh: BokehJS failed to load within specified timeout.\");\n",
       "      root._bokeh_failed_load = true;\n",
       "    } else if (force !== true) {\n",
       "      const cell = $(document.getElementById(\"1002\")).parents('.cell').data().cell;\n",
       "      cell.output_area.append_execute_result(NB_LOAD_WARNING)\n",
       "    }\n",
       "\n",
       "  }\n",
       "\n",
       "  if (root._bokeh_is_loading === 0) {\n",
       "    console.debug(\"Bokeh: BokehJS loaded, going straight to plotting\");\n",
       "    run_inline_js();\n",
       "  } else {\n",
       "    load_libs(css_urls, js_urls, function() {\n",
       "      console.debug(\"Bokeh: BokehJS plotting callback run at\", now());\n",
       "      run_inline_js();\n",
       "    });\n",
       "  }\n",
       "}(window));"
      ],
      "application/vnd.bokehjs_load.v0+json": "\n(function(root) {\n  function now() {\n    return new Date();\n  }\n\n  const force = true;\n\n  if (typeof root._bokeh_onload_callbacks === \"undefined\" || force === true) {\n    root._bokeh_onload_callbacks = [];\n    root._bokeh_is_loading = undefined;\n  }\n\n  \n\n  \n  if (typeof (root._bokeh_timeout) === \"undefined\" || force === true) {\n    root._bokeh_timeout = Date.now() + 5000;\n    root._bokeh_failed_load = false;\n  }\n\n  const NB_LOAD_WARNING = {'data': {'text/html':\n     \"<div style='background-color: #fdd'>\\n\"+\n     \"<p>\\n\"+\n     \"BokehJS does not appear to have successfully loaded. If loading BokehJS from CDN, this \\n\"+\n     \"may be due to a slow or bad network connection. Possible fixes:\\n\"+\n     \"</p>\\n\"+\n     \"<ul>\\n\"+\n     \"<li>re-rerun `output_notebook()` to attempt to load from CDN again, or</li>\\n\"+\n     \"<li>use INLINE resources instead, as so:</li>\\n\"+\n     \"</ul>\\n\"+\n     \"<code>\\n\"+\n     \"from bokeh.resources import INLINE\\n\"+\n     \"output_notebook(resources=INLINE)\\n\"+\n     \"</code>\\n\"+\n     \"</div>\"}};\n\n  function display_loaded() {\n    const el = document.getElementById(\"1002\");\n    if (el != null) {\n      el.textContent = \"BokehJS is loading...\";\n    }\n    if (root.Bokeh !== undefined) {\n      if (el != null) {\n        el.textContent = \"BokehJS \" + root.Bokeh.version + \" successfully loaded.\";\n      }\n    } else if (Date.now() < root._bokeh_timeout) {\n      setTimeout(display_loaded, 100)\n    }\n  }\n\n\n  function run_callbacks() {\n    try {\n      root._bokeh_onload_callbacks.forEach(function(callback) {\n        if (callback != null)\n          callback();\n      });\n    } finally {\n      delete root._bokeh_onload_callbacks\n    }\n    console.debug(\"Bokeh: all callbacks have finished\");\n  }\n\n  function load_libs(css_urls, js_urls, callback) {\n    if (css_urls == null) css_urls = [];\n    if (js_urls == null) js_urls = [];\n\n    root._bokeh_onload_callbacks.push(callback);\n    if (root._bokeh_is_loading > 0) {\n      console.debug(\"Bokeh: BokehJS is being loaded, scheduling callback at\", now());\n      return null;\n    }\n    if (js_urls == null || js_urls.length === 0) {\n      run_callbacks();\n      return null;\n    }\n    console.debug(\"Bokeh: BokehJS not loaded, scheduling load and callback at\", now());\n    root._bokeh_is_loading = css_urls.length + js_urls.length;\n\n    function on_load() {\n      root._bokeh_is_loading--;\n      if (root._bokeh_is_loading === 0) {\n        console.debug(\"Bokeh: all BokehJS libraries/stylesheets loaded\");\n        run_callbacks()\n      }\n    }\n\n    function on_error(url) {\n      console.error(\"failed to load \" + url);\n    }\n\n    for (let i = 0; i < css_urls.length; i++) {\n      const url = css_urls[i];\n      const element = document.createElement(\"link\");\n      element.onload = on_load;\n      element.onerror = on_error.bind(null, url);\n      element.rel = \"stylesheet\";\n      element.type = \"text/css\";\n      element.href = url;\n      console.debug(\"Bokeh: injecting link tag for BokehJS stylesheet: \", url);\n      document.body.appendChild(element);\n    }\n\n    for (let i = 0; i < js_urls.length; i++) {\n      const url = js_urls[i];\n      const element = document.createElement('script');\n      element.onload = on_load;\n      element.onerror = on_error.bind(null, url);\n      element.async = false;\n      element.src = url;\n      console.debug(\"Bokeh: injecting script tag for BokehJS library: \", url);\n      document.head.appendChild(element);\n    }\n  };\n\n  function inject_raw_css(css) {\n    const element = document.createElement(\"style\");\n    element.appendChild(document.createTextNode(css));\n    document.body.appendChild(element);\n  }\n\n  \n  const js_urls = [\"https://cdn.bokeh.org/bokeh/release/bokeh-2.4.2.min.js\", \"https://cdn.bokeh.org/bokeh/release/bokeh-gl-2.4.2.min.js\", \"https://cdn.bokeh.org/bokeh/release/bokeh-widgets-2.4.2.min.js\", \"https://cdn.bokeh.org/bokeh/release/bokeh-tables-2.4.2.min.js\", \"https://cdn.bokeh.org/bokeh/release/bokeh-mathjax-2.4.2.min.js\"];\n  const css_urls = [];\n  \n\n  const inline_js = [\n    function(Bokeh) {\n      Bokeh.set_log_level(\"info\");\n    },\n    function(Bokeh) {\n    \n    \n    }\n  ];\n\n  function run_inline_js() {\n    \n    if (root.Bokeh !== undefined || force === true) {\n      \n    for (let i = 0; i < inline_js.length; i++) {\n      inline_js[i].call(root, root.Bokeh);\n    }\n    if (force === true) {\n        display_loaded();\n      }} else if (Date.now() < root._bokeh_timeout) {\n      setTimeout(run_inline_js, 100);\n    } else if (!root._bokeh_failed_load) {\n      console.log(\"Bokeh: BokehJS failed to load within specified timeout.\");\n      root._bokeh_failed_load = true;\n    } else if (force !== true) {\n      const cell = $(document.getElementById(\"1002\")).parents('.cell').data().cell;\n      cell.output_area.append_execute_result(NB_LOAD_WARNING)\n    }\n\n  }\n\n  if (root._bokeh_is_loading === 0) {\n    console.debug(\"Bokeh: BokehJS loaded, going straight to plotting\");\n    run_inline_js();\n  } else {\n    load_libs(css_urls, js_urls, function() {\n      console.debug(\"Bokeh: BokehJS plotting callback run at\", now());\n      run_inline_js();\n    });\n  }\n}(window));"
     },
     "metadata": {},
     "output_type": "display_data"
    }
   ],
   "source": [
    "# Colab setup ------------------\n",
    "import os, sys, subprocess\n",
    "if \"google.colab\" in sys.modules:\n",
    "    cmd = \"pip install --upgrade watermark\"\n",
    "    process = subprocess.Popen(cmd.split(), stdout=subprocess.PIPE, stderr=subprocess.PIPE)\n",
    "    stdout, stderr = process.communicate()\n",
    "# ------------------------------\n",
    "\n",
    "import numpy as np\n",
    "import scipy.integrate\n",
    "import scipy.optimize\n",
    "\n",
    "import bokeh.io\n",
    "import bokeh.layouts\n",
    "import bokeh.models\n",
    "import bokeh.plotting\n",
    "\n",
    "import colorcet\n",
    "\n",
    "# Set to True to have fully interactive plots\n",
    "fully_interactive_plots = False\n",
    "notebook_url = \"localhost:8888\"\n",
    "\n",
    "bokeh.io.output_notebook()"
   ]
  },
  {
   "cell_type": "markdown",
   "metadata": {},
   "source": [
    "<hr>\n",
    "\n",
    "## Protein stability determines the response time to a change in gene expression\n",
    "\n",
    "So far, we have focused on what happens to a system at steady state. However, biological circuits change dynamically, even in constant environmental conditions. \n",
    "\n",
    "The most basic dynamic question one can ask about a gene is how rapidly it can switch from one level of protein to a new level after a sudden increase or decrease in gene expression.\n",
    "\n",
    "Starting with our basic equation for gene expression, and neglecting the mRNA level for the moment, we write:\n",
    "\n",
    "\\begin{align}\n",
    "\\frac{\\mathrm{d}x}{\\mathrm{d}t} = \\beta - \\gamma x\n",
    "\\end{align}\n",
    "\n",
    "Consider a situation in which the gene has been off for a long time, so that $x(0)=0$ and then is suddenly turned on at $t=0$. Solving the above differential equation yields the general solution, \n",
    "\n",
    "\\begin{align}\n",
    "x(t) = \\frac{\\beta }{\\gamma} (1-e^{-\\gamma t}).\n",
    "\\end{align}\n",
    "\n",
    "Thus, the parameter that determines the response time is $\\gamma$, the degradation + dilution rate of the protein. In the above expression, we see that, because $\\gamma$ multiplies time, the characteristic response time scale is $\\gamma^{-1}$. A plot of the concentration of gene product over time is shown below for $\\beta = 100$ and $\\gamma = 1$. Note that $\\beta$ has dimension of concentration per time and $\\gamma$ has dimension of inverse time, and that we take their respective units as arbitrary in the plots that follow."
   ]
  },
  {
   "cell_type": "code",
   "execution_count": 2,
   "metadata": {
    "ExecuteTime": {
     "end_time": "2019-04-05T17:20:07.356315Z",
     "start_time": "2019-04-05T17:20:07.055723Z"
    },
    "tags": [
     "hide-input"
    ]
   },
   "outputs": [
    {
     "data": {
      "text/html": [
       "\n",
       "\n",
       "\n",
       "\n",
       "\n",
       "\n",
       "  <div class=\"bk-root\" id=\"fb71bd01-56ec-4f90-a58e-e13aa9bd8afe\" data-root-id=\"1003\"></div>\n"
      ]
     },
     "metadata": {},
     "output_type": "display_data"
    },
    {
     "data": {
      "application/javascript": [
       "(function(root) {\n",
       "  function embed_document(root) {\n",
       "    \n",
       "  const docs_json = {\"757ad20d-ddef-4ede-93dd-74e05cb5b802\":{\"defs\":[],\"roots\":{\"references\":[{\"attributes\":{\"below\":[{\"id\":\"1012\"}],\"center\":[{\"id\":\"1015\"},{\"id\":\"1019\"},{\"id\":\"1047\"},{\"id\":\"1049\"}],\"frame_height\":275,\"frame_width\":375,\"left\":[{\"id\":\"1016\"}],\"renderers\":[{\"id\":\"1038\"},{\"id\":\"1045\"}],\"title\":{\"id\":\"1050\"},\"toolbar\":{\"id\":\"1027\"},\"x_range\":{\"id\":\"1004\"},\"x_scale\":{\"id\":\"1008\"},\"y_range\":{\"id\":\"1006\"},\"y_scale\":{\"id\":\"1010\"}},\"id\":\"1003\",\"subtype\":\"Figure\",\"type\":\"Plot\"},{\"attributes\":{},\"id\":\"1058\",\"type\":\"UnionRenderers\"},{\"attributes\":{\"line_color\":\"#1f77b4\",\"line_width\":2,\"x\":{\"field\":\"x\"},\"y\":{\"field\":\"y\"}},\"id\":\"1035\",\"type\":\"Line\"},{\"attributes\":{},\"id\":\"1059\",\"type\":\"Selection\"},{\"attributes\":{\"fill_color\":{\"value\":\"#1f77b4\"},\"line_color\":{\"value\":\"#1f77b4\"},\"size\":{\"value\":10},\"x\":{\"field\":\"t0\"},\"y\":{\"field\":\"x0\"}},\"id\":\"1042\",\"type\":\"Circle\"},{\"attributes\":{},\"id\":\"1053\",\"type\":\"BasicTickFormatter\"},{\"attributes\":{\"data\":{\"t0\":[1.0],\"text\":[\"response time = 1/\\u03b3\"],\"x0\":[63.212055882855765]},\"selected\":{\"id\":\"1061\"},\"selection_policy\":{\"id\":\"1060\"}},\"id\":\"1040\",\"type\":\"ColumnDataSource\"},{\"attributes\":{\"source\":{\"id\":\"1040\"}},\"id\":\"1046\",\"type\":\"CDSView\"},{\"attributes\":{},\"id\":\"1054\",\"type\":\"AllLabels\"},{\"attributes\":{\"source\":{\"id\":\"1034\"}},\"id\":\"1039\",\"type\":\"CDSView\"},{\"attributes\":{\"coordinates\":null,\"data_source\":{\"id\":\"1034\"},\"glyph\":{\"id\":\"1035\"},\"group\":null,\"hover_glyph\":null,\"muted_glyph\":{\"id\":\"1037\"},\"nonselection_glyph\":{\"id\":\"1036\"},\"view\":{\"id\":\"1039\"}},\"id\":\"1038\",\"type\":\"GlyphRenderer\"},{\"attributes\":{},\"id\":\"1056\",\"type\":\"BasicTickFormatter\"},{\"attributes\":{\"tools\":[{\"id\":\"1020\"},{\"id\":\"1021\"},{\"id\":\"1022\"},{\"id\":\"1023\"},{\"id\":\"1024\"},{\"id\":\"1025\"}]},\"id\":\"1027\",\"type\":\"Toolbar\"},{\"attributes\":{\"fill_alpha\":{\"value\":0.2},\"fill_color\":{\"value\":\"#1f77b4\"},\"hatch_alpha\":{\"value\":0.2},\"line_alpha\":{\"value\":0.2},\"line_color\":{\"value\":\"#1f77b4\"},\"size\":{\"value\":10},\"x\":{\"field\":\"t0\"},\"y\":{\"field\":\"x0\"}},\"id\":\"1044\",\"type\":\"Circle\"},{\"attributes\":{},\"id\":\"1057\",\"type\":\"AllLabels\"},{\"attributes\":{\"line_alpha\":0.1,\"line_color\":\"#1f77b4\",\"line_width\":2,\"x\":{\"field\":\"x\"},\"y\":{\"field\":\"y\"}},\"id\":\"1036\",\"type\":\"Line\"},{\"attributes\":{\"coordinates\":null,\"dimension\":\"height\",\"group\":null,\"level\":\"underlay\",\"line_dash\":[6],\"location\":1.0},\"id\":\"1049\",\"type\":\"Span\"},{\"attributes\":{\"coordinates\":null,\"group\":null},\"id\":\"1050\",\"type\":\"Title\"},{\"attributes\":{},\"id\":\"1060\",\"type\":\"UnionRenderers\"},{\"attributes\":{\"coordinates\":null,\"group\":null,\"source\":{\"id\":\"1040\"},\"text\":{\"field\":\"text\"},\"x\":{\"field\":\"t0\"},\"x_offset\":{\"value\":10},\"y\":{\"field\":\"x0\"},\"y_offset\":{\"value\":-10}},\"id\":\"1047\",\"type\":\"LabelSet\"},{\"attributes\":{\"coordinates\":null,\"data_source\":{\"id\":\"1040\"},\"glyph\":{\"id\":\"1042\"},\"group\":null,\"hover_glyph\":null,\"muted_glyph\":{\"id\":\"1044\"},\"nonselection_glyph\":{\"id\":\"1043\"},\"view\":{\"id\":\"1046\"}},\"id\":\"1045\",\"type\":\"GlyphRenderer\"},{\"attributes\":{},\"id\":\"1061\",\"type\":\"Selection\"},{\"attributes\":{\"line_alpha\":0.2,\"line_color\":\"#1f77b4\",\"line_width\":2,\"x\":{\"field\":\"x\"},\"y\":{\"field\":\"y\"}},\"id\":\"1037\",\"type\":\"Line\"},{\"attributes\":{\"end\":6},\"id\":\"1004\",\"type\":\"Range1d\"},{\"attributes\":{\"fill_alpha\":{\"value\":0.1},\"fill_color\":{\"value\":\"#1f77b4\"},\"hatch_alpha\":{\"value\":0.1},\"line_alpha\":{\"value\":0.1},\"line_color\":{\"value\":\"#1f77b4\"},\"size\":{\"value\":10},\"x\":{\"field\":\"t0\"},\"y\":{\"field\":\"x0\"}},\"id\":\"1043\",\"type\":\"Circle\"},{\"attributes\":{\"data\":{\"x\":{\"__ndarray__\":\"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\",\"dtype\":\"float64\",\"order\":\"little\",\"shape\":[400]},\"y\":{\"__ndarray__\":\"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\",\"dtype\":\"float64\",\"order\":\"little\",\"shape\":[400]}},\"selected\":{\"id\":\"1059\"},\"selection_policy\":{\"id\":\"1058\"}},\"id\":\"1034\",\"type\":\"ColumnDataSource\"},{\"attributes\":{},\"id\":\"1023\",\"type\":\"SaveTool\"},{\"attributes\":{\"axis_label\":\"x(t)\",\"coordinates\":null,\"formatter\":{\"id\":\"1053\"},\"group\":null,\"major_label_policy\":{\"id\":\"1054\"},\"ticker\":{\"id\":\"1017\"}},\"id\":\"1016\",\"type\":\"LinearAxis\"},{\"attributes\":{},\"id\":\"1025\",\"type\":\"HelpTool\"},{\"attributes\":{},\"id\":\"1006\",\"type\":\"DataRange1d\"},{\"attributes\":{},\"id\":\"1010\",\"type\":\"LinearScale\"},{\"attributes\":{},\"id\":\"1008\",\"type\":\"LinearScale\"},{\"attributes\":{\"bottom_units\":\"screen\",\"coordinates\":null,\"fill_alpha\":0.5,\"fill_color\":\"lightgrey\",\"group\":null,\"left_units\":\"screen\",\"level\":\"overlay\",\"line_alpha\":1.0,\"line_color\":\"black\",\"line_dash\":[4,4],\"line_width\":2,\"right_units\":\"screen\",\"syncable\":false,\"top_units\":\"screen\"},\"id\":\"1026\",\"type\":\"BoxAnnotation\"},{\"attributes\":{\"axis_label\":\"time\",\"coordinates\":null,\"formatter\":{\"id\":\"1056\"},\"group\":null,\"major_label_policy\":{\"id\":\"1057\"},\"ticker\":{\"id\":\"1013\"}},\"id\":\"1012\",\"type\":\"LinearAxis\"},{\"attributes\":{},\"id\":\"1021\",\"type\":\"WheelZoomTool\"},{\"attributes\":{},\"id\":\"1013\",\"type\":\"BasicTicker\"},{\"attributes\":{\"axis\":{\"id\":\"1012\"},\"coordinates\":null,\"group\":null,\"ticker\":null},\"id\":\"1015\",\"type\":\"Grid\"},{\"attributes\":{\"axis\":{\"id\":\"1016\"},\"coordinates\":null,\"dimension\":1,\"group\":null,\"ticker\":null},\"id\":\"1019\",\"type\":\"Grid\"},{\"attributes\":{},\"id\":\"1017\",\"type\":\"BasicTicker\"},{\"attributes\":{\"overlay\":{\"id\":\"1026\"}},\"id\":\"1022\",\"type\":\"BoxZoomTool\"},{\"attributes\":{},\"id\":\"1020\",\"type\":\"PanTool\"},{\"attributes\":{},\"id\":\"1024\",\"type\":\"ResetTool\"}],\"root_ids\":[\"1003\"]},\"title\":\"Bokeh Application\",\"version\":\"2.4.2\"}};\n",
       "  const render_items = [{\"docid\":\"757ad20d-ddef-4ede-93dd-74e05cb5b802\",\"root_ids\":[\"1003\"],\"roots\":{\"1003\":\"fb71bd01-56ec-4f90-a58e-e13aa9bd8afe\"}}];\n",
       "  root.Bokeh.embed.embed_items_notebook(docs_json, render_items);\n",
       "\n",
       "  }\n",
       "  if (root.Bokeh !== undefined) {\n",
       "    embed_document(root);\n",
       "  } else {\n",
       "    let attempts = 0;\n",
       "    const timer = setInterval(function(root) {\n",
       "      if (root.Bokeh !== undefined) {\n",
       "        clearInterval(timer);\n",
       "        embed_document(root);\n",
       "      } else {\n",
       "        attempts++;\n",
       "        if (attempts > 100) {\n",
       "          clearInterval(timer);\n",
       "          console.log(\"Bokeh: ERROR: Unable to run BokehJS code because BokehJS library is missing\");\n",
       "        }\n",
       "      }\n",
       "    }, 10, root)\n",
       "  }\n",
       "})(window);"
      ],
      "application/vnd.bokehjs_exec.v0+json": ""
     },
     "metadata": {
      "application/vnd.bokehjs_exec.v0+json": {
       "id": "1003"
      }
     },
     "output_type": "display_data"
    }
   ],
   "source": [
    "# Parameters\n",
    "beta = 100\n",
    "gamma = 1\n",
    "\n",
    "# Dynamics\n",
    "t = np.linspace(0, 6, 400)\n",
    "x = beta / gamma * (1 - np.exp(-gamma * t))\n",
    "\n",
    "# Plot response\n",
    "p = bokeh.plotting.figure(\n",
    "    frame_height=275,\n",
    "    frame_width=375,\n",
    "    x_axis_label=\"time\",\n",
    "    y_axis_label=\"x(t)\",\n",
    "    x_range=[0, 6],\n",
    ")\n",
    "p.line(t, x, line_width=2)\n",
    "\n",
    "# Mark the response time (when we get to level 1-1/e)\n",
    "t0 = 1 / gamma\n",
    "x0 = beta / gamma * (1 - np.exp(-1))\n",
    "\n",
    "# Add the glyph with label\n",
    "source = bokeh.models.ColumnDataSource(\n",
    "    data=dict(t0=[t0], x0=[x0], text=[\"response time = 1/γ\"])\n",
    ")\n",
    "p.circle(x=\"t0\", y=\"x0\", source=source, size=10)\n",
    "p.add_layout(\n",
    "    bokeh.models.LabelSet(\n",
    "        x=\"t0\", y=\"x0\", text=\"text\", source=source, x_offset=10, y_offset=-10\n",
    "    )\n",
    ")\n",
    "p.add_layout(\n",
    "    bokeh.models.Span(\n",
    "        location=t0,\n",
    "        level=\"underlay\",\n",
    "        dimension=\"height\",\n",
    "        line_color=\"black\",\n",
    "        line_dash=\"dashed\",\n",
    "    )\n",
    ")\n",
    "\n",
    "bokeh.io.show(p)"
   ]
  },
  {
   "cell_type": "markdown",
   "metadata": {
    "tags": []
   },
   "source": [
    "## How can we speed up responses?\n",
    "\n",
    "So far, it seems as if the cell's ability to modulate the concentration of a stable protein is quite limited, apparently requiring multiple cell cycles for both increases and decreases. This seems rather pathetic for such a successful, billion year old creature. You might think you could up-regulate the protein level faster by cranking up the promoter strength (increasing $\\beta$). Indeed, this would allow the cell to hit a specific threshold earlier. However, it would also increase the final steady state level ($\\beta/\\gamma$), and therefore leave the timescale over which the system reaches its new steady-state unaffected.\n",
    "\n",
    "One simple and direct way to speed up the response time of the protein is to destabilize it, increasing $\\gamma$. This strategy pays the cost of a **futile cycle** of protein synthesis and degradation to provide a benefit in terms of the speed with which the regulatory system can reach a new steady state. \n",
    "\n",
    "To disentangle amplitude and timescale, it is useful to normalize these plots by their steady states, as in the bottom plot below. Comparing normalized response curves is reasonable, because mutations can alter the expression level of a gene allowing evolution to re-optimize expression level independently of the regulatory feedback system."
   ]
  },
  {
   "cell_type": "code",
   "execution_count": 3,
   "metadata": {
    "tags": [
     "hide-input"
    ]
   },
   "outputs": [
    {
     "data": {
      "text/html": [
       "\n",
       "\n",
       "\n",
       "\n",
       "\n",
       "\n",
       "  <div class=\"bk-root\" id=\"6ac1e699-1c21-4120-a7f4-1ea175c59e32\" data-root-id=\"1333\"></div>\n"
      ]
     },
     "metadata": {},
     "output_type": "display_data"
    },
    {
     "data": {
      "application/javascript": [
       "(function(root) {\n",
       "  function embed_document(root) {\n",
       "    \n",
       "  const docs_json = {\"98166bd0-f438-4756-80c6-6670d06bf06e\":{\"defs\":[],\"roots\":{\"references\":[{\"attributes\":{\"children\":[{\"id\":\"1332\"},{\"id\":\"1330\"}]},\"id\":\"1333\",\"type\":\"Column\"},{\"attributes\":{\"coordinates\":null,\"group\":null},\"id\":\"1308\",\"type\":\"Title\"},{\"attributes\":{\"toolbars\":[{\"id\":\"1152\"},{\"id\":\"1183\"}],\"tools\":[{\"id\":\"1145\"},{\"id\":\"1146\"},{\"id\":\"1147\"},{\"id\":\"1148\"},{\"id\":\"1149\"},{\"id\":\"1150\"},{\"id\":\"1176\"},{\"id\":\"1177\"},{\"id\":\"1178\"},{\"id\":\"1179\"},{\"id\":\"1180\"},{\"id\":\"1181\"}]},\"id\":\"1331\",\"type\":\"ProxyToolbar\"},{\"attributes\":{\"bottom_units\":\"screen\",\"coordinates\":null,\"fill_alpha\":0.5,\"fill_color\":\"lightgrey\",\"group\":null,\"left_units\":\"screen\",\"level\":\"overlay\",\"line_alpha\":1.0,\"line_color\":\"black\",\"line_dash\":[4,4],\"line_width\":2,\"right_units\":\"screen\",\"syncable\":false,\"top_units\":\"screen\"},\"id\":\"1151\",\"type\":\"BoxAnnotation\"},{\"attributes\":{},\"id\":\"1148\",\"type\":\"SaveTool\"},{\"attributes\":{\"text_alpha\":{\"value\":0.2},\"text_baseline\":{\"value\":\"top\"},\"text_color\":{\"value\":\"#6baed6\"},\"text_font_size\":{\"value\":\"10pt\"},\"x\":{\"field\":\"x\"},\"y\":{\"field\":\"y\"}},\"id\":\"1277\",\"type\":\"Text\"},{\"attributes\":{\"source\":{\"id\":\"1274\"}},\"id\":\"1279\",\"type\":\"CDSView\"},{\"attributes\":{\"text_alpha\":{\"value\":0.1},\"text_baseline\":{\"value\":\"top\"},\"text_color\":{\"value\":\"#6baed6\"},\"text_font_size\":{\"value\":\"10pt\"},\"x\":{\"field\":\"x\"},\"y\":{\"field\":\"y\"}},\"id\":\"1276\",\"type\":\"Text\"},{\"attributes\":{\"coordinates\":null,\"data_source\":{\"id\":\"1274\"},\"glyph\":{\"id\":\"1275\"},\"group\":null,\"hover_glyph\":null,\"muted_glyph\":{\"id\":\"1277\"},\"nonselection_glyph\":{\"id\":\"1276\"},\"view\":{\"id\":\"1279\"}},\"id\":\"1278\",\"type\":\"GlyphRenderer\"},{\"attributes\":{\"toolbar\":{\"id\":\"1331\"},\"toolbar_location\":\"above\"},\"id\":\"1332\",\"type\":\"ToolbarBox\"},{\"attributes\":{\"coordinates\":null,\"group\":null},\"id\":\"1280\",\"type\":\"Title\"},{\"attributes\":{},\"id\":\"1320\",\"type\":\"UnionRenderers\"},{\"attributes\":{},\"id\":\"1321\",\"type\":\"Selection\"},{\"attributes\":{\"coordinates\":null,\"data_source\":{\"id\":\"1268\"},\"glyph\":{\"id\":\"1269\"},\"group\":null,\"hover_glyph\":null,\"muted_glyph\":{\"id\":\"1271\"},\"nonselection_glyph\":{\"id\":\"1270\"},\"view\":{\"id\":\"1273\"}},\"id\":\"1272\",\"type\":\"GlyphRenderer\"},{\"attributes\":{},\"id\":\"1166\",\"type\":\"LinearScale\"},{\"attributes\":{\"axis_label\":\"time\",\"coordinates\":null,\"formatter\":{\"id\":\"1314\"},\"group\":null,\"major_label_policy\":{\"id\":\"1315\"},\"ticker\":{\"id\":\"1169\"}},\"id\":\"1168\",\"type\":\"LinearAxis\"},{\"attributes\":{},\"id\":\"1164\",\"type\":\"LinearScale\"},{\"attributes\":{\"text_baseline\":{\"value\":\"top\"},\"text_color\":{\"value\":\"#08519c\"},\"text_font_size\":{\"value\":\"10pt\"},\"x\":{\"field\":\"x\"},\"y\":{\"field\":\"y\"}},\"id\":\"1263\",\"type\":\"Text\"},{\"attributes\":{},\"id\":\"1322\",\"type\":\"UnionRenderers\"},{\"attributes\":{},\"id\":\"1297\",\"type\":\"Selection\"},{\"attributes\":{\"text_baseline\":{\"value\":\"top\"},\"text_color\":{\"value\":\"#6baed6\"},\"text_font_size\":{\"value\":\"10pt\"},\"x\":{\"field\":\"x\"},\"y\":{\"field\":\"y\"}},\"id\":\"1275\",\"type\":\"Text\"},{\"attributes\":{},\"id\":\"1323\",\"type\":\"Selection\"},{\"attributes\":{},\"id\":\"1311\",\"type\":\"BasicTickFormatter\"},{\"attributes\":{\"children\":[[{\"id\":\"1128\"},0,0],[{\"id\":\"1159\"},1,0]]},\"id\":\"1330\",\"type\":\"GridBox\"},{\"attributes\":{},\"id\":\"1312\",\"type\":\"AllLabels\"},{\"attributes\":{\"source\":{\"id\":\"1268\"}},\"id\":\"1273\",\"type\":\"CDSView\"},{\"attributes\":{},\"id\":\"1314\",\"type\":\"BasicTickFormatter\"},{\"attributes\":{},\"id\":\"1315\",\"type\":\"AllLabels\"},{\"attributes\":{},\"id\":\"1324\",\"type\":\"UnionRenderers\"},{\"attributes\":{},\"id\":\"1325\",\"type\":\"Selection\"},{\"attributes\":{\"bottom_units\":\"screen\",\"coordinates\":null,\"fill_alpha\":0.5,\"fill_color\":\"lightgrey\",\"group\":null,\"left_units\":\"screen\",\"level\":\"overlay\",\"line_alpha\":1.0,\"line_color\":\"black\",\"line_dash\":[4,4],\"line_width\":2,\"right_units\":\"screen\",\"syncable\":false,\"top_units\":\"screen\"},\"id\":\"1182\",\"type\":\"BoxAnnotation\"},{\"attributes\":{},\"id\":\"1316\",\"type\":\"UnionRenderers\"},{\"attributes\":{\"fill_color\":{\"value\":\"#6baed6\"},\"hatch_color\":{\"value\":\"#6baed6\"},\"line_color\":{\"value\":\"#6baed6\"},\"size\":{\"value\":10},\"x\":{\"value\":0.3333333333333333},\"y\":{\"value\":0.6321205588285577}},\"id\":\"1257\",\"type\":\"Circle\"},{\"attributes\":{},\"id\":\"1317\",\"type\":\"Selection\"},{\"attributes\":{},\"id\":\"1283\",\"type\":\"BasicTickFormatter\"},{\"attributes\":{},\"id\":\"1284\",\"type\":\"AllLabels\"},{\"attributes\":{\"data\":{\"text\":[\"\\u03b3 = 3\"],\"x\":[4],\"y\":[30]},\"selected\":{\"id\":\"1305\"},\"selection_policy\":{\"id\":\"1304\"}},\"id\":\"1274\",\"type\":\"ColumnDataSource\"},{\"attributes\":{},\"id\":\"1286\",\"type\":\"BasicTickFormatter\"},{\"attributes\":{},\"id\":\"1326\",\"type\":\"UnionRenderers\"},{\"attributes\":{},\"id\":\"1287\",\"type\":\"AllLabels\"},{\"attributes\":{},\"id\":\"1327\",\"type\":\"Selection\"},{\"attributes\":{\"text_alpha\":{\"value\":0.2},\"text_color\":{\"value\":\"#3182bd\"},\"text_font_size\":{\"value\":\"10pt\"},\"x\":{\"field\":\"x\"},\"y\":{\"field\":\"y\"}},\"id\":\"1271\",\"type\":\"Text\"},{\"attributes\":{},\"id\":\"1318\",\"type\":\"UnionRenderers\"},{\"attributes\":{},\"id\":\"1319\",\"type\":\"Selection\"},{\"attributes\":{},\"id\":\"1162\",\"type\":\"DataRange1d\"},{\"attributes\":{\"text_alpha\":{\"value\":0.1},\"text_color\":{\"value\":\"#3182bd\"},\"text_font_size\":{\"value\":\"10pt\"},\"x\":{\"field\":\"x\"},\"y\":{\"field\":\"y\"}},\"id\":\"1270\",\"type\":\"Text\"},{\"attributes\":{},\"id\":\"1169\",\"type\":\"BasicTicker\"},{\"attributes\":{},\"id\":\"1179\",\"type\":\"SaveTool\"},{\"attributes\":{\"fill_alpha\":{\"value\":0.1},\"fill_color\":{\"value\":\"#6baed6\"},\"hatch_alpha\":{\"value\":0.1},\"hatch_color\":{\"value\":\"#6baed6\"},\"line_alpha\":{\"value\":0.1},\"line_color\":{\"value\":\"#6baed6\"},\"size\":{\"value\":10},\"x\":{\"value\":0.3333333333333333},\"y\":{\"value\":21.07068529428526}},\"id\":\"1246\",\"type\":\"Circle\"},{\"attributes\":{},\"id\":\"1288\",\"type\":\"UnionRenderers\"},{\"attributes\":{},\"id\":\"1180\",\"type\":\"ResetTool\"},{\"attributes\":{\"fill_alpha\":{\"value\":0.1},\"fill_color\":{\"value\":\"#6baed6\"},\"hatch_alpha\":{\"value\":0.1},\"hatch_color\":{\"value\":\"#6baed6\"},\"line_alpha\":{\"value\":0.1},\"line_color\":{\"value\":\"#6baed6\"},\"size\":{\"value\":10},\"x\":{\"value\":0.3333333333333333},\"y\":{\"value\":0.6321205588285577}},\"id\":\"1258\",\"type\":\"Circle\"},{\"attributes\":{\"source\":{\"id\":\"1244\"}},\"id\":\"1249\",\"type\":\"CDSView\"},{\"attributes\":{},\"id\":\"1173\",\"type\":\"BasicTicker\"},{\"attributes\":{},\"id\":\"1289\",\"type\":\"Selection\"},{\"attributes\":{\"data\":{},\"selected\":{\"id\":\"1323\"},\"selection_policy\":{\"id\":\"1322\"}},\"id\":\"1232\",\"type\":\"ColumnDataSource\"},{\"attributes\":{\"coordinates\":null,\"data_source\":{\"id\":\"1238\"},\"glyph\":{\"id\":\"1239\"},\"group\":null,\"hover_glyph\":null,\"muted_glyph\":{\"id\":\"1241\"},\"nonselection_glyph\":{\"id\":\"1240\"},\"view\":{\"id\":\"1243\"}},\"id\":\"1242\",\"type\":\"GlyphRenderer\"},{\"attributes\":{\"coordinates\":null,\"data_source\":{\"id\":\"1232\"},\"glyph\":{\"id\":\"1233\"},\"group\":null,\"hover_glyph\":null,\"muted_glyph\":{\"id\":\"1235\"},\"nonselection_glyph\":{\"id\":\"1234\"},\"view\":{\"id\":\"1237\"}},\"id\":\"1236\",\"type\":\"GlyphRenderer\"},{\"attributes\":{\"fill_color\":{\"value\":\"#6baed6\"},\"hatch_color\":{\"value\":\"#6baed6\"},\"line_color\":{\"value\":\"#6baed6\"},\"size\":{\"value\":10},\"x\":{\"value\":0.3333333333333333},\"y\":{\"value\":21.07068529428526}},\"id\":\"1245\",\"type\":\"Circle\"},{\"attributes\":{\"data\":{},\"selected\":{\"id\":\"1299\"},\"selection_policy\":{\"id\":\"1298\"}},\"id\":\"1244\",\"type\":\"ColumnDataSource\"},{\"attributes\":{\"source\":{\"id\":\"1202\"}},\"id\":\"1207\",\"type\":\"CDSView\"},{\"attributes\":{\"line_alpha\":0.2,\"line_color\":\"#08519c\",\"line_width\":2,\"x\":{\"field\":\"x\"},\"y\":{\"field\":\"y\"}},\"id\":\"1193\",\"type\":\"Line\"},{\"attributes\":{\"line_alpha\":0.1,\"line_color\":\"#6baed6\",\"line_width\":2,\"x\":{\"field\":\"x\"},\"y\":{\"field\":\"y\"}},\"id\":\"1240\",\"type\":\"Line\"},{\"attributes\":{\"coordinates\":null,\"data_source\":{\"id\":\"1250\"},\"glyph\":{\"id\":\"1251\"},\"group\":null,\"hover_glyph\":null,\"muted_glyph\":{\"id\":\"1253\"},\"nonselection_glyph\":{\"id\":\"1252\"},\"view\":{\"id\":\"1255\"}},\"id\":\"1254\",\"type\":\"GlyphRenderer\"},{\"attributes\":{\"fill_alpha\":{\"value\":0.1},\"fill_color\":{\"value\":\"#08519c\"},\"hatch_alpha\":{\"value\":0.1},\"hatch_color\":{\"value\":\"#08519c\"},\"line_alpha\":{\"value\":0.1},\"line_color\":{\"value\":\"#08519c\"},\"size\":{\"value\":10},\"x\":{\"value\":1.0},\"y\":{\"value\":0.6321205588285577}},\"id\":\"1210\",\"type\":\"Circle\"},{\"attributes\":{\"source\":{\"id\":\"1250\"}},\"id\":\"1255\",\"type\":\"CDSView\"},{\"attributes\":{\"data\":{},\"selected\":{\"id\":\"1291\"},\"selection_policy\":{\"id\":\"1290\"}},\"id\":\"1196\",\"type\":\"ColumnDataSource\"},{\"attributes\":{\"line_alpha\":0.2,\"line_color\":\"#6baed6\",\"line_width\":2,\"x\":{\"field\":\"x\"},\"y\":{\"field\":\"y\"}},\"id\":\"1241\",\"type\":\"Line\"},{\"attributes\":{},\"id\":\"1298\",\"type\":\"UnionRenderers\"},{\"attributes\":{\"overlay\":{\"id\":\"1182\"}},\"id\":\"1178\",\"type\":\"BoxZoomTool\"},{\"attributes\":{\"line_color\":\"#6baed6\",\"line_width\":2,\"x\":{\"field\":\"x\"},\"y\":{\"field\":\"y\"}},\"id\":\"1251\",\"type\":\"Line\"},{\"attributes\":{\"tools\":[{\"id\":\"1176\"},{\"id\":\"1177\"},{\"id\":\"1178\"},{\"id\":\"1179\"},{\"id\":\"1180\"},{\"id\":\"1181\"}]},\"id\":\"1183\",\"type\":\"Toolbar\"},{\"attributes\":{\"coordinates\":null,\"data_source\":{\"id\":\"1190\"},\"glyph\":{\"id\":\"1191\"},\"group\":null,\"hover_glyph\":null,\"muted_glyph\":{\"id\":\"1193\"},\"nonselection_glyph\":{\"id\":\"1192\"},\"view\":{\"id\":\"1195\"}},\"id\":\"1194\",\"type\":\"GlyphRenderer\"},{\"attributes\":{\"data\":{\"x\":{\"__ndarray__\":\"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\",\"dtype\":\"float64\",\"order\":\"little\",\"shape\":[400]},\"y\":{\"__ndarray__\":\"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\",\"dtype\":\"float64\",\"order\":\"little\",\"shape\":[400]}},\"selected\":{\"id\":\"1325\"},\"selection_policy\":{\"id\":\"1324\"}},\"id\":\"1250\",\"type\":\"ColumnDataSource\"},{\"attributes\":{},\"id\":\"1145\",\"type\":\"PanTool\"},{\"attributes\":{\"coordinates\":null,\"data_source\":{\"id\":\"1220\"},\"glyph\":{\"id\":\"1221\"},\"group\":null,\"hover_glyph\":null,\"muted_glyph\":{\"id\":\"1223\"},\"nonselection_glyph\":{\"id\":\"1222\"},\"view\":{\"id\":\"1225\"}},\"id\":\"1224\",\"type\":\"GlyphRenderer\"},{\"attributes\":{},\"id\":\"1299\",\"type\":\"Selection\"},{\"attributes\":{},\"id\":\"1133\",\"type\":\"LinearScale\"},{\"attributes\":{\"coordinates\":null,\"data_source\":{\"id\":\"1244\"},\"glyph\":{\"id\":\"1245\"},\"group\":null,\"hover_glyph\":null,\"muted_glyph\":{\"id\":\"1247\"},\"nonselection_glyph\":{\"id\":\"1246\"},\"view\":{\"id\":\"1249\"}},\"id\":\"1248\",\"type\":\"GlyphRenderer\"},{\"attributes\":{},\"id\":\"1135\",\"type\":\"LinearScale\"},{\"attributes\":{\"axis\":{\"id\":\"1172\"},\"coordinates\":null,\"dimension\":1,\"group\":null,\"ticker\":null},\"id\":\"1175\",\"type\":\"Grid\"},{\"attributes\":{\"fill_alpha\":{\"value\":0.2},\"fill_color\":{\"value\":\"#6baed6\"},\"hatch_alpha\":{\"value\":0.2},\"hatch_color\":{\"value\":\"#6baed6\"},\"line_alpha\":{\"value\":0.2},\"line_color\":{\"value\":\"#6baed6\"},\"size\":{\"value\":10},\"x\":{\"value\":0.3333333333333333},\"y\":{\"value\":21.07068529428526}},\"id\":\"1247\",\"type\":\"Circle\"},{\"attributes\":{\"line_color\":\"#3182bd\",\"line_width\":2,\"x\":{\"field\":\"x\"},\"y\":{\"field\":\"y\"}},\"id\":\"1227\",\"type\":\"Line\"},{\"attributes\":{},\"id\":\"1290\",\"type\":\"UnionRenderers\"},{\"attributes\":{\"end\":6},\"id\":\"1129\",\"type\":\"Range1d\"},{\"attributes\":{\"line_alpha\":0.2,\"line_color\":\"#3182bd\",\"line_width\":2,\"x\":{\"field\":\"x\"},\"y\":{\"field\":\"y\"}},\"id\":\"1217\",\"type\":\"Line\"},{\"attributes\":{\"coordinates\":null,\"data_source\":{\"id\":\"1196\"},\"glyph\":{\"id\":\"1197\"},\"group\":null,\"hover_glyph\":null,\"muted_glyph\":{\"id\":\"1199\"},\"nonselection_glyph\":{\"id\":\"1198\"},\"view\":{\"id\":\"1201\"}},\"id\":\"1200\",\"type\":\"GlyphRenderer\"},{\"attributes\":{\"coordinates\":null,\"data_source\":{\"id\":\"1214\"},\"glyph\":{\"id\":\"1215\"},\"group\":null,\"hover_glyph\":null,\"muted_glyph\":{\"id\":\"1217\"},\"nonselection_glyph\":{\"id\":\"1216\"},\"view\":{\"id\":\"1219\"}},\"id\":\"1218\",\"type\":\"GlyphRenderer\"},{\"attributes\":{\"line_alpha\":0.1,\"line_color\":\"#08519c\",\"line_width\":2,\"x\":{\"field\":\"x\"},\"y\":{\"field\":\"y\"}},\"id\":\"1192\",\"type\":\"Line\"},{\"attributes\":{\"source\":{\"id\":\"1220\"}},\"id\":\"1225\",\"type\":\"CDSView\"},{\"attributes\":{\"fill_color\":{\"value\":\"#3182bd\"},\"hatch_color\":{\"value\":\"#3182bd\"},\"line_color\":{\"value\":\"#3182bd\"},\"size\":{\"value\":10},\"x\":{\"value\":0.5},\"y\":{\"value\":0.6321205588285577}},\"id\":\"1233\",\"type\":\"Circle\"},{\"attributes\":{},\"id\":\"1291\",\"type\":\"Selection\"},{\"attributes\":{\"line_color\":\"#3182bd\",\"line_width\":2,\"x\":{\"field\":\"x\"},\"y\":{\"field\":\"y\"}},\"id\":\"1215\",\"type\":\"Line\"},{\"attributes\":{},\"id\":\"1177\",\"type\":\"WheelZoomTool\"},{\"attributes\":{\"data\":{\"x\":{\"__ndarray__\":\"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\",\"dtype\":\"float64\",\"order\":\"little\",\"shape\":[400]},\"y\":{\"__ndarray__\":\"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\",\"dtype\":\"float64\",\"order\":\"little\",\"shape\":[400]}},\"selected\":{\"id\":\"1321\"},\"selection_policy\":{\"id\":\"1320\"}},\"id\":\"1226\",\"type\":\"ColumnDataSource\"},{\"attributes\":{\"data\":{\"x\":{\"__ndarray__\":\"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\",\"dtype\":\"float64\",\"order\":\"little\",\"shape\":[400]},\"y\":{\"__ndarray__\":\"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\",\"dtype\":\"float64\",\"order\":\"little\",\"shape\":[400]}},\"selected\":{\"id\":\"1289\"},\"selection_policy\":{\"id\":\"1288\"}},\"id\":\"1190\",\"type\":\"ColumnDataSource\"},{\"attributes\":{\"data\":{\"x\":{\"__ndarray__\":\"AAAAAAAAAADA7AGzB8yOP8DsAbMHzJ4/kHFBxgUZpz/A7AGzB8yuP/gz4c+EP7M/kHFBxgUZtz8or6G8hvK6P8DsAbMHzL4/LBWxVMRSwT/4M+HPhD/DP8RSEUtFLMU/kHFBxgUZxz9ckHFBxgXJPyivobyG8so/9M3RN0ffzD/A7AGzB8zOP8YFGRdkXNA/LBWxVMRS0T+SJEmSJEnSP/gz4c+EP9M/XkN5DeU11D/EUhFLRSzVPypiqYilItY/kHFBxgUZ1z/2gNkDZg/YP1yQcUHGBdk/wp8Jfyb82T8or6G8hvLaP46+Ofrm6Ns/9M3RN0ff3D9a3Wl1p9XdP8DsAbMHzN4/JvyZ8GfC3z/GBRkXZFzgP3kN5TWU1+A/LBWxVMRS4T/fHH1z9M3hP5IkSZIkSeI/RSwVsVTE4j/4M+HPhD/jP6s7re60uuM/XkN5DeU15D8RS0UsFbHkP8RSEUtFLOU/d1rdaXWn5T8qYqmIpSLmP91pdafVneY/kHFBxgUZ5z9DeQ3lNZTnP/aA2QNmD+g/qYilIpaK6D9ckHFBxgXpPw+YPWD2gOk/wp8Jfyb86T91p9WdVnfqPyivobyG8uo/27Zt27Zt6z+Ovjn65ujrP0HGBRkXZOw/9M3RN0ff7D+n1Z1Wd1rtP1rdaXWn1e0/DeU1lNdQ7j/A7AGzB8zuP3P0zdE3R+8/JvyZ8GfC7z/sAbMHzB7wP8YFGRdkXPA/oAl/JvyZ8D95DeU1lNfwP1IRS0UsFfE/LBWxVMRS8T8GGRdkXJDxP98cfXP0zfE/uCDjgowL8j+SJEmSJEnyP2wor6G8hvI/RSwVsVTE8j8eMHvA7AHzP/gz4c+EP/M/0jdH3xx98z+rO63utLrzP4Q/E/5M+PM/XkN5DeU19D84R98cfXP0PxFLRSwVsfQ/6k6rO63u9D/EUhFLRSz1P55Wd1rdafU/d1rdaXWn9T9QXkN5DeX1PypiqYilIvY/BGYPmD1g9j/daXWn1Z32P7Zt27Zt2/Y/kHFBxgUZ9z9qdafVnVb3P0N5DeU1lPc/HH1z9M3R9z/2gNkDZg/4P9CEPxP+TPg/qYilIpaK+D+CjAsyLsj4P1yQcUHGBfk/NpTXUF5D+T8PmD1g9oD5P+ibo2+Ovvk/wp8Jfyb8+T+co2+Ovjn6P3Wn1Z1Wd/o/Tqs7re60+j8or6G8hvL6PwKzB8weMPs/27Zt27Zt+z+0utPqTqv7P46+Ofrm6Ps/aMKfCX8m/D9BxgUZF2T8PxrKayivofw/9M3RN0ff/D/O0TdH3xz9P6fVnVZ3Wv0/gNkDZg+Y/T9a3Wl1p9X9PzThz4Q/E/4/DeU1lNdQ/j/m6Jujb47+P8DsAbMHzP4/mvBnwp8J/z9z9M3RN0f/P0z4M+HPhP8/JvyZ8GfC/z8AAAAAAAAAQOwBswfMHgBA2QNmD5g9AEDGBRkXZFwAQLMHzB4wewBAoAl/JvyZAECMCzIuyLgAQHkN5TWU1wBAZg+YPWD2AEBSEUtFLBUBQD8T/kz4MwFALBWxVMRSAUAZF2RckHEBQAYZF2RckAFA8hrKayivAUDfHH1z9M0BQMweMHvA7AFAuCDjgowLAkClIpaKWCoCQJIkSZIkSQJAfyb8mfBnAkBsKK+hvIYCQFgqYqmIpQJARSwVsVTEAkAyLsi4IOMCQB4we8DsAQNACzIuyLggA0D4M+HPhD8DQOU1lNdQXgNA0jdH3xx9A0C+Ofrm6JsDQKs7re60ugNAmD1g9oDZA0CEPxP+TPgDQHFBxgUZFwRAXkN5DeU1BEBLRSwVsVQEQDhH3xx9cwRAJEmSJEmSBEARS0UsFbEEQP5M+DPhzwRA6k6rO63uBEDXUF5DeQ0FQMRSEUtFLAVAsVTEUhFLBUCeVnda3WkFQIpYKmKpiAVAd1rdaXWnBUBkXJBxQcYFQFBeQ3kN5QVAPWD2gNkDBkAqYqmIpSIGQBdkXJBxQQZABGYPmD1gBkDwZ8KfCX8GQN1pdafVnQZAymsor6G8BkC2bdu2bdsGQKNvjr45+gZAkHFBxgUZB0B9c/TN0TcHQGp1p9WdVgdAVnda3Wl1B0BDeQ3lNZQHQDB7wOwBswdAHH1z9M3RB0AJfyb8mfAHQPaA2QNmDwhA44KMCzIuCEDQhD8T/kwIQLyG8hrKawhAqYilIpaKCECWilgqYqkIQIKMCzIuyAhAb46+OfrmCEBckHFBxgUJQEmSJEmSJAlANpTXUF5DCUAilopYKmIJQA+YPWD2gAlA/JnwZ8KfCUDom6Nvjr4JQNWdVnda3QlAwp8Jfyb8CUCvobyG8hoKQJyjb46+OQpAiKUilopYCkB1p9WdVncKQGKpiKUilgpATqs7re60CkA7re60utMKQCivobyG8gpAFbFUxFIRC0ACswfMHjALQO60utPqTgtA27Zt27ZtC0DIuCDjgowLQLS60+pOqwtAobyG8hrKC0COvjn65ugLQHvA7AGzBwxAaMKfCX8mDEBUxFIRS0UMQEHGBRkXZAxALsi4IOOCDEAaymsor6EMQAfMHjB7wAxA9M3RN0ffDEDhz4Q/E/4MQM7RN0ffHA1AutPqTqs7DUCn1Z1Wd1oNQJTXUF5DeQ1AgNkDZg+YDUBt27Zt27YNQFrdaXWn1Q1AR98cfXP0DUA04c+EPxMOQCDjgowLMg5ADeU1lNdQDkD65uibo28OQObom6Nvjg5A0+pOqzutDkDA7AGzB8wOQK3utLrT6g5AmvBnwp8JD0CG8hrKaygPQHP0zdE3Rw9AYPaA2QNmD0BM+DPhz4QPQDn65uibow9AJvyZ8GfCD0AT/kz4M+EPQAAAAAAAABBA9oDZA2YPEEDsAbMHzB4QQOOCjAsyLhBA2QNmD5g9EEDQhD8T/kwQQMYFGRdkXBBAvIbyGsprEECzB8weMHsQQKmIpSKWihBAoAl/JvyZEECWilgqYqkQQIwLMi7IuBBAg4wLMi7IEEB5DeU1lNcQQG+Ovjn65hBAZg+YPWD2EEBckHFBxgURQFIRS0UsFRFASZIkSZIkEUA/E/5M+DMRQDaU11BeQxFALBWxVMRSEUAilopYKmIRQBkXZFyQcRFAD5g9YPaAEUAGGRdkXJARQPyZ8GfCnxFA8hrKayivEUDpm6Nvjr4RQN8cfXP0zRFA1Z1Wd1rdEUDMHjB7wOwRQMKfCX8m/BFAuCDjgowLEkCvobyG8hoSQKUilopYKhJAnKNvjr45EkCSJEmSJEkSQIilIpaKWBJAfyb8mfBnEkB1p9WdVncSQGwor6G8hhJAYqmIpSKWEkBYKmKpiKUSQE+rO63utBJARSwVsVTEEkA7re60utMSQDIuyLgg4xJAKK+hvIbyEkAeMHvA7AETQBWxVMRSERNACzIuyLggE0ACswfMHjATQPgz4c+EPxNA7rS60+pOE0DlNZTXUF4TQNu2bdu2bRNA0jdH3xx9E0DIuCDjgowTQL45+ubomxNAtbrT6k6rE0CrO63utLoTQKG8hvIayhNAmD1g9oDZE0COvjn65ugTQIQ/E/5M+BNAe8DsAbMHFEBxQcYFGRcUQGjCnwl/JhRAXkN5DeU1FEBUxFIRS0UUQEtFLBWxVBRAQcYFGRdkFEA4R98cfXMUQC7IuCDjghRAJEmSJEmSFEAbymsor6EUQBFLRSwVsRRAB8weMHvAFED+TPgz4c8UQPTN0TdH3xRA6k6rO63uFEDhz4Q/E/4UQNdQXkN5DRVAztE3R98cFUDEUhFLRSwVQLrT6k6rOxVAsVTEUhFLFUCn1Z1Wd1oVQJ5Wd1rdaRVAlNdQXkN5FUCKWCpiqYgVQIHZA2YPmBVAd1rdaXWnFUBt27Zt27YVQGRckHFBxhVAWt1pdafVFUBQXkN5DeUVQEffHH1z9BVAPWD2gNkDFkA04c+EPxMWQCpiqYilIhZAIOOCjAsyFkAXZFyQcUEWQA3lNZTXUBZABGYPmD1gFkD65uibo28WQPBnwp8JfxZA5+ibo2+OFkDdaXWn1Z0WQNPqTqs7rRZAymsor6G8FkDA7AGzB8wWQLZt27Zt2xZAre60utPqFkCjb46+OfoWQJrwZ8KfCRdAkHFBxgUZF0CG8hrKaygXQH1z9M3RNxdAc/TN0TdHF0BqdafVnVYXQGD2gNkDZhdAVnda3Wl1F0BN+DPhz4QXQEN5DeU1lBdAOfrm6JujF0Awe8DsAbMXQCb8mfBnwhdAHH1z9M3RF0AT/kz4M+EXQAl/JvyZ8BdAAAAAAAAAGEA=\",\"dtype\":\"float64\",\"order\":\"little\",\"shape\":[400]},\"y\":{\"__ndarray__\":\"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\",\"dtype\":\"float64\",\"order\":\"little\",\"shape\":[400]}},\"selected\":{\"id\":\"1293\"},\"selection_policy\":{\"id\":\"1292\"}},\"id\":\"1214\",\"type\":\"ColumnDataSource\"},{\"attributes\":{\"data\":{\"x\":{\"__ndarray__\":\"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\",\"dtype\":\"float64\",\"order\":\"little\",\"shape\":[400]},\"y\":{\"__ndarray__\":\"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\",\"dtype\":\"float64\",\"order\":\"little\",\"shape\":[400]}},\"selected\":{\"id\":\"1317\"},\"selection_policy\":{\"id\":\"1316\"}},\"id\":\"1202\",\"type\":\"ColumnDataSource\"},{\"attributes\":{\"fill_color\":{\"value\":\"#08519c\"},\"hatch_color\":{\"value\":\"#08519c\"},\"line_color\":{\"value\":\"#08519c\"},\"size\":{\"value\":10},\"x\":{\"value\":1.0},\"y\":{\"value\":63.212055882855765}},\"id\":\"1197\",\"type\":\"Circle\"},{\"attributes\":{\"source\":{\"id\":\"1214\"}},\"id\":\"1219\",\"type\":\"CDSView\"},{\"attributes\":{\"axis_label\":\"x(t)\",\"coordinates\":null,\"formatter\":{\"id\":\"1311\"},\"group\":null,\"major_label_policy\":{\"id\":\"1312\"},\"ticker\":{\"id\":\"1173\"}},\"id\":\"1172\",\"type\":\"LinearAxis\"},{\"attributes\":{\"fill_alpha\":{\"value\":0.1},\"fill_color\":{\"value\":\"#3182bd\"},\"hatch_alpha\":{\"value\":0.1},\"hatch_color\":{\"value\":\"#3182bd\"},\"line_alpha\":{\"value\":0.1},\"line_color\":{\"value\":\"#3182bd\"},\"size\":{\"value\":10},\"x\":{\"value\":0.5},\"y\":{\"value\":31.606027941427882}},\"id\":\"1222\",\"type\":\"Circle\"},{\"attributes\":{\"source\":{\"id\":\"1232\"}},\"id\":\"1237\",\"type\":\"CDSView\"},{\"attributes\":{\"source\":{\"id\":\"1256\"}},\"id\":\"1261\",\"type\":\"CDSView\"},{\"attributes\":{},\"id\":\"1176\",\"type\":\"PanTool\"},{\"attributes\":{\"text_alpha\":{\"value\":0.2},\"text_baseline\":{\"value\":\"top\"},\"text_color\":{\"value\":\"#08519c\"},\"text_font_size\":{\"value\":\"10pt\"},\"x\":{\"field\":\"x\"},\"y\":{\"field\":\"y\"}},\"id\":\"1265\",\"type\":\"Text\"},{\"attributes\":{\"text_color\":{\"value\":\"#3182bd\"},\"text_font_size\":{\"value\":\"10pt\"},\"x\":{\"field\":\"x\"},\"y\":{\"field\":\"y\"}},\"id\":\"1269\",\"type\":\"Text\"},{\"attributes\":{\"line_alpha\":0.2,\"line_color\":\"#6baed6\",\"line_width\":2,\"x\":{\"field\":\"x\"},\"y\":{\"field\":\"y\"}},\"id\":\"1253\",\"type\":\"Line\"},{\"attributes\":{\"fill_alpha\":{\"value\":0.2},\"fill_color\":{\"value\":\"#6baed6\"},\"hatch_alpha\":{\"value\":0.2},\"hatch_color\":{\"value\":\"#6baed6\"},\"line_alpha\":{\"value\":0.2},\"line_color\":{\"value\":\"#6baed6\"},\"size\":{\"value\":10},\"x\":{\"value\":0.3333333333333333},\"y\":{\"value\":0.6321205588285577}},\"id\":\"1259\",\"type\":\"Circle\"},{\"attributes\":{},\"id\":\"1146\",\"type\":\"WheelZoomTool\"},{\"attributes\":{\"coordinates\":null,\"data_source\":{\"id\":\"1226\"},\"glyph\":{\"id\":\"1227\"},\"group\":null,\"hover_glyph\":null,\"muted_glyph\":{\"id\":\"1229\"},\"nonselection_glyph\":{\"id\":\"1228\"},\"view\":{\"id\":\"1231\"}},\"id\":\"1230\",\"type\":\"GlyphRenderer\"},{\"attributes\":{},\"id\":\"1300\",\"type\":\"UnionRenderers\"},{\"attributes\":{\"fill_alpha\":{\"value\":0.2},\"fill_color\":{\"value\":\"#3182bd\"},\"hatch_alpha\":{\"value\":0.2},\"hatch_color\":{\"value\":\"#3182bd\"},\"line_alpha\":{\"value\":0.2},\"line_color\":{\"value\":\"#3182bd\"},\"size\":{\"value\":10},\"x\":{\"value\":0.5},\"y\":{\"value\":0.6321205588285577}},\"id\":\"1235\",\"type\":\"Circle\"},{\"attributes\":{\"coordinates\":null,\"data_source\":{\"id\":\"1262\"},\"glyph\":{\"id\":\"1263\"},\"group\":null,\"hover_glyph\":null,\"muted_glyph\":{\"id\":\"1265\"},\"nonselection_glyph\":{\"id\":\"1264\"},\"view\":{\"id\":\"1267\"}},\"id\":\"1266\",\"type\":\"GlyphRenderer\"},{\"attributes\":{\"overlay\":{\"id\":\"1151\"}},\"id\":\"1147\",\"type\":\"BoxZoomTool\"},{\"attributes\":{\"source\":{\"id\":\"1262\"}},\"id\":\"1267\",\"type\":\"CDSView\"},{\"attributes\":{},\"id\":\"1301\",\"type\":\"Selection\"},{\"attributes\":{},\"id\":\"1149\",\"type\":\"ResetTool\"},{\"attributes\":{\"coordinates\":null,\"data_source\":{\"id\":\"1256\"},\"glyph\":{\"id\":\"1257\"},\"group\":null,\"hover_glyph\":null,\"muted_glyph\":{\"id\":\"1259\"},\"nonselection_glyph\":{\"id\":\"1258\"},\"view\":{\"id\":\"1261\"}},\"id\":\"1260\",\"type\":\"GlyphRenderer\"},{\"attributes\":{\"data\":{\"x\":{\"__ndarray__\":\"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\",\"dtype\":\"float64\",\"order\":\"little\",\"shape\":[400]},\"y\":{\"__ndarray__\":\"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\",\"dtype\":\"float64\",\"order\":\"little\",\"shape\":[400]}},\"selected\":{\"id\":\"1297\"},\"selection_policy\":{\"id\":\"1296\"}},\"id\":\"1238\",\"type\":\"ColumnDataSource\"},{\"attributes\":{},\"id\":\"1181\",\"type\":\"HelpTool\"},{\"attributes\":{},\"id\":\"1292\",\"type\":\"UnionRenderers\"},{\"attributes\":{\"axis\":{\"id\":\"1168\"},\"coordinates\":null,\"group\":null,\"ticker\":null},\"id\":\"1171\",\"type\":\"Grid\"},{\"attributes\":{\"line_alpha\":0.1,\"line_color\":\"#3182bd\",\"line_width\":2,\"x\":{\"field\":\"x\"},\"y\":{\"field\":\"y\"}},\"id\":\"1228\",\"type\":\"Line\"},{\"attributes\":{\"fill_alpha\":{\"value\":0.2},\"fill_color\":{\"value\":\"#3182bd\"},\"hatch_alpha\":{\"value\":0.2},\"hatch_color\":{\"value\":\"#3182bd\"},\"line_alpha\":{\"value\":0.2},\"line_color\":{\"value\":\"#3182bd\"},\"size\":{\"value\":10},\"x\":{\"value\":0.5},\"y\":{\"value\":31.606027941427882}},\"id\":\"1223\",\"type\":\"Circle\"},{\"attributes\":{\"line_alpha\":0.1,\"line_color\":\"#3182bd\",\"line_width\":2,\"x\":{\"field\":\"x\"},\"y\":{\"field\":\"y\"}},\"id\":\"1216\",\"type\":\"Line\"},{\"attributes\":{\"data\":{},\"selected\":{\"id\":\"1295\"},\"selection_policy\":{\"id\":\"1294\"}},\"id\":\"1220\",\"type\":\"ColumnDataSource\"},{\"attributes\":{},\"id\":\"1293\",\"type\":\"Selection\"},{\"attributes\":{},\"id\":\"1302\",\"type\":\"UnionRenderers\"},{\"attributes\":{\"source\":{\"id\":\"1208\"}},\"id\":\"1213\",\"type\":\"CDSView\"},{\"attributes\":{\"source\":{\"id\":\"1238\"}},\"id\":\"1243\",\"type\":\"CDSView\"},{\"attributes\":{\"data\":{\"text\":[\"\\u03b3 = 1\"],\"x\":[4],\"y\":[95]},\"selected\":{\"id\":\"1301\"},\"selection_policy\":{\"id\":\"1300\"}},\"id\":\"1262\",\"type\":\"ColumnDataSource\"},{\"attributes\":{\"text_alpha\":{\"value\":0.1},\"text_baseline\":{\"value\":\"top\"},\"text_color\":{\"value\":\"#08519c\"},\"text_font_size\":{\"value\":\"10pt\"},\"x\":{\"field\":\"x\"},\"y\":{\"field\":\"y\"}},\"id\":\"1264\",\"type\":\"Text\"},{\"attributes\":{\"line_color\":\"#6baed6\",\"line_width\":2,\"x\":{\"field\":\"x\"},\"y\":{\"field\":\"y\"}},\"id\":\"1239\",\"type\":\"Line\"},{\"attributes\":{\"line_alpha\":0.1,\"line_color\":\"#08519c\",\"line_width\":2,\"x\":{\"field\":\"x\"},\"y\":{\"field\":\"y\"}},\"id\":\"1204\",\"type\":\"Line\"},{\"attributes\":{\"coordinates\":null,\"data_source\":{\"id\":\"1208\"},\"glyph\":{\"id\":\"1209\"},\"group\":null,\"hover_glyph\":null,\"muted_glyph\":{\"id\":\"1211\"},\"nonselection_glyph\":{\"id\":\"1210\"},\"view\":{\"id\":\"1213\"}},\"id\":\"1212\",\"type\":\"GlyphRenderer\"},{\"attributes\":{\"line_alpha\":0.2,\"line_color\":\"#3182bd\",\"line_width\":2,\"x\":{\"field\":\"x\"},\"y\":{\"field\":\"y\"}},\"id\":\"1229\",\"type\":\"Line\"},{\"attributes\":{\"source\":{\"id\":\"1190\"}},\"id\":\"1195\",\"type\":\"CDSView\"},{\"attributes\":{\"fill_alpha\":{\"value\":0.1},\"fill_color\":{\"value\":\"#3182bd\"},\"hatch_alpha\":{\"value\":0.1},\"hatch_color\":{\"value\":\"#3182bd\"},\"line_alpha\":{\"value\":0.1},\"line_color\":{\"value\":\"#3182bd\"},\"size\":{\"value\":10},\"x\":{\"value\":0.5},\"y\":{\"value\":0.6321205588285577}},\"id\":\"1234\",\"type\":\"Circle\"},{\"attributes\":{\"fill_color\":{\"value\":\"#3182bd\"},\"hatch_color\":{\"value\":\"#3182bd\"},\"line_color\":{\"value\":\"#3182bd\"},\"size\":{\"value\":10},\"x\":{\"value\":0.5},\"y\":{\"value\":31.606027941427882}},\"id\":\"1221\",\"type\":\"Circle\"},{\"attributes\":{\"line_alpha\":0.2,\"line_color\":\"#08519c\",\"line_width\":2,\"x\":{\"field\":\"x\"},\"y\":{\"field\":\"y\"}},\"id\":\"1205\",\"type\":\"Line\"},{\"attributes\":{\"line_color\":\"#08519c\",\"line_width\":2,\"x\":{\"field\":\"x\"},\"y\":{\"field\":\"y\"}},\"id\":\"1203\",\"type\":\"Line\"},{\"attributes\":{},\"id\":\"1303\",\"type\":\"Selection\"},{\"attributes\":{\"line_alpha\":0.1,\"line_color\":\"#6baed6\",\"line_width\":2,\"x\":{\"field\":\"x\"},\"y\":{\"field\":\"y\"}},\"id\":\"1252\",\"type\":\"Line\"},{\"attributes\":{},\"id\":\"1294\",\"type\":\"UnionRenderers\"},{\"attributes\":{\"data\":{},\"selected\":{\"id\":\"1327\"},\"selection_policy\":{\"id\":\"1326\"}},\"id\":\"1256\",\"type\":\"ColumnDataSource\"},{\"attributes\":{},\"id\":\"1295\",\"type\":\"Selection\"},{\"attributes\":{},\"id\":\"1304\",\"type\":\"UnionRenderers\"},{\"attributes\":{\"fill_alpha\":{\"value\":0.2},\"fill_color\":{\"value\":\"#08519c\"},\"hatch_alpha\":{\"value\":0.2},\"hatch_color\":{\"value\":\"#08519c\"},\"line_alpha\":{\"value\":0.2},\"line_color\":{\"value\":\"#08519c\"},\"size\":{\"value\":10},\"x\":{\"value\":1.0},\"y\":{\"value\":63.212055882855765}},\"id\":\"1199\",\"type\":\"Circle\"},{\"attributes\":{\"fill_alpha\":{\"value\":0.1},\"fill_color\":{\"value\":\"#08519c\"},\"hatch_alpha\":{\"value\":0.1},\"hatch_color\":{\"value\":\"#08519c\"},\"line_alpha\":{\"value\":0.1},\"line_color\":{\"value\":\"#08519c\"},\"size\":{\"value\":10},\"x\":{\"value\":1.0},\"y\":{\"value\":63.212055882855765}},\"id\":\"1198\",\"type\":\"Circle\"},{\"attributes\":{\"line_color\":\"#08519c\",\"line_width\":2,\"x\":{\"field\":\"x\"},\"y\":{\"field\":\"y\"}},\"id\":\"1191\",\"type\":\"Line\"},{\"attributes\":{},\"id\":\"1142\",\"type\":\"BasicTicker\"},{\"attributes\":{\"axis\":{\"id\":\"1141\"},\"coordinates\":null,\"dimension\":1,\"group\":null,\"ticker\":null},\"id\":\"1144\",\"type\":\"Grid\"},{\"attributes\":{\"axis_label\":\"x(t)\",\"coordinates\":null,\"formatter\":{\"id\":\"1283\"},\"group\":null,\"major_label_policy\":{\"id\":\"1284\"},\"ticker\":{\"id\":\"1142\"}},\"id\":\"1141\",\"type\":\"LinearAxis\"},{\"attributes\":{\"axis\":{\"id\":\"1137\"},\"coordinates\":null,\"group\":null,\"ticker\":null},\"id\":\"1140\",\"type\":\"Grid\"},{\"attributes\":{},\"id\":\"1138\",\"type\":\"BasicTicker\"},{\"attributes\":{\"axis_label\":\"time\",\"coordinates\":null,\"formatter\":{\"id\":\"1286\"},\"group\":null,\"major_label_policy\":{\"id\":\"1287\"},\"ticker\":{\"id\":\"1138\"}},\"id\":\"1137\",\"type\":\"LinearAxis\"},{\"attributes\":{},\"id\":\"1305\",\"type\":\"Selection\"},{\"attributes\":{\"source\":{\"id\":\"1226\"}},\"id\":\"1231\",\"type\":\"CDSView\"},{\"attributes\":{},\"id\":\"1150\",\"type\":\"HelpTool\"},{\"attributes\":{},\"id\":\"1131\",\"type\":\"DataRange1d\"},{\"attributes\":{\"coordinates\":null,\"data_source\":{\"id\":\"1202\"},\"glyph\":{\"id\":\"1203\"},\"group\":null,\"hover_glyph\":null,\"muted_glyph\":{\"id\":\"1205\"},\"nonselection_glyph\":{\"id\":\"1204\"},\"view\":{\"id\":\"1207\"}},\"id\":\"1206\",\"type\":\"GlyphRenderer\"},{\"attributes\":{\"below\":[{\"id\":\"1137\"}],\"center\":[{\"id\":\"1140\"},{\"id\":\"1144\"}],\"frame_height\":175,\"frame_width\":300,\"left\":[{\"id\":\"1141\"}],\"renderers\":[{\"id\":\"1194\"},{\"id\":\"1200\"},{\"id\":\"1218\"},{\"id\":\"1224\"},{\"id\":\"1242\"},{\"id\":\"1248\"},{\"id\":\"1266\"},{\"id\":\"1272\"},{\"id\":\"1278\"}],\"title\":{\"id\":\"1280\"},\"toolbar\":{\"id\":\"1152\"},\"toolbar_location\":null,\"x_range\":{\"id\":\"1129\"},\"x_scale\":{\"id\":\"1133\"},\"y_range\":{\"id\":\"1131\"},\"y_scale\":{\"id\":\"1135\"}},\"id\":\"1128\",\"subtype\":\"Figure\",\"type\":\"Plot\"},{\"attributes\":{},\"id\":\"1296\",\"type\":\"UnionRenderers\"},{\"attributes\":{\"tools\":[{\"id\":\"1145\"},{\"id\":\"1146\"},{\"id\":\"1147\"},{\"id\":\"1148\"},{\"id\":\"1149\"},{\"id\":\"1150\"}]},\"id\":\"1152\",\"type\":\"Toolbar\"},{\"attributes\":{\"fill_color\":{\"value\":\"#08519c\"},\"hatch_color\":{\"value\":\"#08519c\"},\"line_color\":{\"value\":\"#08519c\"},\"size\":{\"value\":10},\"x\":{\"value\":1.0},\"y\":{\"value\":0.6321205588285577}},\"id\":\"1209\",\"type\":\"Circle\"},{\"attributes\":{\"below\":[{\"id\":\"1168\"}],\"center\":[{\"id\":\"1171\"},{\"id\":\"1175\"}],\"frame_height\":175,\"frame_width\":300,\"left\":[{\"id\":\"1172\"}],\"renderers\":[{\"id\":\"1206\"},{\"id\":\"1212\"},{\"id\":\"1230\"},{\"id\":\"1236\"},{\"id\":\"1254\"},{\"id\":\"1260\"}],\"title\":{\"id\":\"1308\"},\"toolbar\":{\"id\":\"1183\"},\"toolbar_location\":null,\"x_range\":{\"id\":\"1129\"},\"x_scale\":{\"id\":\"1164\"},\"y_range\":{\"id\":\"1162\"},\"y_scale\":{\"id\":\"1166\"}},\"id\":\"1159\",\"subtype\":\"Figure\",\"type\":\"Plot\"},{\"attributes\":{\"data\":{},\"selected\":{\"id\":\"1319\"},\"selection_policy\":{\"id\":\"1318\"}},\"id\":\"1208\",\"type\":\"ColumnDataSource\"},{\"attributes\":{\"fill_alpha\":{\"value\":0.2},\"fill_color\":{\"value\":\"#08519c\"},\"hatch_alpha\":{\"value\":0.2},\"hatch_color\":{\"value\":\"#08519c\"},\"line_alpha\":{\"value\":0.2},\"line_color\":{\"value\":\"#08519c\"},\"size\":{\"value\":10},\"x\":{\"value\":1.0},\"y\":{\"value\":0.6321205588285577}},\"id\":\"1211\",\"type\":\"Circle\"},{\"attributes\":{\"data\":{\"text\":[\"\\u03b3 = 2\"],\"x\":[4],\"y\":[53]},\"selected\":{\"id\":\"1303\"},\"selection_policy\":{\"id\":\"1302\"}},\"id\":\"1268\",\"type\":\"ColumnDataSource\"},{\"attributes\":{\"source\":{\"id\":\"1196\"}},\"id\":\"1201\",\"type\":\"CDSView\"}],\"root_ids\":[\"1333\"]},\"title\":\"Bokeh Application\",\"version\":\"2.4.2\"}};\n",
       "  const render_items = [{\"docid\":\"98166bd0-f438-4756-80c6-6670d06bf06e\",\"root_ids\":[\"1333\"],\"roots\":{\"1333\":\"6ac1e699-1c21-4120-a7f4-1ea175c59e32\"}}];\n",
       "  root.Bokeh.embed.embed_items_notebook(docs_json, render_items);\n",
       "\n",
       "  }\n",
       "  if (root.Bokeh !== undefined) {\n",
       "    embed_document(root);\n",
       "  } else {\n",
       "    let attempts = 0;\n",
       "    const timer = setInterval(function(root) {\n",
       "      if (root.Bokeh !== undefined) {\n",
       "        clearInterval(timer);\n",
       "        embed_document(root);\n",
       "      } else {\n",
       "        attempts++;\n",
       "        if (attempts > 100) {\n",
       "          clearInterval(timer);\n",
       "          console.log(\"Bokeh: ERROR: Unable to run BokehJS code because BokehJS library is missing\");\n",
       "        }\n",
       "      }\n",
       "    }, 10, root)\n",
       "  }\n",
       "})(window);"
      ],
      "application/vnd.bokehjs_exec.v0+json": ""
     },
     "metadata": {
      "application/vnd.bokehjs_exec.v0+json": {
       "id": "1333"
      }
     },
     "output_type": "display_data"
    }
   ],
   "source": [
    "# Parameters\n",
    "beta_1 = 100\n",
    "gamma = np.array([1, 2, 3])\n",
    "\n",
    "# Compute dynamics\n",
    "t = np.linspace(0, 6, 400)\n",
    "x = [beta_1 / g * (1 - np.exp(-g * t)) for g in gamma]\n",
    "\n",
    "# Set up plots\n",
    "colors = bokeh.palettes.Blues5\n",
    "p1 = bokeh.plotting.figure(\n",
    "    frame_height=175,\n",
    "    frame_width=300,\n",
    "    x_axis_label=\"time\",\n",
    "    y_axis_label=\"x(t)\",\n",
    "    x_range=[0, 6],\n",
    ")\n",
    "p2 = bokeh.plotting.figure(\n",
    "    frame_height=175,\n",
    "    frame_width=300,\n",
    "    x_axis_label=\"time\",\n",
    "    y_axis_label=\"x(t)\",\n",
    "    x_range=[0, 6],\n",
    ")\n",
    "p2.x_range = p1.x_range\n",
    "\n",
    "# Populate graphs\n",
    "for x_vals, g, color in zip(x, gamma, colors):\n",
    "    p1.line(t, x_vals, color=color, line_width=2)\n",
    "    p1.circle(1 / g, beta_1 / g * (1 - np.exp(-1)), color=color, size=10)\n",
    "    p2.line(t, x_vals / x_vals.max(), color=color, line_width=2)\n",
    "    p2.circle(1 / g, 1 - np.exp(-1), color=color, size=10)\n",
    "    \n",
    "\n",
    "# Label lines\n",
    "p1.text(\n",
    "    x=[4],\n",
    "    y=[95],\n",
    "    text=[f\"γ = {gamma[0]}\"],\n",
    "    text_color=colors[0],\n",
    "    text_font_size=\"10pt\",\n",
    "    text_align=\"left\",\n",
    "    text_baseline=\"top\",\n",
    ")\n",
    "p1.text(\n",
    "    x=[4],\n",
    "    y=[53],\n",
    "    text=[f\"γ = {gamma[1]}\"],\n",
    "    text_color=colors[1],\n",
    "    text_font_size=\"10pt\",\n",
    "    text_align=\"left\",\n",
    "    text_baseline=\"bottom\",\n",
    ")\n",
    "p1.text(\n",
    "    x=[4],\n",
    "    y=[30],\n",
    "    text=[f\"γ = {gamma[2]}\"],\n",
    "    text_color=colors[2],\n",
    "    text_font_size=\"10pt\",\n",
    "    text_align=\"left\",\n",
    "    text_baseline=\"top\",\n",
    ")\n",
    "\n",
    "bokeh.io.show(bokeh.layouts.gridplot([p1, p2], ncols=1))"
   ]
  },
  {
   "cell_type": "markdown",
   "metadata": {},
   "source": [
    "This analysis reveals an important **design principle**: _Increased protein degradation can speed up the response time of a gene expression system, at the cost of additional protein production._"
   ]
  },
  {
   "cell_type": "markdown",
   "metadata": {},
   "source": [
    "## Network motifs identify functionally important circuits.\n",
    "\n",
    "We have just seen that destabilizing a protein can speed its response time. However, most bacterial proteins, transcription factors in particular, are stable. Do they use other mechanisms to accelerate response times? \n",
    "\n",
    "The answer to this question will turn out to be yes, there is a circuit that can  accelerate responses. But before we get there, let's step back for a moment to ask how one can go about discovering such functionally important circuits in the first place. Do you have to guess them? It would be nice if there were some kind of catalog of important circuits and their functions that we could browse.\n",
    "\n",
    "The concept of **network motifs** is one way to obtain such a catalog. We define a network motif as a regulatory pattern, or sub-circuit, that is statistically over-represented in natural networks (circuits), compared to what one might expect from random networks with similar numbers of genes and regulatory interactions. \n",
    "\n",
    "More specifically, imagine the transcriptional regulatory network of an organism as a **graph** consisting of **nodes** and **directed edges** (arrows). In bacteria, each node represents an operon, while each arrow represents regulation of the target operon (tip of the arrow) by a transcription factor in the originating operon (base of the arrow), as shown schematically here.\n",
    "\n",
    "<div style=\"width: 300px; margin: auto;\">\n",
    "\n",
    "![simple graph](https://biocircuits.github.io/_images/simple_graph_2.png)\n",
    "\n",
    "</div>\n",
    "\n",
    "The transcriptional regulatory network of _E. coli_ has been mapped (see [RegulonDB](http://regulondb.ccg.unam.mx)). It contains ≈424 operons (nodes), ≈519 transcriptional regulatory interactions (arrows), involving ≈116 transcription factors. If the target of each arrow was chosen randomly, the probability of any given arrow being autoregulatory is low (≈1/424). One might expect only about one such event in the entire network. However, ≈40 such autoregulatory arrows are observed. Autoregulation thus appears to be statistically over-represented compared to the null hypothesis of random regulatory interactions. \n",
    "\n",
    "(If we further consider the \"sign\" of the arrow, with \"+\" representing activation and \"-\" representing repression, it turns out that there are 32 negative autoregulatory operons and 8 positive autoregulatory ones. We will discuss both types.)\n",
    "\n",
    "The **motif principle** states that statistically over-represented patterns in networks have been selected repeatedly because they provide key cellular functions. A similar concept is useful in other aspects of biology. For example, sequence motifs are statistically over-represented sequences within the genome that are enriched for functionally important features, such as protein binding sites. This is a core concept in bioinformatics. "
   ]
  },
  {
   "cell_type": "markdown",
   "metadata": {
    "ExecuteTime": {
     "end_time": "2019-04-03T17:45:04.997303Z",
     "start_time": "2019-04-03T17:45:04.994341Z"
    }
   },
   "source": [
    "## Negative autoregulation accelerates response times\n",
    "\n",
    "Identifying motifs in regulatory networks is one way to discover functionally important circuits, and one of the strongest motifs of them all is autoregulation. You can guess that since we are discussing speeding up circuit response that it does just that. So, how does it work? \n",
    "\n",
    "To start, we write down a differential equation representing production and degradation of the repressor, $x$. We represent its regulation using a Hill repression function, and we keep the Hill coefficient at $n=1$ for now.\n",
    "\n",
    "\\begin{align}\n",
    "\\frac{\\mathrm{d}x}{\\mathrm{d}t}=\\frac{\\beta}{1+x/k} - \\gamma x\n",
    "\\end{align}\n",
    "\n",
    "We will consider the limit in which the autoregulation is \"strong\", i.e. where $\\beta/\\gamma \\gg k$, so the gene can, at maximal expression level, produce enough protein to fully repress itself. \n",
    "\n",
    "What happens when the operon is suddenly turned \"on\" from an initial \"off\" state ($x(0)=0$)? Initially, $x$ builds up approximately linearly, at rate $\\beta$. Eventually, its concentration is high enough to shut its own production off when  $x \\approx k$. While the real dynamics are smoother, one can think of the behavior roughly as in the plot below."
   ]
  },
  {
   "cell_type": "code",
   "execution_count": 4,
   "metadata": {
    "tags": [
     "hide-input"
    ]
   },
   "outputs": [
    {
     "data": {
      "text/html": [
       "\n",
       "\n",
       "\n",
       "\n",
       "\n",
       "\n",
       "  <div class=\"bk-root\" id=\"c81589ff-1967-4eb6-bced-729cde08419a\" data-root-id=\"1635\"></div>\n"
      ]
     },
     "metadata": {},
     "output_type": "display_data"
    },
    {
     "data": {
      "application/javascript": [
       "(function(root) {\n",
       "  function embed_document(root) {\n",
       "    \n",
       "  const docs_json = {\"174a0d73-9443-40af-9639-ba79127fe7cc\":{\"defs\":[],\"roots\":{\"references\":[{\"attributes\":{\"below\":[{\"id\":\"1644\"}],\"center\":[{\"id\":\"1647\"},{\"id\":\"1651\"}],\"frame_height\":175,\"frame_width\":300,\"left\":[{\"id\":\"1648\"}],\"renderers\":[{\"id\":\"1674\"},{\"id\":\"1680\"},{\"id\":\"1686\"}],\"title\":{\"id\":\"1749\"},\"toolbar\":{\"id\":\"1659\"},\"x_range\":{\"id\":\"1636\"},\"x_scale\":{\"id\":\"1640\"},\"y_range\":{\"id\":\"1638\"},\"y_scale\":{\"id\":\"1642\"}},\"id\":\"1635\",\"subtype\":\"Figure\",\"type\":\"Plot\"},{\"attributes\":{\"text_color\":{\"value\":\"black\"},\"text_font_size\":{\"value\":\"12pt\"},\"x\":{\"field\":\"x\"},\"y\":{\"field\":\"y\"}},\"id\":\"1683\",\"type\":\"Text\"},{\"attributes\":{},\"id\":\"1638\",\"type\":\"DataRange1d\"},{\"attributes\":{},\"id\":\"1656\",\"type\":\"ResetTool\"},{\"attributes\":{\"line_alpha\":0.2,\"line_color\":\"#1f77b4\",\"line_width\":2,\"x\":{\"field\":\"x\"},\"y\":{\"field\":\"y\"}},\"id\":\"1673\",\"type\":\"Line\"},{\"attributes\":{},\"id\":\"1655\",\"type\":\"SaveTool\"},{\"attributes\":{\"line_alpha\":0.2,\"x\":{\"field\":\"x\"},\"y\":{\"field\":\"y\"}},\"id\":\"1679\",\"type\":\"Line\"},{\"attributes\":{\"overlay\":{\"id\":\"1658\"}},\"id\":\"1654\",\"type\":\"BoxZoomTool\"},{\"attributes\":{\"ticks\":[0,0.5,1]},\"id\":\"1666\",\"type\":\"FixedTicker\"},{\"attributes\":{},\"id\":\"1652\",\"type\":\"PanTool\"},{\"attributes\":{\"end\":2},\"id\":\"1636\",\"type\":\"Range1d\"},{\"attributes\":{},\"id\":\"1657\",\"type\":\"HelpTool\"},{\"attributes\":{\"line_alpha\":0.1,\"line_color\":\"#1f77b4\",\"line_width\":2,\"x\":{\"field\":\"x\"},\"y\":{\"field\":\"y\"}},\"id\":\"1672\",\"type\":\"Line\"},{\"attributes\":{\"data\":{\"x\":[0.2,0.2,0.3],\"y\":[0.2,0.3,0.3]},\"selected\":{\"id\":\"1758\"},\"selection_policy\":{\"id\":\"1757\"}},\"id\":\"1676\",\"type\":\"ColumnDataSource\"},{\"attributes\":{},\"id\":\"1640\",\"type\":\"LinearScale\"},{\"attributes\":{\"coordinates\":null,\"data_source\":{\"id\":\"1676\"},\"glyph\":{\"id\":\"1677\"},\"group\":null,\"hover_glyph\":null,\"muted_glyph\":{\"id\":\"1679\"},\"nonselection_glyph\":{\"id\":\"1678\"},\"view\":{\"id\":\"1681\"}},\"id\":\"1680\",\"type\":\"GlyphRenderer\"},{\"attributes\":{\"line_alpha\":0.1,\"x\":{\"field\":\"x\"},\"y\":{\"field\":\"y\"}},\"id\":\"1678\",\"type\":\"Line\"},{\"attributes\":{\"coordinates\":null,\"data_source\":{\"id\":\"1682\"},\"glyph\":{\"id\":\"1683\"},\"group\":null,\"hover_glyph\":null,\"muted_glyph\":{\"id\":\"1685\"},\"nonselection_glyph\":{\"id\":\"1684\"},\"view\":{\"id\":\"1687\"}},\"id\":\"1686\",\"type\":\"GlyphRenderer\"},{\"attributes\":{\"axis\":{\"id\":\"1648\"},\"coordinates\":null,\"dimension\":1,\"group\":null,\"ticker\":null},\"id\":\"1651\",\"type\":\"Grid\"},{\"attributes\":{\"source\":{\"id\":\"1676\"}},\"id\":\"1681\",\"type\":\"CDSView\"},{\"attributes\":{\"axis_label\":\"x(t)\",\"coordinates\":null,\"formatter\":{\"id\":\"1751\"},\"group\":null,\"major_label_overrides\":{\"1\":\"$$k$$\"},\"major_label_policy\":{\"id\":\"1752\"},\"ticker\":{\"id\":\"1668\"}},\"id\":\"1648\",\"type\":\"LinearAxis\"},{\"attributes\":{\"ticks\":[0,1]},\"id\":\"1668\",\"type\":\"FixedTicker\"},{\"attributes\":{},\"id\":\"1759\",\"type\":\"UnionRenderers\"},{\"attributes\":{},\"id\":\"1653\",\"type\":\"WheelZoomTool\"},{\"attributes\":{},\"id\":\"1760\",\"type\":\"Selection\"},{\"attributes\":{},\"id\":\"1756\",\"type\":\"Selection\"},{\"attributes\":{\"tools\":[{\"id\":\"1652\"},{\"id\":\"1653\"},{\"id\":\"1654\"},{\"id\":\"1655\"},{\"id\":\"1656\"},{\"id\":\"1657\"}]},\"id\":\"1659\",\"type\":\"Toolbar\"},{\"attributes\":{},\"id\":\"1758\",\"type\":\"Selection\"},{\"attributes\":{\"source\":{\"id\":\"1670\"}},\"id\":\"1675\",\"type\":\"CDSView\"},{\"attributes\":{\"axis_label\":\"time\",\"coordinates\":null,\"formatter\":{\"id\":\"1753\"},\"group\":null,\"major_label_overrides\":{\"0.5\":\"$$t_{1/2}$$\",\"1\":\"$$t_0$$\"},\"major_label_policy\":{\"id\":\"1754\"},\"ticker\":{\"id\":\"1666\"}},\"id\":\"1644\",\"type\":\"LinearAxis\"},{\"attributes\":{},\"id\":\"1751\",\"type\":\"BasicTickFormatter\"},{\"attributes\":{\"coordinates\":null,\"group\":null},\"id\":\"1749\",\"type\":\"Title\"},{\"attributes\":{\"text_alpha\":{\"value\":0.2},\"text_color\":{\"value\":\"black\"},\"text_font_size\":{\"value\":\"12pt\"},\"x\":{\"field\":\"x\"},\"y\":{\"field\":\"y\"}},\"id\":\"1685\",\"type\":\"Text\"},{\"attributes\":{},\"id\":\"1755\",\"type\":\"UnionRenderers\"},{\"attributes\":{\"coordinates\":null,\"data_source\":{\"id\":\"1670\"},\"glyph\":{\"id\":\"1671\"},\"group\":null,\"hover_glyph\":null,\"muted_glyph\":{\"id\":\"1673\"},\"nonselection_glyph\":{\"id\":\"1672\"},\"view\":{\"id\":\"1675\"}},\"id\":\"1674\",\"type\":\"GlyphRenderer\"},{\"attributes\":{\"data\":{\"x\":[0,1,2],\"y\":[0,1,1]},\"selected\":{\"id\":\"1756\"},\"selection_policy\":{\"id\":\"1755\"}},\"id\":\"1670\",\"type\":\"ColumnDataSource\"},{\"attributes\":{\"line_color\":\"#1f77b4\",\"line_width\":2,\"x\":{\"field\":\"x\"},\"y\":{\"field\":\"y\"}},\"id\":\"1671\",\"type\":\"Line\"},{\"attributes\":{\"text_alpha\":{\"value\":0.1},\"text_color\":{\"value\":\"black\"},\"text_font_size\":{\"value\":\"12pt\"},\"x\":{\"field\":\"x\"},\"y\":{\"field\":\"y\"}},\"id\":\"1684\",\"type\":\"Text\"},{\"attributes\":{},\"id\":\"1757\",\"type\":\"UnionRenderers\"},{\"attributes\":{\"data\":{\"text\":[\"\\u03b2\"],\"x\":[0.125],\"y\":[0.25]},\"selected\":{\"id\":\"1760\"},\"selection_policy\":{\"id\":\"1759\"}},\"id\":\"1682\",\"type\":\"ColumnDataSource\"},{\"attributes\":{},\"id\":\"1752\",\"type\":\"AllLabels\"},{\"attributes\":{\"x\":{\"field\":\"x\"},\"y\":{\"field\":\"y\"}},\"id\":\"1677\",\"type\":\"Line\"},{\"attributes\":{},\"id\":\"1754\",\"type\":\"AllLabels\"},{\"attributes\":{\"source\":{\"id\":\"1682\"}},\"id\":\"1687\",\"type\":\"CDSView\"},{\"attributes\":{},\"id\":\"1753\",\"type\":\"BasicTickFormatter\"},{\"attributes\":{},\"id\":\"1642\",\"type\":\"LinearScale\"},{\"attributes\":{\"bottom_units\":\"screen\",\"coordinates\":null,\"fill_alpha\":0.5,\"fill_color\":\"lightgrey\",\"group\":null,\"left_units\":\"screen\",\"level\":\"overlay\",\"line_alpha\":1.0,\"line_color\":\"black\",\"line_dash\":[4,4],\"line_width\":2,\"right_units\":\"screen\",\"syncable\":false,\"top_units\":\"screen\"},\"id\":\"1658\",\"type\":\"BoxAnnotation\"},{\"attributes\":{\"axis\":{\"id\":\"1644\"},\"coordinates\":null,\"group\":null,\"ticker\":null},\"id\":\"1647\",\"type\":\"Grid\"}],\"root_ids\":[\"1635\"]},\"title\":\"Bokeh Application\",\"version\":\"2.4.2\"}};\n",
       "  const render_items = [{\"docid\":\"174a0d73-9443-40af-9639-ba79127fe7cc\",\"root_ids\":[\"1635\"],\"roots\":{\"1635\":\"c81589ff-1967-4eb6-bced-729cde08419a\"}}];\n",
       "  root.Bokeh.embed.embed_items_notebook(docs_json, render_items);\n",
       "\n",
       "  }\n",
       "  if (root.Bokeh !== undefined) {\n",
       "    embed_document(root);\n",
       "  } else {\n",
       "    let attempts = 0;\n",
       "    const timer = setInterval(function(root) {\n",
       "      if (root.Bokeh !== undefined) {\n",
       "        clearInterval(timer);\n",
       "        embed_document(root);\n",
       "      } else {\n",
       "        attempts++;\n",
       "        if (attempts > 100) {\n",
       "          clearInterval(timer);\n",
       "          console.log(\"Bokeh: ERROR: Unable to run BokehJS code because BokehJS library is missing\");\n",
       "        }\n",
       "      }\n",
       "    }, 10, root)\n",
       "  }\n",
       "})(window);"
      ],
      "application/vnd.bokehjs_exec.v0+json": ""
     },
     "metadata": {
      "application/vnd.bokehjs_exec.v0+json": {
       "id": "1635"
      }
     },
     "output_type": "display_data"
    }
   ],
   "source": [
    "# Curve\n",
    "t = [0, 1, 2]\n",
    "x = [0, 1, 1]\n",
    "\n",
    "# Set up plot\n",
    "p = bokeh.plotting.figure(\n",
    "    frame_height=175,\n",
    "    frame_width=300,\n",
    "    x_axis_label=\"time\",\n",
    "    y_axis_label=\"x(t)\",\n",
    "    x_range=[0, 2],\n",
    ")\n",
    "\n",
    "# Custom axis labels\n",
    "p.xaxis.ticker = bokeh.models.tickers.FixedTicker(ticks=[0, 0.5, 1])\n",
    "p.yaxis.ticker = bokeh.models.tickers.FixedTicker(ticks=[0, 1])\n",
    "p.xaxis.major_label_overrides = {0.5: \"$$t_{1/2}$$\", 1: \"$$t_0$$\"}\n",
    "p.yaxis.major_label_overrides = {1: \"$$k$$\"}\n",
    "\n",
    "# Populate plot\n",
    "p.line(t, x, line_width=2)\n",
    "\n",
    "# Label slope\n",
    "p.line([0.2, 0.2, 0.3], [0.2, 0.3, 0.3], color='black')\n",
    "p.text(\n",
    "    x=[0.125],\n",
    "    y=[0.25],\n",
    "    text=[\"β\"],\n",
    "    text_color=\"black\",\n",
    "    text_font_size=\"12pt\",\n",
    ")\n",
    "\n",
    "bokeh.io.show(p)"
   ]
  },
  {
   "cell_type": "markdown",
   "metadata": {
    "ExecuteTime": {
     "end_time": "2019-04-03T17:45:04.997303Z",
     "start_time": "2019-04-03T17:45:04.994341Z"
    }
   },
   "source": [
    "In this sketch, we can see that the half-time, $t_{1/2}$ for turning on should occur when $\\beta t \\approx k / 2$, i.e. at $t \\approx k/2 \\beta$. But this is only an approximation. A more complete treatment in <a href=\"https://doi.org/10.1016/S0022-2836(02)00994-4\">Rosenfeld et al., JMB 2002</a> shows that in the limit of strong negative autoregulation the dynamics approach\n",
    "\n",
    "\\begin{align}\n",
    "x(t) \\approx x_\\mathrm{ss} \\sqrt{1-\\mathrm{e}^{-2 \\gamma t}},\n",
    "\\end{align}\n",
    "\n",
    "where $x_\\mathrm{ss}$ denotes the steady-state expression level. In the following sections, we will explore these dynamics using numerical integration and compare them to this analytical approximation."
   ]
  },
  {
   "cell_type": "markdown",
   "metadata": {},
   "source": [
    "### Incorporating explicit input dependence into a model of regulation\n",
    "\n",
    "Throughout this chapter we have been invoking a situation where the gene has been off for some time before it is suddenly turned on. We previously saw that it is possible for an inducer molecule to inhibit the action of a repressor, but it is also possible for there to be molecules that can activate the action of a repressor, or inhibit the action of an activator, or many other types of interactions. For now, we will ignore specific biomolecular details and simply write out a generic dependence of the autorepressive gene's expression on the presence of some external signal, $s$.\n",
    "\n",
    "\\begin{align}\n",
    "\\frac{\\mathrm{d}x}{\\mathrm{d}t} = \\frac{\\beta(s)}{1 + (x/k)^n} - \\gamma x\n",
    "\\end{align}\n",
    "\n",
    "Note that we have explicitly included the Hill coefficient $n$ to allow for ultrasensitivity. We we will explore its effects on the dynamics later.\n",
    "\n",
    "We are now faced with a question: What is the functional form of $\\beta(s)$? There are some properties of the relationship between $\\beta$ and $s$ that we will always want to include, such as the fact that $\\beta$ should increase with $s$ and that $\\beta$ should have a value close to $0$ when $s$ is close to $0$. Furthermore, there should be a limit to how rapidly the gene product can be produced, so $\\beta(s)$ must be finite, even for large $s$. As we saw in the previous chapter, the Hill function satisfies these properties and provides, and we can use it to phenomenologically model activation by $s$. The two parameters of a Hill function, $k$ and $n$, also offer flexibility in the shapes of the phenomenological curves. As a result, Hill functions are effectively used in models for many different biological systems. Here, we will represent $\\beta(s)$ as an activating Hill function\n",
    "\n",
    "\\begin{align}\n",
    "\\beta (s) = \\beta_0\\, \\frac{(s/k_s)^{n_s}}{1 + (s/k_s)^{n_s}}.\n",
    "\\end{align}\n",
    "\n",
    "We could choose $n_s = 1$, which would give a linear relationship between $\\beta$ and $s$ in the regime where $s \\ll k_s$. Alternatively, we could get a step-like response in $\\beta$ at $s = k_s$ if we choose $n_s$ to be very large. It is important to understand that here that the $\\beta(s)$ Hill function is not representing a process of transcriptional regulation like the Hill term in our original $\\mathrm{d}x/\\mathrm{d}t$ expression, but is instead phenomenologically representing a process of enzymatic inactivation of the repressor $x$ by the external signal $s$.\n",
    "\n",
    "Having chosen to represent $\\beta(s)$ as an activating Hill function, our ODE model for our autoregulated gene now takes the form\n",
    "\n",
    "\\begin{align}\n",
    "\\frac{\\mathrm{d}x}{\\mathrm{d}t} = \\beta_0\\,\\frac{(s/k_s)^{n_s}}{1 + (s/k_s)^{n_s}}\\, \\frac{1}{(1 + (x/k)^n)} - \\gamma x.\n",
    "\\end{align}"
   ]
  },
  {
   "cell_type": "markdown",
   "metadata": {},
   "source": [
    "### The scipy.intergrate module\n",
    "\n",
    "Now that we have our dynamical equations, we will move to solving them.\n",
    "\n",
    "**The [SciPy Library](https://docs.scipy.org/doc/scipy/reference/)** is a Python library for scientific computing. It contains many modules, including `scipy.stats`, `scipy.special`, and `scipy.optimize`, which respectively have functions to perform statistical calculations, special functions, and optimization routines. There are many more. We will use the `scipy.integrate` module to integrate systems of ODEs.\n",
    "\n",
    "There are three main APIs for solving real-valued initial value problems in the module. They are [solve_ivp()](https://docs.scipy.org/doc/scipy/reference/generated/scipy.integrate.solve_ivp.html#scipy.integrate.solve_ivp), [ode()](https://scipy.github.io/devdocs/generated/scipy.integrate.ode.html#scipy.integrate.ode), and [odeint()](https://scipy.github.io/devdocs/generated/scipy.integrate.odeint.html#scipy.integrate.odeint). According to the SciPy developers, `solve_ivp()` is the preferred method, with the others labeled as having an \"old\" API. The `solve_ivp()` function has the flexibility of allowing choice of multiple numerical algorithms for solving ODEs. However, for the kinds of problems we encounter in this class, I find that the generic LSODA algorithm developed by Linda Petzold and Alan Hindmarsh that handles both stiff and non-stiff problems with variable time stepping is the best option. This is the only solver offered in the `odeint()` function. If we compare the two solvers, `solve_ivp()` and `odeint()`, the former has a large overhead, which can lead to performance issues for small problems (for large problems, the overhead is negligible). Since most of our problems are small and we need to solve them rapidly in interactive graphics, we will use `odeint()`. Because it lack the overhead, for these kinds of applications it has much better performance, and though its API is different, it is still intuitive.\n",
    "\n",
    "The basic call signature for `odeint()` is\n",
    "\n",
    "    scipy.integrate.odeint(func, y0, t, args=())\n",
    "\n",
    "There are many other keyword arguments to set algorithmic parameters, but we will generally not need them (and you can read about them in the [documentation](https://scipy.github.io/devdocs/generated/scipy.integrate.odeint.html#scipy.integrate.odeint)). Importantly, `func` is a vector-valued function with call signature `func(y, t, *args)` that specifies the right hand side of the system of ODEs to be solved. `t` is a scalar time point and `y` is a one-dimensional array (though multidimensional arrays are possible). `y0` is an array with the initial conditions.\n",
    "\n",
    "As is often the case, use of this function is best seen by example, and we will now apply it to the negative autoregulation circuit."
   ]
  },
  {
   "cell_type": "markdown",
   "metadata": {},
   "source": [
    "### Solving for a constant input\n",
    "\n",
    "We will first consider the case where we initially have no $s$ present, but a step increase in $s$ at time $t=0$ causes a corresponding step-like increase in the value of $\\beta$, which we represent by having $n_s \\gg 1$ and $s \\gg k_s$.\n",
    "\n",
    "If we are only simulating our system starting at $t=0$, then we can treat $s$ as a single, constant parameter, rather than a time-varying variable. So, we need seven parameters for the right hand side of our ODEs: $\\beta_0$, $\\gamma$, $k$, $n$, $k_s$, $n_s$, and $s$.\n",
    "\n",
    "We now define the function for the right hand side of the ODEs."
   ]
  },
  {
   "cell_type": "code",
   "execution_count": 5,
   "metadata": {},
   "outputs": [],
   "source": [
    "def neg_auto_rhs(x, t, beta0, gamma, k, n, ks, ns, s):\n",
    "    \"\"\"\n",
    "    Right hand side for negative autoregulation motif with s dependence.\n",
    "    Return dx/dt.\n",
    "    \"\"\"\n",
    "    # Compute dx/dt\n",
    "    dx_dt = (\n",
    "        beta0 * (s / ks) ** ns / (1 + (s / ks) ** ns) / (1 + (x / k) ** n) - gamma * x\n",
    "    )\n",
    "\n",
    "    # Return the result\n",
    "    return dx_dt"
   ]
  },
  {
   "cell_type": "markdown",
   "metadata": {},
   "source": [
    "We can now define the initial conditions, our parameters (taking $n_s = 10$), and the time points we want and use `scipy.integrate.odeint()` to solve."
   ]
  },
  {
   "cell_type": "code",
   "execution_count": 6,
   "metadata": {},
   "outputs": [],
   "source": [
    "# Time points we want for the solution\n",
    "t = np.linspace(0, 10, 200)\n",
    "\n",
    "# Initial condition\n",
    "x0 = 0.0\n",
    "\n",
    "# Parameters\n",
    "beta0 = 100\n",
    "gamma = 1\n",
    "k = 0.5\n",
    "n = 1\n",
    "s = 100\n",
    "ns = 10\n",
    "ks = 0.1\n",
    "\n",
    "# Package parameters into a tuple\n",
    "args = (beta0, gamma, k, n, ks, ns, s)\n",
    "\n",
    "# Integrate ODES\n",
    "x = scipy.integrate.odeint(neg_auto_rhs, x0, t, args=args)"
   ]
  },
  {
   "cell_type": "markdown",
   "metadata": {},
   "source": [
    "That's it! The integration is done. Let's take a quick look at the output."
   ]
  },
  {
   "cell_type": "code",
   "execution_count": 7,
   "metadata": {},
   "outputs": [
    {
     "data": {
      "text/plain": [
       "(200, 1)"
      ]
     },
     "execution_count": 7,
     "metadata": {},
     "output_type": "execute_result"
    }
   ],
   "source": [
    "x.shape"
   ]
  },
  {
   "cell_type": "markdown",
   "metadata": {},
   "source": [
    "We see that the output of `odeint()` has each column corresponding to a given species and each row to a given time point. It is often convenient to transpose the output so that the each species is more easily index-able."
   ]
  },
  {
   "cell_type": "code",
   "execution_count": 8,
   "metadata": {},
   "outputs": [],
   "source": [
    "# Extract time course for first (in this case only) species\n",
    "x = x.transpose()[0]"
   ]
  },
  {
   "cell_type": "markdown",
   "metadata": {},
   "source": [
    "We we plot the result, we would like to compare it both to the limiting result of <a href=\"https://doi.org/10.1016/S0022-2836(02)00994-4\">Rosenfeld et al.</a>,\n",
    "\n",
    "\\begin{align}\n",
    "x(t) \\approx x_\\mathrm{ss} \\sqrt{1-\\mathrm{e}^{-2 \\gamma t}},\n",
    "\\end{align}\n",
    "\n",
    "and also to the unregulated case,\n",
    "\n",
    "\\begin{align}\n",
    "x(t) = \\frac{\\beta_0}{\\gamma}\\left(1 - \\mathrm{e}^{-\\gamma t}\\right).\n",
    "\\end{align}"
   ]
  },
  {
   "cell_type": "code",
   "execution_count": 9,
   "metadata": {},
   "outputs": [],
   "source": [
    "# Unregulated solution\n",
    "x_unreg = beta0 / gamma * (1 - np.exp(-gamma * t))\n",
    "\n",
    "# Limiting analytical solution\n",
    "x_limiting = x[-1] * np.sqrt(1 - np.exp(-2 * gamma * t))"
   ]
  },
  {
   "cell_type": "markdown",
   "metadata": {},
   "source": [
    "Now let's now plot the results."
   ]
  },
  {
   "cell_type": "markdown",
   "metadata": {},
   "source": [
    "### Plotting results\n",
    "\n",
    "Like all of the plots in this book, we use [Bokeh](https://docs.bokeh.org/) to generate the plot of our results. Bokeh is an excellent plotting tool that affords interactivity in the browser, and we use it to great effect in this and most other chapters.\n",
    "\n",
    "The syntax is mostly self-explanatory from the example below. Note that you can save a plot as a PNG by clicking the disk icon next to the plot, which might be helpful for incorporating your plots into your presentations. (Note that for publications, you should usually save your figures in a vector graphics format, which [Bokeh supports](https://docs.bokeh.org/en/latest/docs/user_guide/export.html), but is not necessary, and in fact discouraged, for display of plots in the browser.) \n",
    "\n",
    "Before building the plot, we will load in the color scheme we will use. The [colorcet package](https://colorcet.holoviz.org/) is good for this. We prefer the Category10 color palette for categorical colors."
   ]
  },
  {
   "cell_type": "code",
   "execution_count": 10,
   "metadata": {},
   "outputs": [],
   "source": [
    "# Set up color palette for this notebook\n",
    "colors = colorcet.b_glasbey_category10"
   ]
  },
  {
   "cell_type": "markdown",
   "metadata": {},
   "source": [
    "Colors in place, we first set up a figure on which to place the plot."
   ]
  },
  {
   "cell_type": "code",
   "execution_count": 11,
   "metadata": {},
   "outputs": [],
   "source": [
    "# Set up figure\n",
    "p = bokeh.plotting.figure(\n",
    "    frame_width=325,\n",
    "    frame_height=250,\n",
    "    x_axis_label=\"time\",\n",
    "    y_axis_label=\"x\",\n",
    "    x_range=[np.min(t), np.max(t)],\n",
    ")"
   ]
  },
  {
   "cell_type": "markdown",
   "metadata": {},
   "source": [
    "Next, we populate the plot with the curves we want to show, the numerical solution, the Rosenfeld limiting solution, and the unregulated. We could make a plot with a function call like this:\n",
    "\n",
    "```python\n",
    "p.line(t, x, line_width=2, color=colors[0], legend_label=\"numerical solution\")\n",
    "```\n",
    "\n",
    "The method `p.line()` populates a figure `p` with a line with x-values given by the first argument and y-values given by the second argument. This method is a useful shortcut for quickly making plots, but it is useful to instead define a **ColumnDataSource** that contains the data for a plot (in this case the points along the curves we are plotting). This allows for the plotted data to be adjusted and the plot updated without generating a new plot.\n",
    "\n",
    "We make a ColumnDataSource by instantiating it with a dictionary of arrays we wish to use in the plot."
   ]
  },
  {
   "cell_type": "code",
   "execution_count": 12,
   "metadata": {},
   "outputs": [],
   "source": [
    "cds = bokeh.models.ColumnDataSource(\n",
    "    dict(t=t, x=x, x_limiting=x_limiting, x_unreg=x_unreg)\n",
    ")"
   ]
  },
  {
   "cell_type": "markdown",
   "metadata": {},
   "source": [
    "Now that we have the ColumnDataSource, we can add the curves to the plot. When we populate the plot with glyphs, we use the `source` keyword argument to specify the `ColumnDataSource`, and then specify `x` and `y` as strings indicating which columns of the `ColumnDataSource` are used to specify the $x$ and $y$ values, respectively."
   ]
  },
  {
   "cell_type": "code",
   "execution_count": 13,
   "metadata": {},
   "outputs": [],
   "source": [
    "# Populate glyphs\n",
    "p.line(source=cds, x=\"t\", y=\"x\", line_width=2, color=colors[0], legend_label=\"numerical solution\")\n",
    "p.line(source=cds, x=\"t\", y=\"x_limiting\", line_width=2, color=colors[1], legend_label=\"Rosenfeld limiting solution\")\n",
    "p.line(source=cds, x=\"t\", y=\"x_unreg\", line_width=2, color=colors[2], legend_label=\"unregulated\");"
   ]
  },
  {
   "cell_type": "markdown",
   "metadata": {},
   "source": [
    "We can tweak the properties of the plot by placing the legend, allowing curves to be shown or hidden by clicking them in the legend, and by adding a title."
   ]
  },
  {
   "cell_type": "code",
   "execution_count": 14,
   "metadata": {},
   "outputs": [],
   "source": [
    "# Place the legend\n",
    "p.legend.location = \"center_right\"\n",
    "\n",
    "# Allow hiding some plots\n",
    "p.legend.click_policy = \"hide\"\n",
    "\n",
    "# Write the title\n",
    "p.title.text = \"Constant-input dynamics\""
   ]
  },
  {
   "cell_type": "markdown",
   "metadata": {},
   "source": [
    "Finally, we show the plot using `bokeh.io.show()` to display the graphic in the notebook. Note that at the top of the notebook, we called `bokeh.io.output_notebook()` which tells `bokeh.io.show()` to display the plot in the notebook instead of writing it out to a file."
   ]
  },
  {
   "cell_type": "code",
   "execution_count": 15,
   "metadata": {},
   "outputs": [
    {
     "data": {
      "text/html": [
       "\n",
       "\n",
       "\n",
       "\n",
       "\n",
       "\n",
       "  <div class=\"bk-root\" id=\"74cf02d9-a007-420f-9f7a-93fbd27f9a6c\" data-root-id=\"1827\"></div>\n"
      ]
     },
     "metadata": {},
     "output_type": "display_data"
    },
    {
     "data": {
      "application/javascript": [
       "(function(root) {\n",
       "  function embed_document(root) {\n",
       "    \n",
       "  const docs_json = {\"6b9a7e91-8914-48df-98dd-8f5cf77aacfc\":{\"defs\":[],\"roots\":{\"references\":[{\"attributes\":{\"below\":[{\"id\":\"1836\"}],\"center\":[{\"id\":\"1839\"},{\"id\":\"1843\"},{\"id\":\"1876\"}],\"frame_height\":250,\"frame_width\":325,\"left\":[{\"id\":\"1840\"}],\"renderers\":[{\"id\":\"1863\"},{\"id\":\"1882\"},{\"id\":\"1900\"}],\"title\":{\"id\":\"1865\"},\"toolbar\":{\"id\":\"1851\"},\"x_range\":{\"id\":\"1828\"},\"x_scale\":{\"id\":\"1832\"},\"y_range\":{\"id\":\"1830\"},\"y_scale\":{\"id\":\"1834\"}},\"id\":\"1827\",\"subtype\":\"Figure\",\"type\":\"Plot\"},{\"attributes\":{\"overlay\":{\"id\":\"1850\"}},\"id\":\"1846\",\"type\":\"BoxZoomTool\"},{\"attributes\":{\"data\":{\"t\":{\"__ndarray__\":\"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\",\"dtype\":\"float64\",\"order\":\"little\",\"shape\":[200]},\"x\":{\"__ndarray__\":\"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\",\"dtype\":\"float64\",\"order\":\"little\",\"shape\":[200]},\"x_limiting\":{\"__ndarray__\":\"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\",\"dtype\":\"float64\",\"order\":\"little\",\"shape\":[200]},\"x_unreg\":{\"__ndarray__\":\"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\",\"dtype\":\"float64\",\"order\":\"little\",\"shape\":[200]}},\"selected\":{\"id\":\"1874\"},\"selection_policy\":{\"id\":\"1873\"}},\"id\":\"1858\",\"type\":\"ColumnDataSource\"},{\"attributes\":{\"line_alpha\":0.1,\"line_color\":\"#1f77b3\",\"line_width\":2,\"x\":{\"field\":\"t\"},\"y\":{\"field\":\"x\"}},\"id\":\"1861\",\"type\":\"Line\"},{\"attributes\":{},\"id\":\"1844\",\"type\":\"PanTool\"},{\"attributes\":{},\"id\":\"1874\",\"type\":\"Selection\"},{\"attributes\":{\"tools\":[{\"id\":\"1844\"},{\"id\":\"1845\"},{\"id\":\"1846\"},{\"id\":\"1847\"},{\"id\":\"1848\"},{\"id\":\"1849\"}]},\"id\":\"1851\",\"type\":\"Toolbar\"},{\"attributes\":{\"line_color\":\"#ff7e0e\",\"line_width\":2,\"x\":{\"field\":\"t\"},\"y\":{\"field\":\"x_limiting\"}},\"id\":\"1879\",\"type\":\"Line\"},{\"attributes\":{\"line_alpha\":0.2,\"line_color\":\"#1f77b3\",\"line_width\":2,\"x\":{\"field\":\"t\"},\"y\":{\"field\":\"x\"}},\"id\":\"1862\",\"type\":\"Line\"},{\"attributes\":{},\"id\":\"1872\",\"type\":\"AllLabels\"},{\"attributes\":{\"coordinates\":null,\"data_source\":{\"id\":\"1858\"},\"glyph\":{\"id\":\"1860\"},\"group\":null,\"hover_glyph\":null,\"muted_glyph\":{\"id\":\"1862\"},\"nonselection_glyph\":{\"id\":\"1861\"},\"view\":{\"id\":\"1864\"}},\"id\":\"1863\",\"type\":\"GlyphRenderer\"},{\"attributes\":{\"end\":10.0},\"id\":\"1828\",\"type\":\"Range1d\"},{\"attributes\":{\"source\":{\"id\":\"1858\"}},\"id\":\"1864\",\"type\":\"CDSView\"},{\"attributes\":{},\"id\":\"1868\",\"type\":\"BasicTickFormatter\"},{\"attributes\":{},\"id\":\"1834\",\"type\":\"LinearScale\"},{\"attributes\":{},\"id\":\"1848\",\"type\":\"ResetTool\"},{\"attributes\":{\"coordinates\":null,\"group\":null,\"text\":\"Constant-input dynamics\"},\"id\":\"1865\",\"type\":\"Title\"},{\"attributes\":{},\"id\":\"1841\",\"type\":\"BasicTicker\"},{\"attributes\":{\"coordinates\":null,\"data_source\":{\"id\":\"1858\"},\"glyph\":{\"id\":\"1897\"},\"group\":null,\"hover_glyph\":null,\"muted_glyph\":{\"id\":\"1899\"},\"nonselection_glyph\":{\"id\":\"1898\"},\"view\":{\"id\":\"1901\"}},\"id\":\"1900\",\"type\":\"GlyphRenderer\"},{\"attributes\":{},\"id\":\"1845\",\"type\":\"WheelZoomTool\"},{\"attributes\":{\"axis_label\":\"x\",\"coordinates\":null,\"formatter\":{\"id\":\"1868\"},\"group\":null,\"major_label_policy\":{\"id\":\"1869\"},\"ticker\":{\"id\":\"1841\"}},\"id\":\"1840\",\"type\":\"LinearAxis\"},{\"attributes\":{},\"id\":\"1871\",\"type\":\"BasicTickFormatter\"},{\"attributes\":{\"axis\":{\"id\":\"1840\"},\"coordinates\":null,\"dimension\":1,\"group\":null,\"ticker\":null},\"id\":\"1843\",\"type\":\"Grid\"},{\"attributes\":{\"line_alpha\":0.1,\"line_color\":\"#2ba02b\",\"line_width\":2,\"x\":{\"field\":\"t\"},\"y\":{\"field\":\"x_unreg\"}},\"id\":\"1898\",\"type\":\"Line\"},{\"attributes\":{},\"id\":\"1847\",\"type\":\"SaveTool\"},{\"attributes\":{},\"id\":\"1873\",\"type\":\"UnionRenderers\"},{\"attributes\":{\"bottom_units\":\"screen\",\"coordinates\":null,\"fill_alpha\":0.5,\"fill_color\":\"lightgrey\",\"group\":null,\"left_units\":\"screen\",\"level\":\"overlay\",\"line_alpha\":1.0,\"line_color\":\"black\",\"line_dash\":[4,4],\"line_width\":2,\"right_units\":\"screen\",\"syncable\":false,\"top_units\":\"screen\"},\"id\":\"1850\",\"type\":\"BoxAnnotation\"},{\"attributes\":{\"axis_label\":\"time\",\"coordinates\":null,\"formatter\":{\"id\":\"1871\"},\"group\":null,\"major_label_policy\":{\"id\":\"1872\"},\"ticker\":{\"id\":\"1837\"}},\"id\":\"1836\",\"type\":\"LinearAxis\"},{\"attributes\":{\"label\":{\"value\":\"unregulated\"},\"renderers\":[{\"id\":\"1900\"}]},\"id\":\"1913\",\"type\":\"LegendItem\"},{\"attributes\":{\"source\":{\"id\":\"1858\"}},\"id\":\"1901\",\"type\":\"CDSView\"},{\"attributes\":{},\"id\":\"1830\",\"type\":\"DataRange1d\"},{\"attributes\":{},\"id\":\"1849\",\"type\":\"HelpTool\"},{\"attributes\":{\"line_alpha\":0.2,\"line_color\":\"#2ba02b\",\"line_width\":2,\"x\":{\"field\":\"t\"},\"y\":{\"field\":\"x_unreg\"}},\"id\":\"1899\",\"type\":\"Line\"},{\"attributes\":{\"line_color\":\"#2ba02b\",\"line_width\":2,\"x\":{\"field\":\"t\"},\"y\":{\"field\":\"x_unreg\"}},\"id\":\"1897\",\"type\":\"Line\"},{\"attributes\":{},\"id\":\"1832\",\"type\":\"LinearScale\"},{\"attributes\":{\"label\":{\"value\":\"numerical solution\"},\"renderers\":[{\"id\":\"1863\"}]},\"id\":\"1877\",\"type\":\"LegendItem\"},{\"attributes\":{\"line_alpha\":0.2,\"line_color\":\"#ff7e0e\",\"line_width\":2,\"x\":{\"field\":\"t\"},\"y\":{\"field\":\"x_limiting\"}},\"id\":\"1881\",\"type\":\"Line\"},{\"attributes\":{\"line_color\":\"#1f77b3\",\"line_width\":2,\"x\":{\"field\":\"t\"},\"y\":{\"field\":\"x\"}},\"id\":\"1860\",\"type\":\"Line\"},{\"attributes\":{},\"id\":\"1869\",\"type\":\"AllLabels\"},{\"attributes\":{\"coordinates\":null,\"data_source\":{\"id\":\"1858\"},\"glyph\":{\"id\":\"1879\"},\"group\":null,\"hover_glyph\":null,\"muted_glyph\":{\"id\":\"1881\"},\"nonselection_glyph\":{\"id\":\"1880\"},\"view\":{\"id\":\"1883\"}},\"id\":\"1882\",\"type\":\"GlyphRenderer\"},{\"attributes\":{\"click_policy\":\"hide\",\"coordinates\":null,\"group\":null,\"items\":[{\"id\":\"1877\"},{\"id\":\"1895\"},{\"id\":\"1913\"}],\"location\":\"center_right\"},\"id\":\"1876\",\"type\":\"Legend\"},{\"attributes\":{},\"id\":\"1837\",\"type\":\"BasicTicker\"},{\"attributes\":{\"axis\":{\"id\":\"1836\"},\"coordinates\":null,\"group\":null,\"ticker\":null},\"id\":\"1839\",\"type\":\"Grid\"},{\"attributes\":{\"line_alpha\":0.1,\"line_color\":\"#ff7e0e\",\"line_width\":2,\"x\":{\"field\":\"t\"},\"y\":{\"field\":\"x_limiting\"}},\"id\":\"1880\",\"type\":\"Line\"},{\"attributes\":{\"source\":{\"id\":\"1858\"}},\"id\":\"1883\",\"type\":\"CDSView\"},{\"attributes\":{\"label\":{\"value\":\"Rosenfeld limiting solution\"},\"renderers\":[{\"id\":\"1882\"}]},\"id\":\"1895\",\"type\":\"LegendItem\"}],\"root_ids\":[\"1827\"]},\"title\":\"Bokeh Application\",\"version\":\"2.4.2\"}};\n",
       "  const render_items = [{\"docid\":\"6b9a7e91-8914-48df-98dd-8f5cf77aacfc\",\"root_ids\":[\"1827\"],\"roots\":{\"1827\":\"74cf02d9-a007-420f-9f7a-93fbd27f9a6c\"}}];\n",
       "  root.Bokeh.embed.embed_items_notebook(docs_json, render_items);\n",
       "\n",
       "  }\n",
       "  if (root.Bokeh !== undefined) {\n",
       "    embed_document(root);\n",
       "  } else {\n",
       "    let attempts = 0;\n",
       "    const timer = setInterval(function(root) {\n",
       "      if (root.Bokeh !== undefined) {\n",
       "        clearInterval(timer);\n",
       "        embed_document(root);\n",
       "      } else {\n",
       "        attempts++;\n",
       "        if (attempts > 100) {\n",
       "          clearInterval(timer);\n",
       "          console.log(\"Bokeh: ERROR: Unable to run BokehJS code because BokehJS library is missing\");\n",
       "        }\n",
       "      }\n",
       "    }, 10, root)\n",
       "  }\n",
       "})(window);"
      ],
      "application/vnd.bokehjs_exec.v0+json": ""
     },
     "metadata": {
      "application/vnd.bokehjs_exec.v0+json": {
       "id": "1827"
      }
     },
     "output_type": "display_data"
    }
   ],
   "source": [
    "bokeh.io.show(p)"
   ]
  },
  {
   "cell_type": "markdown",
   "metadata": {},
   "source": [
    "The numerical solution and the Rosenfeld limiting solution are nearly identical. To see the numerical solution, you may even need to click the legend to hide the limiting solution.\n",
    "\n",
    "Since we want to compare the speed with which the system approaches steady state, we should instead plot the normalized expression level. To do that, we can update the data in the ColumnDataSource to contain normalized levels."
   ]
  },
  {
   "cell_type": "code",
   "execution_count": 16,
   "metadata": {},
   "outputs": [],
   "source": [
    "cds.data[\"x\"] /= cds.data[\"x\"].max()\n",
    "cds.data[\"x_limiting\"] /= cds.data[\"x_limiting\"].max()\n",
    "cds.data[\"x_unreg\"] /= cds.data[\"x_unreg\"].max()"
   ]
  },
  {
   "cell_type": "markdown",
   "metadata": {},
   "source": [
    "We can complete our updated normalized plot by tweaking the y-axis label."
   ]
  },
  {
   "cell_type": "code",
   "execution_count": 17,
   "metadata": {},
   "outputs": [
    {
     "data": {
      "text/html": [
       "\n",
       "\n",
       "\n",
       "\n",
       "\n",
       "\n",
       "  <div class=\"bk-root\" id=\"5de9acb0-f898-481b-a3c3-0a0edefb5373\" data-root-id=\"1827\"></div>\n"
      ]
     },
     "metadata": {},
     "output_type": "display_data"
    },
    {
     "data": {
      "application/javascript": [
       "(function(root) {\n",
       "  function embed_document(root) {\n",
       "    \n",
       "  const docs_json = {\"68d85271-0be1-4469-b602-f122098eba87\":{\"defs\":[],\"roots\":{\"references\":[{\"attributes\":{\"below\":[{\"id\":\"1836\"}],\"center\":[{\"id\":\"1839\"},{\"id\":\"1843\"},{\"id\":\"1876\"}],\"frame_height\":250,\"frame_width\":325,\"left\":[{\"id\":\"1840\"}],\"renderers\":[{\"id\":\"1863\"},{\"id\":\"1882\"},{\"id\":\"1900\"}],\"title\":{\"id\":\"1865\"},\"toolbar\":{\"id\":\"1851\"},\"x_range\":{\"id\":\"1828\"},\"x_scale\":{\"id\":\"1832\"},\"y_range\":{\"id\":\"1830\"},\"y_scale\":{\"id\":\"1834\"}},\"id\":\"1827\",\"subtype\":\"Figure\",\"type\":\"Plot\"},{\"attributes\":{\"overlay\":{\"id\":\"1850\"}},\"id\":\"1846\",\"type\":\"BoxZoomTool\"},{\"attributes\":{\"data\":{\"t\":{\"__ndarray__\":\"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\",\"dtype\":\"float64\",\"order\":\"little\",\"shape\":[200]},\"x\":{\"__ndarray__\":\"AAAAAAAAAADo4NYglnPQP0UpzQMWOdg/QsfJsfrQ3T80NWk9shvhPwcMND++6eI/kdGPtTtu5D+Jl2euL7rlP11yhPAR2eY/u1m7ixjT5z/XfwhTaK7oPzCYGtDBb+k/PLzqd+oa6j/4rwQ/8LLqP3uX/v9WOus/GA3HDDiz6z/pYhvYWB/sP+CHi6A7gOw/cjXgBSzX7D9JNRisSCXtP7oXtsOKa+0/3Ht8Asyq7T9djJZty+PtP+QxKkExF+4/gdATJZJF7j9kZejTcW/uP5lYM1RFle4/Jbbz13S37j8N8p5TXdbuP3x03dpR8u4/FlFrxpwL7z934LK8gCLvPyrWZY05N+8/5LxJ9PxJ7z9s+j1E+1rvPz6Iwvxfau8/4vmzTFJ47z/8QViG9YTvPzJbr4ZpkO8/tBtGEMua7z8BBLoZNKTvP1aMmxm8rO8/ZiCgRni07z8XlnvMe7vvP7rHLQTYwe8/CU8HnpzH7z/BlNrN18zvP0CvG2+W0e8/vjY0JuTV7z/DtBJ+y9nvPzk5ogNW3e8/+4orXozg7z8VhNNkduPvP6OGrjIb5u8/QipNOIHo7z/YYKNMrurvP7Qvarqn7O8/EJQbTnLu7z965L1hEvDvPzwIIeeL8e8/DUQtcuLy7z8fjt1BGfTvP+GOX0cz9e8/HyJ+LjP27z+iDM9iG/fvP8036xbu9+8/+K67SK347z+xjxzHWvnvPxg+3TX4+e8/+4/rEYf67z/UXO+0CPvvPz2W91d+++8/gKPGF+n77z/stmf2SfzvP/lc7t2h/O8/vkYLo/H87z9KM1IGOv3vP0vd0LZ7/e8/M70+U7f97z8WWXxr7f3vPz/sZoIe/u8/gZh/Dkv+7z+xdm17c/7vPyls3SqY/u8/5ThSdbn+7z9mYEir1/7vPxDErhXz/u8/IX7M9gv/7z9nX8WKIv/vP29E5wc3/+8/WBiNn0n/7z+2FLt+Wv/vP+dhVM5p/+8/zCdks3f/7z+dqDhPhP/vP/XRe8CP/+8/Z5UII5r/7z972IyPo//vP04j2hys/+8/6IK/37P/7z8ZFbnquv/vP9pc1k7B/+8/nuG3G8f/7z/RdC1fzP/vP/rj7iXR/+8/+o2oe9X/7z+7gqVq2f/vP04VYPzc/+8/VlehOeD/7z93GVcq4//vP20YXdXl/+8/SeUqQej/7z9dtbVz6v/vP4tvOHLs/+8/34ZwQe7/7z+WU8nl7//vP7ksTWPx/+8/kPF6vfL/7z+hfJj38//vPzIPrxT1/+8/ZylwF/b/7z8T5ToC9//vP/k6Stf3/+8/cLC7mPj/7z/huSZI+f/vP85zXOf5/+8/KLLZd/r/7z/h8fr6+v/vP7Ii8HH7/+8/mr3f3fv/7z8gedg//P/vP/ym0Jj8/+8//2Wg6fz/7z9dNwYz/f/vPyNZqXX9/+8/NMEXsv3/7z9k8tDo/f/vPzlteRr+/+8/fumMR/7/7z9b1nBw/v/vP+xsepX+/+8/Cf8Et/7/7z9G/njV/v/vP0/qIPH+/+8/0Bw9Cv//7z/gC3Mh///vP93E3DX//+8/eP+OSP//7z/uRZ5Z///vP4AiH2n//+8/7noqd///7z/KneeD///vPxBZc4///+8/HTzpmf//7z9R1mSj///vPwa3Aaz//+8/UjTSs///7z+YluO6///vPyg+S8H//+8//4wex///7z8Z5XLM///vP+0tXNH//+8/wVbW1f//7z/xWeXZ///vP/njk93//+8/VaHs4P//7z+DPvrj///vP3RRR+f//+8/noeN6f//7z+ha63r///vP4H9pu3//+8/OT167///7z/NKifx///vP217sPL//+8/xCsZ9P//7z9FPGH1///vP/OsiPb//+8/zn2P9///7z8dtHX4///vP6TQQ/n//+8/mcoA+v//7z/8oaz6///vP89WR/v//+8/D+nQ+///7z/oa0n8///vPxhytvz//+8/zXEb/f//7z8Ha3j9///vP8Zdzf3//+8/Ckoa/v//7z+zQl/+///vP/qbnv7//+8/PXLZ/v//7z97xQ/////vP7aVQf///+8/7eJu////7z8evpf////vP6JUvf///+8/QhXg////7z8AAAAAAADwPw==\",\"dtype\":\"float64\",\"order\":\"little\",\"shape\":[200]},\"x_limiting\":{\"__ndarray__\":\"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\",\"dtype\":\"float64\",\"order\":\"little\",\"shape\":[200]},\"x_unreg\":{\"__ndarray__\":\"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\",\"dtype\":\"float64\",\"order\":\"little\",\"shape\":[200]}},\"selected\":{\"id\":\"1874\"},\"selection_policy\":{\"id\":\"1873\"}},\"id\":\"1858\",\"type\":\"ColumnDataSource\"},{\"attributes\":{\"line_alpha\":0.1,\"line_color\":\"#1f77b3\",\"line_width\":2,\"x\":{\"field\":\"t\"},\"y\":{\"field\":\"x\"}},\"id\":\"1861\",\"type\":\"Line\"},{\"attributes\":{},\"id\":\"1844\",\"type\":\"PanTool\"},{\"attributes\":{},\"id\":\"1874\",\"type\":\"Selection\"},{\"attributes\":{\"tools\":[{\"id\":\"1844\"},{\"id\":\"1845\"},{\"id\":\"1846\"},{\"id\":\"1847\"},{\"id\":\"1848\"},{\"id\":\"1849\"}]},\"id\":\"1851\",\"type\":\"Toolbar\"},{\"attributes\":{\"line_color\":\"#ff7e0e\",\"line_width\":2,\"x\":{\"field\":\"t\"},\"y\":{\"field\":\"x_limiting\"}},\"id\":\"1879\",\"type\":\"Line\"},{\"attributes\":{\"line_alpha\":0.2,\"line_color\":\"#1f77b3\",\"line_width\":2,\"x\":{\"field\":\"t\"},\"y\":{\"field\":\"x\"}},\"id\":\"1862\",\"type\":\"Line\"},{\"attributes\":{},\"id\":\"1872\",\"type\":\"AllLabels\"},{\"attributes\":{\"coordinates\":null,\"data_source\":{\"id\":\"1858\"},\"glyph\":{\"id\":\"1860\"},\"group\":null,\"hover_glyph\":null,\"muted_glyph\":{\"id\":\"1862\"},\"nonselection_glyph\":{\"id\":\"1861\"},\"view\":{\"id\":\"1864\"}},\"id\":\"1863\",\"type\":\"GlyphRenderer\"},{\"attributes\":{\"end\":10.0},\"id\":\"1828\",\"type\":\"Range1d\"},{\"attributes\":{\"source\":{\"id\":\"1858\"}},\"id\":\"1864\",\"type\":\"CDSView\"},{\"attributes\":{},\"id\":\"1868\",\"type\":\"BasicTickFormatter\"},{\"attributes\":{},\"id\":\"1834\",\"type\":\"LinearScale\"},{\"attributes\":{},\"id\":\"1848\",\"type\":\"ResetTool\"},{\"attributes\":{\"coordinates\":null,\"group\":null,\"text\":\"Constant-input dynamics\"},\"id\":\"1865\",\"type\":\"Title\"},{\"attributes\":{},\"id\":\"1841\",\"type\":\"BasicTicker\"},{\"attributes\":{\"coordinates\":null,\"data_source\":{\"id\":\"1858\"},\"glyph\":{\"id\":\"1897\"},\"group\":null,\"hover_glyph\":null,\"muted_glyph\":{\"id\":\"1899\"},\"nonselection_glyph\":{\"id\":\"1898\"},\"view\":{\"id\":\"1901\"}},\"id\":\"1900\",\"type\":\"GlyphRenderer\"},{\"attributes\":{},\"id\":\"1845\",\"type\":\"WheelZoomTool\"},{\"attributes\":{\"axis_label\":\"normalized x\",\"coordinates\":null,\"formatter\":{\"id\":\"1868\"},\"group\":null,\"major_label_policy\":{\"id\":\"1869\"},\"ticker\":{\"id\":\"1841\"}},\"id\":\"1840\",\"type\":\"LinearAxis\"},{\"attributes\":{},\"id\":\"1871\",\"type\":\"BasicTickFormatter\"},{\"attributes\":{\"axis\":{\"id\":\"1840\"},\"coordinates\":null,\"dimension\":1,\"group\":null,\"ticker\":null},\"id\":\"1843\",\"type\":\"Grid\"},{\"attributes\":{\"line_alpha\":0.1,\"line_color\":\"#2ba02b\",\"line_width\":2,\"x\":{\"field\":\"t\"},\"y\":{\"field\":\"x_unreg\"}},\"id\":\"1898\",\"type\":\"Line\"},{\"attributes\":{},\"id\":\"1847\",\"type\":\"SaveTool\"},{\"attributes\":{},\"id\":\"1873\",\"type\":\"UnionRenderers\"},{\"attributes\":{\"bottom_units\":\"screen\",\"coordinates\":null,\"fill_alpha\":0.5,\"fill_color\":\"lightgrey\",\"group\":null,\"left_units\":\"screen\",\"level\":\"overlay\",\"line_alpha\":1.0,\"line_color\":\"black\",\"line_dash\":[4,4],\"line_width\":2,\"right_units\":\"screen\",\"syncable\":false,\"top_units\":\"screen\"},\"id\":\"1850\",\"type\":\"BoxAnnotation\"},{\"attributes\":{\"axis_label\":\"time\",\"coordinates\":null,\"formatter\":{\"id\":\"1871\"},\"group\":null,\"major_label_policy\":{\"id\":\"1872\"},\"ticker\":{\"id\":\"1837\"}},\"id\":\"1836\",\"type\":\"LinearAxis\"},{\"attributes\":{\"label\":{\"value\":\"unregulated\"},\"renderers\":[{\"id\":\"1900\"}]},\"id\":\"1913\",\"type\":\"LegendItem\"},{\"attributes\":{\"source\":{\"id\":\"1858\"}},\"id\":\"1901\",\"type\":\"CDSView\"},{\"attributes\":{},\"id\":\"1830\",\"type\":\"DataRange1d\"},{\"attributes\":{},\"id\":\"1849\",\"type\":\"HelpTool\"},{\"attributes\":{\"line_alpha\":0.2,\"line_color\":\"#2ba02b\",\"line_width\":2,\"x\":{\"field\":\"t\"},\"y\":{\"field\":\"x_unreg\"}},\"id\":\"1899\",\"type\":\"Line\"},{\"attributes\":{\"line_color\":\"#2ba02b\",\"line_width\":2,\"x\":{\"field\":\"t\"},\"y\":{\"field\":\"x_unreg\"}},\"id\":\"1897\",\"type\":\"Line\"},{\"attributes\":{},\"id\":\"1832\",\"type\":\"LinearScale\"},{\"attributes\":{\"label\":{\"value\":\"numerical solution\"},\"renderers\":[{\"id\":\"1863\"}]},\"id\":\"1877\",\"type\":\"LegendItem\"},{\"attributes\":{\"line_alpha\":0.2,\"line_color\":\"#ff7e0e\",\"line_width\":2,\"x\":{\"field\":\"t\"},\"y\":{\"field\":\"x_limiting\"}},\"id\":\"1881\",\"type\":\"Line\"},{\"attributes\":{\"line_color\":\"#1f77b3\",\"line_width\":2,\"x\":{\"field\":\"t\"},\"y\":{\"field\":\"x\"}},\"id\":\"1860\",\"type\":\"Line\"},{\"attributes\":{},\"id\":\"1869\",\"type\":\"AllLabels\"},{\"attributes\":{\"coordinates\":null,\"data_source\":{\"id\":\"1858\"},\"glyph\":{\"id\":\"1879\"},\"group\":null,\"hover_glyph\":null,\"muted_glyph\":{\"id\":\"1881\"},\"nonselection_glyph\":{\"id\":\"1880\"},\"view\":{\"id\":\"1883\"}},\"id\":\"1882\",\"type\":\"GlyphRenderer\"},{\"attributes\":{\"click_policy\":\"hide\",\"coordinates\":null,\"group\":null,\"items\":[{\"id\":\"1877\"},{\"id\":\"1895\"},{\"id\":\"1913\"}],\"location\":\"center_right\"},\"id\":\"1876\",\"type\":\"Legend\"},{\"attributes\":{},\"id\":\"1837\",\"type\":\"BasicTicker\"},{\"attributes\":{\"axis\":{\"id\":\"1836\"},\"coordinates\":null,\"group\":null,\"ticker\":null},\"id\":\"1839\",\"type\":\"Grid\"},{\"attributes\":{\"line_alpha\":0.1,\"line_color\":\"#ff7e0e\",\"line_width\":2,\"x\":{\"field\":\"t\"},\"y\":{\"field\":\"x_limiting\"}},\"id\":\"1880\",\"type\":\"Line\"},{\"attributes\":{\"source\":{\"id\":\"1858\"}},\"id\":\"1883\",\"type\":\"CDSView\"},{\"attributes\":{\"label\":{\"value\":\"Rosenfeld limiting solution\"},\"renderers\":[{\"id\":\"1882\"}]},\"id\":\"1895\",\"type\":\"LegendItem\"}],\"root_ids\":[\"1827\"]},\"title\":\"Bokeh Application\",\"version\":\"2.4.2\"}};\n",
       "  const render_items = [{\"docid\":\"68d85271-0be1-4469-b602-f122098eba87\",\"root_ids\":[\"1827\"],\"roots\":{\"1827\":\"5de9acb0-f898-481b-a3c3-0a0edefb5373\"}}];\n",
       "  root.Bokeh.embed.embed_items_notebook(docs_json, render_items);\n",
       "\n",
       "  }\n",
       "  if (root.Bokeh !== undefined) {\n",
       "    embed_document(root);\n",
       "  } else {\n",
       "    let attempts = 0;\n",
       "    const timer = setInterval(function(root) {\n",
       "      if (root.Bokeh !== undefined) {\n",
       "        clearInterval(timer);\n",
       "        embed_document(root);\n",
       "      } else {\n",
       "        attempts++;\n",
       "        if (attempts > 100) {\n",
       "          clearInterval(timer);\n",
       "          console.log(\"Bokeh: ERROR: Unable to run BokehJS code because BokehJS library is missing\");\n",
       "        }\n",
       "      }\n",
       "    }, 10, root)\n",
       "  }\n",
       "})(window);"
      ],
      "application/vnd.bokehjs_exec.v0+json": ""
     },
     "metadata": {
      "application/vnd.bokehjs_exec.v0+json": {
       "id": "1827"
      }
     },
     "output_type": "display_data"
    }
   ],
   "source": [
    "# Update axis label\n",
    "p.yaxis.axis_label = \"normalized x\"\n",
    "\n",
    "# Show plot\n",
    "bokeh.io.show(p)"
   ]
  },
  {
   "cell_type": "markdown",
   "metadata": {},
   "source": [
    "### Design principle: Negative autoregulation of a transcription factor accelerates its response to a change in input\n",
    "\n",
    "Taken together, the unnormalized and normalized plots expose two effects of the autoregulation. First, as you would expect, adding negative autoregulation reduces the steady-state expression level. As a second effect, the approach to steady state is accelerated. This can be seen in the second plot where all the concentrations are normalized to their steady state. In fact, negative autoregulation has accelerated the dynamics by about 5-fold compared to the unregulated system. We have thus arrived at another **design principle**: _Negative autoregulation of a transcription factor accelerates its response to a change in input_.\n",
    "\n",
    "Note that this acceleration occurs when we turn the gene on, but one might ask whether such acceleration also holds when we turn the gene off, for example by suddenly stopping the gene's expression at some later time point. We can explore this question and others by including $s$ as a time-varying signal into our ODE solver."
   ]
  },
  {
   "cell_type": "markdown",
   "metadata": {},
   "source": [
    "## Solving for a time-varying input\n",
    "\n",
    "Now let's imagine that the input signal $s$, rather than turning on instantaneously at $t=0$ and remaining constant for the rest of the simulation, instead occurs as a pulse of duration $\\tau$ that peaks at time $t_0$. Then $s$ would be present roughly within the time window $(t_0-\\tau/2, t_0+\\tau/2)$, but absent outside of this time window. We will model the peak as a Gaussian function of unit height,\n",
    "\n",
    "\\begin{align}\n",
    "s(t) = \\exp\\left[-\\frac{4(t-t_0)^2}{\\tau^2}\\right].\n",
    "\\end{align}\n",
    "\n",
    "In order to incorporate these dynamics into our model, we can write a function."
   ]
  },
  {
   "cell_type": "code",
   "execution_count": 18,
   "metadata": {},
   "outputs": [],
   "source": [
    "def s_pulse(t, t_0, tau):\n",
    "    \"\"\"\n",
    "    Returns s value for a pulse centered at t_0 with duration tau.\n",
    "    \"\"\"\n",
    "    # Return 0 is tau is zero, otherwise Gaussian\n",
    "    return 0 if tau == 0 else np.exp(-4 * (t - t_0) ** 2 / tau ** 2)"
   ]
  },
  {
   "cell_type": "markdown",
   "metadata": {},
   "source": [
    "Let's take a look at what the pulse looks like for visualization purposes. This is an example where a quick plot suffices; there is no need to set up a ColumnDataSource because we will not be changing the data on this plot."
   ]
  },
  {
   "cell_type": "code",
   "execution_count": 19,
   "metadata": {},
   "outputs": [
    {
     "data": {
      "text/html": [
       "\n",
       "\n",
       "\n",
       "\n",
       "\n",
       "\n",
       "  <div class=\"bk-root\" id=\"c33af5c3-dd73-4ff6-815b-1fcf4e7c254b\" data-root-id=\"2110\"></div>\n"
      ]
     },
     "metadata": {},
     "output_type": "display_data"
    },
    {
     "data": {
      "application/javascript": [
       "(function(root) {\n",
       "  function embed_document(root) {\n",
       "    \n",
       "  const docs_json = {\"4c8ff0fb-6ed3-4f95-b050-35843f3a932c\":{\"defs\":[],\"roots\":{\"references\":[{\"attributes\":{\"below\":[{\"id\":\"2119\"}],\"center\":[{\"id\":\"2122\"},{\"id\":\"2126\"}],\"frame_height\":250,\"frame_width\":450,\"left\":[{\"id\":\"2123\"}],\"renderers\":[{\"id\":\"2145\"}],\"title\":{\"id\":\"2232\"},\"toolbar\":{\"id\":\"2134\"},\"x_range\":{\"id\":\"2111\"},\"x_scale\":{\"id\":\"2115\"},\"y_range\":{\"id\":\"2113\"},\"y_scale\":{\"id\":\"2117\"}},\"id\":\"2110\",\"subtype\":\"Figure\",\"type\":\"Plot\"},{\"attributes\":{\"line_alpha\":0.1,\"line_color\":\"#1f77b4\",\"line_width\":2,\"x\":{\"field\":\"x\"},\"y\":{\"field\":\"y\"}},\"id\":\"2143\",\"type\":\"Line\"},{\"attributes\":{},\"id\":\"2132\",\"type\":\"HelpTool\"},{\"attributes\":{},\"id\":\"2235\",\"type\":\"BasicTickFormatter\"},{\"attributes\":{},\"id\":\"2127\",\"type\":\"PanTool\"},{\"attributes\":{},\"id\":\"2236\",\"type\":\"AllLabels\"},{\"attributes\":{\"line_alpha\":0.2,\"line_color\":\"#1f77b4\",\"line_width\":2,\"x\":{\"field\":\"x\"},\"y\":{\"field\":\"y\"}},\"id\":\"2144\",\"type\":\"Line\"},{\"attributes\":{\"coordinates\":null,\"data_source\":{\"id\":\"2141\"},\"glyph\":{\"id\":\"2142\"},\"group\":null,\"hover_glyph\":null,\"muted_glyph\":{\"id\":\"2144\"},\"nonselection_glyph\":{\"id\":\"2143\"},\"view\":{\"id\":\"2146\"}},\"id\":\"2145\",\"type\":\"GlyphRenderer\"},{\"attributes\":{},\"id\":\"2238\",\"type\":\"BasicTickFormatter\"},{\"attributes\":{\"end\":10},\"id\":\"2111\",\"type\":\"Range1d\"},{\"attributes\":{},\"id\":\"2130\",\"type\":\"SaveTool\"},{\"attributes\":{},\"id\":\"2239\",\"type\":\"AllLabels\"},{\"attributes\":{},\"id\":\"2131\",\"type\":\"ResetTool\"},{\"attributes\":{},\"id\":\"2124\",\"type\":\"BasicTicker\"},{\"attributes\":{\"axis\":{\"id\":\"2123\"},\"coordinates\":null,\"dimension\":1,\"group\":null,\"ticker\":null},\"id\":\"2126\",\"type\":\"Grid\"},{\"attributes\":{\"axis\":{\"id\":\"2119\"},\"coordinates\":null,\"group\":null,\"ticker\":null},\"id\":\"2122\",\"type\":\"Grid\"},{\"attributes\":{\"source\":{\"id\":\"2141\"}},\"id\":\"2146\",\"type\":\"CDSView\"},{\"attributes\":{},\"id\":\"2128\",\"type\":\"WheelZoomTool\"},{\"attributes\":{\"coordinates\":null,\"group\":null},\"id\":\"2232\",\"type\":\"Title\"},{\"attributes\":{},\"id\":\"2117\",\"type\":\"LinearScale\"},{\"attributes\":{\"overlay\":{\"id\":\"2133\"}},\"id\":\"2129\",\"type\":\"BoxZoomTool\"},{\"attributes\":{\"line_color\":\"#1f77b4\",\"line_width\":2,\"x\":{\"field\":\"x\"},\"y\":{\"field\":\"y\"}},\"id\":\"2142\",\"type\":\"Line\"},{\"attributes\":{},\"id\":\"2240\",\"type\":\"UnionRenderers\"},{\"attributes\":{},\"id\":\"2241\",\"type\":\"Selection\"},{\"attributes\":{},\"id\":\"2113\",\"type\":\"DataRange1d\"},{\"attributes\":{\"data\":{\"x\":{\"__ndarray__\":\"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\",\"dtype\":\"float64\",\"order\":\"little\",\"shape\":[200]},\"y\":{\"__ndarray__\":\"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\",\"dtype\":\"float64\",\"order\":\"little\",\"shape\":[200]}},\"selected\":{\"id\":\"2241\"},\"selection_policy\":{\"id\":\"2240\"}},\"id\":\"2141\",\"type\":\"ColumnDataSource\"},{\"attributes\":{\"bottom_units\":\"screen\",\"coordinates\":null,\"fill_alpha\":0.5,\"fill_color\":\"lightgrey\",\"group\":null,\"left_units\":\"screen\",\"level\":\"overlay\",\"line_alpha\":1.0,\"line_color\":\"black\",\"line_dash\":[4,4],\"line_width\":2,\"right_units\":\"screen\",\"syncable\":false,\"top_units\":\"screen\"},\"id\":\"2133\",\"type\":\"BoxAnnotation\"},{\"attributes\":{},\"id\":\"2115\",\"type\":\"LinearScale\"},{\"attributes\":{\"tools\":[{\"id\":\"2127\"},{\"id\":\"2128\"},{\"id\":\"2129\"},{\"id\":\"2130\"},{\"id\":\"2131\"},{\"id\":\"2132\"}]},\"id\":\"2134\",\"type\":\"Toolbar\"},{\"attributes\":{\"axis_label\":\"time\",\"coordinates\":null,\"formatter\":{\"id\":\"2238\"},\"group\":null,\"major_label_policy\":{\"id\":\"2239\"},\"ticker\":{\"id\":\"2120\"}},\"id\":\"2119\",\"type\":\"LinearAxis\"},{\"attributes\":{},\"id\":\"2120\",\"type\":\"BasicTicker\"},{\"attributes\":{\"axis_label\":\"s\",\"coordinates\":null,\"formatter\":{\"id\":\"2235\"},\"group\":null,\"major_label_policy\":{\"id\":\"2236\"},\"ticker\":{\"id\":\"2124\"}},\"id\":\"2123\",\"type\":\"LinearAxis\"}],\"root_ids\":[\"2110\"]},\"title\":\"Bokeh Application\",\"version\":\"2.4.2\"}};\n",
       "  const render_items = [{\"docid\":\"4c8ff0fb-6ed3-4f95-b050-35843f3a932c\",\"root_ids\":[\"2110\"],\"roots\":{\"2110\":\"c33af5c3-dd73-4ff6-815b-1fcf4e7c254b\"}}];\n",
       "  root.Bokeh.embed.embed_items_notebook(docs_json, render_items);\n",
       "\n",
       "  }\n",
       "  if (root.Bokeh !== undefined) {\n",
       "    embed_document(root);\n",
       "  } else {\n",
       "    let attempts = 0;\n",
       "    const timer = setInterval(function(root) {\n",
       "      if (root.Bokeh !== undefined) {\n",
       "        clearInterval(timer);\n",
       "        embed_document(root);\n",
       "      } else {\n",
       "        attempts++;\n",
       "        if (attempts > 100) {\n",
       "          clearInterval(timer);\n",
       "          console.log(\"Bokeh: ERROR: Unable to run BokehJS code because BokehJS library is missing\");\n",
       "        }\n",
       "      }\n",
       "    }, 10, root)\n",
       "  }\n",
       "})(window);"
      ],
      "application/vnd.bokehjs_exec.v0+json": ""
     },
     "metadata": {
      "application/vnd.bokehjs_exec.v0+json": {
       "id": "2110"
      }
     },
     "output_type": "display_data"
    }
   ],
   "source": [
    "# Plot the pulse\n",
    "p = bokeh.plotting.figure(\n",
    "    frame_width=450,\n",
    "    frame_height=250,\n",
    "    x_axis_label=\"time\",\n",
    "    y_axis_label=\"s\",\n",
    "    x_range=[0, 10],\n",
    ")\n",
    "\n",
    "# Populate glyph\n",
    "p.line(t, s_pulse(t, 4.0, 2.0), line_width=2)\n",
    "\n",
    "# Show plot\n",
    "bokeh.io.show(p)"
   ]
  },
  {
   "cell_type": "markdown",
   "metadata": {},
   "source": [
    "The input time course has the desired pulsatile shape.\n",
    "\n",
    "If we want to solve the ODEs for a varying input, we need to have a way to pass a function defining the variation as a parameter. Fortunately, we can pass functions as arguments in Python. So, we write a new function for the right-hand-side of our ODE that takes `s_fun`, the function describing $s(t)$ as an argument, as well as `s_args`, the set of parameters passed into `s_fun`."
   ]
  },
  {
   "cell_type": "code",
   "execution_count": 20,
   "metadata": {},
   "outputs": [],
   "source": [
    "def neg_auto_rhs_s_fun(x, t, beta0, gamma, k, n, ks, ns, s_fun, s_args):\n",
    "    \"\"\"\n",
    "    Right hand side for negative autoregulation function, with s variable.\n",
    "    Returns dx/dt.\n",
    "    \n",
    "    s_fun is a function of the form s_fun(t, *s_args), so s_args is a tuple\n",
    "    containing the arguments to pass to s_fun.\n",
    "    \"\"\"\n",
    "    # Compute s\n",
    "    s = s_fun(t, *s_args)\n",
    "\n",
    "    # Plug in this value of s to the RHS of the negative autoregulation model\n",
    "    return neg_auto_rhs(x, t, beta0, gamma, k, n, ks, ns, s)"
   ]
  },
  {
   "cell_type": "markdown",
   "metadata": {},
   "source": [
    "Now that we have this new function in hand, we can numerically integrate our ODEs as we did before. We'll start with a pulse that is on from roughly $t=2$ to $t=6$, as above."
   ]
  },
  {
   "cell_type": "code",
   "execution_count": 21,
   "metadata": {},
   "outputs": [
    {
     "data": {
      "text/html": [
       "\n",
       "\n",
       "\n",
       "\n",
       "\n",
       "\n",
       "  <div class=\"bk-root\" id=\"8fbb82dc-07b5-498b-b1ca-f5d352a666cc\" data-root-id=\"2298\"></div>\n"
      ]
     },
     "metadata": {},
     "output_type": "display_data"
    },
    {
     "data": {
      "application/javascript": [
       "(function(root) {\n",
       "  function embed_document(root) {\n",
       "    \n",
       "  const docs_json = {\"5962c08e-d877-4a97-8edf-ba968729d26f\":{\"defs\":[],\"roots\":{\"references\":[{\"attributes\":{\"below\":[{\"id\":\"2307\"}],\"center\":[{\"id\":\"2310\"},{\"id\":\"2314\"},{\"id\":\"2346\"}],\"frame_height\":250,\"frame_width\":450,\"left\":[{\"id\":\"2311\"}],\"renderers\":[{\"id\":\"2333\"},{\"id\":\"2352\"}],\"title\":{\"id\":\"2335\"},\"toolbar\":{\"id\":\"2322\"},\"x_range\":{\"id\":\"2299\"},\"x_scale\":{\"id\":\"2303\"},\"y_range\":{\"id\":\"2301\"},\"y_scale\":{\"id\":\"2305\"}},\"id\":\"2298\",\"subtype\":\"Figure\",\"type\":\"Plot\"},{\"attributes\":{\"tools\":[{\"id\":\"2315\"},{\"id\":\"2316\"},{\"id\":\"2317\"},{\"id\":\"2318\"},{\"id\":\"2319\"},{\"id\":\"2320\"}]},\"id\":\"2322\",\"type\":\"Toolbar\"},{\"attributes\":{\"coordinates\":null,\"group\":null},\"id\":\"2335\",\"type\":\"Title\"},{\"attributes\":{},\"id\":\"2365\",\"type\":\"Selection\"},{\"attributes\":{},\"id\":\"2341\",\"type\":\"BasicTickFormatter\"},{\"attributes\":{},\"id\":\"2308\",\"type\":\"BasicTicker\"},{\"attributes\":{\"axis_label\":\"time\",\"coordinates\":null,\"formatter\":{\"id\":\"2341\"},\"group\":null,\"major_label_policy\":{\"id\":\"2342\"},\"ticker\":{\"id\":\"2308\"}},\"id\":\"2307\",\"type\":\"LinearAxis\"},{\"attributes\":{\"axis\":{\"id\":\"2307\"},\"coordinates\":null,\"group\":null,\"ticker\":null},\"id\":\"2310\",\"type\":\"Grid\"},{\"attributes\":{},\"id\":\"2301\",\"type\":\"DataRange1d\"},{\"attributes\":{\"overlay\":{\"id\":\"2321\"}},\"id\":\"2317\",\"type\":\"BoxZoomTool\"},{\"attributes\":{},\"id\":\"2315\",\"type\":\"PanTool\"},{\"attributes\":{},\"id\":\"2303\",\"type\":\"LinearScale\"},{\"attributes\":{},\"id\":\"2318\",\"type\":\"SaveTool\"},{\"attributes\":{},\"id\":\"2320\",\"type\":\"HelpTool\"},{\"attributes\":{},\"id\":\"2319\",\"type\":\"ResetTool\"},{\"attributes\":{},\"id\":\"2312\",\"type\":\"BasicTicker\"},{\"attributes\":{\"coordinates\":null,\"data_source\":{\"id\":\"2329\"},\"glyph\":{\"id\":\"2330\"},\"group\":null,\"hover_glyph\":null,\"muted_glyph\":{\"id\":\"2332\"},\"nonselection_glyph\":{\"id\":\"2331\"},\"view\":{\"id\":\"2334\"}},\"id\":\"2333\",\"type\":\"GlyphRenderer\"},{\"attributes\":{},\"id\":\"2339\",\"type\":\"AllLabels\"},{\"attributes\":{\"line_alpha\":0.1,\"line_color\":\"#1f77b3\",\"line_width\":2,\"x\":{\"field\":\"x\"},\"y\":{\"field\":\"y\"}},\"id\":\"2331\",\"type\":\"Line\"},{\"attributes\":{\"line_alpha\":0.2,\"line_color\":\"#1f77b3\",\"line_width\":2,\"x\":{\"field\":\"x\"},\"y\":{\"field\":\"y\"}},\"id\":\"2332\",\"type\":\"Line\"},{\"attributes\":{\"end\":10},\"id\":\"2299\",\"type\":\"Range1d\"},{\"attributes\":{\"bottom_units\":\"screen\",\"coordinates\":null,\"fill_alpha\":0.5,\"fill_color\":\"lightgrey\",\"group\":null,\"left_units\":\"screen\",\"level\":\"overlay\",\"line_alpha\":1.0,\"line_color\":\"black\",\"line_dash\":[4,4],\"line_width\":2,\"right_units\":\"screen\",\"syncable\":false,\"top_units\":\"screen\"},\"id\":\"2321\",\"type\":\"BoxAnnotation\"},{\"attributes\":{},\"id\":\"2342\",\"type\":\"AllLabels\"},{\"attributes\":{\"data\":{\"x\":{\"__ndarray__\":\"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\",\"dtype\":\"float64\",\"order\":\"little\",\"shape\":[200]},\"y\":{\"__ndarray__\":\"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\",\"dtype\":\"float64\",\"order\":\"little\",\"shape\":[200]}},\"selected\":{\"id\":\"2365\"},\"selection_policy\":{\"id\":\"2364\"}},\"id\":\"2348\",\"type\":\"ColumnDataSource\"},{\"attributes\":{\"data\":{\"x\":{\"__ndarray__\":\"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\",\"dtype\":\"float64\",\"order\":\"little\",\"shape\":[200]},\"y\":{\"__ndarray__\":\"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\",\"dtype\":\"float64\",\"order\":\"little\",\"shape\":[200]}},\"selected\":{\"id\":\"2344\"},\"selection_policy\":{\"id\":\"2343\"}},\"id\":\"2329\",\"type\":\"ColumnDataSource\"},{\"attributes\":{},\"id\":\"2305\",\"type\":\"LinearScale\"},{\"attributes\":{\"line_color\":\"#1f77b3\",\"line_width\":2,\"x\":{\"field\":\"x\"},\"y\":{\"field\":\"y\"}},\"id\":\"2330\",\"type\":\"Line\"},{\"attributes\":{\"line_color\":\"#ff7e0e\",\"line_width\":2,\"x\":{\"field\":\"x\"},\"y\":{\"field\":\"y\"}},\"id\":\"2349\",\"type\":\"Line\"},{\"attributes\":{},\"id\":\"2338\",\"type\":\"BasicTickFormatter\"},{\"attributes\":{\"source\":{\"id\":\"2329\"}},\"id\":\"2334\",\"type\":\"CDSView\"},{\"attributes\":{},\"id\":\"2343\",\"type\":\"UnionRenderers\"},{\"attributes\":{},\"id\":\"2364\",\"type\":\"UnionRenderers\"},{\"attributes\":{\"coordinates\":null,\"data_source\":{\"id\":\"2348\"},\"glyph\":{\"id\":\"2349\"},\"group\":null,\"hover_glyph\":null,\"muted_glyph\":{\"id\":\"2351\"},\"nonselection_glyph\":{\"id\":\"2350\"},\"view\":{\"id\":\"2353\"}},\"id\":\"2352\",\"type\":\"GlyphRenderer\"},{\"attributes\":{\"label\":{\"value\":\"s\"},\"renderers\":[{\"id\":\"2333\"}]},\"id\":\"2347\",\"type\":\"LegendItem\"},{\"attributes\":{\"coordinates\":null,\"group\":null,\"items\":[{\"id\":\"2347\"},{\"id\":\"2367\"}]},\"id\":\"2346\",\"type\":\"Legend\"},{\"attributes\":{\"axis\":{\"id\":\"2311\"},\"coordinates\":null,\"dimension\":1,\"group\":null,\"ticker\":null},\"id\":\"2314\",\"type\":\"Grid\"},{\"attributes\":{},\"id\":\"2344\",\"type\":\"Selection\"},{\"attributes\":{\"source\":{\"id\":\"2348\"}},\"id\":\"2353\",\"type\":\"CDSView\"},{\"attributes\":{\"axis_label\":\"normalized concentration\",\"coordinates\":null,\"formatter\":{\"id\":\"2338\"},\"group\":null,\"major_label_policy\":{\"id\":\"2339\"},\"ticker\":{\"id\":\"2312\"}},\"id\":\"2311\",\"type\":\"LinearAxis\"},{\"attributes\":{\"label\":{\"value\":\"x\"},\"renderers\":[{\"id\":\"2352\"}]},\"id\":\"2367\",\"type\":\"LegendItem\"},{\"attributes\":{\"line_alpha\":0.2,\"line_color\":\"#ff7e0e\",\"line_width\":2,\"x\":{\"field\":\"x\"},\"y\":{\"field\":\"y\"}},\"id\":\"2351\",\"type\":\"Line\"},{\"attributes\":{},\"id\":\"2316\",\"type\":\"WheelZoomTool\"},{\"attributes\":{\"line_alpha\":0.1,\"line_color\":\"#ff7e0e\",\"line_width\":2,\"x\":{\"field\":\"x\"},\"y\":{\"field\":\"y\"}},\"id\":\"2350\",\"type\":\"Line\"}],\"root_ids\":[\"2298\"]},\"title\":\"Bokeh Application\",\"version\":\"2.4.2\"}};\n",
       "  const render_items = [{\"docid\":\"5962c08e-d877-4a97-8edf-ba968729d26f\",\"root_ids\":[\"2298\"],\"roots\":{\"2298\":\"8fbb82dc-07b5-498b-b1ca-f5d352a666cc\"}}];\n",
       "  root.Bokeh.embed.embed_items_notebook(docs_json, render_items);\n",
       "\n",
       "  }\n",
       "  if (root.Bokeh !== undefined) {\n",
       "    embed_document(root);\n",
       "  } else {\n",
       "    let attempts = 0;\n",
       "    const timer = setInterval(function(root) {\n",
       "      if (root.Bokeh !== undefined) {\n",
       "        clearInterval(timer);\n",
       "        embed_document(root);\n",
       "      } else {\n",
       "        attempts++;\n",
       "        if (attempts > 100) {\n",
       "          clearInterval(timer);\n",
       "          console.log(\"Bokeh: ERROR: Unable to run BokehJS code because BokehJS library is missing\");\n",
       "        }\n",
       "      }\n",
       "    }, 10, root)\n",
       "  }\n",
       "})(window);"
      ],
      "application/vnd.bokehjs_exec.v0+json": ""
     },
     "metadata": {
      "application/vnd.bokehjs_exec.v0+json": {
       "id": "2298"
      }
     },
     "output_type": "display_data"
    }
   ],
   "source": [
    "# Set up parameters for the pulse\n",
    "s_args = (4.0, 2.0)\n",
    "\n",
    "# Package parameters into a tuple\n",
    "args = (beta0, gamma, k, n, ks, ns, s_pulse, s_args)\n",
    "\n",
    "# Integrate ODEs\n",
    "x = scipy.integrate.odeint(neg_auto_rhs_s_fun, x0, t, args=args).transpose()[0]\n",
    "\n",
    "# Plot the normalized values\n",
    "x /= x.max()\n",
    "\n",
    "# Also calculate the pulse for plotting purposes\n",
    "s = s_pulse(t, *s_args)\n",
    "\n",
    "# Plot the results\n",
    "p = bokeh.plotting.figure(\n",
    "    frame_width=450,\n",
    "    frame_height=250,\n",
    "    x_axis_label=\"time\",\n",
    "    y_axis_label=\"normalized concentration\",\n",
    "    x_range=[0, 10],\n",
    ")\n",
    "\n",
    "# Populate glyphs\n",
    "p.line(t, s, line_width=2, color=colors[0], legend_label=\"s\")\n",
    "p.line(t, x, line_width=2, color=colors[1], legend_label=\"x\")\n",
    "\n",
    "# Place the legend\n",
    "p.legend.location = \"top_right\"\n",
    "\n",
    "# Show plot\n",
    "bokeh.io.show(p)"
   ]
  },
  {
   "cell_type": "markdown",
   "metadata": {},
   "source": [
    "As expected, we see the qualitative result that $x$ does not turn on until the pulse of $s$ begins, and once $s$ stops, $x$ begins an exponential decay back down to zero. The specific quantitative details of the relationship between the $x$ trajectory and the $s$ pulse, such as the threshold value of $s$ where $x$ begins to turn on, are dependent on the specific parametrization of the system, such as the value of $k_s$.\n",
    "\n",
    "We now want to ask how the dynamics of $x$'s rise and fall compare to the unregulated case. In order to do this, we simply need to write another function that plots out the unregulated time course as an explicit function of $s$.\n",
    "\n",
    "The attentive reader might, at this point, raise an objection: How can we claim that the *unregulated* gene $x$ is nonetheless still governed by the presence or absence of this input signal $s$? Indeed, although an unregulated gene does not have any transcriptional activators or repressors that modulate its expression, all genes in an organism can always have their expression level be affected by higher-level factors such as the concentration of RNA polymerase or ribosomes, the global metabolic rate, or in the case of eukaryotic organisms, chromatin accessibility. So in this case we could imagine that our $s$ pulse represents a very simplified model of a scenario where a bacterium containing our gene is persisting in a nutrient-starved environment, where most of its genes have globally been turned off, and suddenly comes across a pulse of nutrients that allow it to transiently ramp up its metabolism and gene expression before returning to a starvation state when the nutrients disappear.\n",
    "\n",
    "Let's now put together a function that takes our unregulated ODE and converts it to a form that includes an explicit Hill-like $s$-dependence for the activation term, as in\n",
    "\n",
    "\\begin{align}\n",
    "\\frac{\\mathrm{d}x}{\\mathrm{d}t} = \\beta(s) - \\gamma x = \\beta_0\\, \\frac{(s/k_s)^{n_s}}{1 + (s/k_s)^{n_s}} - \\gamma x.\n",
    "\\end{align}"
   ]
  },
  {
   "cell_type": "code",
   "execution_count": 22,
   "metadata": {},
   "outputs": [],
   "source": [
    "def unreg_rhs(x, t, beta0, gamma, ks, ns, s):\n",
    "    \"\"\"\n",
    "    Right hand side for constitutive gene expression\n",
    "    modulated to only be active in the presence of s.\n",
    "    Returns dx/dt.\n",
    "    \"\"\"\n",
    "    return beta0 * (s / ks) ** ns / (1 + (s / ks) ** ns) - gamma * x\n",
    "\n",
    "\n",
    "def unreg_rhs_s_fun(x, t, beta0, gamma, ks, ns, s_fun, s_args):\n",
    "    \"\"\"\n",
    "    Right hand side for unregulated function, with s variable.\n",
    "    Returns dx/dt.\n",
    "    \n",
    "    s_fun is a function of the form s_fun(t, *s_args), so s_args is a tuple\n",
    "    containing the arguments to pass to s_fun.\n",
    "    \"\"\"\n",
    "    # Compute s\n",
    "    s = s_fun(t, *s_args)\n",
    "\n",
    "    # Plug in this value of s to the RHS of the negative autoregulation model\n",
    "    return unreg_rhs(x, t, beta0, gamma, ks, ns, s)"
   ]
  },
  {
   "cell_type": "markdown",
   "metadata": {},
   "source": [
    "We can now numerically solve the unregulated ODE and add it to the plot."
   ]
  },
  {
   "cell_type": "code",
   "execution_count": 23,
   "metadata": {},
   "outputs": [
    {
     "data": {
      "text/html": [
       "\n",
       "\n",
       "\n",
       "\n",
       "\n",
       "\n",
       "  <div class=\"bk-root\" id=\"436fe190-be01-4b2a-be5a-cd581b1c5c4a\" data-root-id=\"2298\"></div>\n"
      ]
     },
     "metadata": {},
     "output_type": "display_data"
    },
    {
     "data": {
      "application/javascript": [
       "(function(root) {\n",
       "  function embed_document(root) {\n",
       "    \n",
       "  const docs_json = {\"37f8da92-b718-41e8-b2bc-46b0ba6e1175\":{\"defs\":[],\"roots\":{\"references\":[{\"attributes\":{\"below\":[{\"id\":\"2307\"}],\"center\":[{\"id\":\"2310\"},{\"id\":\"2314\"},{\"id\":\"2346\"}],\"frame_height\":250,\"frame_width\":450,\"left\":[{\"id\":\"2311\"}],\"renderers\":[{\"id\":\"2333\"},{\"id\":\"2352\"},{\"id\":\"2546\"}],\"title\":{\"id\":\"2335\"},\"toolbar\":{\"id\":\"2322\"},\"x_range\":{\"id\":\"2299\"},\"x_scale\":{\"id\":\"2303\"},\"y_range\":{\"id\":\"2301\"},\"y_scale\":{\"id\":\"2305\"}},\"id\":\"2298\",\"subtype\":\"Figure\",\"type\":\"Plot\"},{\"attributes\":{\"tools\":[{\"id\":\"2315\"},{\"id\":\"2316\"},{\"id\":\"2317\"},{\"id\":\"2318\"},{\"id\":\"2319\"},{\"id\":\"2320\"}]},\"id\":\"2322\",\"type\":\"Toolbar\"},{\"attributes\":{\"line_alpha\":0.1,\"line_color\":\"#2ba02b\",\"line_width\":2,\"x\":{\"field\":\"x\"},\"y\":{\"field\":\"y\"}},\"id\":\"2544\",\"type\":\"Line\"},{\"attributes\":{},\"id\":\"2657\",\"type\":\"Selection\"},{\"attributes\":{\"data\":{\"x\":{\"__ndarray__\":\"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\",\"dtype\":\"float64\",\"order\":\"little\",\"shape\":[200]},\"y\":{\"__ndarray__\":\"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\",\"dtype\":\"float64\",\"order\":\"little\",\"shape\":[200]}},\"selected\":{\"id\":\"2657\"},\"selection_policy\":{\"id\":\"2656\"}},\"id\":\"2542\",\"type\":\"ColumnDataSource\"},{\"attributes\":{\"coordinates\":null,\"group\":null},\"id\":\"2335\",\"type\":\"Title\"},{\"attributes\":{},\"id\":\"2365\",\"type\":\"Selection\"},{\"attributes\":{},\"id\":\"2341\",\"type\":\"BasicTickFormatter\"},{\"attributes\":{},\"id\":\"2308\",\"type\":\"BasicTicker\"},{\"attributes\":{\"axis_label\":\"time\",\"coordinates\":null,\"formatter\":{\"id\":\"2341\"},\"group\":null,\"major_label_policy\":{\"id\":\"2342\"},\"ticker\":{\"id\":\"2308\"}},\"id\":\"2307\",\"type\":\"LinearAxis\"},{\"attributes\":{\"axis\":{\"id\":\"2307\"},\"coordinates\":null,\"group\":null,\"ticker\":null},\"id\":\"2310\",\"type\":\"Grid\"},{\"attributes\":{},\"id\":\"2301\",\"type\":\"DataRange1d\"},{\"attributes\":{\"overlay\":{\"id\":\"2321\"}},\"id\":\"2317\",\"type\":\"BoxZoomTool\"},{\"attributes\":{},\"id\":\"2315\",\"type\":\"PanTool\"},{\"attributes\":{},\"id\":\"2303\",\"type\":\"LinearScale\"},{\"attributes\":{},\"id\":\"2318\",\"type\":\"SaveTool\"},{\"attributes\":{},\"id\":\"2320\",\"type\":\"HelpTool\"},{\"attributes\":{},\"id\":\"2319\",\"type\":\"ResetTool\"},{\"attributes\":{},\"id\":\"2312\",\"type\":\"BasicTicker\"},{\"attributes\":{\"coordinates\":null,\"data_source\":{\"id\":\"2329\"},\"glyph\":{\"id\":\"2330\"},\"group\":null,\"hover_glyph\":null,\"muted_glyph\":{\"id\":\"2332\"},\"nonselection_glyph\":{\"id\":\"2331\"},\"view\":{\"id\":\"2334\"}},\"id\":\"2333\",\"type\":\"GlyphRenderer\"},{\"attributes\":{},\"id\":\"2339\",\"type\":\"AllLabels\"},{\"attributes\":{\"line_alpha\":0.1,\"line_color\":\"#1f77b3\",\"line_width\":2,\"x\":{\"field\":\"x\"},\"y\":{\"field\":\"y\"}},\"id\":\"2331\",\"type\":\"Line\"},{\"attributes\":{},\"id\":\"2656\",\"type\":\"UnionRenderers\"},{\"attributes\":{\"line_alpha\":0.2,\"line_color\":\"#1f77b3\",\"line_width\":2,\"x\":{\"field\":\"x\"},\"y\":{\"field\":\"y\"}},\"id\":\"2332\",\"type\":\"Line\"},{\"attributes\":{\"end\":10},\"id\":\"2299\",\"type\":\"Range1d\"},{\"attributes\":{\"bottom_units\":\"screen\",\"coordinates\":null,\"fill_alpha\":0.5,\"fill_color\":\"lightgrey\",\"group\":null,\"left_units\":\"screen\",\"level\":\"overlay\",\"line_alpha\":1.0,\"line_color\":\"black\",\"line_dash\":[4,4],\"line_width\":2,\"right_units\":\"screen\",\"syncable\":false,\"top_units\":\"screen\"},\"id\":\"2321\",\"type\":\"BoxAnnotation\"},{\"attributes\":{},\"id\":\"2342\",\"type\":\"AllLabels\"},{\"attributes\":{\"data\":{\"x\":{\"__ndarray__\":\"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\",\"dtype\":\"float64\",\"order\":\"little\",\"shape\":[200]},\"y\":{\"__ndarray__\":\"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\",\"dtype\":\"float64\",\"order\":\"little\",\"shape\":[200]}},\"selected\":{\"id\":\"2365\"},\"selection_policy\":{\"id\":\"2364\"}},\"id\":\"2348\",\"type\":\"ColumnDataSource\"},{\"attributes\":{\"line_alpha\":0.2,\"line_color\":\"#2ba02b\",\"line_width\":2,\"x\":{\"field\":\"x\"},\"y\":{\"field\":\"y\"}},\"id\":\"2545\",\"type\":\"Line\"},{\"attributes\":{\"data\":{\"x\":{\"__ndarray__\":\"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\",\"dtype\":\"float64\",\"order\":\"little\",\"shape\":[200]},\"y\":{\"__ndarray__\":\"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\",\"dtype\":\"float64\",\"order\":\"little\",\"shape\":[200]}},\"selected\":{\"id\":\"2344\"},\"selection_policy\":{\"id\":\"2343\"}},\"id\":\"2329\",\"type\":\"ColumnDataSource\"},{\"attributes\":{\"label\":{\"value\":\"unregulated x\"},\"renderers\":[{\"id\":\"2546\"}]},\"id\":\"2674\",\"type\":\"LegendItem\"},{\"attributes\":{\"coordinates\":null,\"data_source\":{\"id\":\"2542\"},\"glyph\":{\"id\":\"2543\"},\"group\":null,\"hover_glyph\":null,\"muted_glyph\":{\"id\":\"2545\"},\"nonselection_glyph\":{\"id\":\"2544\"},\"view\":{\"id\":\"2547\"}},\"id\":\"2546\",\"type\":\"GlyphRenderer\"},{\"attributes\":{},\"id\":\"2305\",\"type\":\"LinearScale\"},{\"attributes\":{\"line_color\":\"#1f77b3\",\"line_width\":2,\"x\":{\"field\":\"x\"},\"y\":{\"field\":\"y\"}},\"id\":\"2330\",\"type\":\"Line\"},{\"attributes\":{\"line_color\":\"#ff7e0e\",\"line_width\":2,\"x\":{\"field\":\"x\"},\"y\":{\"field\":\"y\"}},\"id\":\"2349\",\"type\":\"Line\"},{\"attributes\":{},\"id\":\"2338\",\"type\":\"BasicTickFormatter\"},{\"attributes\":{\"source\":{\"id\":\"2329\"}},\"id\":\"2334\",\"type\":\"CDSView\"},{\"attributes\":{},\"id\":\"2343\",\"type\":\"UnionRenderers\"},{\"attributes\":{},\"id\":\"2364\",\"type\":\"UnionRenderers\"},{\"attributes\":{\"line_color\":\"#2ba02b\",\"line_width\":2,\"x\":{\"field\":\"x\"},\"y\":{\"field\":\"y\"}},\"id\":\"2543\",\"type\":\"Line\"},{\"attributes\":{\"coordinates\":null,\"data_source\":{\"id\":\"2348\"},\"glyph\":{\"id\":\"2349\"},\"group\":null,\"hover_glyph\":null,\"muted_glyph\":{\"id\":\"2351\"},\"nonselection_glyph\":{\"id\":\"2350\"},\"view\":{\"id\":\"2353\"}},\"id\":\"2352\",\"type\":\"GlyphRenderer\"},{\"attributes\":{\"label\":{\"value\":\"s\"},\"renderers\":[{\"id\":\"2333\"}]},\"id\":\"2347\",\"type\":\"LegendItem\"},{\"attributes\":{\"coordinates\":null,\"group\":null,\"items\":[{\"id\":\"2347\"},{\"id\":\"2367\"},{\"id\":\"2674\"}]},\"id\":\"2346\",\"type\":\"Legend\"},{\"attributes\":{\"source\":{\"id\":\"2542\"}},\"id\":\"2547\",\"type\":\"CDSView\"},{\"attributes\":{\"axis\":{\"id\":\"2311\"},\"coordinates\":null,\"dimension\":1,\"group\":null,\"ticker\":null},\"id\":\"2314\",\"type\":\"Grid\"},{\"attributes\":{},\"id\":\"2344\",\"type\":\"Selection\"},{\"attributes\":{\"source\":{\"id\":\"2348\"}},\"id\":\"2353\",\"type\":\"CDSView\"},{\"attributes\":{\"axis_label\":\"normalized concentration\",\"coordinates\":null,\"formatter\":{\"id\":\"2338\"},\"group\":null,\"major_label_policy\":{\"id\":\"2339\"},\"ticker\":{\"id\":\"2312\"}},\"id\":\"2311\",\"type\":\"LinearAxis\"},{\"attributes\":{\"label\":{\"value\":\"x\"},\"renderers\":[{\"id\":\"2352\"}]},\"id\":\"2367\",\"type\":\"LegendItem\"},{\"attributes\":{\"line_alpha\":0.2,\"line_color\":\"#ff7e0e\",\"line_width\":2,\"x\":{\"field\":\"x\"},\"y\":{\"field\":\"y\"}},\"id\":\"2351\",\"type\":\"Line\"},{\"attributes\":{},\"id\":\"2316\",\"type\":\"WheelZoomTool\"},{\"attributes\":{\"line_alpha\":0.1,\"line_color\":\"#ff7e0e\",\"line_width\":2,\"x\":{\"field\":\"x\"},\"y\":{\"field\":\"y\"}},\"id\":\"2350\",\"type\":\"Line\"}],\"root_ids\":[\"2298\"]},\"title\":\"Bokeh Application\",\"version\":\"2.4.2\"}};\n",
       "  const render_items = [{\"docid\":\"37f8da92-b718-41e8-b2bc-46b0ba6e1175\",\"root_ids\":[\"2298\"],\"roots\":{\"2298\":\"436fe190-be01-4b2a-be5a-cd581b1c5c4a\"}}];\n",
       "  root.Bokeh.embed.embed_items_notebook(docs_json, render_items);\n",
       "\n",
       "  }\n",
       "  if (root.Bokeh !== undefined) {\n",
       "    embed_document(root);\n",
       "  } else {\n",
       "    let attempts = 0;\n",
       "    const timer = setInterval(function(root) {\n",
       "      if (root.Bokeh !== undefined) {\n",
       "        clearInterval(timer);\n",
       "        embed_document(root);\n",
       "      } else {\n",
       "        attempts++;\n",
       "        if (attempts > 100) {\n",
       "          clearInterval(timer);\n",
       "          console.log(\"Bokeh: ERROR: Unable to run BokehJS code because BokehJS library is missing\");\n",
       "        }\n",
       "      }\n",
       "    }, 10, root)\n",
       "  }\n",
       "})(window);"
      ],
      "application/vnd.bokehjs_exec.v0+json": ""
     },
     "metadata": {
      "application/vnd.bokehjs_exec.v0+json": {
       "id": "2298"
      }
     },
     "output_type": "display_data"
    }
   ],
   "source": [
    "# Package parameters into a tuple\n",
    "args_unreg = (beta0, gamma, ks, ns, s_pulse, s_args)\n",
    "\n",
    "# Integrate ODEs\n",
    "x_unreg = scipy.integrate.odeint(unreg_rhs_s_fun, x0, t, args=args_unreg).transpose()[0]\n",
    "\n",
    "# Normalize\n",
    "x_unreg /= x_unreg.max()\n",
    "\n",
    "# Add to the plot\n",
    "p.line(t, x_unreg, line_width=2, color=colors[2], legend_label=\"unregulated x\")\n",
    "\n",
    "# Show plot\n",
    "bokeh.io.show(p)"
   ]
  },
  {
   "cell_type": "markdown",
   "metadata": {},
   "source": [
    "We can see from the above plot that although negative autoregulation speeds up the rise time of the gene's expression in response to the appearance of stimulus, it has no impact on the speed of the fall time in response to the disappearance of the stimulus. We actually could have known this result would occur just from looking at the equations governing the gene's dynamics: recall that in the regulated case, $x$ is governed by\n",
    "\n",
    "\\begin{align}\n",
    "\\frac{\\mathrm{d}x}{\\mathrm{d}t}=\\frac{\\beta(s)}{(1+x/k)^n} - \\gamma x,\n",
    "\\end{align}\n",
    "\n",
    "while in the unregulated case, $x$ is governed by\n",
    "\n",
    "\\begin{align}\n",
    "\\frac{\\mathrm{d}x}{\\mathrm{d}t}=\\beta(s) - \\gamma x.\n",
    "\\end{align}\n",
    "\n",
    "If we set $\\beta(s)=0$, then both ODEs become the same expression,\n",
    "\n",
    "\\begin{align}\n",
    "\\left.\\frac{\\mathrm{d}x}{\\mathrm{d}t}\\right\\vert_{\\beta(s)=0}=- \\gamma x,\n",
    "\\end{align}\n",
    "\n",
    "meaning that the dynamics of the fall in gene expression will become identical between the two systems as $\\beta(s)$ approaches $0$.\n",
    "\n",
    "Although we have now convincingly demonstrated that it is possible for negative autoregulation to speed the response time of a gene's expression, we don't yet have a clear understanding of how the values of the parameters themselves, particularly $k$ and $n$, will affect the magnitude of this speed-up. In order to help gain some insight into these effects, we will turn to the power of interactive plotting."
   ]
  },
  {
   "cell_type": "markdown",
   "metadata": {},
   "source": [
    "## Interactive plotting and varying parameters\n",
    "\n",
    "Plotting with Bokeh in Jupyter notebooks allows for interactivity with plots that can help to rapidly gain insights about how parameter values might affect the dynamics. We have found that this is a useful tool to rapidly explore parameter dependence on circuit behavior.\n",
    "\n",
    "To make an interactive plot in Bokeh, there are three major components.\n",
    "\n",
    "1. The plot or plots themselves.\n",
    "2. The **widgets**. Widgets for parameter values are primarily sliders, which enable you to vary parameter values by clicking and dragging. We will also make use of other widgets such as toggle, radio buttons, and drop menus throughout the book.\n",
    "3. The **callback function**. This is a function that is executed whenever a widget changes value. Most of the time, we use it to update a ColumnDataSource of a plot. You may have more than one callback functions for different widgets and also for changes in the range of the axis of the plot due to zooming.\n",
    "4. The **layout**. This is the spatial arrangement of the plots and widgets.\n",
    "5. The **app**. Bokeh will create an application that can be embedded in a notebook or serves as its own page in a browser. To create, it you need to make a simple function that adds the layout you built to the document that Bokeh will make into an app. (This sounds a lot more complicated than it is; see the example below.)\n",
    "\n",
    "We refer to a plot or set of plots with widgets for interactivity as a **dashboard**.\n",
    "\n",
    "<div class=\"alert alert-info\">\n",
    "\n",
    "Note \n",
    "\n",
    "The excellent package [Panel](https://panel.holoviz.org) allows for more declarative (and hence fewer lines of code) means of dashboarding (with dashboards ultimately being rendered, if desired, with Bokeh) and we encourage you to explore it. We however choose to use base Bokeh for interactive plotting in this book for a few reasons because it offers greater flexibility and performance, allows for convenient JavaScript integration (which is necessary for many of the interactive plots to work in the static HTML rendering of this book), and it is not *that* much more effort to code up dashboards in base Bokeh than in Panel.\n",
    " \n",
    "</div>"
   ]
  },
  {
   "cell_type": "markdown",
   "metadata": {},
   "source": [
    "### A simple example: Varying the properties of the input signal\n",
    "\n",
    "To demonstrate dashboard construction, we will first build a simple example that lets you interactively change the properties of the input signal's time course, without incorporating it into the ODE model just yet."
   ]
  },
  {
   "cell_type": "markdown",
   "metadata": {},
   "source": [
    "#### Step 1: Generate the plot (but don't show it)\n",
    "\n",
    "First, we will generate the plot. When we generate the plot, we specify the data in a `ColumnDataSource` so that we can change the data in the plot without re-rendering it.\n",
    "\n",
    "We cannot show the plot here, since we will show it in the app. A Bokeh plot can only be in a single document, in our case the app (which as far as Bokeh is concerned is separate from showing it in the JupyterLab cell below)."
   ]
  },
  {
   "cell_type": "code",
   "execution_count": 24,
   "metadata": {},
   "outputs": [],
   "source": [
    "# t/s data for plotting\n",
    "t_0 = 4.0\n",
    "tau = 2.0\n",
    "t = np.linspace(0, 10, 200)\n",
    "s = np.exp(-4 * (t - t_0) ** 2 / tau ** 2)\n",
    "\n",
    "# Place the data in a ColumnDataSource\n",
    "cds = bokeh.models.ColumnDataSource(dict(t=t, s=s))\n",
    "\n",
    "# Build the plot\n",
    "p = bokeh.plotting.figure(\n",
    "    frame_height=200,\n",
    "    frame_width=400,\n",
    "    x_axis_label=\"time\",\n",
    "    y_axis_label=\"input signal\",\n",
    "    x_range=[0, 10],\n",
    "    y_range=[0, 1.1],\n",
    ")\n",
    "p.line(source=cds, x=\"t\", y=\"s\", line_width=2);"
   ]
  },
  {
   "cell_type": "markdown",
   "metadata": {},
   "source": [
    "#### Step 2: Make the widgets\n",
    "\n",
    "Now we will make our widget, in this case two sliders to represent the values $t_0$ and $\\tau$ parameters."
   ]
  },
  {
   "cell_type": "code",
   "execution_count": 25,
   "metadata": {},
   "outputs": [],
   "source": [
    "t0_slider = bokeh.models.Slider(\n",
    "    title=\"t0\", start=0, end=10, step=0.01, value=4.0, width=150\n",
    ")\n",
    "tau_slider = bokeh.models.Slider(\n",
    "    title=\"tau\", start=0, end=10, step=0.01, value=2.0, width=150\n",
    ")"
   ]
  },
  {
   "cell_type": "markdown",
   "metadata": {},
   "source": [
    "The sliders are instantiated using `bokeh.models.Slider()`, with keyword arguments whose meaning should be obvious from their names. The `value` attribute of the slider is the present value of the slider."
   ]
  },
  {
   "cell_type": "markdown",
   "metadata": {},
   "source": [
    "#### Step 3: Make the callbacks\n",
    "\n",
    "Next, we specify the callback function that will be used to update the plot as the slider changes. The callback function for a slider must take three arguments, the attribute that changes, its old value, and its new one. We will not directly use these arguments (though we could), but will rather directly read the value from the slider using its `value` attribute. Our callback function simply updates the `y` data values of the `ColumnDataSource`."
   ]
  },
  {
   "cell_type": "code",
   "execution_count": 26,
   "metadata": {},
   "outputs": [],
   "source": [
    "def callback(attr, old, new):\n",
    "    cds.data[\"s\"] = s_pulse(cds.data[\"t\"], t0_slider.value, tau_slider.value)"
   ]
  },
  {
   "cell_type": "markdown",
   "metadata": {},
   "source": [
    "Now, we need to alert Bokeh that it should trigger the callback function whenever the slider `value` changes.\n",
    "\n",
    "<div class=\"alert alert-warning\">\n",
    "\n",
    "Warning \n",
    "\n",
    "In the static HTML rendering of this notebook, the app will not be responsive. This is because the app needs a running Python engine for the interactivity, and no such engine is available in the browser. Also, Bokeh apps currently are not supported by Google Colab.\n",
    "    \n",
    "Therefore, in all chapters with Bokeh apps requiring Python, we have a variable `fully_interactive_plots`, which is set in the first code cell along with the imports. This is set to `False` for static HTML rendering. In this case we do not link the sliders to callbacks (since there is no Python engine), and disable the slider.\n",
    "\n",
    "In a later chapter, we will show how you can get interactivity in an HTML rendering of a notebook using JavaScript.\n",
    "       \n",
    "</div>"
   ]
  },
  {
   "cell_type": "code",
   "execution_count": 27,
   "metadata": {},
   "outputs": [],
   "source": [
    "if fully_interactive_plots:\n",
    "    t0_slider.on_change(\"value\", callback)\n",
    "    tau_slider.on_change(\"value\", callback)\n",
    "else:\n",
    "    t0_slider.disabled = True\n",
    "    tau_slider.disabled = True"
   ]
  },
  {
   "cell_type": "markdown",
   "metadata": {},
   "source": [
    "#### Step 4: Build the layout\n",
    "\n",
    "Now that we have a slider and a plot and have linked the data source of the plot to the slider, we can lay out the dashboard. We will put the sliders in a column next to the plot, putting a spacer in between."
   ]
  },
  {
   "cell_type": "code",
   "execution_count": 28,
   "metadata": {},
   "outputs": [],
   "source": [
    "layout = bokeh.layouts.row(\n",
    "    p, bokeh.models.Spacer(width=30), bokeh.layouts.column(t0_slider, tau_slider)\n",
    ")"
   ]
  },
  {
   "cell_type": "markdown",
   "metadata": {},
   "source": [
    "#### Step 5: Make the app\n",
    "\n",
    "Now we are ready to make a function to produce the app. The function needs to have call signature `app(doc)`, where `doc` represents the document that Bokeh will build into an app. The purpose of this function is to add the layout we have just build to the document."
   ]
  },
  {
   "cell_type": "code",
   "execution_count": 29,
   "metadata": {},
   "outputs": [],
   "source": [
    "def app(doc):\n",
    "    doc.add_root(layout)"
   ]
  },
  {
   "cell_type": "markdown",
   "metadata": {},
   "source": [
    "#### Step 6: Enjoy your interactive plot!\n",
    "\n",
    "And we are finally ready to see the app! When we call `bokeh.io.show()`, we pass the `app()` function as the first argument. We also need to use the `notebook_url` keyword argument to specify where the notebook is being hosted. This is usually `\"localhost:8888\"`, but the number may change (e.g., `8889` or `8890`). You can look in the navigation bar of your browser to make sure you get the right number. In this and all other chapters, we specify `notebook_url` in the first cell of the notebook along with the imports.\n",
    "\n",
    "<div class=\"alert alert-info\">\n",
    "\n",
    "Note \n",
    "\n",
    "In the static HTML rendering of this notebook, the app will not appear. This is because it is running a Python engine for the interactivity, and no such engine is available in the browser. In a later chapter, we will show how you can get interactivity in an HTML rendering of a notebook using JavaScript.\n",
    "    \n",
    "Also, Bokeh apps currently are not supported by Google Colab.\n",
    "       \n",
    "</div>"
   ]
  },
  {
   "cell_type": "code",
   "execution_count": 31,
   "metadata": {},
   "outputs": [
    {
     "data": {
      "text/html": [
       "\n",
       "\n",
       "\n",
       "\n",
       "\n",
       "\n",
       "  <div class=\"bk-root\" id=\"c9751b2e-4bd6-4d51-b3c5-5fb0255ce82c\" data-root-id=\"2903\"></div>\n"
      ]
     },
     "metadata": {},
     "output_type": "display_data"
    },
    {
     "data": {
      "application/javascript": [
       "(function(root) {\n",
       "  function embed_document(root) {\n",
       "    \n",
       "  const docs_json = {\"80de210f-48d7-4b9f-aeaf-24b0a58066fc\":{\"defs\":[],\"roots\":{\"references\":[{\"attributes\":{\"children\":[{\"id\":\"2862\"},{\"id\":\"2901\"},{\"id\":\"2902\"}]},\"id\":\"2903\",\"type\":\"Row\"},{\"attributes\":{\"source\":{\"id\":\"2861\"}},\"id\":\"2898\",\"type\":\"CDSView\"},{\"attributes\":{\"below\":[{\"id\":\"2871\"}],\"center\":[{\"id\":\"2874\"},{\"id\":\"2878\"}],\"frame_height\":200,\"frame_width\":400,\"left\":[{\"id\":\"2875\"}],\"renderers\":[{\"id\":\"2897\"}],\"title\":{\"id\":\"3015\"},\"toolbar\":{\"id\":\"2886\"},\"x_range\":{\"id\":\"2863\"},\"x_scale\":{\"id\":\"2867\"},\"y_range\":{\"id\":\"2865\"},\"y_scale\":{\"id\":\"2869\"}},\"id\":\"2862\",\"subtype\":\"Figure\",\"type\":\"Plot\"},{\"attributes\":{\"line_alpha\":0.2,\"line_color\":\"#1f77b4\",\"line_width\":2,\"x\":{\"field\":\"t\"},\"y\":{\"field\":\"s\"}},\"id\":\"2896\",\"type\":\"Line\"},{\"attributes\":{},\"id\":\"2879\",\"type\":\"PanTool\"},{\"attributes\":{},\"id\":\"3023\",\"type\":\"UnionRenderers\"},{\"attributes\":{\"axis\":{\"id\":\"2871\"},\"coordinates\":null,\"group\":null,\"ticker\":null},\"id\":\"2874\",\"type\":\"Grid\"},{\"attributes\":{\"overlay\":{\"id\":\"2885\"}},\"id\":\"2881\",\"type\":\"BoxZoomTool\"},{\"attributes\":{},\"id\":\"2872\",\"type\":\"BasicTicker\"},{\"attributes\":{\"end\":1.1},\"id\":\"2865\",\"type\":\"Range1d\"},{\"attributes\":{},\"id\":\"2869\",\"type\":\"LinearScale\"},{\"attributes\":{\"axis_label\":\"input signal\",\"coordinates\":null,\"formatter\":{\"id\":\"3018\"},\"group\":null,\"major_label_policy\":{\"id\":\"3019\"},\"ticker\":{\"id\":\"2876\"}},\"id\":\"2875\",\"type\":\"LinearAxis\"},{\"attributes\":{\"axis_label\":\"time\",\"coordinates\":null,\"formatter\":{\"id\":\"3021\"},\"group\":null,\"major_label_policy\":{\"id\":\"3022\"},\"ticker\":{\"id\":\"2872\"}},\"id\":\"2871\",\"type\":\"LinearAxis\"},{\"attributes\":{\"tools\":[{\"id\":\"2879\"},{\"id\":\"2880\"},{\"id\":\"2881\"},{\"id\":\"2882\"},{\"id\":\"2883\"},{\"id\":\"2884\"}]},\"id\":\"2886\",\"type\":\"Toolbar\"},{\"attributes\":{\"line_color\":\"#1f77b4\",\"line_width\":2,\"x\":{\"field\":\"t\"},\"y\":{\"field\":\"s\"}},\"id\":\"2894\",\"type\":\"Line\"},{\"attributes\":{\"end\":10},\"id\":\"2863\",\"type\":\"Range1d\"},{\"attributes\":{},\"id\":\"2880\",\"type\":\"WheelZoomTool\"},{\"attributes\":{},\"id\":\"2882\",\"type\":\"SaveTool\"},{\"attributes\":{\"axis\":{\"id\":\"2875\"},\"coordinates\":null,\"dimension\":1,\"group\":null,\"ticker\":null},\"id\":\"2878\",\"type\":\"Grid\"},{\"attributes\":{},\"id\":\"2883\",\"type\":\"ResetTool\"},{\"attributes\":{},\"id\":\"2876\",\"type\":\"BasicTicker\"},{\"attributes\":{},\"id\":\"3019\",\"type\":\"AllLabels\"},{\"attributes\":{\"bottom_units\":\"screen\",\"coordinates\":null,\"fill_alpha\":0.5,\"fill_color\":\"lightgrey\",\"group\":null,\"left_units\":\"screen\",\"level\":\"overlay\",\"line_alpha\":1.0,\"line_color\":\"black\",\"line_dash\":[4,4],\"line_width\":2,\"right_units\":\"screen\",\"syncable\":false,\"top_units\":\"screen\"},\"id\":\"2885\",\"type\":\"BoxAnnotation\"},{\"attributes\":{\"disabled\":true,\"end\":10,\"start\":0,\"step\":0.01,\"title\":\"tau\",\"value\":2.0,\"width\":150},\"id\":\"2900\",\"type\":\"Slider\"},{\"attributes\":{\"data\":{\"s\":{\"__ndarray__\":\"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\",\"dtype\":\"float64\",\"order\":\"little\",\"shape\":[200]},\"t\":{\"__ndarray__\":\"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\",\"dtype\":\"float64\",\"order\":\"little\",\"shape\":[200]}},\"selected\":{\"id\":\"3024\"},\"selection_policy\":{\"id\":\"3023\"}},\"id\":\"2861\",\"type\":\"ColumnDataSource\"},{\"attributes\":{\"line_alpha\":0.1,\"line_color\":\"#1f77b4\",\"line_width\":2,\"x\":{\"field\":\"t\"},\"y\":{\"field\":\"s\"}},\"id\":\"2895\",\"type\":\"Line\"},{\"attributes\":{},\"id\":\"2867\",\"type\":\"LinearScale\"},{\"attributes\":{},\"id\":\"3021\",\"type\":\"BasicTickFormatter\"},{\"attributes\":{\"width\":30},\"id\":\"2901\",\"type\":\"Spacer\"},{\"attributes\":{},\"id\":\"2884\",\"type\":\"HelpTool\"},{\"attributes\":{\"coordinates\":null,\"data_source\":{\"id\":\"2861\"},\"glyph\":{\"id\":\"2894\"},\"group\":null,\"hover_glyph\":null,\"muted_glyph\":{\"id\":\"2896\"},\"nonselection_glyph\":{\"id\":\"2895\"},\"view\":{\"id\":\"2898\"}},\"id\":\"2897\",\"type\":\"GlyphRenderer\"},{\"attributes\":{},\"id\":\"3024\",\"type\":\"Selection\"},{\"attributes\":{},\"id\":\"3022\",\"type\":\"AllLabels\"},{\"attributes\":{\"children\":[{\"id\":\"2899\"},{\"id\":\"2900\"}]},\"id\":\"2902\",\"type\":\"Column\"},{\"attributes\":{\"disabled\":true,\"end\":10,\"start\":0,\"step\":0.01,\"title\":\"t0\",\"value\":4.0,\"width\":150},\"id\":\"2899\",\"type\":\"Slider\"},{\"attributes\":{},\"id\":\"3018\",\"type\":\"BasicTickFormatter\"},{\"attributes\":{\"coordinates\":null,\"group\":null},\"id\":\"3015\",\"type\":\"Title\"}],\"root_ids\":[\"2903\"]},\"title\":\"Bokeh Application\",\"version\":\"2.4.2\"}};\n",
       "  const render_items = [{\"docid\":\"80de210f-48d7-4b9f-aeaf-24b0a58066fc\",\"root_ids\":[\"2903\"],\"roots\":{\"2903\":\"c9751b2e-4bd6-4d51-b3c5-5fb0255ce82c\"}}];\n",
       "  root.Bokeh.embed.embed_items_notebook(docs_json, render_items);\n",
       "\n",
       "  }\n",
       "  if (root.Bokeh !== undefined) {\n",
       "    embed_document(root);\n",
       "  } else {\n",
       "    let attempts = 0;\n",
       "    const timer = setInterval(function(root) {\n",
       "      if (root.Bokeh !== undefined) {\n",
       "        clearInterval(timer);\n",
       "        embed_document(root);\n",
       "      } else {\n",
       "        attempts++;\n",
       "        if (attempts > 100) {\n",
       "          clearInterval(timer);\n",
       "          console.log(\"Bokeh: ERROR: Unable to run BokehJS code because BokehJS library is missing\");\n",
       "        }\n",
       "      }\n",
       "    }, 10, root)\n",
       "  }\n",
       "})(window);"
      ],
      "application/vnd.bokehjs_exec.v0+json": ""
     },
     "metadata": {
      "application/vnd.bokehjs_exec.v0+json": {
       "id": "2903"
      }
     },
     "output_type": "display_data"
    }
   ],
   "source": [
    "if fully_interactive_plots:\n",
    "    bokeh.io.show(app, notebook_url=notebook_url)\n",
    "else:\n",
    "    bokeh.io.show(layout)"
   ]
  },
  {
   "cell_type": "markdown",
   "metadata": {},
   "source": [
    "#### Serving an app\n",
    "\n",
    "If you wanted to have a stand-alone interactive plot on its own browser tab, you can put all of the code necessary to generate it in a single `.py` file and then serve it from the command line. For this example, we could have a file `pulse_signal.py` with the following contents.\n",
    "\n",
    "```python\n",
    "import numpy as np\n",
    "import bokeh.plotting\n",
    "import bokeh.models\n",
    "\n",
    "\n",
    "def s_pulse(t, t_0, tau):\n",
    "    \"\"\"\n",
    "    Returns s value for a pulse centered at t_0 with duration tau.\n",
    "    \"\"\"\n",
    "    # Return 0 is tau is zero, otherwise Gaussian\n",
    "    return 0 if tau == 0 else np.exp(-4 * (t - t_0) ** 2 / tau ** 2)\n",
    "\n",
    "\n",
    "# t/s data for plotting\n",
    "t_0 = 4.0\n",
    "tau = 2.0\n",
    "t = np.linspace(0, 10, 200)\n",
    "s = np.exp(-4 * (t - t_0) ** 2 / tau ** 2)\n",
    "\n",
    "# Place the data in a ColumnDataSource\n",
    "cds = bokeh.models.ColumnDataSource(dict(t=t, s=s))\n",
    "\n",
    "# Build the plot\n",
    "p = bokeh.plotting.figure(\n",
    "    frame_height=200,\n",
    "    frame_width=400,\n",
    "    x_axis_label=\"time\",\n",
    "    y_axis_label=\"input signal\",\n",
    "    x_range=[0, 10],\n",
    "    y_range=[0, 1.1],\n",
    ")\n",
    "p.line(source=cds, x=\"t\", y=\"s\", line_width=2)\n",
    "\n",
    "t0_slider = bokeh.models.Slider(\n",
    "    title=\"t0\", start=0, end=10, step=0.01, value=4.0, width=150\n",
    ")\n",
    "tau_slider = bokeh.models.Slider(\n",
    "    title=\"tau\", start=0, end=10, step=0.01, value=2.0, width=150\n",
    ")\n",
    "\n",
    "def callback(attr, old, new):\n",
    "    cds.data[\"s\"] = s_pulse(cds.data[\"t\"], t0_slider.value, tau_slider.value)\n",
    "\n",
    "t0_slider.on_change(\"value\", callback)\n",
    "tau_slider.on_change(\"value\", callback)\n",
    "\n",
    "layout = bokeh.layouts.row(\n",
    "    p, bokeh.models.Spacer(width=30), bokeh.layouts.column(t0_slider, tau_slider)\n",
    ")\n",
    "\n",
    "def app(doc):\n",
    "    doc.add_root(layout)\n",
    "    \n",
    "# Build the app in the current doc\n",
    "app(bokeh.plotting.curdoc())\n",
    "```\n",
    "\n",
    "After saving that file, you can serve it be doing the following on the command line.\n",
    "\n",
    "```bash\n",
    "bokeh serve --show s_pulse.py\n",
    "```"
   ]
  },
  {
   "cell_type": "markdown",
   "metadata": {},
   "source": [
    "### An app for the negative autoregulation model\n",
    "\n",
    "Now that we have gained some familiarity with interactive plotting via Bokeh, we will make a dashboard to allow us to interactively explore the negative autoregulation model. To do so, we will incorporate scipy's ODE integration into the plotting function itself, and we will also demonstrate how to create a button that can toggle a categorical property (like normalization of the results)."
   ]
  },
  {
   "cell_type": "markdown",
   "metadata": {},
   "source": [
    "#### Step 1: Build the plot\n",
    "\n",
    "We will build the plot as before. We will initially have it contain the parameters we have been using."
   ]
  },
  {
   "cell_type": "code",
   "execution_count": 32,
   "metadata": {},
   "outputs": [],
   "source": [
    "# Integrate ODE\n",
    "x = scipy.integrate.odeint(neg_auto_rhs_s_fun, x0, t, args=args)\n",
    "x = x.transpose()[0]\n",
    "x_unreg = scipy.integrate.odeint(unreg_rhs_s_fun, x0, t, args=args_unreg)\n",
    "x_unreg = x_unreg.transpose()[0]\n",
    "\n",
    "# also calculate the input\n",
    "s = s_pulse(t, *s_args)\n",
    "\n",
    "# Normalize time courses\n",
    "x /= x.max()\n",
    "x_unreg /= x_unreg.max()\n",
    "\n",
    "# set up the column data source\n",
    "cds = bokeh.models.ColumnDataSource(dict(t=t, x=x, s=s, x_unreg=x_unreg))\n",
    "\n",
    "# set up plot\n",
    "p = bokeh.plotting.figure(\n",
    "    frame_width=375,\n",
    "    frame_height=250,\n",
    "    x_axis_label=\"time\",\n",
    "    y_axis_label=\"normalized concentration\",\n",
    "    x_range=[t.min(), t.max()],\n",
    ")\n",
    "\n",
    "# Populate glyphs\n",
    "p.line(source=cds, x=\"t\", y=\"x\", line_width=2, color=colors[1], legend_label=\"x neg. auto.\")\n",
    "p.line(source=cds, x=\"t\", y=\"x_unreg\", line_width=2, color=colors[2], legend_label=\"x unreg.\")\n",
    "p.line(source=cds, x=\"t\", y=\"s\", line_width=2, color=colors[0], legend_label=\"s\")\n",
    "\n",
    "# Place the legend\n",
    "p.legend.location = \"top_left\""
   ]
  },
  {
   "cell_type": "markdown",
   "metadata": {},
   "source": [
    "#### Step 2: Build the widgets\n",
    "\n",
    "Now we will build our sliders, one for each parameter. We are interested in varying the parameters $\\beta$, $\\gamma$, and $x_0$ on a logarithmic scale, so we will set up the sliders to specify $\\log_{10} \\beta$, $\\log_{10}\\gamma$ and $\\log_{10} x_0$."
   ]
  },
  {
   "cell_type": "code",
   "execution_count": 33,
   "metadata": {},
   "outputs": [],
   "source": [
    "log_beta0_slider = bokeh.models.Slider(\n",
    "    title=\"log₁₀ β₀\", start=-1, end=2, step=0.1, value=np.log10(beta0), width=150\n",
    ")\n",
    "log_gamma_slider = bokeh.models.Slider(\n",
    "    title=\"log₁₀ γ\", start=-1, end=2, step=0.1, value=np.log10(gamma), width=150\n",
    ")\n",
    "log_k_slider = bokeh.models.Slider(\n",
    "    title=\"log₁₀ k\", start=-1, end=2, step=0.1, value=np.log10(k), width=150\n",
    ")\n",
    "n_slider = bokeh.models.Slider(\n",
    "    title=\"n\", start=0.1, end=10, step=0.1, value=2, width=150\n",
    ")\n",
    "log_ks_slider = bokeh.models.Slider(\n",
    "    title=\"log₁₀ kₛ\", start=-2, end=2, step=0.1, value=np.log10(ks), width=150\n",
    ")\n",
    "ns_slider = bokeh.models.Slider(\n",
    "    title=\"nₛ\", start=0.1, end=10, step=0.1, value=10, width=150\n",
    ")\n",
    "t0_slider = bokeh.models.Slider(\n",
    "    title=\"t₀\", start=0.01, end=10, step=0.01, value=4.0, width=150\n",
    ")\n",
    "tau_slider = bokeh.models.Slider(\n",
    "    title=\"τ\", start=0.01, end=10, step=0.01, value=2.0, width=150\n",
    ")"
   ]
  },
  {
   "cell_type": "markdown",
   "metadata": {},
   "source": [
    "We also want to be able to toggle between display of normalized versus unnormalized responses. We can make a toggle button for that."
   ]
  },
  {
   "cell_type": "code",
   "execution_count": 34,
   "metadata": {},
   "outputs": [],
   "source": [
    "normalize_toggle = bokeh.models.Toggle(label='Normalize', active=True, width=50)"
   ]
  },
  {
   "cell_type": "markdown",
   "metadata": {},
   "source": [
    "Finally, the legend may occasionally get in the way, so we want to toggle its visibility."
   ]
  },
  {
   "cell_type": "code",
   "execution_count": 35,
   "metadata": {},
   "outputs": [],
   "source": [
    "legend_toggle = bokeh.models.Toggle(label='Legend', active=True, width=50)"
   ]
  },
  {
   "cell_type": "markdown",
   "metadata": {},
   "source": [
    "#### Step 3: Build the callbacks\n",
    "\n",
    "We can now build our callback. This callback will be a bit more complicated. For each new slider value, we need to re-integrate the dynamical equations. We also need to check to see if the normalization toggle button is clicked and appropriately scale the data and change the y-axis label. We also will need to recalculate the result if the range of the time axis changes, so we need to read the time points off of the `x_range` property of the plot."
   ]
  },
  {
   "cell_type": "code",
   "execution_count": 36,
   "metadata": {},
   "outputs": [],
   "source": [
    "def neg_auto_callback(attr, old, new):\n",
    "    # Set up time values, keeping minimum at zero\n",
    "    t = np.linspace(0, p.x_range.end, 2000)\n",
    "\n",
    "    # Package slider values\n",
    "    s_args = (t0_slider.value, tau_slider.value)\n",
    "    args = (\n",
    "        10 ** log_beta0_slider.value,\n",
    "        10 ** log_gamma_slider.value,\n",
    "        10 ** log_k_slider.value,\n",
    "        n_slider.value,\n",
    "        10 ** log_ks_slider.value,\n",
    "        ns_slider.value,\n",
    "        s_pulse,\n",
    "        s_args,\n",
    "    )\n",
    "    args_unreg = (\n",
    "        10 ** log_beta0_slider.value,\n",
    "        10 ** log_gamma_slider.value,\n",
    "        10 ** log_ks_slider.value,\n",
    "        ns_slider.value,\n",
    "        s_pulse,\n",
    "        s_args,\n",
    "    )\n",
    "\n",
    "    # Integrate ODES\n",
    "    x = scipy.integrate.odeint(neg_auto_rhs_s_fun, x0, t, args=args)\n",
    "    x = x.transpose()[0]\n",
    "    x_unreg = scipy.integrate.odeint(unreg_rhs_s_fun, x0, t, args=args_unreg)\n",
    "    x_unreg = x_unreg.transpose()[0]\n",
    "\n",
    "    # Also calculate the input\n",
    "    s = s_pulse(t, *s_args)\n",
    "\n",
    "    # Normalize if desired\n",
    "    if normalize_toggle.active:\n",
    "        if x.max() > 0:\n",
    "            x /= x.max()\n",
    "        if x_unreg.max() > 0:\n",
    "            x_unreg /= x_unreg.max()\n",
    "        p.yaxis.axis_label = \"normalized concentration\"\n",
    "    else:\n",
    "        p.yaxis.axis_label = \"concentration\"\n",
    "\n",
    "    # Show or hide legend\n",
    "    if legend_toggle.active:\n",
    "        p.legend.visible = True\n",
    "    else:\n",
    "        p.legend.visible = False\n",
    "        \n",
    "    # Update data source\n",
    "    cds.data = dict(t=t, x=x, s=s, x_unreg=x_unreg)"
   ]
  },
  {
   "cell_type": "markdown",
   "metadata": {},
   "source": [
    "Now we link the callback to the sliders, and also to the normalization toggle and the range of the time axis."
   ]
  },
  {
   "cell_type": "code",
   "execution_count": 37,
   "metadata": {},
   "outputs": [],
   "source": [
    "if fully_interactive_plots:\n",
    "    log_beta0_slider.on_change(\"value\", neg_auto_callback)\n",
    "    log_gamma_slider.on_change(\"value\", neg_auto_callback)\n",
    "    log_k_slider.on_change(\"value\", neg_auto_callback)\n",
    "    n_slider.on_change(\"value\", neg_auto_callback)\n",
    "    log_ks_slider.on_change(\"value\", neg_auto_callback)\n",
    "    ns_slider.on_change(\"value\", neg_auto_callback)\n",
    "    t0_slider.on_change(\"value\", neg_auto_callback)\n",
    "    tau_slider.on_change(\"value\", neg_auto_callback)\n",
    "    normalize_toggle.on_change(\"active\", neg_auto_callback)\n",
    "    legend_toggle.on_change(\"active\", neg_auto_callback)\n",
    "    p.x_range.on_change(\"end\", neg_auto_callback)\n",
    "else:\n",
    "    log_beta0_slider.disabled = True\n",
    "    log_gamma_slider.disabled = True\n",
    "    log_k_slider.disabled = True\n",
    "    n_slider.disabled = True\n",
    "    log_ks_slider.disabled = True\n",
    "    ns_slider.disabled = True\n",
    "    t0_slider.disabled = True\n",
    "    tau_slider.disabled = True\n",
    "    normalize_toggle.disabled = True\n",
    "    legend_toggle.disabled = True"
   ]
  },
  {
   "cell_type": "markdown",
   "metadata": {},
   "source": [
    "#### Step 4: The layout\n",
    "\n",
    "We can now lay things out. I will put the sliders and normalization toggle in a column next to the plot."
   ]
  },
  {
   "cell_type": "code",
   "execution_count": 38,
   "metadata": {},
   "outputs": [],
   "source": [
    "layout = bokeh.layouts.row(\n",
    "    p,\n",
    "    bokeh.layouts.Spacer(width=30),\n",
    "    bokeh.layouts.column(\n",
    "        log_beta0_slider,\n",
    "        log_gamma_slider,\n",
    "        log_k_slider,\n",
    "        n_slider,\n",
    "        legend_toggle,\n",
    "    ),\n",
    "    bokeh.layouts.column(\n",
    "        log_ks_slider,\n",
    "        ns_slider,\n",
    "        t0_slider,\n",
    "        tau_slider,\n",
    "        normalize_toggle,\n",
    "    )\n",
    ")"
   ]
  },
  {
   "cell_type": "markdown",
   "metadata": {
    "tags": []
   },
   "source": [
    "#### Step 5: The app\n",
    "\n",
    "And now for the app! (Note again that this app will not appear in the HTML rendering of this notebook and will not work using Google Colab.)"
   ]
  },
  {
   "cell_type": "code",
   "execution_count": 40,
   "metadata": {},
   "outputs": [
    {
     "data": {
      "text/html": [
       "\n",
       "\n",
       "\n",
       "\n",
       "\n",
       "\n",
       "  <div class=\"bk-root\" id=\"452c50eb-7c18-42d3-bcf6-1b47a60f6fad\" data-root-id=\"3181\"></div>\n"
      ]
     },
     "metadata": {},
     "output_type": "display_data"
    },
    {
     "data": {
      "application/javascript": [
       "(function(root) {\n",
       "  function embed_document(root) {\n",
       "    \n",
       "  const docs_json = {\"159c7d64-4f51-414e-9b57-e808b950d672\":{\"defs\":[],\"roots\":{\"references\":[{\"attributes\":{\"children\":[{\"id\":\"3082\"},{\"id\":\"3178\"},{\"id\":\"3179\"},{\"id\":\"3180\"}]},\"id\":\"3181\",\"type\":\"Row\"},{\"attributes\":{\"line_color\":\"#2ba02b\",\"line_width\":2,\"x\":{\"field\":\"t\"},\"y\":{\"field\":\"x_unreg\"}},\"id\":\"3133\",\"type\":\"Line\"},{\"attributes\":{\"label\":{\"value\":\"s\"},\"renderers\":[{\"id\":\"3154\"}]},\"id\":\"3167\",\"type\":\"LegendItem\"},{\"attributes\":{\"below\":[{\"id\":\"3091\"}],\"center\":[{\"id\":\"3094\"},{\"id\":\"3098\"},{\"id\":\"3130\"}],\"frame_height\":250,\"frame_width\":375,\"left\":[{\"id\":\"3095\"}],\"renderers\":[{\"id\":\"3117\"},{\"id\":\"3136\"},{\"id\":\"3154\"}],\"title\":{\"id\":\"3119\"},\"toolbar\":{\"id\":\"3106\"},\"x_range\":{\"id\":\"3083\"},\"x_scale\":{\"id\":\"3087\"},\"y_range\":{\"id\":\"3085\"},\"y_scale\":{\"id\":\"3089\"}},\"id\":\"3082\",\"subtype\":\"Figure\",\"type\":\"Plot\"},{\"attributes\":{\"line_alpha\":0.2,\"line_color\":\"#2ba02b\",\"line_width\":2,\"x\":{\"field\":\"t\"},\"y\":{\"field\":\"x_unreg\"}},\"id\":\"3135\",\"type\":\"Line\"},{\"attributes\":{\"coordinates\":null,\"data_source\":{\"id\":\"3081\"},\"glyph\":{\"id\":\"3133\"},\"group\":null,\"hover_glyph\":null,\"muted_glyph\":{\"id\":\"3135\"},\"nonselection_glyph\":{\"id\":\"3134\"},\"view\":{\"id\":\"3137\"}},\"id\":\"3136\",\"type\":\"GlyphRenderer\"},{\"attributes\":{\"source\":{\"id\":\"3081\"}},\"id\":\"3118\",\"type\":\"CDSView\"},{\"attributes\":{},\"id\":\"3126\",\"type\":\"AllLabels\"},{\"attributes\":{\"line_alpha\":0.1,\"line_color\":\"#2ba02b\",\"line_width\":2,\"x\":{\"field\":\"t\"},\"y\":{\"field\":\"x_unreg\"}},\"id\":\"3134\",\"type\":\"Line\"},{\"attributes\":{\"line_color\":\"#1f77b3\",\"line_width\":2,\"x\":{\"field\":\"t\"},\"y\":{\"field\":\"s\"}},\"id\":\"3151\",\"type\":\"Line\"},{\"attributes\":{\"tools\":[{\"id\":\"3099\"},{\"id\":\"3100\"},{\"id\":\"3101\"},{\"id\":\"3102\"},{\"id\":\"3103\"},{\"id\":\"3104\"}]},\"id\":\"3106\",\"type\":\"Toolbar\"},{\"attributes\":{\"source\":{\"id\":\"3081\"}},\"id\":\"3137\",\"type\":\"CDSView\"},{\"attributes\":{\"label\":{\"value\":\"x unreg.\"},\"renderers\":[{\"id\":\"3136\"}]},\"id\":\"3149\",\"type\":\"LegendItem\"},{\"attributes\":{\"bottom_units\":\"screen\",\"coordinates\":null,\"fill_alpha\":0.5,\"fill_color\":\"lightgrey\",\"group\":null,\"left_units\":\"screen\",\"level\":\"overlay\",\"line_alpha\":1.0,\"line_color\":\"black\",\"line_dash\":[4,4],\"line_width\":2,\"right_units\":\"screen\",\"syncable\":false,\"top_units\":\"screen\"},\"id\":\"3105\",\"type\":\"BoxAnnotation\"},{\"attributes\":{},\"id\":\"3122\",\"type\":\"BasicTickFormatter\"},{\"attributes\":{\"disabled\":true,\"end\":10,\"start\":0.01,\"step\":0.01,\"title\":\"t\\u2080\",\"value\":4.0,\"width\":150},\"id\":\"3174\",\"type\":\"Slider\"},{\"attributes\":{},\"id\":\"3103\",\"type\":\"ResetTool\"},{\"attributes\":{},\"id\":\"3102\",\"type\":\"SaveTool\"},{\"attributes\":{\"overlay\":{\"id\":\"3105\"}},\"id\":\"3101\",\"type\":\"BoxZoomTool\"},{\"attributes\":{\"axis\":{\"id\":\"3095\"},\"coordinates\":null,\"dimension\":1,\"group\":null,\"ticker\":null},\"id\":\"3098\",\"type\":\"Grid\"},{\"attributes\":{},\"id\":\"3099\",\"type\":\"PanTool\"},{\"attributes\":{},\"id\":\"3104\",\"type\":\"HelpTool\"},{\"attributes\":{\"coordinates\":null,\"group\":null},\"id\":\"3119\",\"type\":\"Title\"},{\"attributes\":{\"coordinates\":null,\"data_source\":{\"id\":\"3081\"},\"glyph\":{\"id\":\"3114\"},\"group\":null,\"hover_glyph\":null,\"muted_glyph\":{\"id\":\"3116\"},\"nonselection_glyph\":{\"id\":\"3115\"},\"view\":{\"id\":\"3118\"}},\"id\":\"3117\",\"type\":\"GlyphRenderer\"},{\"attributes\":{\"axis\":{\"id\":\"3091\"},\"coordinates\":null,\"group\":null,\"ticker\":null},\"id\":\"3094\",\"type\":\"Grid\"},{\"attributes\":{\"coordinates\":null,\"group\":null,\"items\":[{\"id\":\"3131\"},{\"id\":\"3149\"},{\"id\":\"3167\"}],\"location\":\"top_left\"},\"id\":\"3130\",\"type\":\"Legend\"},{\"attributes\":{\"label\":{\"value\":\"x neg. auto.\"},\"renderers\":[{\"id\":\"3117\"}]},\"id\":\"3131\",\"type\":\"LegendItem\"},{\"attributes\":{},\"id\":\"3100\",\"type\":\"WheelZoomTool\"},{\"attributes\":{},\"id\":\"3092\",\"type\":\"BasicTicker\"},{\"attributes\":{},\"id\":\"3096\",\"type\":\"BasicTicker\"},{\"attributes\":{\"width\":30},\"id\":\"3178\",\"type\":\"Spacer\"},{\"attributes\":{},\"id\":\"3085\",\"type\":\"DataRange1d\"},{\"attributes\":{},\"id\":\"3087\",\"type\":\"LinearScale\"},{\"attributes\":{\"disabled\":true,\"end\":2,\"start\":-1,\"step\":0.1,\"title\":\"log\\u2081\\u2080 \\u03b3\",\"value\":0.0,\"width\":150},\"id\":\"3169\",\"type\":\"Slider\"},{\"attributes\":{\"active\":true,\"disabled\":true,\"icon\":null,\"label\":\"Legend\",\"width\":50},\"id\":\"3177\",\"type\":\"Toggle\"},{\"attributes\":{\"active\":true,\"disabled\":true,\"icon\":null,\"label\":\"Normalize\",\"width\":50},\"id\":\"3176\",\"type\":\"Toggle\"},{\"attributes\":{},\"id\":\"3089\",\"type\":\"LinearScale\"},{\"attributes\":{\"children\":[{\"id\":\"3172\"},{\"id\":\"3173\"},{\"id\":\"3174\"},{\"id\":\"3175\"},{\"id\":\"3176\"}]},\"id\":\"3180\",\"type\":\"Column\"},{\"attributes\":{\"axis_label\":\"normalized concentration\",\"coordinates\":null,\"formatter\":{\"id\":\"3122\"},\"group\":null,\"major_label_policy\":{\"id\":\"3123\"},\"ticker\":{\"id\":\"3096\"}},\"id\":\"3095\",\"type\":\"LinearAxis\"},{\"attributes\":{\"axis_label\":\"time\",\"coordinates\":null,\"formatter\":{\"id\":\"3125\"},\"group\":null,\"major_label_policy\":{\"id\":\"3126\"},\"ticker\":{\"id\":\"3092\"}},\"id\":\"3091\",\"type\":\"LinearAxis\"},{\"attributes\":{\"line_color\":\"#ff7e0e\",\"line_width\":2,\"x\":{\"field\":\"t\"},\"y\":{\"field\":\"x\"}},\"id\":\"3114\",\"type\":\"Line\"},{\"attributes\":{\"end\":10.0},\"id\":\"3083\",\"type\":\"Range1d\"},{\"attributes\":{\"disabled\":true,\"end\":2,\"start\":-1,\"step\":0.1,\"title\":\"log\\u2081\\u2080 \\u03b2\\u2080\",\"value\":2.0,\"width\":150},\"id\":\"3168\",\"type\":\"Slider\"},{\"attributes\":{\"line_alpha\":0.1,\"line_color\":\"#ff7e0e\",\"line_width\":2,\"x\":{\"field\":\"t\"},\"y\":{\"field\":\"x\"}},\"id\":\"3115\",\"type\":\"Line\"},{\"attributes\":{\"disabled\":true,\"end\":10,\"start\":0.1,\"step\":0.1,\"title\":\"n\\u209b\",\"value\":10,\"width\":150},\"id\":\"3173\",\"type\":\"Slider\"},{\"attributes\":{\"line_alpha\":0.2,\"line_color\":\"#1f77b3\",\"line_width\":2,\"x\":{\"field\":\"t\"},\"y\":{\"field\":\"s\"}},\"id\":\"3153\",\"type\":\"Line\"},{\"attributes\":{\"data\":{\"s\":{\"__ndarray__\":\"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\",\"dtype\":\"float64\",\"order\":\"little\",\"shape\":[200]},\"t\":{\"__ndarray__\":\"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\",\"dtype\":\"float64\",\"order\":\"little\",\"shape\":[200]},\"x\":{\"__ndarray__\":\"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\",\"dtype\":\"float64\",\"order\":\"little\",\"shape\":[200]},\"x_unreg\":{\"__ndarray__\":\"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\",\"dtype\":\"float64\",\"order\":\"little\",\"shape\":[200]}},\"selected\":{\"id\":\"3128\"},\"selection_policy\":{\"id\":\"3127\"}},\"id\":\"3081\",\"type\":\"ColumnDataSource\"},{\"attributes\":{},\"id\":\"3123\",\"type\":\"AllLabels\"},{\"attributes\":{},\"id\":\"3125\",\"type\":\"BasicTickFormatter\"},{\"attributes\":{\"children\":[{\"id\":\"3168\"},{\"id\":\"3169\"},{\"id\":\"3170\"},{\"id\":\"3171\"},{\"id\":\"3177\"}]},\"id\":\"3179\",\"type\":\"Column\"},{\"attributes\":{\"line_alpha\":0.2,\"line_color\":\"#ff7e0e\",\"line_width\":2,\"x\":{\"field\":\"t\"},\"y\":{\"field\":\"x\"}},\"id\":\"3116\",\"type\":\"Line\"},{\"attributes\":{},\"id\":\"3128\",\"type\":\"Selection\"},{\"attributes\":{\"disabled\":true,\"end\":2,\"start\":-1,\"step\":0.1,\"title\":\"log\\u2081\\u2080 k\",\"value\":-0.3010299956639812,\"width\":150},\"id\":\"3170\",\"type\":\"Slider\"},{\"attributes\":{},\"id\":\"3127\",\"type\":\"UnionRenderers\"},{\"attributes\":{\"coordinates\":null,\"data_source\":{\"id\":\"3081\"},\"glyph\":{\"id\":\"3151\"},\"group\":null,\"hover_glyph\":null,\"muted_glyph\":{\"id\":\"3153\"},\"nonselection_glyph\":{\"id\":\"3152\"},\"view\":{\"id\":\"3155\"}},\"id\":\"3154\",\"type\":\"GlyphRenderer\"},{\"attributes\":{\"disabled\":true,\"end\":10,\"start\":0.1,\"step\":0.1,\"title\":\"n\",\"value\":2,\"width\":150},\"id\":\"3171\",\"type\":\"Slider\"},{\"attributes\":{\"line_alpha\":0.1,\"line_color\":\"#1f77b3\",\"line_width\":2,\"x\":{\"field\":\"t\"},\"y\":{\"field\":\"s\"}},\"id\":\"3152\",\"type\":\"Line\"},{\"attributes\":{\"disabled\":true,\"end\":2,\"start\":-2,\"step\":0.1,\"title\":\"log\\u2081\\u2080 k\\u209b\",\"value\":-1.0,\"width\":150},\"id\":\"3172\",\"type\":\"Slider\"},{\"attributes\":{\"source\":{\"id\":\"3081\"}},\"id\":\"3155\",\"type\":\"CDSView\"},{\"attributes\":{\"disabled\":true,\"end\":10,\"start\":0.01,\"step\":0.01,\"title\":\"\\u03c4\",\"value\":2.0,\"width\":150},\"id\":\"3175\",\"type\":\"Slider\"}],\"root_ids\":[\"3181\"]},\"title\":\"Bokeh Application\",\"version\":\"2.4.2\"}};\n",
       "  const render_items = [{\"docid\":\"159c7d64-4f51-414e-9b57-e808b950d672\",\"root_ids\":[\"3181\"],\"roots\":{\"3181\":\"452c50eb-7c18-42d3-bcf6-1b47a60f6fad\"}}];\n",
       "  root.Bokeh.embed.embed_items_notebook(docs_json, render_items);\n",
       "\n",
       "  }\n",
       "  if (root.Bokeh !== undefined) {\n",
       "    embed_document(root);\n",
       "  } else {\n",
       "    let attempts = 0;\n",
       "    const timer = setInterval(function(root) {\n",
       "      if (root.Bokeh !== undefined) {\n",
       "        clearInterval(timer);\n",
       "        embed_document(root);\n",
       "      } else {\n",
       "        attempts++;\n",
       "        if (attempts > 100) {\n",
       "          clearInterval(timer);\n",
       "          console.log(\"Bokeh: ERROR: Unable to run BokehJS code because BokehJS library is missing\");\n",
       "        }\n",
       "      }\n",
       "    }, 10, root)\n",
       "  }\n",
       "})(window);"
      ],
      "application/vnd.bokehjs_exec.v0+json": ""
     },
     "metadata": {
      "application/vnd.bokehjs_exec.v0+json": {
       "id": "3181"
      }
     },
     "output_type": "display_data"
    }
   ],
   "source": [
    "def app(doc):\n",
    "    doc.add_root(layout)\n",
    "\n",
    "if fully_interactive_plots:\n",
    "    bokeh.io.show(app, notebook_url=notebook_url)\n",
    "else:\n",
    "    bokeh.io.show(layout)"
   ]
  },
  {
   "cell_type": "markdown",
   "metadata": {},
   "source": [
    "By moving around the sliders, we can see that increasing the strength of the repression (by decreasing $k$) accentuates the speed-up provided by negative autoregulation. Furthermore, we see that increasing the cooperativitity of the repressor (by increasing $n$) makes the initial rise in $x$ \"sharper\". What other properties can you find through interacting with this plot?"
   ]
  },
  {
   "cell_type": "markdown",
   "metadata": {},
   "source": [
    "## Experimental demonstration of negative autoregulation speeding response time"
   ]
  },
  {
   "cell_type": "markdown",
   "metadata": {},
   "source": [
    "Can this acceleration be observed experimentally? To find out, <a href=\"https://doi.org/10.1016/S0022-2836(02)00994-4\">Rosenfeld et al.</a> engineered a simple synthetic system based on a bacterial repressor called TetR, fused to a fluorescent protein for readout, and studied its turn-on dynamics in bacterial populations. \n",
    "\n",
    "<br />\n",
    "\n",
    "<div style=\"width: 350px; margin: auto;\">\n",
    "\n",
    "![negative autoregulation experiment](https://biocircuits.github.io/_images/negative_autoregulation_experiment.png)\n",
    "\n",
    "</div>\n",
    "\n",
    "\n",
    "<center>This image is taken from <a href=\"https://doi.org/10.1016/S0022-2836(02)00994-4\">Rosenfeld et al., <emph>J. Mol. Biol.</emph>, 2002</a>.</center>\n",
    "\n",
    "<br />\n",
    "\n",
    "\n",
    "Interestingly, these dynamics show the expected acceleration, as well as some oscillations around steady-state, which may be explained by time delays in the regulatory system (something we will discuss more in an upcoming chapter).\n",
    "\n",
    "<!--\n",
    "I think the below is old stuff from a previous version. Commented out for now.\n",
    "\n",
    "WE DO NEED TO REPLACE THE ABOVE FIGURE.\n",
    "\n",
    "To conclude this section: We now have identified another simple **design principle:** **_Negative autoregulation speeds the response time of a transcription factor_**.\n",
    "\n",
    "\n",
    "Negative autoregulation can have additional functions beyond acceleration. Using similar synthetic approaches, negative autoregulation was shown to reduce stochastic cell-cell variability (\"noise\") in gene expression ([Becskei and Serrano, _Nature_, 2000](https://doi.org/10.1038/35014651)).\n",
    "\n",
    "<div class=\"alert alert-block alert-info\">\n",
    "\n",
    "\n",
    "*But negative autoregulation can increase noise too, see Ghusinga et al 2017 PNAS \"First-passage time approach to controlling noise in the timing of intracellular events\". Worth mentioning, or too much at this point?*\n",
    "    \n",
    "</div>\n",
    "\n",
    "## Summary\n",
    "\n",
    "* Protein degradation and dilution rates determine (and limit) the switching speed of a simple transcriptinally regulated gene.\n",
    "* **Design principle:** _Negative autoregulation accelerates turn-on of a transcription factor._\n",
    "* **Design principle:** _Positive, ultrasensitive autoregulation generates bistability._\n",
    "* Even simple circuits of 1 or 2 genes can generate interesting functional capabilities.\n",
    "* Synthetic circuits can be used to test the functions of simple circuits in living cells.\n",
    "\n",
    "This is our first foray into the analysis of dynamical systems. As we continue to work with dynamical systems, [Strogatz's book](https://www.amazon.com/gp/product/0813349109/) is a great introduction, and includes discussion on using nullclines in the analysis.\n",
    "-->"
   ]
  },
  {
   "cell_type": "markdown",
   "metadata": {},
   "source": [
    "## Computing environment"
   ]
  },
  {
   "cell_type": "code",
   "execution_count": 41,
   "metadata": {
    "tags": [
     "hide_input"
    ]
   },
   "outputs": [
    {
     "name": "stdout",
     "output_type": "stream",
     "text": [
      "Python implementation: CPython\n",
      "Python version       : 3.9.7\n",
      "IPython version      : 8.1.1\n",
      "\n",
      "numpy     : 1.20.3\n",
      "scipy     : 1.7.3\n",
      "bokeh     : 2.4.2\n",
      "jupyterlab: 3.3.2\n",
      "\n"
     ]
    }
   ],
   "source": [
    "%load_ext watermark\n",
    "%watermark -v -p numpy,scipy,bokeh,jupyterlab"
   ]
  },
  {
   "cell_type": "markdown",
   "metadata": {
    "tags": []
   },
   "source": [
    "<hr>\n",
    "\n",
    "## Problems"
   ]
  },
  {
   "cell_type": "markdown",
   "metadata": {
    "nbsphinx-toctree": {},
    "tags": []
   },
   "source": [
    "- [2.1: The cost of a steady state](../problems/02/problem_2.1.ipynb)\n",
    "- [2.2: Event handling for discontinuous derivatives](../problems/02/problem_2.2.ipynb)"
   ]
  }
 ],
 "metadata": {
  "kernelspec": {
   "display_name": "Python 3 (ipykernel)",
   "language": "python",
   "name": "python3"
  },
  "language_info": {
   "codemirror_mode": {
    "name": "ipython",
    "version": 3
   },
   "file_extension": ".py",
   "mimetype": "text/x-python",
   "name": "python",
   "nbconvert_exporter": "python",
   "pygments_lexer": "ipython3",
   "version": "3.9.7"
  },
  "toc": {
   "base_numbering": 1,
   "nav_menu": {},
   "number_sections": true,
   "sideBar": true,
   "skip_h1_title": false,
   "title_cell": "Table of Contents",
   "title_sidebar": "Contents",
   "toc_cell": false,
   "toc_position": {},
   "toc_section_display": true,
   "toc_window_display": false
  },
  "varInspector": {
   "cols": {
    "lenName": 16,
    "lenType": 16,
    "lenVar": 40
   },
   "kernels_config": {
    "python": {
     "delete_cmd_postfix": "",
     "delete_cmd_prefix": "del ",
     "library": "var_list.py",
     "varRefreshCmd": "print(var_dic_list())"
    },
    "r": {
     "delete_cmd_postfix": ") ",
     "delete_cmd_prefix": "rm(",
     "library": "var_list.r",
     "varRefreshCmd": "cat(var_dic_list()) "
    }
   },
   "position": {
    "height": "730.4000244140625px",
    "left": "486.6000061035156px",
    "right": "20px",
    "top": "120px",
    "width": "517.4000244140625px"
   },
   "types_to_exclude": [
    "module",
    "function",
    "builtin_function_or_method",
    "instance",
    "_Feature"
   ],
   "window_display": false
  }
 },
 "nbformat": 4,
 "nbformat_minor": 4
}
