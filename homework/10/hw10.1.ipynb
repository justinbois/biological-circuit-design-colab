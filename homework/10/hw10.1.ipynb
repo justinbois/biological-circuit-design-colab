{
 "cells": [
  {
   "cell_type": "markdown",
   "metadata": {},
   "source": [
    "# Homework 10.1: Feedback on the course, 30 pts\n",
    "\n",
    "<hr>"
   ]
  },
  {
   "cell_type": "markdown",
   "metadata": {},
   "source": [
    "We are always looking to improve the course, so we solicit feedback from students at the end. We are also planning on putting out our Jupyter notebooks for the world to use. We greatly appreciate your thoughtful comments. Please submit the results of this problem as text in the body of your email submission (there is no need to submit a notebook). Thank you for doing this, and thank you also for a great term despite having to be physically separate from each other.\n",
    "\n",
    "## Notebooks and their structure\n",
    "\n",
    "1. What would you add/delete/change to the chapter notebooks to make them most useful both for the course itself and as an enduring resource for future research and learning?\n",
    "2. Did you like how the techniques (like linear stability analysis, stochastic simulation, ...) and concepts (like paradoxical regulation, frequency modulation, ...) were integrated together in the notebooks, or would you prefer to have these things separated?\n",
    "3. Was the biocircuits package useful? Do you have any suggestions for improving it (beyond improving the documentation, which we acknowledge is needed)?\n",
    "4. Did you use the search feature of the course content to find what you were looking for in the notebooks?\n",
    "5. Did you like to have collapse-able code cells when the code cells are not central to the main ideas in the notebook? \n",
    "6. Do you have any suggestions for notebook organization?\n",
    "\n",
    "\n",
    "## Content\n",
    "\n",
    "1. What biological topics did you find most or least interesting, and why?\n",
    "2. Were there additional topics you would like to see included in future editions?\n",
    "3. What methods and approaches required more (or less) depth?\n",
    "4. How was the balance of conceptual / analytical / computational approaches?\n",
    "5. Which homework problems were most valuable?\n",
    "\n",
    "<!-- 6. We are considering incorporating original data from the papers we study into the notebooks to demonstrate data analysis approaches. This could expand the range of techniques we are able to include, but would complicate the materials. Would you want to have experimental data analysis in the (future) course?\n",
    " -->\n",
    "\n",
    "## Any other suggestions?\n",
    "\n",
    "1. All other thoughts and comments appreciated."
   ]
  }
 ],
 "metadata": {
  "anaconda-cloud": {},
  "kernelspec": {
   "display_name": "Python 3",
   "language": "python",
   "name": "python3"
  },
  "language_info": {
   "codemirror_mode": {
    "name": "ipython",
    "version": 3
   },
   "file_extension": ".py",
   "mimetype": "text/x-python",
   "name": "python",
   "nbconvert_exporter": "python",
   "pygments_lexer": "ipython3",
   "version": "3.8.8"
  }
 },
 "nbformat": 4,
 "nbformat_minor": 4
}
