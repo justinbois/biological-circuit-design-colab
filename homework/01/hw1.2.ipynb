{
 "cells": [
  {
   "cell_type": "markdown",
   "metadata": {},
   "source": [
    "# Homework 1.2: Autoactivation, bistability, and the importance of leakage (30 pts)\n",
    "\n",
    "<hr>"
   ]
  },
  {
   "cell_type": "markdown",
   "metadata": {},
   "source": [
    "In this problem, we will explore a very simple circuit: autoactivation of a single gene, shown in the figure below.  We will assume a separation of time scales in mRNA and protein degradation/dilution such that we only need to consider the dynamics of the protein, and we will call its concentration $x$.  We will further assume that the autoactivation effect can be modeled as a Hill function with Hill coefficient $n$.\n",
    "\n",
    "<div style=\"width: 225px; margin: auto\">\n",
    "\n",
    "![autoactivator](autoactivator.png)\n",
    "\n",
    "</div>\n",
    "\n",
    "**a)** Write down an ODE describing the dynamics of $x$. Include leakage parametrized by $\\alpha$.\n",
    "\n",
    "**b)** Show that for $n = 1$, only one steady state exists for $\\alpha > 0$. Show further that when $\\alpha = 0$, two steady states may exist, but only one is stable.\n",
    "\n",
    "**c)** In part (b), we considered the case where activation is not cooperative. We now consider the other extreme, where activation is infinitely cooperative. Derive the condition for bistability when $n\\to\\infty$.  In other words, for what parameter values does the circuit exhibit two stable steady states? Discuss this condition as it relates to design principles for bistability."
   ]
  },
  {
   "cell_type": "markdown",
   "metadata": {},
   "source": [
    "<br />"
   ]
  }
 ],
 "metadata": {
  "anaconda-cloud": {},
  "kernelspec": {
   "display_name": "Python 3",
   "language": "python",
   "name": "python3"
  },
  "language_info": {
   "codemirror_mode": {
    "name": "ipython",
    "version": 3
   },
   "file_extension": ".py",
   "mimetype": "text/x-python",
   "name": "python",
   "nbconvert_exporter": "python",
   "pygments_lexer": "ipython3",
   "version": "3.8.8"
  }
 },
 "nbformat": 4,
 "nbformat_minor": 4
}
