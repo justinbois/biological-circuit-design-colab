{
 "cells": [
  {
   "cell_type": "markdown",
   "metadata": {},
   "source": [
    "# Problem 1.2: Separation of time scales\n",
    "\n",
    "<hr>"
   ]
  },
  {
   "cell_type": "markdown",
   "metadata": {},
   "source": [
    "*This problem is still a draft.*\n",
    "\n",
    "We employed a separation-of-time-scales assumption to simplify our expressions for the rate of production of a gene product. Specifically, we assumed that the binding and unbinding dynamics of a repressor to its target DNA sequence happened at a faster time scale than transcription and translation dynamics.\n",
    "\n",
    "**a)** What happens if you don't assume separation of timescales? Write a set of differential equations to capture the dynamics of mRNA concentration $m$ and protein concentration $x$, as well as the dynamics of the unoccupied promoter concentration $p$ as a function of the repressor concentration $r$ and total promoter concentration $p_\\mathrm{tot}$.\n",
    "\n",
    "**b)** How do you tell if you're in a parameter regime where that assumption is appropriate? Give both theoretical and experimental arguments."
   ]
  },
  {
   "cell_type": "markdown",
   "metadata": {},
   "source": [
    "<br />"
   ]
  }
 ],
 "metadata": {
  "anaconda-cloud": {},
  "kernelspec": {
   "display_name": "Python 3 (ipykernel)",
   "language": "python",
   "name": "python3"
  },
  "language_info": {
   "codemirror_mode": {
    "name": "ipython",
    "version": 3
   },
   "file_extension": ".py",
   "mimetype": "text/x-python",
   "name": "python",
   "nbconvert_exporter": "python",
   "pygments_lexer": "ipython3",
   "version": "3.9.7"
  }
 },
 "nbformat": 4,
 "nbformat_minor": 4
}
