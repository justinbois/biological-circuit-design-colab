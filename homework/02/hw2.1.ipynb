{
 "cells": [
  {
   "cell_type": "markdown",
   "metadata": {},
   "source": [
    "# Homework 2.1: Design principles for toggles (45 pts)\n",
    "\n",
    "<hr>\n"
   ]
  },
  {
   "cell_type": "markdown",
   "metadata": {},
   "source": [
    "Consider two components, A and B, which regulate each other. A may activate or repress B, and B may activate or repress A. There are three possible architectures in this scenario, two with positive feedback and one with negative feedback, shown below.\n",
    "\n",
    "<div style=\"width: 400px; margin: auto;\">\n",
    "\n",
    "![Toggles](toggles.png)\n",
    "    \n",
    "</div>\n",
    "\n",
    "<br />\n",
    "\n",
    "**a)** A circuit can behave like a toggle if it has two stable steady states, one with A high and B low and another with B high and A low. Only one of the above architectures can function as a toggle. Which one? Explain in words and sketches why _only_ the one you chose can be a toggle.\n",
    "\n",
    "**b)** A and/or B may have ultrasensitive regulation, which we describe with a Hill coefficient, $n$, greater than one. Show that without ultrasensitive regulation, even the architecture you chose cannot have toggle behavior."
   ]
  },
  {
   "cell_type": "markdown",
   "metadata": {},
   "source": [
    "<br />"
   ]
  }
 ],
 "metadata": {
  "anaconda-cloud": {},
  "kernelspec": {
   "display_name": "Python 3",
   "language": "python",
   "name": "python3"
  },
  "language_info": {
   "codemirror_mode": {
    "name": "ipython",
    "version": 3
   },
   "file_extension": ".py",
   "mimetype": "text/x-python",
   "name": "python",
   "nbconvert_exporter": "python",
   "pygments_lexer": "ipython3",
   "version": "3.8.8"
  }
 },
 "nbformat": 4,
 "nbformat_minor": 4
}
