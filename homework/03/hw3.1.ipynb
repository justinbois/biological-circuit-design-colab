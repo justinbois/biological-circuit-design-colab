{
 "cells": [
  {
   "cell_type": "markdown",
   "metadata": {},
   "source": [
    "# Homework 3.1: Accelerated responses with FFLs (30 pts)\n",
    "\n",
    "<hr>"
   ]
  },
  {
   "cell_type": "markdown",
   "metadata": {},
   "source": [
    "Consider three circuits that produce gene product Z in response to an input X that we have already discussed.\n",
    "\n",
    "<div style=\"margin: auto; width: 500px\">\n",
    "\n",
    "![accelerator_circuits.svg](accelerator_circuits.svg)\n",
    "    \n",
    "</div>\n",
    "\n",
    "We analyzed the response these circuits to a sudden jump in the concentration of X from zero. We consider the left circuit to be unregulated. The middle circuit, autorepressed Z, showed a faster response time. That is, the concentration of Z reached its steady state value faster than the unregulated circuit. The right circuit is an I1-FFL, here assuming AND logic for the regulation of Z. It also showed a faster response time than the unregulated circuit, but also featured overshoot.\n",
    "\n",
    "*Decorated FFLs* additionally feature auto-regulation of Y. Devise a decorated FFL that also has a faster response time than the unregulated circuit, but does not overshoot as much (it at all), at least for some parameter regime. Demonstrate that this is the case by solving the appropriate dynamical equations. In what parameter regimes does it perform well in terms of accelerating response and damping overshoot?"
   ]
  },
  {
   "cell_type": "markdown",
   "metadata": {},
   "source": [
    "<br />"
   ]
  }
 ],
 "metadata": {
  "kernelspec": {
   "display_name": "Python 3",
   "language": "python",
   "name": "python3"
  },
  "language_info": {
   "codemirror_mode": {
    "name": "ipython",
    "version": 3
   },
   "file_extension": ".py",
   "mimetype": "text/x-python",
   "name": "python",
   "nbconvert_exporter": "python",
   "pygments_lexer": "ipython3",
   "version": "3.8.8"
  }
 },
 "nbformat": 4,
 "nbformat_minor": 4
}
