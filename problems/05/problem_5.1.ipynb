{
 "cells": [
  {
   "cell_type": "markdown",
   "metadata": {},
   "source": [
    "# Problem 5.1: Robustness in a C1-FFL\n",
    "\n",
    "<hr>"
   ]
  },
  {
   "cell_type": "markdown",
   "metadata": {},
   "source": [
    "*This problem is still a draft.*\n",
    "\n",
    "Consider the design principle we discussed in a [previous chapter](04_ffls.ipynb): **The C1-FFL with AND logic displays an on-delay.** We saw that this property of the C1-FFL holds even when the Hill coefficient for the regulation is unity. We might also ask if the delay is robust to variations in the Hill activation constants.\n",
    "\n",
    "As a reminder, the dimensionless dynamical equations for the concentrations of Y and Z from a stimulus X are\n",
    "\n",
    "\\begin{align}\n",
    "\\frac{\\mathrm{d}y}{\\mathrm{d}t} &= \\beta\\,\\frac{(\\kappa x)^{n_{xy}}}{1 + (\\kappa x)^{n_{xy}}} - y, \\\\[1em]\n",
    "\\gamma^{-1}\\frac{\\mathrm{d}z}{\\mathrm{d}t} &= \\frac{x^{n_{xz}} y^{n_{yz}}}{(1 + x^{n_{xz}})\\,(1+ y^{n_{yz}})} - z.\n",
    "\\end{align}\n",
    "\n",
    "To investigate the effect of the Hill activation constants, we need only to vary the dimensionless parameter $\\kappa$, which is the ratio of the Hill activation constant for activation of Z by X to the Hill activation constant for activation of Z by Y; $\\kappa = k_{xz}/k_{yz}$.\n",
    "\n",
    "**a)** Investigate the dynamics of this circuit in response to a step in X concentration to make a robustness statement about on-delay for varying $\\kappa$.\n",
    "\n",
    "**b)** Make a robustness statement about the steady state levels of Z for varying $\\kappa$."
   ]
  },
  {
   "cell_type": "markdown",
   "metadata": {},
   "source": [
    "<br />"
   ]
  }
 ],
 "metadata": {
  "anaconda-cloud": {},
  "kernelspec": {
   "display_name": "Python 3 (ipykernel)",
   "language": "python",
   "name": "python3"
  },
  "language_info": {
   "codemirror_mode": {
    "name": "ipython",
    "version": 3
   },
   "file_extension": ".py",
   "mimetype": "text/x-python",
   "name": "python",
   "nbconvert_exporter": "python",
   "pygments_lexer": "ipython3",
   "version": "3.9.7"
  }
 },
 "nbformat": 4,
 "nbformat_minor": 4
}
