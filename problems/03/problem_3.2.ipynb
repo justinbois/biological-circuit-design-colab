{
 "cells": [
  {
   "cell_type": "markdown",
   "metadata": {},
   "source": [
    "# Problem 3.2: Controlling an autoactivation circuit\n",
    "\n",
    "<hr>"
   ]
  },
  {
   "cell_type": "markdown",
   "metadata": {},
   "source": [
    "*This problem is still a draft.*\n",
    "\n",
    "Gardner and Collins built their toggle switch so that one can manually push the circuit into a desired state via the addition of an external signal. We did not discuss how such a control mechanism might be implemented in the positive autoregulation circuit we analyzed in this chapter. Consider some possible molecular implementations of such a \"control knob\" that could be built into the positive autoregulation circuit to allow a user to toggle the circuit between its high and low fixed points."
   ]
  },
  {
   "cell_type": "markdown",
   "metadata": {},
   "source": [
    "<br />"
   ]
  }
 ],
 "metadata": {
  "anaconda-cloud": {},
  "kernelspec": {
   "display_name": "Python 3 (ipykernel)",
   "language": "python",
   "name": "python3"
  },
  "language_info": {
   "codemirror_mode": {
    "name": "ipython",
    "version": 3
   },
   "file_extension": ".py",
   "mimetype": "text/x-python",
   "name": "python",
   "nbconvert_exporter": "python",
   "pygments_lexer": "ipython3",
   "version": "3.9.7"
  }
 },
 "nbformat": 4,
 "nbformat_minor": 4
}
