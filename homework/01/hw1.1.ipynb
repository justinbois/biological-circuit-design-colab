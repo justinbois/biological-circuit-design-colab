{
 "cells": [
  {
   "cell_type": "markdown",
   "metadata": {},
   "source": [
    "# Homework 1.1: Negative autoregulation (70 pts)\n",
    "\n",
    "<hr>\n"
   ]
  },
  {
   "cell_type": "markdown",
   "metadata": {},
   "source": [
    "Consider the two simple circuits shown below (adapted from [Del Vecchio and Murray, *Biomolecular Feedback Systems*](http://www.cds.caltech.edu/~murray/BFSwiki/index.php/Main_Page), Figure 2.7), where A is an arbitrary repressor (it could be, e.g., LacI).\n",
    "\n",
    "<div style=\"width: 500px; margin: auto\">\n",
    "\n",
    "![autoregulation](autoreg.png)\n",
    "\n",
    "</div>\n",
    "\n",
    "\n",
    "We parametrize the dynamics as follows.  Let $\\beta_m$ be the unregulated mRNA production rate, $\\gamma_m$ be the mRNA degradation rate constant, $\\beta_p$ be the protein production rate constant, and $\\gamma_p$ be the protein degradation rate constant.\n",
    "\n",
    "**a)** Assuming mass action kinetics, write down mathematical expressions in the form of a system of coupled ODEs for the left figure (unregulated expression). Assume that this system exhibits no leakiness.\n",
    "    \n",
    "**b)** Find the steady state mRNA concentration, $m_0$, and the steady state protein concentration, $p_0$, in terms of the given parameters.\n",
    "\n",
    "**c)** Now write down mathematical expressions in the form of a system of coupled ODEs for the right figure (negatively autoregulated expression). Assume that repression serves to decrease the mRNA production rate by a factor of $1/(1 + (p/k)^n)$, where $p$ is the protein concentration. This is a repressive Hill function with Hill coefficient $n$ and activation constant $k$. Again, assume that this system exhibits no leakiness.\n",
    "\n",
    "**d)** Define the following dimensionless variables and parameters.\n",
    "    \n",
    "\\begin{align}\n",
    "\\tilde{t} &= \\gamma_m t \\\\[1em]\n",
    "\\tilde{p} &= p/p_0, \\\\[1em]\n",
    "\\tilde{m} &= m/m_0, \\\\[1em]\n",
    "\\gamma &= \\gamma_p/\\gamma_m, \\\\[1em]\n",
    "\\kappa &= \\frac{\\gamma_m\\gamma_p k}{\\beta_m \\beta_p}.\n",
    "\\end{align}\n",
    "    \n",
    "Here, $m$ is the mRNA concentration and $p_0$ and $m_0$ are the steady states found in part (a). Using these expressions rewrite your ODEs from parts (a) and (c) in dimensionless form. You will see that the dynamics for the unregulated circuit depend only on $\\gamma$, and those of the regulated circuit depend only on $\\gamma$, $\\kappa$, and $n$. Comment on the physical meaning of these three dimensionless parameters.\n",
    "\n",
    "**e)** One of the ways we quantify the separation of time scales we mentioned in lecture is by evaluating the ratio $\\gamma$. Provide an argument why we may neglect the mRNA dynamics and consider only the protein if $\\gamma \\ll 1$.\n",
    "\n",
    "**f)** Assume we initially have no mRNA or protein present. Suddenly, a cell needs to start producing the protein, so the gene is turned on at time $t = 0$.  Starting from initial conditions of $m(0) = p(0) = 0$, solve the ODEs (numerically or otherwise) for both the unregulated and autoregulated systems. You should choose parameters as would be typical for a bacterial cell. The excellent [BioNumbers website](http://bionumbers.org/) will be helpful. Plot the respective dimensionless mRNA and protein concentrations over time. Comment on the nature of the responses of the unregulated versus regulated circuit. Which has a faster response? How long does it take each to get to steady state?"
   ]
  },
  {
   "cell_type": "markdown",
   "metadata": {},
   "source": [
    "<br />"
   ]
  }
 ],
 "metadata": {
  "anaconda-cloud": {},
  "kernelspec": {
   "display_name": "Python 3",
   "language": "python",
   "name": "python3"
  },
  "language_info": {
   "codemirror_mode": {
    "name": "ipython",
    "version": 3
   },
   "file_extension": ".py",
   "mimetype": "text/x-python",
   "name": "python",
   "nbconvert_exporter": "python",
   "pygments_lexer": "ipython3",
   "version": "3.8.8"
  }
 },
 "nbformat": 4,
 "nbformat_minor": 4
}
