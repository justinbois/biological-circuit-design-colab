{
 "cells": [
  {
   "cell_type": "markdown",
   "metadata": {},
   "source": [
    "# Homework 5.1: Ruling out oscillations (25 pts)\n",
    "\n",
    "*This problem is based on problem 3.6 of [Del Vecchio and Murray](http://www.cds.caltech.edu/~murray/BFSwiki/index.php/Main_Page).*\n",
    "\n",
    "\n",
    "<hr>"
   ]
  },
  {
   "cell_type": "markdown",
   "metadata": {},
   "source": [
    "An important result from dynamical systems known as the **Bendixon criterion** makes it possible to rule out sustained oscillations (defined as **orbits**, closed curves in the phase plane on which trajectories remain after entering). \n",
    "\n",
    "Consider a dynamical system\n",
    "\n",
    "\\begin{align}\n",
    "&\\frac{\\mathrm{d}x}{\\mathrm{d}t} = f(x, y)\\\\[1em]\n",
    "&\\frac{\\mathrm{d}y}{\\mathrm{d}t} = g(x,y).\n",
    "\\end{align}\n",
    "\n",
    "In a simply connected region $D$ of the $x$-$y$ plane, if the quantity\n",
    "\n",
    "\\begin{align}\n",
    "\\frac{\\partial f}{\\partial x} + \\frac{\\partial g}{\\partial y}\n",
    "\\end{align}\n",
    "\n",
    "is nonzero and does not change sign on $D$, then the dynamical system has no orbits entirely in $D$. To illustrate the power of this, I really like the following exercise from [Del Vecchio and Murray's book](http://www.cds.caltech.edu/~murray/BFSwiki/index.php/Main_Page) in which they ask you to eliminate circuits below that cannot have sustained oscillations by using Bendixson's criterion. (Image below, (c) Princeton University Press.)\n",
    "\n",
    "<div style=\"width: 500px; margin:auto;\">\n",
    "    \n",
    "![Circuits](murray_circuits.png)\n",
    "\n",
    "</div>\n",
    "\n",
    "Identify the circuits that cannot have sustained oscillations by Bendixson's criterion."
   ]
  },
  {
   "cell_type": "markdown",
   "metadata": {},
   "source": [
    "<br />"
   ]
  }
 ],
 "metadata": {
  "anaconda-cloud": {},
  "kernelspec": {
   "display_name": "Python 3",
   "language": "python",
   "name": "python3"
  },
  "language_info": {
   "codemirror_mode": {
    "name": "ipython",
    "version": 3
   },
   "file_extension": ".py",
   "mimetype": "text/x-python",
   "name": "python",
   "nbconvert_exporter": "python",
   "pygments_lexer": "ipython3",
   "version": "3.8.8"
  }
 },
 "nbformat": 4,
 "nbformat_minor": 4
}
