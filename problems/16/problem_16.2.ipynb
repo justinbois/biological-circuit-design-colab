{
 "cells": [
  {
   "cell_type": "markdown",
   "metadata": {},
   "source": [
    "# Homework 16.2: Noise in a switchable promoter\n",
    "<hr>"
   ]
  },
  {
   "cell_type": "markdown",
   "metadata": {},
   "source": [
    "This problem was inspired by [Munsky, et al. (*Science*, 2012)](https://doi.org/10.1126/science.1216379). We will explore some aspects of stochastic gene expression using both the analytical and computational techniques that we described in class. In this problem we will contrast two models of stochastic gene expression.\n",
    "\n",
    "The first model consists of a constitutively active promoter where transcription happens with a constant stochastic rate, while the second model consists of a promoter switching stochastically between an ON and an OFF state.  Transcription in this model can only occur when the promoter is in the ON state.  This could, for example, describe the open and closed chromatin state. mRNA degradation is present in both models. We will not consider protein in this problem.\n",
    "\n",
    "The models may be written as chemical equations,\n",
    "\n",
    "\\begin{align}\n",
    "\\require{mhchem}\n",
    "&\\text{Constitutive: } \\ce{ON ->[\\beta] mRNA ->[\\gamma] \\varnothing} \\\\\n",
    "&\\text{Regulated: } \\ce{OFF <=>[k_\\mathrm{on}][k_\\mathrm{off}] ON ->[\\beta] mRNA ->[\\gamma] \\varnothing}.\n",
    "\\end{align}\n",
    "\n",
    "When the promoter is on, transcription proceeds at a rate $\\beta$. Otherwise, no transcripts are made.  Transcripts degrade with a rate $\\gamma$.\n",
    "\n",
    "**a)** Write down a master equation describing the temporal dynamics of the probability distribution of the number of RNA transcripts, $P(n,t)$, for the constitutive model. Nondimensionalize time using the decay rate $\\gamma$.\n",
    "\n",
    "**b)** We have seen how to start with a master equation and derive an ODE for the dynamics of the mean number of transcripts, $\\langle n(t) \\rangle$.  For simple unregulated gene expression, we got\n",
    "\n",
    "\\begin{align}\n",
    "\\frac{\\mathrm{d}\\langle n\\rangle}{\\mathrm{d}t} = \\frac{\\beta}{\\gamma} - \\langle n \\rangle,\n",
    "\\end{align}\n",
    "\n",
    "where time is dimensionless ($t = \\gamma t_\\mathrm{dimensional}$). We did this by multiplying both sides of the master equation by $n$ and then summing over all $n$.\n",
    "\n",
    "- i) Now, derive an expression for $\\mathrm{d}\\langle n^2 \\rangle/\\mathrm{d}t$.  Next, derive an expression for $\\mathrm{d} \\sigma^2 / \\mathrm{d}t$.  This will depend on both $\\sigma^2(t)$ and $\\langle n(t) \\rangle$. _Hint_:\n",
    "\n",
    "\\begin{align}\n",
    "\\frac{\\mathrm{d}\\sigma^2}{\\mathrm{d}t}\n",
    "= \\frac{\\mathrm{d}}{\\mathrm{d}t}\\left(\\langle n^2 \\rangle - \\langle n \\rangle^2\\right)\n",
    "=  \\frac{\\mathrm{d}\\langle n^2 \\rangle}{\\mathrm{d}t} - 2\\langle n \\rangle\\,\n",
    "\\frac{\\mathrm{d}\\langle n \\rangle}{\\mathrm{d}t}.\n",
    "\\end{align}\n",
    "\n",
    "- ii) For initial conditions $n(0) = \\sigma^2(0) = 0$ (i.e., no transcripts exist), show that the Fano factor is unity for all time by verifying that\n",
    "\n",
    "\\begin{align}\n",
    "\\langle n(t) \\rangle = \\sigma^2(t) = \\frac{\\beta}{\\gamma}\\left(1 - \\mathrm{e}^{-t}\\right).\n",
    "\\end{align}\n",
    "\n",
    "**c)** In this part of the problem, you will perform stochastic simulations of the constitutive model. Start by writing down a system of stochastic chemical reactions for the constitutive model of gene expression. Make sure to enumerate all species, all reactions, and the propensity functions and associated parameters. Then, using the Gillespie stochastic simulation algorithm, implement a simulation of the constitutive model of gene expression.  Use $\\beta/\\gamma = 10$. Initialize your simulation with no copies of mRNA being present.\n",
    "\n",
    "- i) Plot snapshots of the simulated mRNA distribution at various time points. Choose the final time such that the system has enough time to settle down to its steady state distribution. Comment on what you see.\n",
    "- ii) Compute the mean, variance, Fano factor, and noise $\\eta$, as a function of time from your SSA samples. Do the computed results match what you obtained in part (b)?\n",
    "\n",
    "**d)** Now, we will move on to the regulated model with a switchable promoter. Write down a similar master equation for the regulated case. Now, each \"state\" is not just the mRNA copy number, but also the state of the promoter (on or off). We will define a variable $a\\in\\{0,1\\}$ describing this, where $a = 0$ means the promoter is off and $a=1$ means it is on.  Thus, write a master equation for $P(a,n,t)$. Again, be sure to nondimensionalize time using $\\gamma$.\n",
    "\n",
    "**e)** Using the stochastic simulation algorithm, implement a simulation of the regulated model of gene expression. Start with no transcripts with the promoter being off. Again, use $\\beta/\\gamma = 10$ and make sure use to use a sufficient number of SSA samples and run the simulation long enough to reach the steady state distribution. You can try this for various values of $k_\\mathrm{on}$ and $k_\\mathrm{off}$.\n",
    "\n",
    "- i) It can be shown that the steady state, the mean and Fano factor for this model are, respectively,\n",
    "\n",
    "\\begin{align}\n",
    "&\\langle n \\rangle = \\frac{\\beta}{\\gamma}\\,\\frac{k_\\mathrm{on}}{k_\\mathrm{on} + k_\\mathrm{off}},\\\\\n",
    "&F = \\frac{\\sigma^2}{\\langle n \\rangle} = 1 + \\frac{\\beta}{\\gamma}\\,\\frac{k_\\mathrm{off}}{k_\\mathrm{on} + k_\\mathrm{off}} \\,\\frac{1}{1 + (k_\\mathrm{on}/\\gamma) + (k_\\mathrm{off}/\\gamma)}.\n",
    "\\end{align}\n",
    "\n",
    "(It is a good exercise to derive this result, if you like.) Do your steady state results match this? This result may also serve as a guide for interesting values of $k_\\mathrm{off}$ and $k_\\mathrm{off}$ to try in your SSA calculations.\n",
    "\n",
    "- ii) What is the significance that the Fano factor of the regulated model can never be less than unity?  Describe physically what is happening when the Fano factor is large.\n",
    "- iii) Can you get qualitatively different steady state distributions of RNA copy number by varying $k_\\mathrm{on}$ and $k_\\mathrm{off}$?  Plot representative distributions."
   ]
  },
  {
   "cell_type": "markdown",
   "metadata": {},
   "source": [
    "<br />"
   ]
  }
 ],
 "metadata": {
  "anaconda-cloud": {},
  "kernelspec": {
   "display_name": "Python 3",
   "language": "python",
   "name": "python3"
  },
  "language_info": {
   "codemirror_mode": {
    "name": "ipython",
    "version": 3
   },
   "file_extension": ".py",
   "mimetype": "text/x-python",
   "name": "python",
   "nbconvert_exporter": "python",
   "pygments_lexer": "ipython3",
   "version": "3.8.8"
  }
 },
 "nbformat": 4,
 "nbformat_minor": 4
}
