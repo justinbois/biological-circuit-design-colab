{
 "cells": [
  {
   "cell_type": "markdown",
   "metadata": {},
   "source": [
    "# Problem 2.2: Event handling for discontinuous derivatives\n",
    "\n",
    "<hr>"
   ]
  },
  {
   "cell_type": "markdown",
   "metadata": {},
   "source": [
    "*This problem is still a draft.*\n",
    "\n",
    "Throughout Chapter 2, we used a Guassian function to represent a pulse of input signal $s$. One of the reasons we chose to use a Gaussian function was to ensure that the function would be smooth, i.e. its derivative is always continuous. What if, however, we instead wanted to model how our system would respond to a step increase and decrease of the inducer? In that case, our $s(t)$ timecourse would encode a $\\tau$-width pulse that begins at time $t_0$ as\n",
    "    \n",
    "\\begin{align}\n",
    "s(t) = \\begin{cases}\n",
    "                    1, \\hspace{5mm} t_0 \\leq t \\leq t_0 + \\tau \\\\\n",
    "                    0, \\hspace{5mm} \\text{otherwise}.\n",
    "       \\end{cases}\n",
    "\\end{align}\n",
    "    \n",
    "This function has a discontinuous derivative at $t = t_0$ and $t = t_0 + \\tau$. In this exercise, we will walk through the construction of a solver for stepwises pulses in $s$ and demonstrate the problems associated with non-smooth functions. We will then walk through the procedure of **event handling**, which is a way to resolve these smoothness issues.\n",
    "    \n",
    "1. Write a naive function that directly encodes stepwise s(t)\n",
    "2. Feed the stepwise s(t) function into a solver for the negative autoregulation and unregulated systems. Direct the student to a parameter regime where it breaks.\n",
    "3. Guide the student in writing a new solver for stepwise s(t) that uses event handling to do three separate integrations that are chained together in the final result\n",
    "4. Show that the problematic regime from Step 2 is no longer an issue\n",
    "\n"
   ]
  },
  {
   "cell_type": "markdown",
   "metadata": {},
   "source": [
    "<br />"
   ]
  }
 ],
 "metadata": {
  "anaconda-cloud": {},
  "kernelspec": {
   "display_name": "Python 3 (ipykernel)",
   "language": "python",
   "name": "python3"
  },
  "language_info": {
   "codemirror_mode": {
    "name": "ipython",
    "version": 3
   },
   "file_extension": ".py",
   "mimetype": "text/x-python",
   "name": "python",
   "nbconvert_exporter": "python",
   "pygments_lexer": "ipython3",
   "version": "3.9.7"
  }
 },
 "nbformat": 4,
 "nbformat_minor": 4
}
