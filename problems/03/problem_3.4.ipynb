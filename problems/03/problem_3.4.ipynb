{
 "cells": [
  {
   "cell_type": "markdown",
   "metadata": {},
   "source": [
    "# Problem 3.4: Modeling inducers in a toggle switch\n",
    "\n",
    "<hr>"
   ]
  },
  {
   "cell_type": "markdown",
   "metadata": {},
   "source": [
    "*This problem is still a draft.*\n",
    "\n",
    "In our analysis of the Gardner and Collins synthetic toggle switch, we did not include a way to represent the addition of the inducer signals. Such signals typically function by decreasing a receptor's affinity for its target binding site, in other words by increasing the value of the Hill repression constant $k$. In the nondimensionalized system, we see that $k_x$ (and correspondingly, $k_y$) appear both in the dimensionless concentration $\\tilde{x}$ and in the dimensionless production term $\\tilde{\\beta}_x$.\n",
    "    \n",
    "Create an interactive plot representing the following scenario:\n",
    "\n",
    "* The circuit is built with parameters $\\beta, \\gamma, n$ fixed to be $\\beta = 10$, $\\gamma = 1$, $n=10$.\n",
    "* The plot has sliders for $k_x$ and $k_y$, which represent the presence of inducer signal to inactivate the repressors $X$ and $Y$, respectively. (Note that this representation assumes that the inducer's action is linearly proportional to its concentration, which is typically not true but gives the right qualitative result).\n",
    "* The plot shows how the nullclines, in dimensionless concentration space, change as you add and remove the inducer signals.\n",
    "\n",
    "What insights did you gain from the visualization?"
   ]
  },
  {
   "cell_type": "markdown",
   "metadata": {},
   "source": [
    "<br />"
   ]
  }
 ],
 "metadata": {
  "anaconda-cloud": {},
  "kernelspec": {
   "display_name": "Python 3 (ipykernel)",
   "language": "python",
   "name": "python3"
  },
  "language_info": {
   "codemirror_mode": {
    "name": "ipython",
    "version": 3
   },
   "file_extension": ".py",
   "mimetype": "text/x-python",
   "name": "python",
   "nbconvert_exporter": "python",
   "pygments_lexer": "ipython3",
   "version": "3.9.7"
  }
 },
 "nbformat": 4,
 "nbformat_minor": 4
}
