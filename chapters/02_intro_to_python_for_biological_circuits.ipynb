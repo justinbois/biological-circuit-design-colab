{
 "cells": [
  {
   "cell_type": "markdown",
   "metadata": {},
   "source": [
    "# 2. Introduction to Python for biological circuits\n",
    "\n",
    "<hr>"
   ]
  },
  {
   "cell_type": "markdown",
   "metadata": {},
   "source": [
    "**Design principle**\n",
    "\n",
    "- A cascade can filter out high frequency fluctuations.\n",
    "\n",
    "**Techniques**\n",
    "\n",
    "- Nondimensionalization.\n",
    "- Numerical solution of ODEs using `scipy.integrate.odeint()`.\n",
    "- Interactive plotting.\n",
    "\n",
    "<hr>"
   ]
  },
  {
   "cell_type": "code",
   "execution_count": 1,
   "metadata": {},
   "outputs": [
    {
     "data": {
      "text/html": [
       "\n",
       "    <div class=\"bk-root\">\n",
       "        <a href=\"https://bokeh.org\" target=\"_blank\" class=\"bk-logo bk-logo-small bk-logo-notebook\"></a>\n",
       "        <span id=\"1002\">Loading BokehJS ...</span>\n",
       "    </div>"
      ]
     },
     "metadata": {},
     "output_type": "display_data"
    },
    {
     "data": {
      "application/javascript": [
       "\n",
       "(function(root) {\n",
       "  function now() {\n",
       "    return new Date();\n",
       "  }\n",
       "\n",
       "  var force = true;\n",
       "\n",
       "  if (typeof root._bokeh_onload_callbacks === \"undefined\" || force === true) {\n",
       "    root._bokeh_onload_callbacks = [];\n",
       "    root._bokeh_is_loading = undefined;\n",
       "  }\n",
       "\n",
       "  var JS_MIME_TYPE = 'application/javascript';\n",
       "  var HTML_MIME_TYPE = 'text/html';\n",
       "  var EXEC_MIME_TYPE = 'application/vnd.bokehjs_exec.v0+json';\n",
       "  var CLASS_NAME = 'output_bokeh rendered_html';\n",
       "\n",
       "  /**\n",
       "   * Render data to the DOM node\n",
       "   */\n",
       "  function render(props, node) {\n",
       "    var script = document.createElement(\"script\");\n",
       "    node.appendChild(script);\n",
       "  }\n",
       "\n",
       "  /**\n",
       "   * Handle when an output is cleared or removed\n",
       "   */\n",
       "  function handleClearOutput(event, handle) {\n",
       "    var cell = handle.cell;\n",
       "\n",
       "    var id = cell.output_area._bokeh_element_id;\n",
       "    var server_id = cell.output_area._bokeh_server_id;\n",
       "    // Clean up Bokeh references\n",
       "    if (id != null && id in Bokeh.index) {\n",
       "      Bokeh.index[id].model.document.clear();\n",
       "      delete Bokeh.index[id];\n",
       "    }\n",
       "\n",
       "    if (server_id !== undefined) {\n",
       "      // Clean up Bokeh references\n",
       "      var cmd = \"from bokeh.io.state import curstate; print(curstate().uuid_to_server['\" + server_id + \"'].get_sessions()[0].document.roots[0]._id)\";\n",
       "      cell.notebook.kernel.execute(cmd, {\n",
       "        iopub: {\n",
       "          output: function(msg) {\n",
       "            var id = msg.content.text.trim();\n",
       "            if (id in Bokeh.index) {\n",
       "              Bokeh.index[id].model.document.clear();\n",
       "              delete Bokeh.index[id];\n",
       "            }\n",
       "          }\n",
       "        }\n",
       "      });\n",
       "      // Destroy server and session\n",
       "      var cmd = \"import bokeh.io.notebook as ion; ion.destroy_server('\" + server_id + \"')\";\n",
       "      cell.notebook.kernel.execute(cmd);\n",
       "    }\n",
       "  }\n",
       "\n",
       "  /**\n",
       "   * Handle when a new output is added\n",
       "   */\n",
       "  function handleAddOutput(event, handle) {\n",
       "    var output_area = handle.output_area;\n",
       "    var output = handle.output;\n",
       "\n",
       "    // limit handleAddOutput to display_data with EXEC_MIME_TYPE content only\n",
       "    if ((output.output_type != \"display_data\") || (!Object.prototype.hasOwnProperty.call(output.data, EXEC_MIME_TYPE))) {\n",
       "      return\n",
       "    }\n",
       "\n",
       "    var toinsert = output_area.element.find(\".\" + CLASS_NAME.split(' ')[0]);\n",
       "\n",
       "    if (output.metadata[EXEC_MIME_TYPE][\"id\"] !== undefined) {\n",
       "      toinsert[toinsert.length - 1].firstChild.textContent = output.data[JS_MIME_TYPE];\n",
       "      // store reference to embed id on output_area\n",
       "      output_area._bokeh_element_id = output.metadata[EXEC_MIME_TYPE][\"id\"];\n",
       "    }\n",
       "    if (output.metadata[EXEC_MIME_TYPE][\"server_id\"] !== undefined) {\n",
       "      var bk_div = document.createElement(\"div\");\n",
       "      bk_div.innerHTML = output.data[HTML_MIME_TYPE];\n",
       "      var script_attrs = bk_div.children[0].attributes;\n",
       "      for (var i = 0; i < script_attrs.length; i++) {\n",
       "        toinsert[toinsert.length - 1].firstChild.setAttribute(script_attrs[i].name, script_attrs[i].value);\n",
       "        toinsert[toinsert.length - 1].firstChild.textContent = bk_div.children[0].textContent\n",
       "      }\n",
       "      // store reference to server id on output_area\n",
       "      output_area._bokeh_server_id = output.metadata[EXEC_MIME_TYPE][\"server_id\"];\n",
       "    }\n",
       "  }\n",
       "\n",
       "  function register_renderer(events, OutputArea) {\n",
       "\n",
       "    function append_mime(data, metadata, element) {\n",
       "      // create a DOM node to render to\n",
       "      var toinsert = this.create_output_subarea(\n",
       "        metadata,\n",
       "        CLASS_NAME,\n",
       "        EXEC_MIME_TYPE\n",
       "      );\n",
       "      this.keyboard_manager.register_events(toinsert);\n",
       "      // Render to node\n",
       "      var props = {data: data, metadata: metadata[EXEC_MIME_TYPE]};\n",
       "      render(props, toinsert[toinsert.length - 1]);\n",
       "      element.append(toinsert);\n",
       "      return toinsert\n",
       "    }\n",
       "\n",
       "    /* Handle when an output is cleared or removed */\n",
       "    events.on('clear_output.CodeCell', handleClearOutput);\n",
       "    events.on('delete.Cell', handleClearOutput);\n",
       "\n",
       "    /* Handle when a new output is added */\n",
       "    events.on('output_added.OutputArea', handleAddOutput);\n",
       "\n",
       "    /**\n",
       "     * Register the mime type and append_mime function with output_area\n",
       "     */\n",
       "    OutputArea.prototype.register_mime_type(EXEC_MIME_TYPE, append_mime, {\n",
       "      /* Is output safe? */\n",
       "      safe: true,\n",
       "      /* Index of renderer in `output_area.display_order` */\n",
       "      index: 0\n",
       "    });\n",
       "  }\n",
       "\n",
       "  // register the mime type if in Jupyter Notebook environment and previously unregistered\n",
       "  if (root.Jupyter !== undefined) {\n",
       "    var events = require('base/js/events');\n",
       "    var OutputArea = require('notebook/js/outputarea').OutputArea;\n",
       "\n",
       "    if (OutputArea.prototype.mime_types().indexOf(EXEC_MIME_TYPE) == -1) {\n",
       "      register_renderer(events, OutputArea);\n",
       "    }\n",
       "  }\n",
       "\n",
       "  \n",
       "  if (typeof (root._bokeh_timeout) === \"undefined\" || force === true) {\n",
       "    root._bokeh_timeout = Date.now() + 5000;\n",
       "    root._bokeh_failed_load = false;\n",
       "  }\n",
       "\n",
       "  var NB_LOAD_WARNING = {'data': {'text/html':\n",
       "     \"<div style='background-color: #fdd'>\\n\"+\n",
       "     \"<p>\\n\"+\n",
       "     \"BokehJS does not appear to have successfully loaded. If loading BokehJS from CDN, this \\n\"+\n",
       "     \"may be due to a slow or bad network connection. Possible fixes:\\n\"+\n",
       "     \"</p>\\n\"+\n",
       "     \"<ul>\\n\"+\n",
       "     \"<li>re-rerun `output_notebook()` to attempt to load from CDN again, or</li>\\n\"+\n",
       "     \"<li>use INLINE resources instead, as so:</li>\\n\"+\n",
       "     \"</ul>\\n\"+\n",
       "     \"<code>\\n\"+\n",
       "     \"from bokeh.resources import INLINE\\n\"+\n",
       "     \"output_notebook(resources=INLINE)\\n\"+\n",
       "     \"</code>\\n\"+\n",
       "     \"</div>\"}};\n",
       "\n",
       "  function display_loaded() {\n",
       "    var el = document.getElementById(\"1002\");\n",
       "    if (el != null) {\n",
       "      el.textContent = \"BokehJS is loading...\";\n",
       "    }\n",
       "    if (root.Bokeh !== undefined) {\n",
       "      if (el != null) {\n",
       "        el.textContent = \"BokehJS \" + root.Bokeh.version + \" successfully loaded.\";\n",
       "      }\n",
       "    } else if (Date.now() < root._bokeh_timeout) {\n",
       "      setTimeout(display_loaded, 100)\n",
       "    }\n",
       "  }\n",
       "\n",
       "\n",
       "  function run_callbacks() {\n",
       "    try {\n",
       "      root._bokeh_onload_callbacks.forEach(function(callback) {\n",
       "        if (callback != null)\n",
       "          callback();\n",
       "      });\n",
       "    } finally {\n",
       "      delete root._bokeh_onload_callbacks\n",
       "    }\n",
       "    console.debug(\"Bokeh: all callbacks have finished\");\n",
       "  }\n",
       "\n",
       "  function load_libs(css_urls, js_urls, callback) {\n",
       "    if (css_urls == null) css_urls = [];\n",
       "    if (js_urls == null) js_urls = [];\n",
       "\n",
       "    root._bokeh_onload_callbacks.push(callback);\n",
       "    if (root._bokeh_is_loading > 0) {\n",
       "      console.debug(\"Bokeh: BokehJS is being loaded, scheduling callback at\", now());\n",
       "      return null;\n",
       "    }\n",
       "    if (js_urls == null || js_urls.length === 0) {\n",
       "      run_callbacks();\n",
       "      return null;\n",
       "    }\n",
       "    console.debug(\"Bokeh: BokehJS not loaded, scheduling load and callback at\", now());\n",
       "    root._bokeh_is_loading = css_urls.length + js_urls.length;\n",
       "\n",
       "    function on_load() {\n",
       "      root._bokeh_is_loading--;\n",
       "      if (root._bokeh_is_loading === 0) {\n",
       "        console.debug(\"Bokeh: all BokehJS libraries/stylesheets loaded\");\n",
       "        run_callbacks()\n",
       "      }\n",
       "    }\n",
       "\n",
       "    function on_error(url) {\n",
       "      console.error(\"failed to load \" + url);\n",
       "    }\n",
       "\n",
       "    for (let i = 0; i < css_urls.length; i++) {\n",
       "      const url = css_urls[i];\n",
       "      const element = document.createElement(\"link\");\n",
       "      element.onload = on_load;\n",
       "      element.onerror = on_error.bind(null, url);\n",
       "      element.rel = \"stylesheet\";\n",
       "      element.type = \"text/css\";\n",
       "      element.href = url;\n",
       "      console.debug(\"Bokeh: injecting link tag for BokehJS stylesheet: \", url);\n",
       "      document.body.appendChild(element);\n",
       "    }\n",
       "\n",
       "    const hashes = {\"https://cdn.bokeh.org/bokeh/release/bokeh-2.3.0.min.js\": \"HjagQp6T0/7bxYTAXbLotF1MLAGWmhkY5siA1Gc/pcEgvgRPtMsRn0gQtMwGKiw1\", \"https://cdn.bokeh.org/bokeh/release/bokeh-widgets-2.3.0.min.js\": \"ZEPPTjL+mdyqgIq+/pl9KTwzji8Kow2NnI3zWY8+sFinWP/SYJ80BnfeJsa45iYj\", \"https://cdn.bokeh.org/bokeh/release/bokeh-tables-2.3.0.min.js\": \"exLqv2ACDRIaV7ZK1iL8aGzGYQvKVuT3U2CT7FsQREBxRah6JrkVCoFy0koY1YqV\"};\n",
       "\n",
       "    for (let i = 0; i < js_urls.length; i++) {\n",
       "      const url = js_urls[i];\n",
       "      const element = document.createElement('script');\n",
       "      element.onload = on_load;\n",
       "      element.onerror = on_error.bind(null, url);\n",
       "      element.async = false;\n",
       "      element.src = url;\n",
       "      if (url in hashes) {\n",
       "        element.crossOrigin = \"anonymous\";\n",
       "        element.integrity = \"sha384-\" + hashes[url];\n",
       "      }\n",
       "      console.debug(\"Bokeh: injecting script tag for BokehJS library: \", url);\n",
       "      document.head.appendChild(element);\n",
       "    }\n",
       "  };\n",
       "\n",
       "  function inject_raw_css(css) {\n",
       "    const element = document.createElement(\"style\");\n",
       "    element.appendChild(document.createTextNode(css));\n",
       "    document.body.appendChild(element);\n",
       "  }\n",
       "\n",
       "  \n",
       "  var js_urls = [\"https://cdn.bokeh.org/bokeh/release/bokeh-2.3.0.min.js\", \"https://cdn.bokeh.org/bokeh/release/bokeh-widgets-2.3.0.min.js\", \"https://cdn.bokeh.org/bokeh/release/bokeh-tables-2.3.0.min.js\"];\n",
       "  var css_urls = [];\n",
       "  \n",
       "\n",
       "  var inline_js = [\n",
       "    function(Bokeh) {\n",
       "      Bokeh.set_log_level(\"info\");\n",
       "    },\n",
       "    function(Bokeh) {\n",
       "    \n",
       "    \n",
       "    }\n",
       "  ];\n",
       "\n",
       "  function run_inline_js() {\n",
       "    \n",
       "    if (root.Bokeh !== undefined || force === true) {\n",
       "      \n",
       "    for (var i = 0; i < inline_js.length; i++) {\n",
       "      inline_js[i].call(root, root.Bokeh);\n",
       "    }\n",
       "    if (force === true) {\n",
       "        display_loaded();\n",
       "      }} else if (Date.now() < root._bokeh_timeout) {\n",
       "      setTimeout(run_inline_js, 100);\n",
       "    } else if (!root._bokeh_failed_load) {\n",
       "      console.log(\"Bokeh: BokehJS failed to load within specified timeout.\");\n",
       "      root._bokeh_failed_load = true;\n",
       "    } else if (force !== true) {\n",
       "      var cell = $(document.getElementById(\"1002\")).parents('.cell').data().cell;\n",
       "      cell.output_area.append_execute_result(NB_LOAD_WARNING)\n",
       "    }\n",
       "\n",
       "  }\n",
       "\n",
       "  if (root._bokeh_is_loading === 0) {\n",
       "    console.debug(\"Bokeh: BokehJS loaded, going straight to plotting\");\n",
       "    run_inline_js();\n",
       "  } else {\n",
       "    load_libs(css_urls, js_urls, function() {\n",
       "      console.debug(\"Bokeh: BokehJS plotting callback run at\", now());\n",
       "      run_inline_js();\n",
       "    });\n",
       "  }\n",
       "}(window));"
      ],
      "application/vnd.bokehjs_load.v0+json": "\n(function(root) {\n  function now() {\n    return new Date();\n  }\n\n  var force = true;\n\n  if (typeof root._bokeh_onload_callbacks === \"undefined\" || force === true) {\n    root._bokeh_onload_callbacks = [];\n    root._bokeh_is_loading = undefined;\n  }\n\n  \n\n  \n  if (typeof (root._bokeh_timeout) === \"undefined\" || force === true) {\n    root._bokeh_timeout = Date.now() + 5000;\n    root._bokeh_failed_load = false;\n  }\n\n  var NB_LOAD_WARNING = {'data': {'text/html':\n     \"<div style='background-color: #fdd'>\\n\"+\n     \"<p>\\n\"+\n     \"BokehJS does not appear to have successfully loaded. If loading BokehJS from CDN, this \\n\"+\n     \"may be due to a slow or bad network connection. Possible fixes:\\n\"+\n     \"</p>\\n\"+\n     \"<ul>\\n\"+\n     \"<li>re-rerun `output_notebook()` to attempt to load from CDN again, or</li>\\n\"+\n     \"<li>use INLINE resources instead, as so:</li>\\n\"+\n     \"</ul>\\n\"+\n     \"<code>\\n\"+\n     \"from bokeh.resources import INLINE\\n\"+\n     \"output_notebook(resources=INLINE)\\n\"+\n     \"</code>\\n\"+\n     \"</div>\"}};\n\n  function display_loaded() {\n    var el = document.getElementById(\"1002\");\n    if (el != null) {\n      el.textContent = \"BokehJS is loading...\";\n    }\n    if (root.Bokeh !== undefined) {\n      if (el != null) {\n        el.textContent = \"BokehJS \" + root.Bokeh.version + \" successfully loaded.\";\n      }\n    } else if (Date.now() < root._bokeh_timeout) {\n      setTimeout(display_loaded, 100)\n    }\n  }\n\n\n  function run_callbacks() {\n    try {\n      root._bokeh_onload_callbacks.forEach(function(callback) {\n        if (callback != null)\n          callback();\n      });\n    } finally {\n      delete root._bokeh_onload_callbacks\n    }\n    console.debug(\"Bokeh: all callbacks have finished\");\n  }\n\n  function load_libs(css_urls, js_urls, callback) {\n    if (css_urls == null) css_urls = [];\n    if (js_urls == null) js_urls = [];\n\n    root._bokeh_onload_callbacks.push(callback);\n    if (root._bokeh_is_loading > 0) {\n      console.debug(\"Bokeh: BokehJS is being loaded, scheduling callback at\", now());\n      return null;\n    }\n    if (js_urls == null || js_urls.length === 0) {\n      run_callbacks();\n      return null;\n    }\n    console.debug(\"Bokeh: BokehJS not loaded, scheduling load and callback at\", now());\n    root._bokeh_is_loading = css_urls.length + js_urls.length;\n\n    function on_load() {\n      root._bokeh_is_loading--;\n      if (root._bokeh_is_loading === 0) {\n        console.debug(\"Bokeh: all BokehJS libraries/stylesheets loaded\");\n        run_callbacks()\n      }\n    }\n\n    function on_error(url) {\n      console.error(\"failed to load \" + url);\n    }\n\n    for (let i = 0; i < css_urls.length; i++) {\n      const url = css_urls[i];\n      const element = document.createElement(\"link\");\n      element.onload = on_load;\n      element.onerror = on_error.bind(null, url);\n      element.rel = \"stylesheet\";\n      element.type = \"text/css\";\n      element.href = url;\n      console.debug(\"Bokeh: injecting link tag for BokehJS stylesheet: \", url);\n      document.body.appendChild(element);\n    }\n\n    const hashes = {\"https://cdn.bokeh.org/bokeh/release/bokeh-2.3.0.min.js\": \"HjagQp6T0/7bxYTAXbLotF1MLAGWmhkY5siA1Gc/pcEgvgRPtMsRn0gQtMwGKiw1\", \"https://cdn.bokeh.org/bokeh/release/bokeh-widgets-2.3.0.min.js\": \"ZEPPTjL+mdyqgIq+/pl9KTwzji8Kow2NnI3zWY8+sFinWP/SYJ80BnfeJsa45iYj\", \"https://cdn.bokeh.org/bokeh/release/bokeh-tables-2.3.0.min.js\": \"exLqv2ACDRIaV7ZK1iL8aGzGYQvKVuT3U2CT7FsQREBxRah6JrkVCoFy0koY1YqV\"};\n\n    for (let i = 0; i < js_urls.length; i++) {\n      const url = js_urls[i];\n      const element = document.createElement('script');\n      element.onload = on_load;\n      element.onerror = on_error.bind(null, url);\n      element.async = false;\n      element.src = url;\n      if (url in hashes) {\n        element.crossOrigin = \"anonymous\";\n        element.integrity = \"sha384-\" + hashes[url];\n      }\n      console.debug(\"Bokeh: injecting script tag for BokehJS library: \", url);\n      document.head.appendChild(element);\n    }\n  };\n\n  function inject_raw_css(css) {\n    const element = document.createElement(\"style\");\n    element.appendChild(document.createTextNode(css));\n    document.body.appendChild(element);\n  }\n\n  \n  var js_urls = [\"https://cdn.bokeh.org/bokeh/release/bokeh-2.3.0.min.js\", \"https://cdn.bokeh.org/bokeh/release/bokeh-widgets-2.3.0.min.js\", \"https://cdn.bokeh.org/bokeh/release/bokeh-tables-2.3.0.min.js\"];\n  var css_urls = [];\n  \n\n  var inline_js = [\n    function(Bokeh) {\n      Bokeh.set_log_level(\"info\");\n    },\n    function(Bokeh) {\n    \n    \n    }\n  ];\n\n  function run_inline_js() {\n    \n    if (root.Bokeh !== undefined || force === true) {\n      \n    for (var i = 0; i < inline_js.length; i++) {\n      inline_js[i].call(root, root.Bokeh);\n    }\n    if (force === true) {\n        display_loaded();\n      }} else if (Date.now() < root._bokeh_timeout) {\n      setTimeout(run_inline_js, 100);\n    } else if (!root._bokeh_failed_load) {\n      console.log(\"Bokeh: BokehJS failed to load within specified timeout.\");\n      root._bokeh_failed_load = true;\n    } else if (force !== true) {\n      var cell = $(document.getElementById(\"1002\")).parents('.cell').data().cell;\n      cell.output_area.append_execute_result(NB_LOAD_WARNING)\n    }\n\n  }\n\n  if (root._bokeh_is_loading === 0) {\n    console.debug(\"Bokeh: BokehJS loaded, going straight to plotting\");\n    run_inline_js();\n  } else {\n    load_libs(css_urls, js_urls, function() {\n      console.debug(\"Bokeh: BokehJS plotting callback run at\", now());\n      run_inline_js();\n    });\n  }\n}(window));"
     },
     "metadata": {},
     "output_type": "display_data"
    }
   ],
   "source": [
    "# Colab setup ------------------\n",
    "import os, sys, subprocess\n",
    "if \"google.colab\" in sys.modules:\n",
    "    cmd = \"pip install --upgrade colorcet watermark\"\n",
    "    process = subprocess.Popen(cmd.split(), stdout=subprocess.PIPE, stderr=subprocess.PIPE)\n",
    "    stdout, stderr = process.communicate()\n",
    "# ------------------------------\n",
    "\n",
    "import numpy as np\n",
    "import scipy.integrate\n",
    "\n",
    "import bokeh.io\n",
    "import bokeh.layouts\n",
    "import bokeh.models\n",
    "import bokeh.plotting\n",
    "\n",
    "import colorcet\n",
    "\n",
    "bokeh.io.output_notebook()"
   ]
  },
  {
   "cell_type": "markdown",
   "metadata": {},
   "source": [
    "<hr>"
   ]
  },
  {
   "cell_type": "markdown",
   "metadata": {},
   "source": [
    "You have already installed [Anaconda](https://store.continuum.io/cshop/anaconda/) and have launched a Jupyter notebook. You have the tools you need to use your computer to analyze biological circuits. In this chapter, we will put these tools to use analyzing a genetic circuit. In doing so, we will demonstrate key techniques you will use over and over again when working with biological circuits."
   ]
  },
  {
   "cell_type": "markdown",
   "metadata": {},
   "source": [
    "## Our model system\n",
    "\n",
    "As we learn how to use some Python-based tools for analysis of genetic circuits, we will learn an important design principle about *cascades*. A three-component cascade is illustrated below.\n",
    "\n",
    "\\begin{align}\n",
    "\\mathrm{X} \\longrightarrow \\mathrm{Y} \\longrightarrow \\mathrm{Z}\n",
    "\\end{align}\n",
    "\n",
    "Here, X is our input, which we will specify. X could be something like an externally imposed stimulus.  We are interested in the response of Y and Z as a function of input X. We will expose the design principle that *a cascade can filter out high frequency fluctuations*. This makes sense intuitively. Imagine we have a brief pulse in X. Y will start to grow in concentration during the pulse, but will then fall back toward its basal level when the pulse stops. If there is not enough time for Y to accumulate enough to enhance production of Z, then the level of Z does not change appreciably. Thus, Z shows no response to a brief pulse."
   ]
  },
  {
   "cell_type": "markdown",
   "metadata": {},
   "source": [
    "## The dynamical equations\n",
    "\n",
    "We will model the circuit by writing down a system of ordinary differential equations and solving them. We will assume Hill-like behavior for the activation of Y by X and of Z by Y. (We will describe Hill functions, fortuitously named after [their inventor](https://en.wikipedia.org/wiki/Archibald_Hill) and their shape, in the next chapter. For now, we take this regulatory function as given.) We also neglect leakage. We define the concentrations of X, Y, and Z, respectively as $x$, $y$, and $z$. The system of ODEs describing this system is then\n",
    "\n",
    "\\begin{align}\n",
    "\\frac{\\mathrm{d}y}{\\mathrm{d}t} &= \\beta_y\\,\\frac{(x/k_x)^{n_x}}{1+(x/k_x)^{n_x}} - \\gamma_y y, \\\\[1em]\n",
    "\\frac{\\mathrm{d}z}{\\mathrm{d}t} &= \\beta_z\\,\\frac{(y/k_y)^{n_y}}{1+(y/k_y)^{n_y}} - \\gamma_z z.\n",
    "\\end{align}\n",
    "\n",
    "Note that the imposed $x(t)$ is in general a function of time.  "
   ]
  },
  {
   "cell_type": "markdown",
   "metadata": {},
   "source": [
    "## Nondimensionalization\n",
    "\n",
    "As is generally a good idea for analysis of these systems, we will **nondimensionalize** the dynamical equations. The variables and parameters in the problem have **dimension**. For example, $y$ has dimension of concentration, or number of particles per cubic length, written as\n",
    "\n",
    "\\begin{align}\n",
    "y = \\left[\\frac{N}{L^3}\\right].\n",
    "\\end{align}\n",
    "\n",
    "The parameter $\\gamma_y$ has dimension of inverse time, or $\\gamma_y = [T^{-1}]$. It is clear that each term in the dynamical equations has dimension of $N/L^3 T$. In general, every term in an equation must have the same dimension; trying to add, for example, a meter to a kilogram is nonsensical.\n",
    "\n",
    "The nondimensionalization procedure involves rewriting the equations such that every term is **dimensionless**, which means that every term has dimension of unity. This is beneficial for several reasons.\n",
    "\n",
    "1. It reduces the number of parameters you need to consider. Only dimensionless ratios/products of parameters are considered.\n",
    "2. It allows comparison of the relative magnitudes of terms in an equation.\n",
    "3. It provides intuition by identifying which ratios and products of parameters determine the dynamics.\n",
    "\n",
    "There is no one way to nondimensionalize a set of dynamical equations. We have found the following procedure to be generally effective. Let $\\theta$ be one of the variables, space, or time. In the above dynamical equations, $\\theta$ could be $x$, $y$, $z$, or $t$. (Here $x$, $y$, and $z$ denote concentrations; there are no spatial variables in this problem.) By contrast, $\\beta_y$, $\\beta_z$, $k_x$, $k_y$, $n_x$, $n_y$, $\\gamma_y$, and $\\gamma_z$ are system *parameters*, not variables.\n",
    "\n",
    "1. For each variable and time, define a dimensionless version (usually marked by a tilde) such that $\\theta = \\theta_d \\tilde{\\theta}$, where $\\theta$ is some variable or time. The constant $\\theta_d$ imparts the dimension on $\\theta$ (hence the subscript *d*).\n",
    "2. Substitute these expressions into the dynamical equations.\n",
    "3. Rearrange the equations such that every term is dimensionless. As a result, you find ratios and products of the $\\theta_d$'s and the system parameters. These ratios are dimensionless and are called *dimensionless parameters*.\n",
    "4. Choose expressions for the $\\theta_d$'s that minimize the number of dimensionless parameters.\n",
    "\n",
    "As usual, this is best seen by example. We start be defining\n",
    "\n",
    "\\begin{align}\n",
    "&t = t_d\\,\\tilde{t},\\\\[1em]\n",
    "&x = x_d\\,\\tilde{x},\\\\[1em]\n",
    "&y = y_d\\,\\tilde{y},\\\\[1em]\n",
    "&z = z_d\\,\\tilde{z}.\n",
    "\\end{align}\n",
    "\n",
    "Inserting these into the dynamical equations gives\n",
    "\n",
    "\\begin{align}\n",
    "&\\frac{y_d}{t_d}\\,\\frac{\\mathrm{d}\\tilde{y}}{\\mathrm{d}\\tilde{t}} = \\beta_y\\,\\frac{(x_d\\tilde{x}/k_x)^{n_x}}{1+(x_d\\tilde{x}/k_x)^{n_x}} - \\gamma_y y_d \\tilde{y}, \\\\[1em]\n",
    "&\\frac{z_d}{t_d}\\frac{\\mathrm{d}\\tilde{z}}{\\mathrm{d}\\tilde{t}} = \\beta_z\\,\\frac{(y_d\\tilde{y}/k_y)^{n_y}}{1+(y_d\\tilde{y}/k_y)^{n_y}} - \\gamma_z z_d\\tilde{z}.\n",
    "\\end{align}\n",
    "\n",
    "To make every term dimensionless, we can divide the top equation by $y_d/t_d$ and the bottom equation by $z_d/t_d$. The result is\n",
    "\n",
    "\\begin{align}\n",
    "&\\frac{\\mathrm{d}\\tilde{y}}{\\mathrm{d}\\tilde{t}} = \\frac{\\beta_y\\,t_d}{y_d}\\,\\frac{(x_d\\tilde{x}/k_x)^{n_x}}{1+(x_d\\tilde{x}/k_x)^{n_x}} - \\gamma_y t_d \\tilde{y}, \\\\[1em]\n",
    "&\\frac{\\mathrm{d}\\tilde{z}}{\\mathrm{d}\\tilde{t}} = \\frac{\\beta_z\\,t_d}{z_d}\\,\\frac{(y_d\\tilde{y}/k_y)^{n_y}}{1+(y_d\\tilde{y}/k_y)^{n_y}} - \\gamma_z t_d\\tilde{z}.\n",
    "\\end{align}\n",
    "\n",
    "We identify our dimensionless parameters as\n",
    "\\begin{align}\n",
    "&\\beta_y\\,t_d/y_d, \\\\[1em]\n",
    "&\\beta_z\\,t_d/z_d, \\\\[1em]\n",
    "&x_d/k_x,\\\\[1em]\n",
    "&y_d/k_y,\\\\[1em]\n",
    "&\\gamma_y t_d,\\\\[1em]\n",
    "&\\gamma_z t_d,\n",
    "\\end{align}\n",
    "\n",
    "with $n_x$ and $n_y$ already being dimensionless. We see immediately that we can eliminate two of the dimensionless parameters if we choose $x_d = k_x$ and $y_d = k_y$. We can eliminate another by choosing $t_d = 1/\\gamma_y$. (We could have also chosen $t_d = 1 / \\gamma_z$.) Thus, we have $\\tilde{\\gamma} \\equiv \\gamma_z / \\gamma_y$ and $\\tilde{\\beta} \\equiv \\beta_y/\\gamma_y k_y$ as a dimensionless parameters. Finally, we can choose $z_d = \\beta_z/\\gamma_z$ such that $\\beta_z\\,t_d/z_d = \\tilde{\\gamma}$. This last choice does not add a dimensionless parameter, since we have already defined $\\tilde{\\gamma}$.\n",
    "\n",
    "Thus, our dimensionless equations are\n",
    "\n",
    "\\begin{align}\n",
    "&\\frac{\\mathrm{d}\\tilde{y}}{\\mathrm{d}\\tilde{t}} = \\tilde{\\beta}\\,\\frac{\\tilde{x}^{n_x}}{1+\\tilde{x}^{n_x}} - \\tilde{y}, \\\\[1em]\n",
    "&\\frac{\\mathrm{d}\\tilde{z}}{\\mathrm{d}\\tilde{t}} = \\tilde{\\gamma}\\,\\frac{\\tilde{y}^{n_y}}{1+\\tilde{y}^{n_y}} - \\tilde{\\gamma} \\tilde{z}.\n",
    "\\end{align}\n",
    "\n",
    "For notational convenience, and since we will always be working in dimensionless units, we will drop all of the tildes. Doing this and dividing the bottom equation by $\\tilde{\\gamma}$ gives\n",
    "\n",
    "\\begin{align}\n",
    "\\frac{\\mathrm{d}y}{\\mathrm{d}t} &= \\beta \\,\\frac{x^{n_x}}{1+x^{n_x}} - y, \\\\[1em]\n",
    "\\gamma^{-1}\\,\\frac{\\mathrm{d}z}{\\mathrm{d}t} &= \\frac{y^{n_y}}{1+y^{n_y}} - z.\n",
    "\\end{align}\n",
    "\n",
    "Thus, in addition to the specifics of our input $x(t)$, we have four parameters, $\\beta$, $\\gamma$, $n_x$, and $n_y$. We already know that $n_x$ and $n_y$ are Hill coefficients that parametrize the ultrasensitivity of the regulation by X and Y respectively. The parameter $\\beta = \\beta_y/\\gamma_y k_y$ is the ratio of the unregulated level of Y, $\\beta_y/\\gamma$ to the level of Y that activates Z. The parameter $\\gamma$ is the ratio of the decay rate of Z to that of Y. If dilution is the primary mode of concentration depletion for both Y and Z, then $\\gamma \\approx 1$. We now have a clear picture of which dimensionless parameters dictate the dynamics and what they mean physically."
   ]
  },
  {
   "cell_type": "markdown",
   "metadata": {},
   "source": [
    "## The scipy.intergrate module\n",
    "\n",
    "Now that we have our dimensionless dynamical equations, we will move to solving them.\n",
    "\n",
    "**The [SciPy Library](https://docs.scipy.org/doc/scipy/reference/)** is a Python library for scientific computing. It contains many modules, including `scipy.stats`, `scipy.special`, and `scipy.optimize`, which respectively have functions to perform statistical calculations, special functions, and optimization routines. There are many more. We will use the `scipy.integrate` module to integrate systems of ODEs.\n",
    "\n",
    "There are three main APIs for solving real-valued initial value problems in the module. They are [solve_ivp()](https://docs.scipy.org/doc/scipy/reference/generated/scipy.integrate.solve_ivp.html#scipy.integrate.solve_ivp), [ode()](https://scipy.github.io/devdocs/generated/scipy.integrate.ode.html#scipy.integrate.ode), and [odeint()](https://scipy.github.io/devdocs/generated/scipy.integrate.odeint.html#scipy.integrate.odeint). According to the SciPy developers, `solve_ivp()` is the preferred method, with the others labeled as having an \"old\" API. The `solve_ivp()` function has the flexibility of allowing choice of multiple numerical algorithms for solving ODEs. However, for the kinds of problems we encounter in this class, I find that the generic LSODA algorithm developed by Linda Petzold and Alan Hindmarsh that handles both stiff and non-stiff problems with variable time stepping is the best option. This is the only solver offered in the `odeint()` function. If we compare the two solvers, `solve_ivp()` and `odeint()`, the former has a large overhead, which can lead to performance issues for small problems (for large problems, this is not a big deal). Since most of our problems are small, we will use `odeint()`. It has much better performance, and though its API is different, it is still intuitive.\n",
    "\n",
    "The basic call signature for `odeint()` is\n",
    "\n",
    "    scipy.integrate.odeint(func, y0, t, args=())\n",
    "\n",
    "There are many other keyword arguments to set algorithmic parameters, but we will generally not need them (and you can read about them in the [documentation](https://scipy.github.io/devdocs/generated/scipy.integrate.odeint.html#scipy.integrate.odeint)).\n",
    "Importantly, `func` is a vector-valued function with call signature `func(y, t, *args)` that specifies the right hand side of the system of ODEs to be solved. `t` is a scalar time point and `y` is a one-dimensional array (though multidimensional arrays are possible). `y0` is an array with the initial conditions.\n",
    "\n",
    "As is often the case, use of this function is best seen by example, and we will now apply it to the cascade circuit."
   ]
  },
  {
   "cell_type": "markdown",
   "metadata": {},
   "source": [
    "## Solving for a constant input X\n",
    "\n",
    "We will first consider the case where we initially have no X, Y, or Z present. At time $t = 0$, the concentration of X is suddenly increased to $x_0$. So, we need five parameters for the right hand side of our ODEs, $\\beta$, $\\gamma$, $n_x$, $n_y$, and $x_0$.\n",
    "\n",
    "We now define the function for the right hand side of the ODEs."
   ]
  },
  {
   "cell_type": "code",
   "execution_count": 2,
   "metadata": {},
   "outputs": [],
   "source": [
    "def cascade_rhs(yz, t, beta, gamma, n_x, n_y, x):\n",
    "    \"\"\"\n",
    "    Right hand side for cascade X -> Y -> Z.  Return dy/dt and dz/dt.\n",
    "    \"\"\"\n",
    "    # Unpack y and z\n",
    "    y, z = yz\n",
    "\n",
    "    # Compute dy/dt\n",
    "    dy_dt = beta * x ** n_x / (1 + x ** n_x) - y\n",
    "\n",
    "    # Compute dz/dt\n",
    "    dz_dt = gamma * (y ** n_y / (1 + y ** n_y) - z)\n",
    "\n",
    "    # Return the result as a NumPy array\n",
    "    return np.array([dy_dt, dz_dt])"
   ]
  },
  {
   "cell_type": "markdown",
   "metadata": {},
   "source": [
    "We can now define the initial conditions, our parameters, and the time points we want and use `scipy.integrate.odeint()` to solve."
   ]
  },
  {
   "cell_type": "code",
   "execution_count": 3,
   "metadata": {},
   "outputs": [],
   "source": [
    "# Number of time points we want for the solutions\n",
    "n = 1000\n",
    "\n",
    "# Time points we want for the solution\n",
    "t = np.linspace(0, 10, n)\n",
    "\n",
    "# Initial condition\n",
    "yz_0 = np.array([0.0, 0.0])\n",
    "\n",
    "# Parameters\n",
    "beta = 1.0\n",
    "gamma = 1.0\n",
    "n_x = 2\n",
    "n_y = 2\n",
    "x0 = 2.0\n",
    "\n",
    "# Package parameters into a tuple\n",
    "args = (beta, gamma, n_x, n_y, x0)\n",
    "\n",
    "# Integrate ODES\n",
    "yz = scipy.integrate.odeint(cascade_rhs, yz_0, t, args=args)"
   ]
  },
  {
   "cell_type": "markdown",
   "metadata": {},
   "source": [
    "That's it!  The integration is done.  We can now look at what `scipy.integrate.odeint()`'s output looks like."
   ]
  },
  {
   "cell_type": "code",
   "execution_count": 4,
   "metadata": {},
   "outputs": [
    {
     "data": {
      "text/plain": [
       "(1000, 2)"
      ]
     },
     "execution_count": 4,
     "metadata": {},
     "output_type": "execute_result"
    }
   ],
   "source": [
    "yz.shape"
   ]
  },
  {
   "cell_type": "markdown",
   "metadata": {},
   "source": [
    "The first column of the output `yz` gives $y(t)$ at the specified time points and the second column gives $z(t)$. We would now like to plot the results."
   ]
  },
  {
   "cell_type": "markdown",
   "metadata": {},
   "source": [
    "## Plotting results\n",
    "\n",
    "We will use [Bokeh](https://docs.bokeh.org/) to plot the results. The syntax is pretty self-explanatory from the example below. Note that you can save a plot as a PNG by clicking the disk icon next to the plot, which might be helpful for incorporating your plots into your presentations. (Note that for publications, you should usually save your figures in a vector graphics format, which [Bokeh supports](https://docs.bokeh.org/en/latest/docs/user_guide/export.html), but is not necessary, and in fact discouraged, for display of plots in the browser.) \n",
    "\n",
    "Before building the plot, we will load in the color scheme we will use. The [colorcet package](https://colorcet.holoviz.org/) is good for this. I like to use the Category10 color palette for categorical colors."
   ]
  },
  {
   "cell_type": "code",
   "execution_count": 5,
   "metadata": {},
   "outputs": [],
   "source": [
    "# Set up color palette for this notebook\n",
    "colors = colorcet.b_glasbey_category10"
   ]
  },
  {
   "cell_type": "markdown",
   "metadata": {},
   "source": [
    "Colors in place, we will write a function to set up the plot. Within this function, we will write the solver; not just the plotting function. It will become clear that this is useful for interactive graphics. Because transcription rates, decay rates, and input concentrations of X can vary over orders of magnitude, we will input those as their logarithms. Finally, we will allow for normalization of the responses. That is, we allow for rescaling of the Y and Z concentrations such that their maximum concentration is one."
   ]
  },
  {
   "cell_type": "code",
   "execution_count": 6,
   "metadata": {},
   "outputs": [],
   "source": [
    "def cascade_response_plot(\n",
    "    log_beta=0,\n",
    "    log_gamma=0,\n",
    "    n_x=2,\n",
    "    n_y=2,\n",
    "    log_x0=np.log10(2),\n",
    "    t_max=10,\n",
    "    normalize=False,\n",
    "):\n",
    "    \"\"\"Generate a plot showing response of the cascade circuit\n",
    "    to a step in x0.\n",
    "    \"\"\"\n",
    "    # Package parameters into a tuple\n",
    "    args = (\n",
    "        10 ** log_beta,\n",
    "        10 ** log_gamma,\n",
    "        n_x,\n",
    "        n_y,\n",
    "        10 ** log_x0,\n",
    "    )\n",
    "\n",
    "    # Integrate ODES\n",
    "    t = np.linspace(0, t_max, 1000)\n",
    "    yz = scipy.integrate.odeint(cascade_rhs, yz_0, t, args=args)\n",
    "    y, z = yz.transpose()\n",
    "\n",
    "    # Normalize Y and Z responses\n",
    "    if normalize:\n",
    "        y /= y.max()\n",
    "        z /= z.max()\n",
    "\n",
    "    # Set up plot\n",
    "    p = bokeh.plotting.figure(\n",
    "        frame_width=325,\n",
    "        frame_height=250,\n",
    "        x_axis_label=\"dimensionless time\",\n",
    "        y_axis_label=f\"{'normalized ' if normalize else ''}dimensionless y, z\",\n",
    "        x_range=[0, t_max],\n",
    "    )\n",
    "\n",
    "    # Populate glyphs\n",
    "    p.line(t, y, line_width=2, color=colors[0], legend_label=\"y\")\n",
    "    p.line(t, z, line_width=2, color=colors[1], legend_label=\"z\")\n",
    "\n",
    "    # Place the legend\n",
    "    p.legend.location = \"bottom_right\"\n",
    "\n",
    "    return p"
   ]
  },
  {
   "cell_type": "markdown",
   "metadata": {},
   "source": [
    "Now that we have our function, we call it to generate the graphic, and then we use `bokeh.io.show()` to display the graphic in the notebook. Note that at the top of the notebook, we called `bokeh.io.output_notebook()` which tells `bokeh.io.show()` to display the plot in the notebook instead of writing it out to a file."
   ]
  },
  {
   "cell_type": "code",
   "execution_count": 7,
   "metadata": {},
   "outputs": [
    {
     "data": {
      "text/html": [
       "\n",
       "\n",
       "\n",
       "\n",
       "\n",
       "\n",
       "  <div class=\"bk-root\" id=\"c539003d-7636-4ebb-b7fb-6827b41a14f3\" data-root-id=\"1003\"></div>\n"
      ]
     },
     "metadata": {},
     "output_type": "display_data"
    },
    {
     "data": {
      "application/javascript": [
       "(function(root) {\n",
       "  function embed_document(root) {\n",
       "    \n",
       "  var docs_json = {\"3e048b2e-f129-4865-8cf5-742f536ade2b\":{\"defs\":[{\"extends\":null,\"module\":null,\"name\":\"DataModel\",\"overrides\":[],\"properties\":[]}],\"roots\":{\"references\":[{\"attributes\":{\"below\":[{\"id\":\"1012\"}],\"center\":[{\"id\":\"1015\"},{\"id\":\"1019\"},{\"id\":\"1050\"}],\"frame_height\":250,\"frame_width\":325,\"left\":[{\"id\":\"1016\"}],\"renderers\":[{\"id\":\"1037\"},{\"id\":\"1055\"}],\"title\":{\"id\":\"1040\"},\"toolbar\":{\"id\":\"1027\"},\"x_range\":{\"id\":\"1004\"},\"x_scale\":{\"id\":\"1008\"},\"y_range\":{\"id\":\"1006\"},\"y_scale\":{\"id\":\"1010\"}},\"id\":\"1003\",\"subtype\":\"Figure\",\"type\":\"Plot\"},{\"attributes\":{\"data_source\":{\"id\":\"1034\"},\"glyph\":{\"id\":\"1035\"},\"hover_glyph\":null,\"muted_glyph\":null,\"nonselection_glyph\":{\"id\":\"1036\"},\"view\":{\"id\":\"1038\"}},\"id\":\"1037\",\"type\":\"GlyphRenderer\"},{\"attributes\":{},\"id\":\"1006\",\"type\":\"DataRange1d\"},{\"attributes\":{\"axis_label\":\"dimensionless time\",\"formatter\":{\"id\":\"1045\"},\"major_label_policy\":{\"id\":\"1046\"},\"ticker\":{\"id\":\"1013\"}},\"id\":\"1012\",\"type\":\"LinearAxis\"},{\"attributes\":{},\"id\":\"1045\",\"type\":\"BasicTickFormatter\"},{\"attributes\":{},\"id\":\"1046\",\"type\":\"AllLabels\"},{\"attributes\":{\"source\":{\"id\":\"1034\"}},\"id\":\"1038\",\"type\":\"CDSView\"},{\"attributes\":{\"data_source\":{\"id\":\"1052\"},\"glyph\":{\"id\":\"1053\"},\"hover_glyph\":null,\"muted_glyph\":null,\"nonselection_glyph\":{\"id\":\"1054\"},\"view\":{\"id\":\"1056\"}},\"id\":\"1055\",\"type\":\"GlyphRenderer\"},{\"attributes\":{\"line_alpha\":0.1,\"line_color\":\"#1f77b3\",\"line_width\":2,\"x\":{\"field\":\"x\"},\"y\":{\"field\":\"y\"}},\"id\":\"1036\",\"type\":\"Line\"},{\"attributes\":{},\"id\":\"1047\",\"type\":\"Selection\"},{\"attributes\":{},\"id\":\"1048\",\"type\":\"UnionRenderers\"},{\"attributes\":{\"axis\":{\"id\":\"1016\"},\"dimension\":1,\"ticker\":null},\"id\":\"1019\",\"type\":\"Grid\"},{\"attributes\":{},\"id\":\"1013\",\"type\":\"BasicTicker\"},{\"attributes\":{\"label\":{\"value\":\"z\"},\"renderers\":[{\"id\":\"1055\"}]},\"id\":\"1070\",\"type\":\"LegendItem\"},{\"attributes\":{\"source\":{\"id\":\"1052\"}},\"id\":\"1056\",\"type\":\"CDSView\"},{\"attributes\":{\"data\":{\"x\":{\"__ndarray__\":\"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\",\"dtype\":\"float64\",\"order\":\"little\",\"shape\":[1000]},\"y\":{\"__ndarray__\":\"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\",\"dtype\":\"float64\",\"order\":\"little\",\"shape\":[1000]}},\"selected\":{\"id\":\"1067\"},\"selection_policy\":{\"id\":\"1068\"}},\"id\":\"1052\",\"type\":\"ColumnDataSource\"},{\"attributes\":{\"data\":{\"x\":{\"__ndarray__\":\"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\",\"dtype\":\"float64\",\"order\":\"little\",\"shape\":[1000]},\"y\":{\"__ndarray__\":\"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\",\"dtype\":\"float64\",\"order\":\"little\",\"shape\":[1000]}},\"selected\":{\"id\":\"1047\"},\"selection_policy\":{\"id\":\"1048\"}},\"id\":\"1034\",\"type\":\"ColumnDataSource\"},{\"attributes\":{\"line_color\":\"#ff7e0e\",\"line_width\":2,\"x\":{\"field\":\"x\"},\"y\":{\"field\":\"y\"}},\"id\":\"1053\",\"type\":\"Line\"},{\"attributes\":{\"line_alpha\":0.1,\"line_color\":\"#ff7e0e\",\"line_width\":2,\"x\":{\"field\":\"x\"},\"y\":{\"field\":\"y\"}},\"id\":\"1054\",\"type\":\"Line\"},{\"attributes\":{\"active_multi\":null,\"tools\":[{\"id\":\"1020\"},{\"id\":\"1021\"},{\"id\":\"1022\"},{\"id\":\"1023\"},{\"id\":\"1024\"},{\"id\":\"1025\"}]},\"id\":\"1027\",\"type\":\"Toolbar\"},{\"attributes\":{\"label\":{\"value\":\"y\"},\"renderers\":[{\"id\":\"1037\"}]},\"id\":\"1051\",\"type\":\"LegendItem\"},{\"attributes\":{},\"id\":\"1008\",\"type\":\"LinearScale\"},{\"attributes\":{},\"id\":\"1040\",\"type\":\"Title\"},{\"attributes\":{\"line_color\":\"#1f77b3\",\"line_width\":2,\"x\":{\"field\":\"x\"},\"y\":{\"field\":\"y\"}},\"id\":\"1035\",\"type\":\"Line\"},{\"attributes\":{},\"id\":\"1010\",\"type\":\"LinearScale\"},{\"attributes\":{},\"id\":\"1024\",\"type\":\"ResetTool\"},{\"attributes\":{},\"id\":\"1067\",\"type\":\"Selection\"},{\"attributes\":{},\"id\":\"1068\",\"type\":\"UnionRenderers\"},{\"attributes\":{\"end\":10},\"id\":\"1004\",\"type\":\"Range1d\"},{\"attributes\":{},\"id\":\"1042\",\"type\":\"BasicTickFormatter\"},{\"attributes\":{},\"id\":\"1043\",\"type\":\"AllLabels\"},{\"attributes\":{\"axis_label\":\"dimensionless y, z\",\"formatter\":{\"id\":\"1042\"},\"major_label_policy\":{\"id\":\"1043\"},\"ticker\":{\"id\":\"1017\"}},\"id\":\"1016\",\"type\":\"LinearAxis\"},{\"attributes\":{},\"id\":\"1021\",\"type\":\"WheelZoomTool\"},{\"attributes\":{\"axis\":{\"id\":\"1012\"},\"ticker\":null},\"id\":\"1015\",\"type\":\"Grid\"},{\"attributes\":{\"bottom_units\":\"screen\",\"fill_alpha\":0.5,\"fill_color\":\"lightgrey\",\"left_units\":\"screen\",\"level\":\"overlay\",\"line_alpha\":1.0,\"line_color\":\"black\",\"line_dash\":[4,4],\"line_width\":2,\"right_units\":\"screen\",\"syncable\":false,\"top_units\":\"screen\"},\"id\":\"1026\",\"type\":\"BoxAnnotation\"},{\"attributes\":{},\"id\":\"1025\",\"type\":\"HelpTool\"},{\"attributes\":{},\"id\":\"1017\",\"type\":\"BasicTicker\"},{\"attributes\":{\"items\":[{\"id\":\"1051\"},{\"id\":\"1070\"}],\"location\":\"bottom_right\"},\"id\":\"1050\",\"type\":\"Legend\"},{\"attributes\":{},\"id\":\"1023\",\"type\":\"SaveTool\"},{\"attributes\":{\"overlay\":{\"id\":\"1026\"}},\"id\":\"1022\",\"type\":\"BoxZoomTool\"},{\"attributes\":{},\"id\":\"1020\",\"type\":\"PanTool\"}],\"root_ids\":[\"1003\"]},\"title\":\"Bokeh Application\",\"version\":\"2.3.0\"}};\n",
       "  var render_items = [{\"docid\":\"3e048b2e-f129-4865-8cf5-742f536ade2b\",\"root_ids\":[\"1003\"],\"roots\":{\"1003\":\"c539003d-7636-4ebb-b7fb-6827b41a14f3\"}}];\n",
       "  root.Bokeh.embed.embed_items_notebook(docs_json, render_items);\n",
       "\n",
       "  }\n",
       "  if (root.Bokeh !== undefined) {\n",
       "    embed_document(root);\n",
       "  } else {\n",
       "    var attempts = 0;\n",
       "    var timer = setInterval(function(root) {\n",
       "      if (root.Bokeh !== undefined) {\n",
       "        clearInterval(timer);\n",
       "        embed_document(root);\n",
       "      } else {\n",
       "        attempts++;\n",
       "        if (attempts > 100) {\n",
       "          clearInterval(timer);\n",
       "          console.log(\"Bokeh: ERROR: Unable to run BokehJS code because BokehJS library is missing\");\n",
       "        }\n",
       "      }\n",
       "    }, 10, root)\n",
       "  }\n",
       "})(window);"
      ],
      "application/vnd.bokehjs_exec.v0+json": ""
     },
     "metadata": {
      "application/vnd.bokehjs_exec.v0+json": {
       "id": "1003"
      }
     },
     "output_type": "display_data"
    }
   ],
   "source": [
    "p = cascade_response_plot()\n",
    "\n",
    "# Show plot\n",
    "bokeh.io.show(p)"
   ]
  },
  {
   "cell_type": "markdown",
   "metadata": {},
   "source": [
    "We see that the cascade acts as a delay for changes in $z$ as a result of input $x$."
   ]
  },
  {
   "cell_type": "markdown",
   "metadata": {},
   "source": [
    "## Duration of input\n",
    "Now imagine that the input is a pulse of duration $\\tau$. That is, the concentration of X instantaneously rises to $x_0$, stays at $x_0$ for time $\\tau$, and then instantaneously decreases back to zero. We can write a function for this and plot it."
   ]
  },
  {
   "cell_type": "code",
   "execution_count": 8,
   "metadata": {},
   "outputs": [
    {
     "data": {
      "text/html": [
       "\n",
       "\n",
       "\n",
       "\n",
       "\n",
       "\n",
       "  <div class=\"bk-root\" id=\"02a29a59-2cd6-41f4-bece-01687f3eae1d\" data-root-id=\"1149\"></div>\n"
      ]
     },
     "metadata": {},
     "output_type": "display_data"
    },
    {
     "data": {
      "application/javascript": [
       "(function(root) {\n",
       "  function embed_document(root) {\n",
       "    \n",
       "  var docs_json = {\"89390f56-1d04-4de7-8f3f-7541119c9a6e\":{\"defs\":[{\"extends\":null,\"module\":null,\"name\":\"DataModel\",\"overrides\":[],\"properties\":[]}],\"roots\":{\"references\":[{\"attributes\":{\"below\":[{\"id\":\"1158\"}],\"center\":[{\"id\":\"1161\"},{\"id\":\"1165\"}],\"frame_height\":250,\"frame_width\":450,\"left\":[{\"id\":\"1162\"}],\"renderers\":[{\"id\":\"1183\"}],\"title\":{\"id\":\"1199\"},\"toolbar\":{\"id\":\"1173\"},\"x_range\":{\"id\":\"1150\"},\"x_scale\":{\"id\":\"1154\"},\"y_range\":{\"id\":\"1152\"},\"y_scale\":{\"id\":\"1156\"}},\"id\":\"1149\",\"subtype\":\"Figure\",\"type\":\"Plot\"},{\"attributes\":{\"line_alpha\":0.1,\"line_color\":\"#2ba02b\",\"line_width\":2,\"x\":{\"field\":\"x\"},\"y\":{\"field\":\"y\"}},\"id\":\"1182\",\"type\":\"Line\"},{\"attributes\":{},\"id\":\"1206\",\"type\":\"Selection\"},{\"attributes\":{},\"id\":\"1207\",\"type\":\"UnionRenderers\"},{\"attributes\":{},\"id\":\"1199\",\"type\":\"Title\"},{\"attributes\":{\"data\":{\"x\":{\"__ndarray__\":\"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\",\"dtype\":\"float64\",\"order\":\"little\",\"shape\":[1000]},\"y\":[0,0,0,0,0,0,0,0,0,0,0,0,0,0,0,0,0,0,0,0,0,0,0,0,0,0,0,0,0,0,0,0,0,0,0,0,0,0,0,0,0,0,0,0,0,0,0,0,0,0,0,0,0,0,0,0,0,0,0,0,0,0,0,0,0,0,0,0,0,0,0,0,0,0,0,0,0,0,0,0,0,0,0,0,0,0,0,0,0,0,0,0,0,0,0,0,0,0,0,0,2,2,2,2,2,2,2,2,2,2,2,2,2,2,2,2,2,2,2,2,2,2,2,2,2,2,2,2,2,2,2,2,2,2,2,2,2,2,2,2,2,2,2,2,2,2,2,2,2,2,2,2,2,2,2,2,2,2,2,2,2,2,2,2,2,2,2,2,2,2,2,2,2,2,2,2,2,2,2,2,2,2,2,2,2,2,2,2,2,2,2,2,2,2,2,2,2,2,2,2,2,2,2,2,2,2,2,2,2,2,2,2,2,2,2,2,2,2,2,2,2,2,2,2,2,2,2,2,2,2,2,2,2,2,2,2,2,2,2,2,2,2,2,2,2,2,2,2,2,2,2,2,2,2,2,2,2,2,2,2,2,2,2,2,2,2,2,2,2,2,2,2,2,2,2,2,2,2,2,2,2,2,2,2,2,2,2,2,2,2,2,2,2,2,2,2,2,2,2,2,0,0,0,0,0,0,0,0,0,0,0,0,0,0,0,0,0,0,0,0,0,0,0,0,0,0,0,0,0,0,0,0,0,0,0,0,0,0,0,0,0,0,0,0,0,0,0,0,0,0,0,0,0,0,0,0,0,0,0,0,0,0,0,0,0,0,0,0,0,0,0,0,0,0,0,0,0,0,0,0,0,0,0,0,0,0,0,0,0,0,0,0,0,0,0,0,0,0,0,0,0,0,0,0,0,0,0,0,0,0,0,0,0,0,0,0,0,0,0,0,0,0,0,0,0,0,0,0,0,0,0,0,0,0,0,0,0,0,0,0,0,0,0,0,0,0,0,0,0,0,0,0,0,0,0,0,0,0,0,0,0,0,0,0,0,0,0,0,0,0,0,0,0,0,0,0,0,0,0,0,0,0,0,0,0,0,0,0,0,0,0,0,0,0,0,0,0,0,0,0,0,0,0,0,0,0,0,0,0,0,0,0,0,0,0,0,0,0,0,0,0,0,0,0,0,0,0,0,0,0,0,0,0,0,0,0,0,0,0,0,0,0,0,0,0,0,0,0,0,0,0,0,0,0,0,0,0,0,0,0,0,0,0,0,0,0,0,0,0,0,0,0,0,0,0,0,0,0,0,0,0,0,0,0,0,0,0,0,0,0,0,0,0,0,0,0,0,0,0,0,0,0,0,0,0,0,0,0,0,0,0,0,0,0,0,0,0,0,0,0,0,0,0,0,0,0,0,0,0,0,0,0,0,0,0,0,0,0,0,0,0,0,0,0,0,0,0,0,0,0,0,0,0,0,0,0,0,0,0,0,0,0,0,0,0,0,0,0,0,0,0,0,0,0,0,0,0,0,0,0,0,0,0,0,0,0,0,0,0,0,0,0,0,0,0,0,0,0,0,0,0,0,0,0,0,0,0,0,0,0,0,0,0,0,0,0,0,0,0,0,0,0,0,0,0,0,0,0,0,0,0,0,0,0,0,0,0,0,0,0,0,0,0,0,0,0,0,0,0,0,0,0,0,0,0,0,0,0,0,0,0,0,0,0,0,0,0,0,0,0,0,0,0,0,0,0,0,0,0,0,0,0,0,0,0,0,0,0,0,0,0,0,0,0,0,0,0,0,0,0,0,0,0,0,0,0,0,0,0,0,0,0,0,0,0,0,0,0,0,0,0,0,0,0,0,0,0,0,0,0,0,0,0,0,0,0,0,0,0,0,0,0,0,0,0,0,0,0,0,0,0,0,0,0,0,0,0,0,0,0,0,0,0,0,0,0,0,0,0,0,0,0,0,0,0,0,0,0,0,0,0,0,0,0,0,0,0,0,0,0,0,0,0,0,0,0,0,0,0,0,0,0,0,0,0,0,0,0,0,0,0,0,0,0,0,0,0,0,0,0,0,0,0,0,0,0,0,0,0,0,0,0,0,0,0,0,0,0,0,0,0,0,0,0,0,0,0,0,0,0,0,0,0,0,0,0,0,0,0,0,0,0,0,0,0,0,0,0,0,0,0,0,0,0,0,0,0,0,0,0,0,0,0,0,0,0,0,0,0,0,0,0,0,0,0,0,0,0,0,0]},\"selected\":{\"id\":\"1206\"},\"selection_policy\":{\"id\":\"1207\"}},\"id\":\"1180\",\"type\":\"ColumnDataSource\"},{\"attributes\":{\"end\":10},\"id\":\"1150\",\"type\":\"Range1d\"},{\"attributes\":{\"data_source\":{\"id\":\"1180\"},\"glyph\":{\"id\":\"1181\"},\"hover_glyph\":null,\"muted_glyph\":null,\"nonselection_glyph\":{\"id\":\"1182\"},\"view\":{\"id\":\"1184\"}},\"id\":\"1183\",\"type\":\"GlyphRenderer\"},{\"attributes\":{\"line_color\":\"#2ba02b\",\"line_width\":2,\"x\":{\"field\":\"x\"},\"y\":{\"field\":\"y\"}},\"id\":\"1181\",\"type\":\"Line\"},{\"attributes\":{},\"id\":\"1156\",\"type\":\"LinearScale\"},{\"attributes\":{},\"id\":\"1154\",\"type\":\"LinearScale\"},{\"attributes\":{\"bottom_units\":\"screen\",\"fill_alpha\":0.5,\"fill_color\":\"lightgrey\",\"left_units\":\"screen\",\"level\":\"overlay\",\"line_alpha\":1.0,\"line_color\":\"black\",\"line_dash\":[4,4],\"line_width\":2,\"right_units\":\"screen\",\"syncable\":false,\"top_units\":\"screen\"},\"id\":\"1172\",\"type\":\"BoxAnnotation\"},{\"attributes\":{\"overlay\":{\"id\":\"1172\"}},\"id\":\"1168\",\"type\":\"BoxZoomTool\"},{\"attributes\":{},\"id\":\"1152\",\"type\":\"DataRange1d\"},{\"attributes\":{\"axis_label\":\"dimensionless time\",\"formatter\":{\"id\":\"1204\"},\"major_label_policy\":{\"id\":\"1205\"},\"ticker\":{\"id\":\"1159\"}},\"id\":\"1158\",\"type\":\"LinearAxis\"},{\"attributes\":{},\"id\":\"1204\",\"type\":\"BasicTickFormatter\"},{\"attributes\":{},\"id\":\"1159\",\"type\":\"BasicTicker\"},{\"attributes\":{\"axis\":{\"id\":\"1158\"},\"ticker\":null},\"id\":\"1161\",\"type\":\"Grid\"},{\"attributes\":{},\"id\":\"1167\",\"type\":\"WheelZoomTool\"},{\"attributes\":{\"axis_label\":\"dimensionless x\",\"formatter\":{\"id\":\"1201\"},\"major_label_policy\":{\"id\":\"1202\"},\"ticker\":{\"id\":\"1163\"}},\"id\":\"1162\",\"type\":\"LinearAxis\"},{\"attributes\":{\"axis\":{\"id\":\"1162\"},\"dimension\":1,\"ticker\":null},\"id\":\"1165\",\"type\":\"Grid\"},{\"attributes\":{},\"id\":\"1163\",\"type\":\"BasicTicker\"},{\"attributes\":{\"active_multi\":null,\"tools\":[{\"id\":\"1166\"},{\"id\":\"1167\"},{\"id\":\"1168\"},{\"id\":\"1169\"},{\"id\":\"1170\"},{\"id\":\"1171\"}]},\"id\":\"1173\",\"type\":\"Toolbar\"},{\"attributes\":{},\"id\":\"1201\",\"type\":\"BasicTickFormatter\"},{\"attributes\":{},\"id\":\"1202\",\"type\":\"AllLabels\"},{\"attributes\":{},\"id\":\"1171\",\"type\":\"HelpTool\"},{\"attributes\":{},\"id\":\"1166\",\"type\":\"PanTool\"},{\"attributes\":{},\"id\":\"1169\",\"type\":\"SaveTool\"},{\"attributes\":{},\"id\":\"1170\",\"type\":\"ResetTool\"},{\"attributes\":{},\"id\":\"1205\",\"type\":\"AllLabels\"},{\"attributes\":{\"source\":{\"id\":\"1180\"}},\"id\":\"1184\",\"type\":\"CDSView\"}],\"root_ids\":[\"1149\"]},\"title\":\"Bokeh Application\",\"version\":\"2.3.0\"}};\n",
       "  var render_items = [{\"docid\":\"89390f56-1d04-4de7-8f3f-7541119c9a6e\",\"root_ids\":[\"1149\"],\"roots\":{\"1149\":\"02a29a59-2cd6-41f4-bece-01687f3eae1d\"}}];\n",
       "  root.Bokeh.embed.embed_items_notebook(docs_json, render_items);\n",
       "\n",
       "  }\n",
       "  if (root.Bokeh !== undefined) {\n",
       "    embed_document(root);\n",
       "  } else {\n",
       "    var attempts = 0;\n",
       "    var timer = setInterval(function(root) {\n",
       "      if (root.Bokeh !== undefined) {\n",
       "        clearInterval(timer);\n",
       "        embed_document(root);\n",
       "      } else {\n",
       "        attempts++;\n",
       "        if (attempts > 100) {\n",
       "          clearInterval(timer);\n",
       "          console.log(\"Bokeh: ERROR: Unable to run BokehJS code because BokehJS library is missing\");\n",
       "        }\n",
       "      }\n",
       "    }, 10, root)\n",
       "  }\n",
       "})(window);"
      ],
      "application/vnd.bokehjs_exec.v0+json": ""
     },
     "metadata": {
      "application/vnd.bokehjs_exec.v0+json": {
       "id": "1149"
      }
     },
     "output_type": "display_data"
    }
   ],
   "source": [
    "def x_pulse(t, t_0, tau, x_0):\n",
    "    \"\"\"\n",
    "    Returns x value for a pulse beginning at t = 0 \n",
    "    and ending at t = t_0 + tau.\n",
    "    \"\"\"\n",
    "    return np.logical_and(t >= t_0, t <= (t_0 + tau)) * x_0\n",
    "\n",
    "\n",
    "# Plot the pulse\n",
    "p = bokeh.plotting.figure(\n",
    "    frame_width=450,\n",
    "    frame_height=250,\n",
    "    x_axis_label=\"dimensionless time\",\n",
    "    y_axis_label=\"dimensionless x\",\n",
    "    x_range=[0, 10],\n",
    ")\n",
    "\n",
    "# Populate glyphs\n",
    "p.line(t, x_pulse(t, 1.0, 2.0, 2), line_width=2, color=colors[2])\n",
    "\n",
    "# Show plot\n",
    "bokeh.io.show(p)"
   ]
  },
  {
   "cell_type": "markdown",
   "metadata": {},
   "source": [
    "If we want to solve the ODEs for a varying input, we need to have a way to pass a function defining the variation as a parameter. Fortunately, we can pass functions as arguments in Python! So, we write a new function that takes `x_fun`, the function describing $x(t)$ as an argument, as well as `x_args`, the set of parameters passed into `x_fun`."
   ]
  },
  {
   "cell_type": "code",
   "execution_count": 9,
   "metadata": {},
   "outputs": [],
   "source": [
    "def cascade_rhs_x_fun(yz, t, beta, gamma, n_x, n_y, x_fun, x_args):\n",
    "    \"\"\"\n",
    "    Right hand side for cascade X -> Y -> Z.  Return dy/dt and dz/dt.\n",
    "    \n",
    "    x_fun is a function of the form x_fun(t, *x_args), so x_args is a tuple\n",
    "    containing the arguments to pass to x_fun.\n",
    "    \"\"\"\n",
    "    # Compute x\n",
    "    x = x_fun(t, *x_args)\n",
    "\n",
    "    # Return cascade RHS with this value of x\n",
    "    return cascade_rhs(yz, t, beta, gamma, n_x, n_y, x)"
   ]
  },
  {
   "cell_type": "markdown",
   "metadata": {},
   "source": [
    "With this in hand, we can now solve for a pulse.  We will have a pulse during $1 \\le t \\le 5$."
   ]
  },
  {
   "cell_type": "code",
   "execution_count": 10,
   "metadata": {},
   "outputs": [
    {
     "data": {
      "text/html": [
       "\n",
       "\n",
       "\n",
       "\n",
       "\n",
       "\n",
       "  <div class=\"bk-root\" id=\"a7e2f7c6-3cb6-449a-a8bd-e9dbec3fc510\" data-root-id=\"1264\"></div>\n"
      ]
     },
     "metadata": {},
     "output_type": "display_data"
    },
    {
     "data": {
      "application/javascript": [
       "(function(root) {\n",
       "  function embed_document(root) {\n",
       "    \n",
       "  var docs_json = {\"3ff0b86c-f2dd-4064-8830-3d2dc95d5152\":{\"defs\":[{\"extends\":null,\"module\":null,\"name\":\"DataModel\",\"overrides\":[],\"properties\":[]}],\"roots\":{\"references\":[{\"attributes\":{\"below\":[{\"id\":\"1273\"}],\"center\":[{\"id\":\"1276\"},{\"id\":\"1280\"},{\"id\":\"1311\"}],\"frame_height\":250,\"frame_width\":450,\"left\":[{\"id\":\"1277\"}],\"renderers\":[{\"id\":\"1298\"},{\"id\":\"1316\"}],\"title\":{\"id\":\"1301\"},\"toolbar\":{\"id\":\"1288\"},\"x_range\":{\"id\":\"1265\"},\"x_scale\":{\"id\":\"1269\"},\"y_range\":{\"id\":\"1267\"},\"y_scale\":{\"id\":\"1271\"}},\"id\":\"1264\",\"subtype\":\"Figure\",\"type\":\"Plot\"},{\"attributes\":{\"line_alpha\":0.1,\"line_color\":\"#1f77b3\",\"line_width\":2,\"x\":{\"field\":\"x\"},\"y\":{\"field\":\"y\"}},\"id\":\"1297\",\"type\":\"Line\"},{\"attributes\":{},\"id\":\"1271\",\"type\":\"LinearScale\"},{\"attributes\":{},\"id\":\"1286\",\"type\":\"HelpTool\"},{\"attributes\":{\"active_multi\":null,\"tools\":[{\"id\":\"1281\"},{\"id\":\"1282\"},{\"id\":\"1283\"},{\"id\":\"1284\"},{\"id\":\"1285\"},{\"id\":\"1286\"}]},\"id\":\"1288\",\"type\":\"Toolbar\"},{\"attributes\":{},\"id\":\"1284\",\"type\":\"SaveTool\"},{\"attributes\":{\"items\":[{\"id\":\"1312\"},{\"id\":\"1331\"}]},\"id\":\"1311\",\"type\":\"Legend\"},{\"attributes\":{},\"id\":\"1274\",\"type\":\"BasicTicker\"},{\"attributes\":{},\"id\":\"1285\",\"type\":\"ResetTool\"},{\"attributes\":{},\"id\":\"1278\",\"type\":\"BasicTicker\"},{\"attributes\":{\"axis\":{\"id\":\"1273\"},\"ticker\":null},\"id\":\"1276\",\"type\":\"Grid\"},{\"attributes\":{},\"id\":\"1328\",\"type\":\"Selection\"},{\"attributes\":{\"axis_label\":\"dimensionless y, z\",\"formatter\":{\"id\":\"1303\"},\"major_label_policy\":{\"id\":\"1304\"},\"ticker\":{\"id\":\"1278\"}},\"id\":\"1277\",\"type\":\"LinearAxis\"},{\"attributes\":{},\"id\":\"1329\",\"type\":\"UnionRenderers\"},{\"attributes\":{},\"id\":\"1281\",\"type\":\"PanTool\"},{\"attributes\":{\"data_source\":{\"id\":\"1313\"},\"glyph\":{\"id\":\"1314\"},\"hover_glyph\":null,\"muted_glyph\":null,\"nonselection_glyph\":{\"id\":\"1315\"},\"view\":{\"id\":\"1317\"}},\"id\":\"1316\",\"type\":\"GlyphRenderer\"},{\"attributes\":{},\"id\":\"1303\",\"type\":\"BasicTickFormatter\"},{\"attributes\":{},\"id\":\"1304\",\"type\":\"AllLabels\"},{\"attributes\":{\"axis\":{\"id\":\"1277\"},\"dimension\":1,\"ticker\":null},\"id\":\"1280\",\"type\":\"Grid\"},{\"attributes\":{\"data\":{\"x\":{\"__ndarray__\":\"AAAAAAAAAAACSAHNIICEPwJIAc0ggJQ/A+yBMzHAnj8CSAHNIICkPwKaQQApoKk/A+yBMzHArj8CH2GzHPCxPwJIAc0ggLQ/AnGh5iQQtz8CmkEAKaC5PwPD4RktMLw/A+yBMzHAvj+CCpGmGqjAPwIfYbMc8ME/gjMxwB44wz8CSAHNIIDEP4Jc0dkiyMU/AnGh5iQQxz+ChXHzJljIPwKaQQApoMk/g64RDSvoyj8Dw+EZLTDMP4PXsSYveM0/A+yBMzHAzj9CACmgGQTQP4IKkaYaqNA/whT5rBtM0T8CH2GzHPDRP0IpybkdlNI/gjMxwB440z/CPZnGH9zTPwJIAc0ggNQ/QlJp0yEk1T+CXNHZIsjVP8JmOeAjbNY/AnGh5iQQ1z9CewntJbTXP4KFcfMmWNg/wo/Z+Sf82D8CmkEAKaDZP0OkqQYqRNo/g64RDSvo2j/DuHkTLIzbPwPD4RktMNw/Q81JIC7U3D+D17EmL3jdP8PhGS0wHN4/A+yBMzHA3j9D9uk5MmTfP0IAKaAZBOA/YgVdIxpW4D+CCpGmGqjgP6IPxSkb+uA/whT5rBtM4T/iGS0wHJ7hPwIfYbMc8OE/IiSVNh1C4j9CKcm5HZTiP2Iu/Twe5uI/gjMxwB444z+iOGVDH4rjP8I9mcYf3OM/4kLNSSAu5D8CSAHNIIDkPyJNNVAh0uQ/QlJp0yEk5T9iV51WInblP4Jc0dkiyOU/omEFXSMa5j/CZjngI2zmP+JrbWMkvuY/AnGh5iQQ5z8idtVpJWLnP0J7Ce0ltOc/YoA9cCYG6D+ChXHzJljoP6KKpXYnqug/wo/Z+Sf86D/ilA19KE7pPwKaQQApoOk/I591gyny6T9DpKkGKkTqP2Op3Ykqluo/g64RDSvo6j+js0WQKzrrP8O4eRMsjOs/472tlize6z8Dw+EZLTDsPyPIFZ0tguw/Q81JIC7U7D9j0n2jLibtP4PXsSYveO0/o9zlqS/K7T/D4RktMBzuP+PmTbAwbu4/A+yBMzHA7j8j8bW2MRLvP0P26TkyZO8/Y/sdvTK27z9CACmgGQTwP9ICw+EZLfA/YgVdIxpW8D/yB/dkGn/wP4IKkaYaqPA/Eg0r6BrR8D+iD8UpG/rwPzISX2sbI/E/whT5rBtM8T9SF5PuG3XxP+IZLTAcnvE/chzHcRzH8T8CH2GzHPDxP5Ih+/QcGfI/IiSVNh1C8j+yJi94HWvyP0IpybkdlPI/0itj+x298j9iLv08HubyP/Iwl34eD/M/gjMxwB448z8SNssBH2HzP6I4ZUMfivM/Mjv/hB+z8z/CPZnGH9zzP1JAMwggBfQ/4kLNSSAu9D9yRWeLIFf0PwJIAc0ggPQ/kkqbDiGp9D8iTTVQIdL0P7JPz5Eh+/Q/QlJp0yEk9T/SVAMVIk31P2JXnVYidvU/8lk3mCKf9T+CXNHZIsj1PxJfaxsj8fU/omEFXSMa9j8yZJ+eI0P2P8JmOeAjbPY/UmnTISSV9j/ia21jJL72P3JuB6Uk5/Y/AnGh5iQQ9z+SczsoJTn3PyJ21WklYvc/snhvqyWL9z9CewntJbT3P9J9oy4m3fc/YoA9cCYG+D/ygtexJi/4P4KFcfMmWPg/EogLNSeB+D+iiqV2J6r4PzKNP7gn0/g/wo/Z+Sf8+D9SknM7KCX5P+KUDX0oTvk/cpenvih3+T8CmkEAKaD5P5Oc20Epyfk/I591gyny+T+zoQ/FKRv6P0OkqQYqRPo/06ZDSCpt+j9jqd2JKpb6P/Ord8sqv/o/g64RDSvo+j8TsatOKxH7P6OzRZArOvs/M7bf0Stj+z/DuHkTLIz7P1O7E1Ustfs/472tlize+z9zwEfYLAf8PwPD4RktMPw/k8V7Wy1Z/D8jyBWdLYL8P7PKr94tq/w/Q81JIC7U/D/Tz+NhLv38P2PSfaMuJv0/89QX5S5P/T+D17EmL3j9PxPaS2gvof0/o9zlqS/K/T8z33/rL/P9P8PhGS0wHP4/U+SzbjBF/j/j5k2wMG7+P3Pp5/Ewl/4/A+yBMzHA/j+T7ht1Men+PyPxtbYxEv8/s/NP+DE7/z9D9uk5MmT/P9P4g3syjf8/Y/sdvTK2/z/z/bf+Mt//P0IAKaAZBABAigH2wJkYAEDSAsPhGS0AQBoEkAKaQQBAYgVdIxpWAECqBipEmmoAQPIH92QafwBAOgnEhZqTAECCCpGmGqgAQMoLXseavABAEg0r6BrRAEBaDvgIm+UAQKIPxSkb+gBA6hCSSpsOAUAyEl9rGyMBQHoTLIybNwFAwhT5rBtMAUAKFsbNm2ABQFIXk+4bdQFAmhhgD5yJAUDiGS0wHJ4BQCob+lCcsgFAchzHcRzHAUC6HZSSnNsBQAIfYbMc8AFASiAu1JwEAkCSIfv0HBkCQNoiyBWdLQJAIiSVNh1CAkBqJWJXnVYCQLImL3gdawJA+if8mJ1/AkBCKcm5HZQCQIoqltqdqAJA0itj+x29AkAaLTAcntECQGIu/Twe5gJAqi/KXZ76AkDyMJd+Hg8DQDoyZJ+eIwNAgjMxwB44A0DKNP7gnkwDQBI2ywEfYQNAWjeYIp91A0CiOGVDH4oDQOo5MmSfngNAMjv/hB+zA0B6PMyln8cDQMI9mcYf3ANACj9m55/wA0BSQDMIIAUEQJpBACmgGQRA4kLNSSAuBEAqRJpqoEIEQHJFZ4sgVwRAukY0rKBrBEACSAHNIIAEQEpJzu2glARAkkqbDiGpBEDaS2gvob0EQCJNNVAh0gRAak4CcaHmBECyT8+RIfsEQPpQnLKhDwVAQlJp0yEkBUCKUzb0oTgFQNJUAxUiTQVAGlbQNaJhBUBiV51WInYFQKpYaneiigVA8lk3mCKfBUA6WwS5orMFQIJc0dkiyAVAyl2e+qLcBUASX2sbI/EFQFpgODyjBQZAomEFXSMaBkDqYtJ9oy4GQDJkn54jQwZAemVsv6NXBkDCZjngI2wGQApoBgGkgAZAUmnTISSVBkCaaqBCpKkGQOJrbWMkvgZAKm06hKTSBkBybgelJOcGQLpv1MWk+wZAAnGh5iQQB0BKcm4HpSQHQJJzOyglOQdA2nQISaVNB0AidtVpJWIHQGp3ooqldgdAsnhvqyWLB0D6eTzMpZ8HQEJ7Ce0ltAdAinzWDabIB0DSfaMuJt0HQBp/cE+m8QdAYoA9cCYGCECqgQqRphoIQPKC17EmLwhAOoSk0qZDCECChXHzJlgIQMqGPhSnbAhAEogLNSeBCEBaidhVp5UIQKKKpXYnqghA6otyl6e+CEAyjT+4J9MIQHqODNmn5whAwo/Z+Sf8CEAKkaYaqBAJQFKSczsoJQlAmpNAXKg5CUDilA19KE4JQCqW2p2oYglAcpenvih3CUC6mHTfqIsJQAKaQQApoAlAS5sOIam0CUCTnNtBKckJQNudqGKp3QlAI591gynyCUBroEKkqQYKQLOhD8UpGwpA+6Lc5akvCkBDpKkGKkQKQIuldieqWApA06ZDSCptCkAbqBBpqoEKQGOp3YkqlgpAq6qqqqqqCkDzq3fLKr8KQDutROyq0wpAg64RDSvoCkDLr94tq/wKQBOxq04rEQtAW7J4b6slC0Cjs0WQKzoLQOu0ErGrTgtAM7bf0StjC0B7t6zyq3cLQMO4eRMsjAtAC7pGNKygC0BTuxNVLLULQJu84HWsyQtA472tlizeC0Arv3q3rPILQHPAR9gsBwxAu8EU+awbDEADw+EZLTAMQEvErjqtRAxAk8V7Wy1ZDEDbxkh8rW0MQCPIFZ0tggxAa8niva2WDECzyq/eLasMQPvLfP+tvwxAQ81JIC7UDECLzhZBrugMQNPP42Eu/QxAG9Gwgq4RDUBj0n2jLiYNQKvTSsSuOg1A89QX5S5PDUA71uQFr2MNQIPXsSYveA1Ay9h+R6+MDUAT2ktoL6ENQFvbGImvtQ1Ao9zlqS/KDUDr3bLKr94NQDPff+sv8w1Ae+BMDLAHDkDD4RktMBwOQAvj5k2wMA5AU+SzbjBFDkCb5YCPsFkOQOPmTbAwbg5AK+ga0bCCDkBz6efxMJcOQLvqtBKxqw5AA+yBMzHADkBL7U5UsdQOQJPuG3Ux6Q5A2+/olbH9DkAj8bW2MRIPQGvygtexJg9As/NP+DE7D0D79BwZsk8PQEP26TkyZA9Ai/e2WrJ4D0DT+IN7Mo0PQBv6UJyyoQ9AY/sdvTK2D0Cr/OrdssoPQPP9t/4y3w9AO/+EH7PzD0BCACmgGQQQQOaAj7BZDhBAigH2wJkYEEAuglzR2SIQQNICw+EZLRBAdoMp8lk3EEAaBJACmkEQQL6E9hLaSxBAYgVdIxpWEEAGhsMzWmAQQKoGKkSaahBAToeQVNp0EEDyB/dkGn8QQJaIXXVaiRBAOgnEhZqTEEDeiSqW2p0QQIIKkaYaqBBAJov3tlqyEEDKC17HmrwQQG6MxNfaxhBAEg0r6BrREEC2jZH4WtsQQFoO+Aib5RBA/o5eGdvvEECiD8UpG/oQQEaQKzpbBBFA6hCSSpsOEUCOkfha2xgRQDISX2sbIxFA1pLFe1stEUB6EyyMmzcRQB6UkpzbQRFAwhT5rBtMEUBmlV+9W1YRQAoWxs2bYBFArpYs3ttqEUBSF5PuG3URQPaX+f5bfxFAmhhgD5yJEUA+mcYf3JMRQOIZLTAcnhFAhpqTQFyoEUAqG/pQnLIRQM6bYGHcvBFAchzHcRzHEUAWnS2CXNERQLodlJKc2xFAXp76otzlEUACH2GzHPARQKafx8Nc+hFASiAu1JwEEkDuoJTk3A4SQJIh+/QcGRJANqJhBV0jEkDaIsgVnS0SQH6jLibdNxJAIiSVNh1CEkDGpPtGXUwSQGolYledVhJADqbIZ91gEkCyJi94HWsSQFanlYhddRJA+if8mJ1/EkCeqGKp3YkSQEIpybkdlBJA5qkvyl2eEkCKKpbanagSQC6r/OrdshJA0itj+x29EkB2rMkLXscSQBotMBye0RJAvq2WLN7bEkBiLv08HuYSQAavY01e8BJAqi/KXZ76EkBOsDBu3gQTQPIwl34eDxNAlrH9jl4ZE0A6MmSfniMTQN6yyq/eLRNAgjMxwB44E0AmtJfQXkITQMo0/uCeTBNAbrVk8d5WE0ASNssBH2ETQLa2MRJfaxNAWjeYIp91E0D+t/4y338TQKI4ZUMfihNARrnLU1+UE0DqOTJkn54TQI66mHTfqBNAMjv/hB+zE0DWu2WVX70TQHo8zKWfxxNAHr0ytt/RE0DCPZnGH9wTQGa+/9Zf5hNACj9m55/wE0Cuv8z33/oTQFJAMwggBRRA9sCZGGAPFECaQQApoBkUQD7CZjngIxRA4kLNSSAuFECGwzNaYDgUQCpEmmqgQhRAzsQAe+BMFEByRWeLIFcUQBbGzZtgYRRAukY0rKBrFEBex5q84HUUQAJIAc0ggBRApshn3WCKFEBKSc7toJQUQO7JNP7gnhRAkkqbDiGpFEA2ywEfYbMUQNpLaC+hvRRAfszOP+HHFEAiTTVQIdIUQMbNm2Bh3BRAak4CcaHmFEAOz2iB4fAUQLJPz5Eh+xRAVtA1omEFFUD6UJyyoQ8VQJ7RAsPhGRVAQlJp0yEkFUDm0s/jYS4VQIpTNvShOBVALtScBOJCFUDSVAMVIk0VQHbVaSViVxVAGlbQNaJhFUC+1jZG4msVQGJXnVYidhVABtgDZ2KAFUCqWGp3oooVQE7Z0IfilBVA8lk3mCKfFUCW2p2oYqkVQDpbBLmisxVA3ttqyeK9FUCCXNHZIsgVQCbdN+pi0hVAyl2e+qLcFUBu3gQL4+YVQBJfaxsj8RVAtt/RK2P7FUBaYDg8owUWQP7gnkzjDxZAomEFXSMaFkBG4mttYyQWQOpi0n2jLhZAjuM4juM4FkAyZJ+eI0MWQNbkBa9jTRZAemVsv6NXFkAe5tLP42EWQMJmOeAjbBZAZuef8GN2FkAKaAYBpIAWQK7obBHkihZAUmnTISSVFkD26TkyZJ8WQJpqoEKkqRZAPusGU+SzFkDia21jJL4WQIbs03NkyBZAKm06hKTSFkDO7aCU5NwWQHJuB6Uk5xZAFu9ttWTxFkC6b9TFpPsWQF7wOtbkBRdAAnGh5iQQF0Cm8Qf3ZBoXQEpybgelJBdA7vLUF+UuF0CSczsoJTkXQDb0oThlQxdA2nQISaVNF0B+9W5Z5VcXQCJ21WklYhdAxvY7emVsF0Bqd6KKpXYXQA74CJvlgBdAsnhvqyWLF0BW+dW7ZZUXQPp5PMylnxdAnvqi3OWpF0BCewntJbQXQOb7b/1lvhdAinzWDabIF0Au/Twe5tIXQNJ9oy4m3RdAdv4JP2bnF0Aaf3BPpvEXQL7/1l/m+xdAYoA9cCYGGEAGAaSAZhAYQKqBCpGmGhhATgJxoeYkGEDygtexJi8YQJYDPsJmORhAOoSk0qZDGEDeBAvj5k0YQIKFcfMmWBhAJgbYA2diGEDKhj4Up2wYQG4HpSTndhhAEogLNSeBGEC2CHJFZ4sYQFqJ2FWnlRhA/gk/ZuefGECiiqV2J6oYQEYLDIdntBhA6otyl6e+GECODNmn58gYQDKNP7gn0xhA1g2myGfdGEB6jgzZp+cYQB4Pc+nn8RhAwo/Z+Sf8GEBmEEAKaAYZQAqRphqoEBlArhENK+gaGUBSknM7KCUZQPYS2ktoLxlAmpNAXKg5GUA+FKds6EMZQOKUDX0oThlAhhV0jWhYGUAqltqdqGIZQM4WQa7obBlAcpenvih3GUAWGA7PaIEZQLqYdN+oixlAXhnb7+iVGUACmkEAKaAZQKcaqBBpqhlAS5sOIam0GUDvG3Ux6b4ZQJOc20EpyRlANx1CUmnTGUDbnahiqd0ZQH8eD3Pp5xlAI591gynyGUDHH9yTafwZQGugQqSpBhpADyGptOkQGkCzoQ/FKRsaQFcidtVpJRpA+6Lc5akvGkCfI0P26TkaQEOkqQYqRBpA5yQQF2pOGkCLpXYnqlgaQC8m3TfqYhpA06ZDSCptGkB3J6pYancaQBuoEGmqgRpAvyh3eeqLGkBjqd2JKpYaQAcqRJpqoBpAq6qqqqqqGkBPKxG76rQaQPOrd8sqvxpAlyze22rJGkA7rUTsqtMaQN8tq/zq3RpAg64RDSvoGkAnL3gda/IaQMuv3i2r/BpAbzBFPusGG0ATsatOKxEbQLcxEl9rGxtAW7J4b6slG0D/Mt9/6y8bQKOzRZArOhtARzSsoGtEG0DrtBKxq04bQI81ecHrWBtAM7bf0StjG0DXNkbia20bQHu3rPKrdxtAHzgTA+yBG0DDuHkTLIwbQGc54CNslhtAC7pGNKygG0CvOq1E7KobQFO7E1UstRtA9zt6ZWy/G0CbvOB1rMkbQD89R4bs0xtA472tlizeG0CHPhSnbOgbQCu/eres8htAzz/hx+z8G0BzwEfYLAccQBdBruhsERxAu8EU+awbHEBfQnsJ7SUcQAPD4RktMBxAp0NIKm06HEBLxK46rUQcQO9EFUvtThxAk8V7Wy1ZHEA3RuJrbWMcQNvGSHytbRxAf0evjO13HEAjyBWdLYIcQMdIfK1tjBxAa8niva2WHEAPSknO7aAcQLPKr94tqxxAV0sW7221HED7y3z/rb8cQJ9M4w/uyRxAQ81JIC7UHEDnTbAwbt4cQIvOFkGu6BxAL099Ue7yHEDTz+NhLv0cQHdQSnJuBx1AG9Gwgq4RHUC/UReT7hsdQGPSfaMuJh1AB1Pks24wHUCr00rErjodQE9UsdTuRB1A89QX5S5PHUCXVX71blkdQDvW5AWvYx1A31ZLFu9tHUCD17EmL3gdQCdYGDdvgh1Ay9h+R6+MHUBvWeVX75YdQBPaS2gvoR1At1qyeG+rHUBb2xiJr7UdQP9bf5nvvx1Ao9zlqS/KHUBHXUy6b9QdQOvdssqv3h1Aj14Z2+/oHUAz33/rL/MdQNdf5vtv/R1Ae+BMDLAHHkAfYbMc8BEeQMPhGS0wHB5AZ2KAPXAmHkAL4+ZNsDAeQK9jTV7wOh5AU+SzbjBFHkD3ZBp/cE8eQJvlgI+wWR5AP2bnn/BjHkDj5k2wMG4eQIdntMBweB5AK+ga0bCCHkDPaIHh8IweQHPp5/Ewlx5AF2pOAnGhHkC76rQSsaseQF9rGyPxtR5AA+yBMzHAHkCnbOhDccoeQEvtTlSx1B5A7221ZPHeHkCT7ht1MekeQDdvgoVx8x5A2+/olbH9HkB/cE+m8QcfQCPxtbYxEh9Ax3Ecx3EcH0Br8oLXsSYfQA9z6efxMB9As/NP+DE7H0BXdLYIckUfQPv0HBmyTx9An3WDKfJZH0BD9uk5MmQfQOd2UEpybh9Ai/e2WrJ4H0AveB1r8oIfQNP4g3syjR9Ad3nqi3KXH0Ab+lCcsqEfQL96t6zyqx9AY/sdvTK2H0AHfITNcsAfQKv86t2yyh9AT31R7vLUH0Dz/bf+Mt8fQJd+Hg9z6R9AO/+EH7PzH0Dff+sv8/0fQEIAKaAZBCBAlEBcqDkJIEDmgI+wWQ4gQDjBwrh5EyBAigH2wJkYIEDcQSnJuR0gQC6CXNHZIiBAgMKP2fknIEDSAsPhGS0gQCRD9uk5MiBAdoMp8lk3IEDIw1z6eTwgQBoEkAKaQSBAbETDCrpGIEC+hPYS2ksgQBDFKRv6UCBAYgVdIxpWIEC0RZArOlsgQAaGwzNaYCBAWMb2O3plIECqBipEmmogQPxGXUy6byBAToeQVNp0IECgx8Nc+nkgQPIH92QafyBAREgqbTqEIECWiF11WokgQOjIkH16jiBAOgnEhZqTIECMSfeNupggQN6JKpbanSBAMMpdnvqiIECCCpGmGqggQNRKxK46rSBAJov3tlqyIEB4yyq/ercgQMoLXseavCBAHEyRz7rBIEBujMTX2sYgQMDM99/6yyBAEg0r6BrRIEBkTV7wOtYgQLaNkfha2yBACM7EAHvgIEBaDvgIm+UgQKxOKxG76iBA/o5eGdvvIEBQz5Eh+/QgQKIPxSkb+iBA9E/4MTv/IEBGkCs6WwQhQJjQXkJ7CSFA6hCSSpsOIUA8UcVSuxMhQI6R+FrbGCFA4NErY/sdIUAyEl9rGyMhQIRSknM7KCFA1pLFe1stIUAo0/iDezIhQHoTLIybNyFAzFNflLs8IUAelJKc20EhQHDUxaT7RiFAwhT5rBtMIUAUVSy1O1EhQGaVX71bViFAuNWSxXtbIUAKFsbNm2AhQFxW+dW7ZSFArpYs3ttqIUAA11/m+28hQFIXk+4bdSFApFfG9jt6IUD2l/n+W38hQEjYLAd8hCFAmhhgD5yJIUDsWJMXvI4hQD6Zxh/ckyFAkNn5J/yYIUDiGS0wHJ4hQDRaYDg8oyFAhpqTQFyoIUDY2sZIfK0hQCob+lCcsiFAfFstWby3IUDOm2Bh3LwhQCDck2n8wSFAchzHcRzHIUDEXPp5PMwhQBadLYJc0SFAaN1ginzWIUC6HZSSnNshQAxex5q84CFAXp76otzlIUCw3i2r/OohQAIfYbMc8CFAVF+Uuzz1IUCmn8fDXPohQPjf+st8/yFASiAu1JwEIkCcYGHcvAkiQO6glOTcDiJAQOHH7PwTIkCSIfv0HBkiQORhLv08HiJANqJhBV0jIkCI4pQNfSgiQNoiyBWdLSJALGP7Hb0yIkB+oy4m3TciQNDjYS79PCJAIiSVNh1CIkB0ZMg+PUciQMak+0ZdTCJAGOUuT31RIkBqJWJXnVYiQLxllV+9WyJADqbIZ91gIkBg5vtv/WUiQLImL3gdayJABGdigD1wIkBWp5WIXXUiQKjnyJB9eiJA+if8mJ1/IkBMaC+hvYQiQJ6oYqndiSJA8OiVsf2OIkBCKcm5HZQiQJRp/ME9mSJA5qkvyl2eIkA46mLSfaMiQIoqltqdqCJA3GrJ4r2tIkAuq/zq3bIiQIDrL/P9tyJA0itj+x29IkAkbJYDPsIiQHasyQtexyJAyOz8E37MIkAaLTAcntEiQGxtYyS+1iJAvq2WLN7bIkAQ7sk0/uAiQGIu/Twe5iJAtG4wRT7rIkAGr2NNXvAiQFjvllV+9SJAqi/KXZ76IkD8b/1lvv8iQE6wMG7eBCNAoPBjdv4JI0DyMJd+Hg8jQERxyoY+FCNAlrH9jl4ZI0Do8TCXfh4jQDoyZJ+eIyNAjHKXp74oI0Dessqv3i0jQDDz/bf+MiNAgjMxwB44I0DUc2TIPj0jQCa0l9BeQiNAePTK2H5HI0DKNP7gnkwjQBx1Mem+USNAbrVk8d5WI0DA9Zf5/lsjQBI2ywEfYSNAZHb+CT9mI0C2tjESX2sjQAj3ZBp/cCNAWjeYIp91I0Csd8sqv3ojQP63/jLffyNAUPgxO/+EI0CiOGVDH4ojQPR4mEs/jyNARrnLU1+UI0CY+f5bf5kjQOo5MmSfniNAPHplbL+jI0COuph036gjQOD6y3z/rSNAMjv/hB+zI0CEezKNP7gjQNa7ZZVfvSNAKPyYnX/CI0B6PMyln8cjQMx8/62/zCNAHr0ytt/RI0Bw/WW+/9YjQMI9mcYf3CNAFH7Mzj/hI0Bmvv/WX+YjQLj+Mt9/6yNACj9m55/wI0Bcf5nvv/UjQK6/zPff+iNAAAAAAAAAJEA=\",\"dtype\":\"float64\",\"order\":\"little\",\"shape\":[1000]},\"y\":{\"__ndarray__\":\"AAAAAAAAAAAAAAAAAAAAAAAAAAAAAAAAAAAAAAAAAAAAAAAAAAAAAAAAAAAAAAAAAAAAAAAAAAAAAAAAAAAAAAAAAAAAAAAAAAAAAAAAAAAAAAAAAAAAAAAAAAAAAAAAAAAAAAAAAAAAAAAAAAAAAAAAAAAAAAAAAAAAAAAAAAAAAAAAAAAAAAAAAAAAAAAAAAAAAAAAAAAAAAAAAAAAAAAAAAAAAAAAAAAAAAAAAAAAAAAAAAAAAAAAAAAAAAAAAAAAAAAAAAAAAAAAAAAAAAAAAAAAAAAAAAAAAAAAAAAAAAAAAAAAAAAAAAAAAAAAAAAAAAAAAAAAAAAAAAAAAAAAAAAAAAAAAAAAAAAAAAAAAAAAAAAAAAAAAAAAAAAAAAAAAAAAAAAAAAAAAAAAAAAAAAAAAAAAAAAAAAAAAAAAAAAAAAAAAAAAAAAAAAAAAAAAAAAAAAAAAAAAAAAAAAAAAAAAAAAAAAAAAAAAAAAAAAAAAAAAAAAAAAAAAAAAAAAAAAAAAAAAAAAAAAAAAAAAAAAAAAAAAAAAAAAAAAAAAAAAAAAAAAAAAAAAAAAAAAAAAAAAAAAAAAAAAAAAAAAAAAAAAAAAAAAAAAAAAAAAAAAAAAAAAAAAAAAAAAAAAAAAAAAAAAAAAAAAAAAAAAAAAAAAAAAAAAAAAAAAAAAAAAAAAAAAAAAAAAAAAAAAAAAAAAAAAAAAAAAAAAAAAAAAAAAAAAAAAAAAAAAAAAAAAAAAAAAAAAAAAAAAAAAAAAAAAAAAAAAAAAAAAAAAAAAAAAAAAAAAAAAAAAAAAAAAAAAAAAAAAAAAAAAAAAAAAAAAAAAAAAAAAAAAAAAAAAAAAAAAAAAAAAAAAAAAAAAAAAAAAAAAAAAAAAAAAAAAAAAAAAAAAAAAAAAAAAAAAAAAAAAAAAAAAAAAAAAAAAAAAAAAAAAAAAAAAAAAAAAAAAAAAAAAAAAAAAAAAAAAAAAAAAAAAAAAAAAAAAAAAAAAAAAAAAAAAAAAAAAAAAAAAAAAAAAAAAAAAAAAAAAAAAAAAAAAAAAAAAAAAAAAAADQQTdqXWHtPUjlbvUo55I+B3c93XtGwD4iaVsVg+nZPp6zt5IRq+0+iKdpjSZC/D68kwpAc+0HP94aZNxgqxI/0BNcSr1uGz/4K0nw9D4jPwjrlht+CSo/6kP0JDoZMT8aGnNW5+k1P09q5mAPgzs/6aJfFSX4QD9N0HUIP55EP4zTrCvzuEg/u2t/GwhNTT947in2eS9RPwxTM7pu+VM/BlvvWU8GVz+j8IyJ41daP4qrcpbO710/dht5VMjnYD83H98PRPxiPyGnSD35NWU/QXmMwnaVZz9G2IY0PBtqP8pB+GG6x2w/OwzL9FObbz/U1uT2LktxP2MvJ92P3HI/oJVHMuqBdD99W5OFVTt2P1XTPKzjCHg/TydyCKHqeT+8MHTQlOB7P+Na/czA6n0/Sz7YqZAEgD9xlPlP1x2BP9WXXEouQYI/YT8qfY1ugz8oP5zL6qWEPwC32+M554U/hh/Y1mwyhz8VHGoVdIeIP/+4vIQ+5ok/cr7llblOiz+uv+vc0MCMP6tFzKBuPI4/O6GnDnzBjz+LZGOX8KeQP9TwvX7Cc5E/XBSemyZEkj8gEKkvDxmTP5YqTSlu8pM/wphGEDXQlD+1XxAQVbKVP0axYPO+mJY/SLoG/GKDlz9XwQc8MXKYPxmwk4YZZZk/DcZ0dAtcmj+DMQ9j9labP9az6WbJVZw/4bO3TXNYnT9o7pXc4l6eP5YmBrgGaZ8/hDTttWY7oD/LoxyqEsSgP/Bpt1J+TqE/mApKy6DaoT+7/OoocWiiP7mMD3zm96I/sOsh0veIoz8awjo3nBukPyy1SbfKr6Q/4DVkXnpFpT9aErE5otylPw0lzVc5daY/nIPxyDYPpz/KLSSvkaqnP7mQ4ENBR6g/VDJ9vDzlqD8aqWhYe4SpP7cf4WH0JKo/PZ50Lp/Gqj8zwGIlc2mrP7gmZsNnDaw/m1Izj3SyrD8BB6AfkVitP6KEQhy1/60/yUTpPdinrj+KUCRR8lCvP58+Xjj7+q8/BRulc/VSsD9rRbuy3KiwP4h5V2cv/7A/nyqhqelVsT8Pz9acB62xPymXLnCFBLI/tCYFXV9csj+F2MankbSyP6aaC6AYDbM/goeloPBlsz8+9i0QFr+zP6jjwWGFGLQ/GGp8EztytD//bx6vM8y0PyMZGsprJrU/e5iRBeCAtT/uFd8Ojdu1PwZ5WKBvNrY/YJhRf4SRtj+kMOF8yOy2P/NE4HU4SLc/yV/YUtGjtz9Jue0HkP+3P6cGypRxW7g/xZQGB3O3uD8lAWx4kRO5P0pARQ3Kb7k/BWWD9RnMuT9R+qZsfii6P1mXprn0hLo/ja3SLnrhuj+Qt/cpDD67Pw0TGBaomrs/IJC5aEv3uz+Yekui81O8P8N/W06esLw/vox4A0kNvT8dwxNj8Wm9P+aDXxmVxr0/Garc3TEjvj+PCeVzxX++P3WbiKhN3L4/e/5TU8g4vz/0IztWM5W/PzPGeZ2M8b8/XlO5D+kmwD/+wUjuAFXAPz/lEPAMg8A/otSzHwyxwD+i44mM/d7AP4AzxUrgDME/MgFic7M6wT8klRYkdmjBP8bUQn8nlsE/O4Hvq8bDwT9RlxfWUvHBPyYWES7LHsI/fY6e6C5Mwj/D7+w+fXnCP4H/g261psI/GJ42udbTwj+92BJl4ADDP0xKf7zRLcM/mnMODqpawz+Tt3OsaIfDP375U+4MtMM/M6JPLpbgwz95afPKAw3EP20fqSZVOcQ/8Meqp4llxD8nOkO4oJHEP0sMY8aZvcQ/i6uBQ3TpxD+CZq6kLxXFP2SYgWLLQMU/LtQN+UZsxT/QD9HnoZfFP13PpbHbwsU/OlC03PPtxT9JtGPy6RjGP2d8pH+9Q8Y/EfBiFW5uxj+1FP5G+5jGPwc436pkw8Y/kA952qntxj+4AjpyyhfHP8p0fhHGQcc/9w6DWpxrxz9cClfyTJXHPwR6zoDXvsc/GRF9sDvoxz9mjJkveRHIPyk4z66POsg/uFMQ4X5jyD816ON7RozIP6s2WTfmtMg/Myb7zV3dyD8RssP8rAXJP9pXD4PTLck/jYWQItFVyT++B0OfpX3JP+vYxb9Qpck/P4HMTdLMyT+zxIEUKvTJPwK2MOFXG8o/GD1Fg1tCyj91ukDMNGnKP5eqro/jj8o/ZkkZo2e2yj+VNf7dwNzKPw4UwxnvAss/xZq1MfIoyz8zHBAEyk7LPwAjnHB2dMs/XJ2TWPeZyz+doPaeTL/LP0JTgSh25Ms/8Nah23MJzD9xMm6gRS7MP7Y7mmDrUsw/0oFtB2V3zD/+NrmBspvMP0nry77Tv8w/fJljrsjjzD/sg0JDkQfNP2KLnnAtK80/iokfK51OzT+DntVo4HHNPxedLyH3lM0/c5XxTOG3zT+FfivmntrNP+b9L+gv/c0/+hCbT5Qfzj/n+n8bzEHOP+WxtkvXY84/+pXc4LWFzj+7qLncZ6fOP899OULtyM4/ZFVkFUbqzj+VYFhbcgvPP8gvQxpyLM8/+kpbWUVNzz8C9Nkg7G3PP8gS9Xlmjs8/a0vZbrSuzz9ePqQK1s7PP3byXlnL7s8/97wLNEoH0D8KlOeiGBfQP8Ml7QDRJtA/5g8dVnM20D8pNemq/0XQP5YGMwh2VdA/deZJd9Zk0D/cpOkBIXTQP8oVObJVg9A/3cDIknSS0D+iqpGufaHQP3Q39BBxsNA/9ie3xU6/0D8prwbZFs7QPwmic1fJ3NA/tdi8TWbr0D+uiwbI7fnQP7ZVZtNfCNE/NyRbfbwW0T+Y76zTAyXRP8peauQ1M9E/AnDmvVJB0T+kJrZuWk/RP1Y+rgVNXdE/QePgkSpr0T+Mb5si83jRP/AtZMemhtE/8qoWkEWU0T9utDCNz6HRP/TyHc9Er9E/wb16ZqW80T+h1xxk8cnRP8BJEtko19E/6kyg1kvk0T8yQUJuWvHRPwK0qLFU/tE/k3S4sjoL0j/MtomDDBjSP49EZzbKJNI//Rut3XMx0j+Y5o6LCT7SP+NxrlKLStI/41DaRflW0j9pgwZ4U2PSPygkS/yZb9I/JB3j5cx70j+I4ipI7IfSP9Iznzb4k9I/WePbxPCf0j8+pJoG1qvSP6resQ+ot9I/tvUT9GbD0j+nm87HEs/SP5gxCJ+r2tI/HW3/jTHm0j8AWQqppPHSPwtSlQQF/dI/RQoitVII0z+ckkbPjRPTPw5rrGe2HtM/O5kPk8wp0z9wxT1m0DTTPyNeFfbBP9M/CFaEV6FK0z9RGoefblXTPwD8KOMpYNM/LNCCN9Nq0z/7LLqxanXTP9qxAGfwf9M/D1aTbGSK0z+4vbnXxpTTPx6Vxb0Xn9M/cfIRNFep0z/hvQJQhbPTPxogBCeivdM/IWl8zq3H0z86LMpbqNHTPysHYeSR29M/rLy4fWrl0z+PVUw9Mu/TPyx/mTjp+NM/O+4fhY8C1D8CxmA4JQzUP/AD3meqFdQ/mu8ZKR8f1D8Pj5aRgyjUP6Mf1bbXMdQ/zMlTrhs71D+lmo2NT0TUP2Hb/GlzTdQ/QNkYWYdW1D/kbFVwi1/UPzCHIsV/aNQ/TcLrbGRx1D/h9hd9OXrUP2DVCAv/gtQ/lYMaLLWL1D9FPqP1W5TUP8H+8nzznNQ/H+pE13ul1D8oTMkZ9a3UP7kxtFlfttQ/ZlYxrLq+1D+M0mMmB8fUPzbNZd1Ez9Q/1DFI5nPX1D/IaRJWlN/UP8cZwkGm59Q/DuNKvqnv1D9vKJbgnvfUPyrXgr2F/9Q/oDPlaV4H1T/eqYb6KA/VP/KhJYTlFtU/HFh1G5Qe1T/TuB3VNCbVPwifucXHLdU/HNehAU011T+VazGdxDzVPzErzKwuRNU/k63HRItL1T/aIGt52lLVPxEa714cWtU/cWh9CVFh1T+P6zCNeGjVP1FsFf6Sb9U/y3gncKB21T/xQlT3oH3VPyKCeaeUhNU/kldllHuL1T+INdbRVZLVP33JenMjmdU/EunxjOSf1T/dgcoxmabVP+8ef3VBrdU/LXlRa92z1T9jX4kmbbrVP5wqZrrwwNU/dG4VOmjH1T+037K4083VPyM9SEkz1NU/gjrN/oba1T+obSfszuDVP909KiQL59U/TdWWuTvt1T+1FBy/YPPVPzOJVkd6+dU/R2TQZIj/1T/4dQEqiwXWPzApT6mCC9Y/NoIM9W4R1j9fH3ofUBfWP3M6wzomHdY/su7vWPEi1j9gcvOLsSjWP6ejpuVmLtY/yE/FdxE01j9nHRRUsTnWP78cgVstP9Y/QetBmu9D1j9SObHR4UfWP/BhaRQHS9Y/Xvo1dWJN1j/iEM8G907WPzB3mtvHT9Y/ML+MBdhP1j9J3fiVKk/WPy9gYJ3CTdY/eIU1K6NL1j9/VK1Nz0jWPwwqjRFKRdY/lTz4gRZB1j/p/zqoNzzWPyDdmIuwNtY/XXAaMYQw1j+uKVybtSnWP1IMW8pHItY/nIdEuz0a1j/jXGtomhHWP4H138hgCNY/Vn5C0JP+1T80GJtuNvTVP/SVJ5BL6dU/iTopHdbd1T8Xd7L52NHVPwWpdAVXxdU/qkyPG1O41T9rYbkT0KrVP/WfCcHQnNU/CMjJ8FeO1T+DZhJraH/VP9dHm/IEcNU/fuqLRDBg1T9v8UsY7U/VP5GWUx8+P9U/Mh38BCYu1T9it85vpxzVPwewjQLFCtU//mDWV4H41D9y/+MD3+XUPy/Pe5Tg0tQ/osbIkIi/1D/XMjd52avUP+PjxcfVl9Q/KK208H+D1D88oH1g2m7UP/w8c3znWdQ/2u+woqlE1D9yTfspIy/UPxFOoGFWGdQ/234QkkUD1D9SABP/8uzTP0E1ZONg1tM/M5oFcpG/0z83yWjWhqjTP1nHWTRDkdM/E1Lpp8h50z+yHL9FGWLTPxoIPB03StM/l+PyNCQy0z8awnWL4hnTPywGnRd0AdM/sQx6yNro0j+610mFGNDSPzCjpS0vt9I/elK6myCe0j9CzjCh7oTSP0HclAeba9I/tBDEkCdS0j+GgOj2lTjSP3Fzc+znHtI/8Qu/HB8F0j9Ev5ArPevRP83XLrdD0dE/19mzVDS30T9JP86REJ3RP9TyvfTZgtE/BcpS/JFo0T/BKfUfOk7RP8EDFtHTM9E/rCvneWAZ0T8vpvh84f7QP/qsyzVY5NA/oY3i+MXJ0D86JtITLK/QP8r/VM2LlNA/ctpZZeZ50D96FccUPV/QP0MV9Q2RRNA/oMTAfOMp0D/P85CGNQ/QP0li4ZQQ6c8/WjtWwrmzzz9Be9G6aH7PP4gn/ZYfSc8/ldxTX+ATzz/Toe8Rrd7OP8PsaqGHqc4/w9B39HF0zj8L+Q3mbT/OP1L5mUV9Cs4/IfUt16HVzT8qRTlT3aDNPwXuWWUxbM0/gi4dr583zT+yO0fHKQPNP83z2jnRzsw/VPhEiJeazD9QZocpfmbMP64sZoqGMsw/Xxk+DbL+yz+fhc0JAsvLP+nDcs53l8s/vYnenxRkyz9Soze52TDLP4rPREzI/co/j+aWgeHKyj80S7N4JpjKP+G/40eYZco/T3xW/Dczyj8LUuaaBgHKP75p7h8Fz8k/h1RxfzSdyT+TrkCllWvJP2zPJHUpOsk/OjUEy/AIyT9b4rN67NfIP1IMUFAdp8g/JdakEIR2yD+mHyR5IUbIP5RtCkD2Fcg/AbSDFAPmxz/4AtCeSLbHP6XMZIDHhsc/EaaqU4BXxz9IcJCscyjHP1zlwRii+cY/x8ukHwzLxj8UT3tCspzGPx0ohvyUbsY/8pQmw7RAxj8tIAAGEhPGPww4Gi+t5cU/eE3uooa4xT+Y/82/novFP3pQDt/1XsU/6av8VIwyxT+u99JwYgbFP2AY1Xx42sQ/fyRuvs6uxD/FRU12ZYPEP7tIguA8WMQ/i9qZNFUtxD8uuKilrgLEP92tJWJJ2MM/2/J8lCWuwz8CxwNjQ4TDP2bfCPCiWsM/poTtWUQxwz/wUT67JwjDP6eUyypN38I/pkzBu7S2wj85zb59Xo7CPyO+4XxKZsI/fHDLwXg+wj9PJudR6RbCPzImay+c78E/ZY1sWZHIwT87MvTLyKHBP30hE4BCe8E/uLb2a/5UwT+AT/yC/C7BP6mZxLU8CcE/JWBN8r7jwD8FtAQkg77APzCWzTOJmcA/kTcZCNF0wD/djfiEWlDAP9ByLYwlLMA/c2A7/TEIwD/BlO9q/8i/Pw0oNCAdgr8/sYmWzLw7vz8nQaoe3vW+PzICNcGAsL4/F44dW6Rrvj+coa2PSCe+PyVnrv5s470/ODCERBGgvT9ddkn6NF29P28j6bXXGr0/QiE4CvnYvD/NIBKHmJe8Pyb707m1Vrw/YmsDLVAWvD8pmFtoZ9a7P3yABfH6lrs/a8KuSQpYuz/Uup/ylBm7PyH+0Gma27o/CCoAKxqeuj9NEMSvE2G6P0Zws2+GJLo/UtAQ4XHouT+USuV31ay5P4NPSKawcbk/5gGU3AI3uT9vp3aJy/y4Pyx9AxoKw7g/v+/C+b2JuD9kN8KS5lC4P8pXok2DGLg/sIOmkZPgtz9c5MHEFqm3P9TEpEsMcrc//lWBinM7tz97l47lSwW3P9JI376Uz7Y/NGGJd02atj/lob1vdWW2P54U1AYMMbY/hAhYmxD9tT+6jROLgsm1P41vGjNhlrU/Ma3U76tjtT8ccQgdYjG1P/aG4xWD/7Q/oQsMNQ7OtD+P/e7VAp20P0E0W1NgbLQ/53A3ByY8tD/VTRhLUwy0P1g0SXjn3LM/W+jU5+Gtsz/cqY3yQX+zPznsFPEGUbM/RaPiOzAjsz82JkwrvfWyP2GoihetyLI/yUfBWP+bsj8RDkxHs2+yP+WlyDzIQ7I/j4EIkj0Ysj/OX8+fEu2xP3KIAL9GwrE/T8ekSNmXsT/aEvCVyW2xP2reRgAXRLE/GRhD4cAasT9J0riSxvGwP9OYum4nybA/0HGdz+KgsD8NivwP+HiwPyVgc4tmUbA/t1Joni0qsD82qfSkTAOwP5UuNfeFua8/U36T/h9trz/U7cUaZiGvPxWYdwdX1q4/M4pDgfGLrj8Rw7pFNEKuP0ivaRMe+a0/biHdqa2wrT+lxqbJ4WitP+wAgzS5Ia0/0k4SrzLbrD9gl2X+TJWsPz8sSegGUKw/qJjEM18LrD9cSB+pVMerP9/I5BHmg6s/96ToOBJBqz9t2knq1/6qPxHqdfM1vao/AYIrIyt8qj8xwnxJtjuqPzYb0TfW+6k/Bdw6wYm8qT9EwBm8z32pP3AVX/6mP6k/B6O5Xw4CqT/XglG5BMWoPxmzyuWIiKg/FUpHwZlMqD9JTWkpNhGoP/wtVP1c1qc/Qe2tHQ2cpz9Y6Z9sRWKnP1xW180EKac/nEWHJkrwpj/g+V9eFLimP7ulrF5igKY/rsnHETNJpj/N0adjhRKmP5lk4EFY3KU/dZKjm6qmpT+06MJhe3GlPzVrsIbJPKU/qXd//pMIpT80leW+2dSkP8szO7+ZoaQ/Bl58+NJupD9uYEllhDykP1pp5wGtCqQ/vTlrzEvZoz83aqnEX6ijP71K++vnd6M/ZhNnReNHoz/8K6HVUBijP2J4DaMv6aI/GLvAtX66oj8wEYIXPYyiP9WKzNNpXqI/m+PQ9wMxoj/dXXeSCgSiP0jEYbR816E/4pTtb1mroT+rWDbZn3+hP4feWgVPVKE/kNMwCmYpoT/x0UkA5P6gP4PW5QHI1KA/SrvrKhGroD8cKOmYvoGgP2+QEmvPWKA/I0BDwkIwoD8Uef3AFwigP51G1RabwJ8/fiO3jsZxnz9QupE4sCOfP4KupmZW1p4/hS+JbreJnj8mTm+o0T2eP5BREW6j8p0/n/fRHSuonT+65V0ZZ16dP6DDicVVFZ0/RuBPivXMnD+1283SRIWcP5FXQg1CPpw/LbAKq+v3mz/zv6AgQLKbP+yumOU9bZs/NNCedOMomz8vj3VLL+WaP0Vu8+ofopo/9lfS1rNfmj90CACV6R2aPw6i+q6/3Jk/Ui9VsTScmT8nNpkrR1yZP601Q7D1HJk/DSS/1D7emD817WQxIaCYP5LzdGGbYpg/vJMUA6wlmD85rEq3UemXPzcq/CGLrZc/aJzo6VZylz/qzKa4szeXP2q3lTqg/ZY/hvR+HhvElj/b3SYWI4uWP++YJ9a2UpY/9vHYFdUalj8uTUyPfOOVPw6ZSP+rrJU/G0JGJWJ2lT/pKGvDnUCVPxSbhp5dC5U/0U8NfqDWlD/KaBUsZaKUP+13UnWqbpQ/5YoRKW87lD8YZjMZsgiUP3zgBxpy1pM/ygZ2Aq6kkz+hhvarZHOTP3gGhfKUQpM/aRCctD0Skz+5AjHTXeKSP6wGsDH0spI/Lw74tf+Dkj/y2FZIf1WSP3YBhdNxJ5I/qhKiRNb5kT+WpjCLq8yRP7OOEpnwn5E/gDWEYqRzkT/78uXdxUeRP7lg7QNUHJE/lii0z03xkD/BaZs+ssaQPz2hR1CAnJA/MpicBrdykD9tWLllVUmQP24n9HNaIJA/qhCtc4rvjz8dijKEKZ+PP0f+QDOQT48/95DvnrwAjz/kiJzprLKOP8eg5TlfZY4/JtFOutEYjj9Mh3aZAs2NPx8mYgrwgY0/RYczRJg3jT+wUCGC+e2MP8BbbwMSpYw/oC5nC+BcjD9uiFDhYRWMP+YAatCVzos/K7zhJ3qIiz9HM846DUOLPxwSJ2BN/oo/VCu+8ji6ij/4gjhRznaKP1xwB94LNIo/9tdh/+/xiT/FfT0febCJP/pwSKulb4k/ZpHiFHQviT++r+nQ4u+IPyIjelbwsIg/aZgeIZtyiD8SSzSw4TSIP5jcmobC94c/AEutKjy7hz+U+DomTX+HPwLFgAb0Q4c/ZDgiXC8Jhz+HwCK7/c6GP9EA37pdlYY/KjUG9k1chj9MqJMKzSOGP+Y9yJnZ64U/1hAkSHK0hT8JJmC9lX2FPzk0aKRCR4U/CoFUq3cRhT/U02ODM9yEP41+9eB0p4Q/CYQEezpzhD/m1xQLgz+EP6KrZk5NDIQ/NkY8BZjZgz8sHNDyYaeDP06JTt2pdYM/6JnPjW5Egz/K41DQrhODPzxvr3Np44I/KrChSZ2zgj+mj7EmSYSCPwmGNuJrVYI/48VPVgQngj/sd95fEfmBPyoIgN6Ry4E/lISItISegT9GDf3G6HGBP6FWjv28RYE/bz2TQgAagT8jJvuCse6APyMirq3Pw4A/6DBmtFmZgD8mfZ6LTm+AP4awViqtRYA/xmgNinQcgD+IdHVNR+d/PwWAlf1yln8/kHIwJmpGfz/Wac7NKvd+P8qUv/+yqH4/hcERzABbfj8UB4ZHEg5+P1qLhovlwX0/SGUctnh2fT97m+XpySt9P5U/C07X4Xw/Y6Y3Dp+YfD8LvYxaH1B8P3F7mmdWCHw/u5YJbkLBez82oyOq4Xp7P8RgK10yNXs/53mwzDLwej881ndC4at6P8T3cQw8aHo/QW6xfEElej+mYGHp7+J5P6YsvKxFoXk/XRwCJUFgeT8iMnC04B95P5AKN8Ei4Hg/ttRxtQWheD+IYB3/h2J4P5BDDxCoJHg/5BPtXWTndz8=\",\"dtype\":\"float64\",\"order\":\"little\",\"shape\":[1000]}},\"selected\":{\"id\":\"1328\"},\"selection_policy\":{\"id\":\"1329\"}},\"id\":\"1313\",\"type\":\"ColumnDataSource\"},{\"attributes\":{\"end\":10},\"id\":\"1265\",\"type\":\"Range1d\"},{\"attributes\":{\"line_color\":\"#1f77b3\",\"line_width\":2,\"x\":{\"field\":\"x\"},\"y\":{\"field\":\"y\"}},\"id\":\"1296\",\"type\":\"Line\"},{\"attributes\":{},\"id\":\"1282\",\"type\":\"WheelZoomTool\"},{\"attributes\":{\"data\":{\"x\":{\"__ndarray__\":\"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\",\"dtype\":\"float64\",\"order\":\"little\",\"shape\":[1000]},\"y\":{\"__ndarray__\":\"AAAAAAAAAAAAAAAAAAAAAAAAAAAAAAAAAAAAAAAAAAAAAAAAAAAAAAAAAAAAAAAAAAAAAAAAAAAAAAAAAAAAAAAAAAAAAAAAAAAAAAAAAAAAAAAAAAAAAAAAAAAAAAAAAAAAAAAAAAAAAAAAAAAAAAAAAAAAAAAAAAAAAAAAAAAAAAAAAAAAAAAAAAAAAAAAAAAAAAAAAAAAAAAAAAAAAAAAAAAAAAAAAAAAAAAAAAAAAAAAAAAAAAAAAAAAAAAAAAAAAAAAAAAAAAAAAAAAAAAAAAAAAAAAAAAAAAAAAAAAAAAAAAAAAAAAAAAAAAAAAAAAAAAAAAAAAAAAAAAAAAAAAAAAAAAAAAAAAAAAAAAAAAAAAAAAAAAAAAAAAAAAAAAAAAAAAAAAAAAAAAAAAAAAAAAAAAAAAAAAAAAAAAAAAAAAAAAAAAAAAAAAAAAAAAAAAAAAAAAAAAAAAAAAAAAAAAAAAAAAAAAAAAAAAAAAAAAAAAAAAAAAAAAAAAAAAAAAAAAAAAAAAAAAAAAAAAAAAAAAAAAAAAAAAAAAAAAAAAAAAAAAAAAAAAAAAAAAAAAAAAAAAAAAAAAAAAAAAAAAAAAAAAAAAAAAAAAAAAAAAAAAAAAAAAAAAAAAAAAAAAAAAAAAAAAAAAAAAAAAAAAAAAAAAAAAAAAAAAAAAAAAAAAAAAAAAAAAAAAAAAAAAAAAAAAAAAAAAAAAAAAAAAAAAAAAAAAAAAAAAAAAAAAAAAAAAAAAAAAAAAAAAAAAAAAAAAAAAAAAAAAAAAAAAAAAAAAAAAAAAAAAAAAAAAAAAAAAAAAAAAAAAAAAAAAAAAAAAAAAAAAAAAAAAAAAAAAAAAAAAAAAAAAAAAAAAAAAAAAAAAAAAAAAAAAAAAAAAAAAAAAAAAAAAAAAAAAAAAAAAAAAAAAAAAAAAAAAAAAAAAAAAAAAAAAAAAAAAAAAAAAAAAAAAAAAAAAAAAAAAAAAAAAAAAAAAAAAAAAAAAAAAAAAAAAAAAAAAAAAAAAAAAAAAAAAAAAAAAAAAAAAAAAAAAAAAAAAAAAAAAAAAAD8WtnonDpKPzkXMNcK8YE/T9HQVm0KkT92OjqnwQeZP8o4C2pbeKA/FXZtZ8BipD/dXzGCKUOoP0utVS+wGaw/Wnjyom3mrz/lIW1ovdSxP55W7jZ4sbM/nWFQd3OJtT94jHREu1y3P68XuJpbK7k/+Xo/WGD1uj9agh891bq8P90vqOvFe74/D96z8x4cwD8OZINLJPjAP2wJJKL40cE/4nYGjqGpwj/IbFCXJH/DP5xuGjiHUsQ/4JiI3M4jxT9vYeDiAPPFPx9uvJsiwMY/aEcvSjmLxz9hQ90jSlTIPwWZG1FaG8k/LKEg7W7gyT/2nx4GjaPKP6BtSp25ZMs//wAkp/kjzD8O6ZMLUuHMPzu+CKbHnM0/JeOZRV9Wzj9YRSqtHQ7PPyS8WZMHxM8/ywtG0RA80D+AZLc8OJXQP869dVV87dA/pL0jX99E0T92Qp6XY5vRPzbN/DYL8dE/rda3b9hF0j8lYrJuzZnSP8TjR1vs7NI/3YdaVzc/0z8bgER/sJDTPzJvAepZ4dM/OOdCqTUx1D9J5nbJRYDUP8xn1lGMztQ/0PJkRAsc1T9LnfudxGjVP/pwb1a6tNU/S4GTYO7/1T+ptEaqYkrWPx6RexwZlNY/IccxmxPd1j/4d6MFVCXXP0jLSDbcbNc/1lDjAq6z1z/LAoc8y/nXP6UKnq81P9g/qwrzI++D2D9gtdRc+cfYPwojFRlWC9k/8ZMWEwdO2T+7J8oADpDZPxCZvJNs0dk/hNMyeSQS2j9DACxaN1LaP0JmbNumkdo/8hOInXTQ2j9f4us8og7bPyN051ExTNs/rD+5cCOJ2z/4LZcpesXbPzYPuAg3Adw/5NZclls83D9+6+VW6XbcP9t34MrhsNw/npP6bkbq3D+I+xa8GCPdP5CJVidaW90/PnkhIgyT3T9eZzQaMMrdP5GYq3nHAN4/5loEp9M23j87tykFVmzeP6GFffNPod4/uVrhzcLV3j8vTMDsrwnfPwpyGKUYPd8/3GeBSP5v3z8R4DUlYqLfPyovHIZF1N8/XFxn2dQC4D8CctL3RxvgPz8E3r58M+A/dvt+zXNL4D+15BTBLWPgP3v4bTWreuA/yxLLxOyR4D+y3eMH86jgPzwJ65W+v+A/aGyRBFDW4D8DIgrop+zgP65TDtPGAuE/S/bgVq0Y4T8fzFIDXC7hP7CAxmbTQ+E/cCszDhRZ4T/PWyiFHm7hP86s0VXzguE/l0b6CJOX4T+CVRAm/qvhP4J5KDM1wOE/fLwCtTjU4T8w5wwvCejhPyTaZCOn++E/X6DcEhMP4j/Vtf18TSLiPy1EDOBWNeI/vFUKuS9I4j/bMruD2FriP7j9p7pRbeI/OL0g15t/4j8K2j9Rt5HiP9hs7Z+ko+I/aUPiOGS14j+z3KqQ9sbiP9tbqhpc2OI/SB4eSZXp4j/iRyGNovriP0aqrVaEC+M/Sn2fFDsc4z91Obg0xyzjP1NhoSMpPeM/YULvTGFN4z+isiMbcF3jP8T/sfdVbeM/rJ4ASxN94z/mR2t8qIzjPxgbRvIVnOM/yTjgEVyr4z9oVIY/e7rjP4s+hd5zyeM/Xp0sUUbY4z94l9L48ubjP9iF1DV69eM/OdaZZ9wD5D+NpJbsGRLkPyYhTiIzIOQ/re9UZSgu5D/qflMR+jvkP82CDIGoSeQ/JStPDjRX5D8ILhUSnWTkPyq6beTjceQ/87GH3Ah/5D90xbNQDIzkP1+MZpbumOQ/Dqs6ArCl5D8IafTnULLkPxEVgprRvuQ/U9T9azLL5D8YVrCtc9fkP47vErCV4+Q/krfRwpjv5D95os00ffvkP9mdHlRDB+U/U6wVbusS5T9ZAT/PdR7lPyoUYsPiKeU/78mAlTI15T8OL+KPZUDlP7zIEPx7S+U/Yl/cInZW5T/iE1xMVGHlP9R08L8WbOU/yJNFxL125T+GGlWfSYHlP0xgaJa6i+U/zVoZ7hCW5T+RQTTqTKDlPzx+4M1uquU/nQyn23a05T9kPmhVZb7lPxGpXXw6yOU/6RMckfbR5T/mZZXTmdvlP6qTGoMk5eU/co1d3pbu5T8ELXMj8fflP0AHxY8zAeY/Xoj/X14K5j828lLQcRPmP6S0WBxuHOY/6UsTf1Ml5j/8/e8yIi7mP8aXyHHaNuY/cirldHw/5j+tyP10CEjmP/JDPKp+UOY/wF48TN9Y5j/GvuiRKmHmP9pnqrFgaeY/thtt4YFx5j+w8pNWjnnmP87s+kWGgeY/3IL442mJ5j+GN19kOZHmP2Uof/r0mOY/G58n2Zyg5j9moqgyMajmP2PQtDiyr+Y/pWSjHCC35j+Q8x0Pe77mP4HFckDDxeY/Ol114PjM5j+I/H8eHNTmPxUldSkt2+Y/YhXBLyzi5j/8QVtfGenmP87Kx+X07+Y/AQsX8L725j876MGqd/3mP7cP3kEfBOc/YDse4bUK5z/7dsazOxHnP4ZSreSwF+c/Zg89nhUe5z9pyHQKaiTnP5eU6VKuKuc/26THoOIw5z94XNMcBzfnP1dkau8bPec/HrmEQCFD5z8ktLU3F0nnPzMPLfz9Tuc/UHK0tNVU5z+edpWHnlrnP+EjyJpYYOc/xV3pEwRm5z+dVjUYoWvnP7tSiMwvcec/mmVfVbB25z/SKNnWInznP9dstnSHgec/ieNaUt6G5z+MxM2SJ4znP3Frulhjkec/rO9wxpGW5z9Qtub9spvnP5/9tiDHoOc/VXkwUM6l5z+NY4atyKrnPymtcFm2r+c/rmBNdJe05z/Y0SgebLnnP22JvnY0vuc/zy96nfDC5z9MdnixoMfnPzj/h9FEzOc/u0QqHN3Q5z9vfpSvadXnP7SFsKnq2ec/e0MWKGDe5z8+OvlHyuLnPwzuVCYp5+c/derc33zr5z+a+PqQxe/nPzy/z1UD9Oc/Ol8zSjb45z+iDLaJXvznPzKkoC98AOg/aT31Vo8E6D8IuW8amAjoPyFMhpSWDOg/t7Fx34oQ6D+aCDsVdRToP5vVmE9VGOg/Qbj+pysc6D92fp83+B/oP7DNbRe7I+g/g8ocYHQn6D+QviAqJCvoP+C8r43KLug/nkTComcy6D814hOB+zXoP9XOI0CGOeg/+4409wc96D9dfEu9gEDoPzkFNanwQ+g/i4+D0VdH6D9h8o9MtkroPzYGejAMTug/bzMpk1lR6D8P/0yKnlToP5aVXSvbV+g/FVSciw9b6D9uTxTAO17oP8TZmt1fYeg/XqbQ+Htk6D/ZoSImkGfoP8WqyHmcaug/IPnGB6Ft6D/EpO7jnXDoP+Ui3iGTc+g/28EB1YB26D85I5QQZ3noPyy0nudFfOg/JiT6bB1/6D/Z2U6z7YHoP3RmFc22hOg/4jWZzHiH6D/MOPnDM4roP755I8XnjOg/EULY4ZSP6D+7lqorO5LoP1mqALTalOg/zk0UjHOX6D+PX/PEBZroP4Q5gG+RnOg/jh1ynBaf6D+soFVclaHoP8MUjb8NpOg/kYtR1n+m6D8nFbOw66joP50xmF5Rq+g/kM2+77Ct6D+Gp7xzCrDoP4qz//ldsug/eH3Okau06D8CikhK87boP2S2ZjI1ueg/zZb7WHG76D9/07PMp73oP6mEFpzYv+g/XWyI1QPC6D9uO0qHKcToP+7mdb9Jxug/3V8BjGTI6D8F6776ecroP5N3XRmKzOg/gfRo9ZTO6D+6pEqcmtDoPwhySRub0ug/xD6Kf5bU6D9LNhDWjNboPzkcvSt+2Og/aZpRjWra6D+xjW0HUtzoP3JRkKY03ug/3wkZdxLg6D8N7UaF6+HoP0DhOd2/4+g/eLb9io/l6D9LQnyaWufoP/NFfBch6eg/7W+mDePq6D9kpYWIoOzoP5dKh5NZ7ug/K4r7OQ7w6D+HmxWHvvHoPxoI7IVq8+g/oe94QRL16D9hS5rEtfboP1kwEhpV+Og/cxCHTPD56D+n+oNmh/voPxLaeHIa/eg/FbS6eqn+6D9Y5YOJNADpP1Vp9ai7Aek/vawf4z4D6T8X7PNBvgTpP5PaR885Buk/KgzYlLEH6T+0MkicJQnpPx5aI++VCuk/wSPclgIM6T/YAM2caw3pPx5sOArRDuk/hSJJ6DIQ6T8VWxJAkRHpP+v9jxrsEuk/WdqmgEMU6T8l3CR7lxXpP+8/wRLoFuk/tMYcUDUY6T906ME7fxnpP0DAJd7FGuk/BpGrPwkc6T/NhaFoSR3pP9w0QmGGHuk/H3q1McAf6T+q4gfi9iDpPx7f4XJyAek/RStnK7DB6D+RkyJ2kILoP0bljbQRROg/ylVHTDIG6D/CEQOn8MjnP67rfTJLjOc/jjt1YEBQ5z+aoJ+mzhTnP2yko3702eY/VOoHZrCf5j+OtC3eAGbmPyKwRmzkLOY/7PpImVn05T8yy+fxXrzlP7c2iQbzhOU/3aQ7axRO5T9Zaa63wRflPzmCJ4f54eQ/8EZ6eLqs5D+UcQguA3jkPzDHqk3SQ+Q/Qs2ogCYQ5D/HFLJz/tzjP47M1NZYquM/i1N0XTR44z8syz++j0bjP6epKLNpFeM/q49Z+cDk4j+Gs2tRlLTiPw0sLn/ihOI/+DxvSapV4j8RKBh66ibiP7c8JN6h+OE/VOeXRc/K4T/lwHeDcZ3hP2yev22HcOE/dqBZ3Q9E4T/rBkCuCRjhP7M4l79z7OA/dh4t80zB4D9b7KctlJbgPwhMgFZIbOA/kKz5V2hC4D9bkhof8xjgP8chTjfP398/bPg5gImO3z+Cr0YDEz7fP/R1DLBp7t4/EQdfe4uf3j+wdT5fdlHeP0/3x1ooBN4/taNAcp+33T9w2lmv2WvdP50oiSDVIN0/JKos2Y/W3D9ZU4bxB43cP90lroY7RNw/fGWEuij82z8Gs66zzbTbP53NxZ0obts/V1jrqDco2z9G3dMJ+eLaP9a7wvlqnto/Nz59tota2j/Irj2CWRfaP9I7raPS1Nk/luQWZvWS2T/3/wQZwFHZP0gXQRAxEdk/DqXUo0bR2D9YDP0v/5HYPxeQHxVZU9g/d+nQt1IV2D8zHruA6tfXPxrK0Nwem9c/3yvTPO5e1z8SWnsVVyPXP0WObt9X6NY/Io4yF++t1j+4ZiM9G3TWPxVTmNXaOtY/DEitaCwC1j8rjSqCDsrVPx2VjLF/ktU/WZr6iX5b1T+fbj2iCSXVP0l9tpQf79Q/EANX/7651D+amZeD5oTUP/Snb8aUUNQ/KzNNcMgc1D8U6AwtgOnTP4RP8qu6ttM/djWgn3aE0z8GQxG+slLTPyLViMBtIdM/J5VbY6bw0j90kS9mW8DSP13H44uLkNI/otOAmjVh0j8nODFbWDLSP7K/OZryA9I/tP/xJgPW0T8oErjTiKjRP7Uo23WCe9E/rIGu5e5O0T/v13j+zCLRP4uSa54b99A/hG+bptnL0D9CRfn6BaHQP6PaSoKfdtA/A5UhJqVM0D822NDSFSPQP2iM3O7g888/Tl2PC2iizz8LE7jkvlHPPwZbqWjjAc8/6zX9itOyzj9ntodEjWTOP7cQRZMOF84/+hVMelXKzT/4yMkBYH7NP9gR8DYsM80/gAfpK7jozD+dZcr3AZ/MP1goibYHVsw/x0jtiMcNzD+bZ4CUP8bLP37GhANuf8s/QlztBFE5yz8uLE/M5vPKPxuU1ZEtr8o/sL02kiNryj+nMqgOxyfKP6lN00wW5ck/onjBlg+jyT8rddo6sWHJP7YG24v5IMk/ZvPG4ObgyD+5R96Ud6HIP7C7kgeqYsg/kzl9nHwkyD/0hVO77ebHP3gJ3s/7qcc/ZsbrSaVtxz/oYjWd6DHHP7pkbkHE9sY/Cw03sja8xj/JQQ5vPoLGP+7TR/vZSMY/3eMC3gcQxj/rYyCixtfFP/e4OdYUoMU/J3mXDPFoxT8V+yTbWTLFPxheWttN/MQ/E1ZLqsvGxD+Rnpbo0ZHEP6hLWzpfXcQ/aQAwR3IpxD++QBq6CfbDP63ehUEkw8M/FIM8j8CQwz/GUV1Y3V7DPzIJT1V5LcM/d86vQZP8wj/6EWPcKczCP831f+c7nMI/XpZIKMhswj9EFyJnzT3CP/DIjG9KD8I/HmccED7hwT8gcHAap7PBP/WULGOEhsE/kXDpwdRZwT9jbiwRly3BPxfLby7KAcE/2t0S+mzWwD8gvFJXfqvAP90IQyz9gMA/PdrGYehWwD/YtYnjPi3AP1yj+J//A8A/45Z2EFO2vz/oeUYgd2W/PwKRWFxpFb8/4Tj6tifGvj/Mt7UnsHe+P7UTRasAKr4/HBGFQxfdvT+wWmj38ZC9P8LR6tKORb0/dwcF5+v6vD9qA59JB7G8P1KsbhXfZ7w/3QgEanEfvD/OkL9rvNe7P9fxvkO+kLs/jCfRH3VKuz9buGoy3wS7P2MXmrL6v7o/Ryv828V7uj/y+bDuPji6P/kkTS9k9bk/i1u05jOzuT8cVjlirHG5PyCxifPLMLk/fyyd8JDwuD9dAKuz+bC4P+1UH5sEcrg/Yt2QCbAzuD/plbZl+vW3P8CkXRriuLc/Ul5flmV8tz91bJdMg0C3P68Y2rM5Bbc/j53MRofKtj9NRciDapC2P/9dLe3hVrY/goUrCewdtj8qcLZhh+W1P4mIfISyrbU/9a3dAmx2tT+xEeJxsj+1P9IyMWqECbU/0/gIiODTtD/X7DRrxZ60P6WRBbcxarQ/5rFGEiQ2tD+JIQYnmwK0P2gXwqKVz7M/Iy9tNhKdsz9B8VCWD2uzP0GCBXqMObM/3WxpnIcIsz+Lh5m7/9eyPzX16Jjzp7I/I0HZ+GF4sj8klhKjSUmyP+kQXGKpGrI/mi2UBIDssT8cTJ5azL6xP+BbNDiNkbE/V00vdMFksT+n+GPoZzixP0HhlXF/DLE/Bupv7wbhsD9fIX1E/bWwP0ClIVZhi7A/I5+TDDJhsD/tV9RSbjewP8ljqRYVDrA/3MsrkUrKrz+32Ke3O3mvP2svY4z7KK8/1McmAIjZrj99FTMJ34quPwLi+6L+PK4/Iy8bzuTvrT8caUSQj6OtPyDDN/T8V60/+r21CSsNrT/f2HLlF8OsP1NsC6HBeaw/R6/3WiYxrD9P5n82ROmrP80lq1sZoqs//6Dr9qNbqz81Tns54hWrPzPGRFnS0Ko/m4PDkHKMqj96hPgewUiqPw4RX0e8Bao/vKfhUWLDqT9EDs+KsYGpPyKIz0KoQKk/LjLazkQAqT9qgyqIhcCoPw3zNcxogag/FaWS/OxCqD8bSKJ+EAWoP9MsNLzRx6c/wpYXIy+Lpz9yWB4lJ0+nP7/KEji4E6c/Aeit1eDYpj/Kio17n56mP9TPKqvyZKY/y5rQ6dgrpj+PPZLAUPOlP6BBQrxYu6U/IvNobe+DpT/o+AloE02lP/KfyEPDFqU/Kun6m/3gpD9qqIQPwaukP0OLzkAMd6Q/kTe91d1CpD81gah3NA+kP4C2UtMO3KM/yALgmGupoz9W5s17SXejP4fD6jKnRaM/NoBNeIMUoz8TO00J3eOiP0EUeaays6I/LW6CEwOEoj94IjoXzVSiP2XQm3sPJqI/xiK5Dcn3oT/0vLGd+MmhP4o5q/6cnKE/tTXJBrVvoT9xaCWPP0OhPxjFx3M7F6E/n6iek6froD/jEHfQgsCgP2Hd9A7MlaA/uRiLNoJroD9YSnQxpEGgPwyLyuwwGKA/xlEasU7enz8Qv4XODI2fP4T1PxyaPJ8/ljgBivTsnj8ZocMMGp6eP0RgtZ4IUJ4/lBsrP74Cnj+sYJLyOLadP2owZMJ2ap0/aKAXvXUfnT8ckhT2M9WcP81+poWvi5w/hVfviOZCnD/mi/ch1/qbP90C0Xd/s5s/5/MEtt1smz8DpsEM8CabPxqk07C04Zo/y9aZ2ymdmj+suPnKTVmaP4GkU8EeFpo/4jx3BZvTmT/m7JfiwJGZPz2BQaiOUJk/VtlMqgIQmT/5r9RAG9CYP/F6KsjWkJg/cBDToDNSmD95QZgvMBSYPwFnRN3K1pc/yZ6rFgKalz9s1aVM1F2XP5t8BPQ/Ipc/1lmIhUPnlj9obdd93ayWPynxcl0Mc5Y/wG6tqM45lj/97KDnIgGWP/EzJaYHyZU/aSfGc3uRlT9rN7rjfFqVPy3m2owKJJU/xdiqCSPulD/qRjP4xLiUP+uFAPrug5Q/TngctJ9PlD+oogXP1RuUPzxWpvaP6JM/FfFL2sy1kz9IM54si4OTPxmplqPJUZM/pil4+IYgkz/jacbnwe+SP3mjPTF5v5I/XU/Kl6uPkj+7UIHhV2CSP3ZNntd8MZI/SPByRhkDkj/lRl/9K9WRPwT/y86zp5E/dqAikK96kT+x2cUZHk6RP4HeCUf+IZE/o9gs9k72kD//aU8ID8uQPzJAbWE9oJA/LblV6Nh1kD+WmKSG4EuQP6zNuihTIpA/Me5ue1/yjz910/du6qCPP1QcMhVFUI8/ereIXG0Ajz+0xaw4YbGOP0caiKIeY44/09svmKMVjj8oRdcc7siNP66Fwjj8fI0/1cA5+csxjT8fLHxwW+eMP0tLs7WonYw/JErm5LFUjD95c+0edQyMP4vFZYnwxIs/Cne6TiJ+iz9CxwieCDiLP+Bu/aqh8oo/25bareutij8xDmzj5GmKP6Ca+4yLJoo/6WNF8N3jiT8meWxX2qGJP8Nv7xB/YIk/pRudb8ofiT8NYInKut+IP8cYAn1OoIg/JxuE5oNhiD9yTrBqWSOIPyzbQHHN5Yc/73D+Zd6ohz9AorW4imyHPwBWLN3QMIc/Ak4XS6/1hj+P/xx+JLuGP0JhJvYugYY/Df+vNs1Hhj8KYuvG/Q6GP+aSyjG/1oU/cnD2BRCfhT8GHMXV7meFP2N7MDdaMYU/nc/Mw1D7hD/GYL8Y0cWEP+k9tdbZkIQ/+hDaoWlchD9cBs8hfyiEP5vHoQEZ9YM/94jD7zXCgz9pKQCe1I+DP7VkdcHzXYM/NReKEpIsgz/ukuVMrvuCP6YFZy9Hy4I/f8dLfFubgj/rqSv56WuCP08VfW7xPII/TkvPp3AOgj8Ju8NzZuCBPxQWBqTRsoE/H3dEDbGFgT8QmieHA1mBPzIlS+zHLIE/LgM2Gv0AgT+EzVLxodWAPytH6FS1qoA/COcRKzaAgD/7cbhcI1aAPx2kitV7LIA/8ej1gz4DgD9dRD6y1LR/P675tpH8Y38/l6hSk/ITfz8UHFqptMR+PzOA5stAdn4/t+YA+JQofj/+eJ8vr9t9P7BlzHmNj30/ysmY4i1EfT8Otw97jvl8P2VXKVmtr3w/lyy+l4hmfD/ta3pWHh58Pyt10bls1ns/ZWTx6nGPez8svrYXLEl7P5A1oHKZA3s/c4vCMri+ej+lhryThnp6P1MEq9UCN3o/NSAdPSv0eT8JdAgT/rF5P85tvaR5cHk/BTMJRJwveT8QYmxHZO94P6rQOwnQr3g/zP/2591weD81rEVGjDJ4P2ga7YrZ9Hc/8nrFIMS3dz92Zq92Snt3Pyhxif9qP3c/R9UlMiQEdz8hNECJdMl2P0ptc4Naj3Y/hYsvo9RVdj8Nx69u4Rx2P7mc8G9/5HU/rvmlNK2sdT8=\",\"dtype\":\"float64\",\"order\":\"little\",\"shape\":[1000]}},\"selected\":{\"id\":\"1308\"},\"selection_policy\":{\"id\":\"1309\"}},\"id\":\"1295\",\"type\":\"ColumnDataSource\"},{\"attributes\":{},\"id\":\"1267\",\"type\":\"DataRange1d\"},{\"attributes\":{\"label\":{\"value\":\"y\"},\"renderers\":[{\"id\":\"1298\"}]},\"id\":\"1312\",\"type\":\"LegendItem\"},{\"attributes\":{\"bottom_units\":\"screen\",\"fill_alpha\":0.5,\"fill_color\":\"lightgrey\",\"left_units\":\"screen\",\"level\":\"overlay\",\"line_alpha\":1.0,\"line_color\":\"black\",\"line_dash\":[4,4],\"line_width\":2,\"right_units\":\"screen\",\"syncable\":false,\"top_units\":\"screen\"},\"id\":\"1287\",\"type\":\"BoxAnnotation\"},{\"attributes\":{},\"id\":\"1306\",\"type\":\"BasicTickFormatter\"},{\"attributes\":{\"source\":{\"id\":\"1295\"}},\"id\":\"1299\",\"type\":\"CDSView\"},{\"attributes\":{},\"id\":\"1301\",\"type\":\"Title\"},{\"attributes\":{},\"id\":\"1307\",\"type\":\"AllLabels\"},{\"attributes\":{\"data_source\":{\"id\":\"1295\"},\"glyph\":{\"id\":\"1296\"},\"hover_glyph\":null,\"muted_glyph\":null,\"nonselection_glyph\":{\"id\":\"1297\"},\"view\":{\"id\":\"1299\"}},\"id\":\"1298\",\"type\":\"GlyphRenderer\"},{\"attributes\":{\"label\":{\"value\":\"z\"},\"renderers\":[{\"id\":\"1316\"}]},\"id\":\"1331\",\"type\":\"LegendItem\"},{\"attributes\":{\"source\":{\"id\":\"1313\"}},\"id\":\"1317\",\"type\":\"CDSView\"},{\"attributes\":{},\"id\":\"1308\",\"type\":\"Selection\"},{\"attributes\":{\"line_color\":\"#ff7e0e\",\"line_width\":2,\"x\":{\"field\":\"x\"},\"y\":{\"field\":\"y\"}},\"id\":\"1314\",\"type\":\"Line\"},{\"attributes\":{},\"id\":\"1309\",\"type\":\"UnionRenderers\"},{\"attributes\":{},\"id\":\"1269\",\"type\":\"LinearScale\"},{\"attributes\":{\"line_alpha\":0.1,\"line_color\":\"#ff7e0e\",\"line_width\":2,\"x\":{\"field\":\"x\"},\"y\":{\"field\":\"y\"}},\"id\":\"1315\",\"type\":\"Line\"},{\"attributes\":{\"overlay\":{\"id\":\"1287\"}},\"id\":\"1283\",\"type\":\"BoxZoomTool\"},{\"attributes\":{\"axis_label\":\"dimensionless time\",\"formatter\":{\"id\":\"1306\"},\"major_label_policy\":{\"id\":\"1307\"},\"ticker\":{\"id\":\"1274\"}},\"id\":\"1273\",\"type\":\"LinearAxis\"}],\"root_ids\":[\"1264\"]},\"title\":\"Bokeh Application\",\"version\":\"2.3.0\"}};\n",
       "  var render_items = [{\"docid\":\"3ff0b86c-f2dd-4064-8830-3d2dc95d5152\",\"root_ids\":[\"1264\"],\"roots\":{\"1264\":\"a7e2f7c6-3cb6-449a-a8bd-e9dbec3fc510\"}}];\n",
       "  root.Bokeh.embed.embed_items_notebook(docs_json, render_items);\n",
       "\n",
       "  }\n",
       "  if (root.Bokeh !== undefined) {\n",
       "    embed_document(root);\n",
       "  } else {\n",
       "    var attempts = 0;\n",
       "    var timer = setInterval(function(root) {\n",
       "      if (root.Bokeh !== undefined) {\n",
       "        clearInterval(timer);\n",
       "        embed_document(root);\n",
       "      } else {\n",
       "        attempts++;\n",
       "        if (attempts > 100) {\n",
       "          clearInterval(timer);\n",
       "          console.log(\"Bokeh: ERROR: Unable to run BokehJS code because BokehJS library is missing\");\n",
       "        }\n",
       "      }\n",
       "    }, 10, root)\n",
       "  }\n",
       "})(window);"
      ],
      "application/vnd.bokehjs_exec.v0+json": ""
     },
     "metadata": {
      "application/vnd.bokehjs_exec.v0+json": {
       "id": "1264"
      }
     },
     "output_type": "display_data"
    }
   ],
   "source": [
    "# Set up parameters for the pulse (on at t = 1, off at t = 5, x_0 = 2)\n",
    "x_args = (1.0, 4.0, 2.0)\n",
    "\n",
    "# Package parameters into a tuple\n",
    "args = (beta, gamma, n_x, n_y, x_pulse, x_args)\n",
    "\n",
    "# Integrate ODEs\n",
    "yz = scipy.integrate.odeint(cascade_rhs_x_fun, yz_0, t, args=args)\n",
    "\n",
    "# Pluck out y and z\n",
    "y, z = yz.transpose()\n",
    "\n",
    "# Plot the results\n",
    "p = bokeh.plotting.figure(\n",
    "    frame_width=450,\n",
    "    frame_height=250,\n",
    "    x_axis_label=\"dimensionless time\",\n",
    "    y_axis_label=\"dimensionless y, z\",\n",
    "    x_range=[0, 10],\n",
    ")\n",
    "\n",
    "# Populate glyphs\n",
    "p.line(t, y, line_width=2, color=colors[0], legend_label=\"y\")\n",
    "p.line(t, z, line_width=2, color=colors[1], legend_label=\"z\")\n",
    "\n",
    "# Place the legend\n",
    "p.legend.location = \"top_right\"\n",
    "\n",
    "# Show plot\n",
    "bokeh.io.show(p)"
   ]
  },
  {
   "cell_type": "markdown",
   "metadata": {},
   "source": [
    "Let's see what happens when we do a shorter pulse, this time with $1 \\le t \\le 1.7$."
   ]
  },
  {
   "cell_type": "code",
   "execution_count": 11,
   "metadata": {},
   "outputs": [
    {
     "data": {
      "text/html": [
       "\n",
       "\n",
       "\n",
       "\n",
       "\n",
       "\n",
       "  <div class=\"bk-root\" id=\"e8955ed9-d76f-44ce-bf37-8c0e76a1afe5\" data-root-id=\"1434\"></div>\n"
      ]
     },
     "metadata": {},
     "output_type": "display_data"
    },
    {
     "data": {
      "application/javascript": [
       "(function(root) {\n",
       "  function embed_document(root) {\n",
       "    \n",
       "  var docs_json = {\"8d0dc756-1de8-4461-bc9f-a879db83974a\":{\"defs\":[{\"extends\":null,\"module\":null,\"name\":\"DataModel\",\"overrides\":[],\"properties\":[]}],\"roots\":{\"references\":[{\"attributes\":{\"below\":[{\"id\":\"1443\"}],\"center\":[{\"id\":\"1446\"},{\"id\":\"1450\"},{\"id\":\"1481\"}],\"frame_height\":250,\"frame_width\":450,\"left\":[{\"id\":\"1447\"}],\"renderers\":[{\"id\":\"1468\"},{\"id\":\"1486\"}],\"title\":{\"id\":\"1471\"},\"toolbar\":{\"id\":\"1458\"},\"x_range\":{\"id\":\"1435\"},\"x_scale\":{\"id\":\"1439\"},\"y_range\":{\"id\":\"1437\"},\"y_scale\":{\"id\":\"1441\"}},\"id\":\"1434\",\"subtype\":\"Figure\",\"type\":\"Plot\"},{\"attributes\":{\"data_source\":{\"id\":\"1483\"},\"glyph\":{\"id\":\"1484\"},\"hover_glyph\":null,\"muted_glyph\":null,\"nonselection_glyph\":{\"id\":\"1485\"},\"view\":{\"id\":\"1487\"}},\"id\":\"1486\",\"type\":\"GlyphRenderer\"},{\"attributes\":{\"data\":{\"x\":{\"__ndarray__\":\"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\",\"dtype\":\"float64\",\"order\":\"little\",\"shape\":[1000]},\"y\":{\"__ndarray__\":\"AAAAAAAAAAAAAAAAAAAAAAAAAAAAAAAAAAAAAAAAAAAAAAAAAAAAAAAAAAAAAAAAAAAAAAAAAAAAAAAAAAAAAAAAAAAAAAAAAAAAAAAAAAAAAAAAAAAAAAAAAAAAAAAAAAAAAAAAAAAAAAAAAAAAAAAAAAAAAAAAAAAAAAAAAAAAAAAAAAAAAAAAAAAAAAAAAAAAAAAAAAAAAAAAAAAAAAAAAAAAAAAAAAAAAAAAAAAAAAAAAAAAAAAAAAAAAAAAAAAAAAAAAAAAAAAAAAAAAAAAAAAAAAAAAAAAAAAAAAAAAAAAAAAAAAAAAAAAAAAAAAAAAAAAAAAAAAAAAAAAAAAAAAAAAAAAAAAAAAAAAAAAAAAAAAAAAAAAAAAAAAAAAAAAAAAAAAAAAAAAAAAAAAAAAAAAAAAAAAAAAAAAAAAAAAAAAAAAAAAAAAAAAAAAAAAAAAAAAAAAAAAAAAAAAAAAAAAAAAAAAAAAAAAAAAAAAAAAAAAAAAAAAAAAAAAAAAAAAAAAAAAAAAAAAAAAAAAAAAAAAAAAAAAAAAAAAAAAAAAAAAAAAAAAAAAAAAAAAAAAAAAAAAAAAAAAAAAAAAAAAAAAAAAAAAAAAAAAAAAAAAAAAAAAAAAAAAAAAAAAAAAAAAAAAAAAAAAAAAAAAAAAAAAAAAAAAAAAAAAAAAAAAAAAAAAAAAAAAAAAAAAAAAAAAAAAAAAAAAAAAAAAAAAAAAAAAAAAAAAAAAAAAAAAAAAAAAAAAAAAAAAAAAAAAAAAAAAAAAAAAAAAAAAAAAAAAAAAAAAAAAAAAAAAAAAAAAAAAAAAAAAAAAAAAAAAAAAAAAAAAAAAAAAAAAAAAAAAAAAAAAAAAAAAAAAAAAAAAAAAAAAAAAAAAAAAAAAAAAAAAAAAAAAAAAAAAAAAAAAAAAAAAAAAAAAAAAAAAAAAAAAAAAAAAAAAAAAAAAAAAAAAAAAAAAAAAAAAAAAAAAAAAAAAAAAAAAAAAAAAAAAAAAAAAAAAAAAAAAAAAAAAAAAAAAAAAAAAAAAAAAAAAAAAAAAAAAAAAAAAAAAAAADQQTdqXWHtPUjlbvUo55I+B3c93XtGwD4iaVsVg+nZPp6zt5IRq+0+iKdpjSZC/D68kwpAc+0HP94aZNxgqxI/0BNcSr1uGz/4K0nw9D4jPwjrlht+CSo/6kP0JDoZMT8aGnNW5+k1P09q5mAPgzs/6aJfFSX4QD9N0HUIP55EP4zTrCvzuEg/u2t/GwhNTT947in2eS9RPwxTM7pu+VM/BlvvWU8GVz+j8IyJ41daP4qrcpbO710/dht5VMjnYD83H98PRPxiPyGnSD35NWU/QXmMwnaVZz9G2IY0PBtqP8pB+GG6x2w/OwzL9FObbz/U1uT2LktxP2MvJ92P3HI/oJVHMuqBdD99W5OFVTt2P1XTPKzjCHg/TydyCKHqeT+8MHTQlOB7P+Na/czA6n0/Sz7YqZAEgD9xlPlP1x2BP9WXXEouQYI/YT8qfY1ugz8oP5zL6qWEPwC32+M554U/hh/Y1mwyhz8VHGoVdIeIP/+4vIQ+5ok/cr7llblOiz+uv+vc0MCMP6tFzKBuPI4/O6GnDnzBjz+LZGOX8KeQP9TwvX7Cc5E/XBSemyZEkj8gEKkvDxmTP5YqTSlu8pM/wphGEDXQlD+1XxAQVbKVP0axYPO+mJY/SLoG/GKDlz9XwQc8MXKYPxmwk4YZZZk/DcZ0dAtcmj+DMQ9j9labP9az6WbJVZw/4bO3TXNYnT9o7pXc4l6eP5YmBrgGaZ8/hDTttWY7oD85zfiwEsSgPwE8pz1nTqE/+YP2n1/WoT9GuARi51miPyIAD0cV2aI/ksdNwP9Toz9vR/TsvMqjP4H0HZtiPaQ/kcSZRwaspD/VLg0fvRalP1guoP2bfaU/dFJRcLfgpT8pRKi1I0CmP7Bit770m6Y/M4gXLD70pj+2wQpQE0mnP+/lBi+Hmqc/nqQ7gKzopz+C8ECylTOoPy//ketUe6g/VP45Bfy/qD+75ZuOnAGpP6l+Hc5HQKk/DCrRwQ58qT/suxsfArWpP/9StVMy66k/+OFLh68eqj+BFI+biU+qP1C40izQfao/hdW0kpKpqj97xrDi39KqP4qxpe/G+ao/P7tASVYeqz/EmY49nECrP4UGq9mmYKs/Vjt56oN+qz+UACv/QJqrP2rri2jrs6s/bmL7OJDLqz9Q0NNFPOGrP7OJJSj89Ks/+e16PdwGrD+jM5Op6BasP0pWNVYtJaw/I7W587UxrD9I1Bb6jTysP7cpoqnARaw/6NzXC1lNrD87DIj0YVOsP1Z9CQLmV6w/mP8Anu9arD9H90H+iFysP+DijyW8XKw/XOBf5JJbrD+CMprZFlmsPy/GW3NRVaw/vd6270tQrD9rIqJcD0qsP44wV5mkQqw/l2StVxQ6rD9YDV4cZzCsP0BLxD+lJaw/ke6c7tYZrD+aVcYqBA2sP/BKAMw0/6s/puOrgHDwqz9GwvrLvuCrPxv/gAUn0Ks/4xWqYLC+qz9zKRLqYayrP2FrJ4hCmas/Tm/h+1iFqz8pfnjhq3CrP3DpHLFBW6s/d16uvyBFqz+SAXo9Ty6rPwC28jDTFqs/4rG+g7L+qj+UTwj/8uWqP3FcZkuazKo/vVKG8a2yqj+Sk9ZaM5iqP8SgMNIvfao/z1aDhKhhqj8elaKAokWqP90avq4iKao/Unk13i0Mqj/tfHHEyO6pP/dSRPv30Kk/+giEAcCyqT8fDKU7JZSpP5eoVPQrdak/+YgTXdhVqT9NthSJLjapPzVxIX4yFqk/ZewGEuj1qD/6PG0RU9WoPwuCmTF3tKg/FpoDEViTqD+jBuo3+XGoPwj+4xheUKg/X6txEYouqD+jnIpqgAyoP3sec1NE6qc/fGv14djHpz/oZ1oeQaWnP3vgeP1/gqc/+8gNYZhfpz+knSIYjTynP3XKcN9gGac/VRjCYRb2pj8fIE44sNKmP37DFOswr6Y/sJ818ZqLpj+sFFev8GemP7pM/Hg0RKY/iePlkmggpj+hnucxj/ylP26sKXuq2KU/gptmhLy0pT8cCiZUx5ClP+QN9OHMbKU/71OVFs9IpT/w+DfMzySlP1mfvs7QAKU/yUUJ5tPcpD8jEubM2rikP4iKXiznlKQ/c7D/oPpwpD/62Be7Fk2kPzSU8v48KaQ/1aMS5W4FpD/3AGrareGjPwfxj0D7vaM/6yn1bViaoz8c0D6uxnajP82bjEZHU6M/i4bXcNsvoz9yr7RbhAyjP0/s+itD6aI/zXj3/BjGoj8VNKHgBqOiP+1syt8NgKI/RjxR+i5doj9Kbk4nazqiP935QlXDF6I/Ub1sajj1oT/EFc5Gy9KhP20nt8F8sKE/GmtDqk2OoT/dxP7HPmyhPxzWD9tQSqE/chdhnIQooT9gusi92gahP71SL+pT5aA/A0i1xfDDoD9gDtftsaKgP4nj0fmXgaA/QRRefKNgoD8lzysB1T+gPwbDsA0tH6A/MY4uQ1j9nz9ol8BtpbyfP/ONCIRCfJ8/wzomZDA8nz9iDKbhb/yeP6vXvMUBvZ4/TZCBz+Z9nj9Ta7q0Hz+eP7ypDyStAJ4/YD1NwY/CnT+CE/YmyISdP08CwOZWR50/VaLIiTwKnT8xa8iQec2cP3ATRHQOkZw/rjO8pPtUnD/mLNuKQRmcP/tRoYfg3Zs/jwWm9diimz88EAorK2ibP85TqXTXLZs/b2dpGN7zmj8u5pNVP7qaPwJR/mT7gJo/nmsweRJImj8pFIm+hA+aP9CVYVtS15k/KXYvcHufmT9+vaQXAGiZP+q5zmbgMJk/EmlHbRz6mD/2EO05tMOYP3yFKNanjZg/B65nRPdXmD86t2iCoiKYPyY/WYmp7Zc/UVT0TQy5lz+WR5/AyoSXP9BQhc3kUJc/ZwayXFodlz+lpypSK+qWP+w5Bo5Xt5Y/tniE7N6Elj/GcAhHwVKWP+2Tm3b+IJY/ePSNTpbvlT8CYJ+eiL6VP+bVaDPVjZU/luly1ntdlT/AMktOfC2VP3HLmF7W/ZQ/CtwvyInOlD8pNSRJlp+UP3H32pz7cJQ/OkkbfLlClD9Q1iCdzxSUP5qkQrY955M/JZHfewO6kz+k4JqeII2TP8sgBc2UYJM/MQ+ts180kz9zxC/9gAiTP30jSFL43JI/FY3dWcWxkj+T1xG554aSP9aKThNfXJI/aGBRCisykj/bBzg+SwiSPw6FBU6/3pE/FSC02Ya1kT9I5FZ+oYyRPyF6Z9cOZJE/+NQnf847kT9ZNa4O4BORP8aZ8B1D7JA/B57PQ/fEkD/qyCAW/J2QP4lIuClRd5A/DR1yEvZQkD/rsTpj6iqQP6XlFq4tBZA/waQMC3+/jz8oSLL3PnWPP3OVJkOaK48/7AIrDZDijj8tG0x0H5qOP7sM8pVHUo4/MlhwjgcLjj8LnRR5XsSNP/uENHBLfo0/2M06jc04jT8jcrPo4/OMPxvwVpqNr4w/1ycGuclrjD9gANJflyiMP5BaiqX15Ys/54XUoOOjiz/OrfFnYGKLP4J5yxBrIYs/Q9n/sALhij8gBexdJqGKP5GxtizVYYo/OX5ZMg4jij/7oqmD0OSJP8LfXzUbp4k/JbMfXO1piT/0yQUORi2JP2zXdmIk8Yg/aLRFb4e1iD93EXZKbnqIPy+xSArYP4g/ltVDxcMFiD+RWTuSMMyHP1Z8WIgdk4c/4GQhv4lahz9UY4BOdCKHP2f2yk7c6oY/p5rI2MCzhj+8abkFIX2GP4WPXO/7RoY/JJv2r1ARhj/WgxdjHtyFPwQixyVkp4U/cYG5FCFzhT+WA1hNVD+FPwkkz+38C4U/eVQXFRrZhD87Bv7iqqaEP0roLniudIQ/rmA99iNDhD89SK5/ChKEP6PvAThh4YM/qHS+Qyexgz+ebnrIW4GDP+z45+z9UYM/oyLg2Awjgz8ZvWOzh/SCPyS3bKFtxoI/d6Q+zL2Ygj/78Dped2uCP2PQx4KZPoI/GopVZiMSgj8H3mM2FOaBPzaGhyFruoE/QNlvVyePgT9qkewISGSBP2m882fMOYE/r9enp7MPgT89HV78/OWAP+QEpZunvIA/2f1KvLKTgD9vnDSVHWuAP7mSGVznQoA/h+cVSg8bgD/wxw8zKed/P54B4gvtmH8/fkTwl2hLfz9MptdSmv5+PzgDibqAsn4/d31NTxpnfj8XB8uTZRx+P8j5CA1h0n0/fcB0QguJfT+Xlua9YkB9P21gpgtm+Hw/+aBwuhOxfD9hCLBaamp8P7EVL31oJHw/Hs3Ytgzfez9CbRmfVZp7PwoOuc9BVns/Isbc5M8Sez/BxQd9/s96P/NoHDnMjXo/nkNdvDdMej9iKW6sPwt6P4wzVbHiynk/Rsd7dR+LeT8nnq+l9Et5P2zTI/FgDXk/4/dxCWPPeD+EskCi+ZF4Pzt1bHAjVXg/XUERLN8YeD+sobmPK913P4NZQVgHonc/qETURHFndz8XKu0WaC13PwqDVJLq83Y/mjcfffe6dj9HUq2fjYJ2P7+rqMSrSnY/OpADuVATdj+3X/dLe9x1P3YqA08qpnU//UrqlVxwdT+fK6f2EDt1P2XHQklGBnU/FJ0maPvRdD/Y2PwvL550P/muqH/ganQ/WZxEOA44dD9MqCA9twV0P+WowHPa03M/+Yraw3aicz/8nlQXi3FzP/brQ1oWQXM/uonqehcRcz+OA7ZpjeFyP4DEPRl3snI/kI5BftODcj8UlIiPoVVyPyICU0XgJ3I/UtJomo76cT9cicCLq81xP1wVZBg2oXE/Kk9uQS11cT+gfAgKkElxP7rUZ3ddHnE/KQbLkJTzcD86wXdfNMlwP7RFuO47n3A/hvXYS6p1cD/47CWGfkxwPyGh6K63I3A/zArLsqn2bz8XoYo1qqZvP1f6NxNvV28/NY6OffYIbz+kElWqPrtuP7LgJNNFbm4/j8RkNQoibj8k3EMSitZtP2+FtK7Di20/Cl5nU7VBbT8eVcZMXfhsPxnR7+q5r2w/duqxgclnbD/kvIVoiiBsPx/Qivr62Ws/xpmClhmUaz+NGcye5E5rP/6QX3laCms/OVjKj3nGaj/r0CpPQINqP9x4LCitQGo/WM3ojb7+aT9jJ/D0cr1pP/vEYtfIfGk/sgbdsr48aT+7N1UIU/1oPzAOFlyEvmg/LDq5NVGAaD+EBCIguEJoP/r9d6m3BWg/vL8hY07JZz/8vb/heo1nP3QtJ707Umc/uPxckI8XZz8N4pD5dN1mP7R+GJrqo2Y/aJhqFu9qZj/raRoWgTJmP28L00Of+mU/t/NSTUjDZT9HDWfjeoxlP0Dghbg1VmU/GEj2gXcgZT/bZ/D4PutkP95yltmKtmQ/gVPv4lmCZD8MYOHWqk5kPzIeLXp8G2Q/tRVolM3oYz+1svfvnLZjPyg4DFrphGM/BMOborFTYz+KXl2c9CJjP1sqxByx8mI/q5L6++XCYj88m90UkpNiP5A9+ES0ZGI/09p+bEs2Yj8PwkpuVghiPxnL1S/U2mE/tfgdmcOtYT/rY3aTI4FhP+KbWAvzVGE/6Pga8DApYT+595Az3P1gP0ZJBsrz0mA/OO85qnaoYD9/ZVnNY35gPyjZ+y66VGA/1WwdzXgrYD8bixqongJgPxiOVoVVtF8/e5a9QzhkXz8nry2a4xRfPzCcBpxVxl4/XJ47YYx4Xj/RykoGhiteP5SCNKxA310/gwpzeLqTXT9ORPKU8UhdP3bZjS/k/lw/oILreJC1XD8Y61Gn9GxcP8rKb/UOJVw/YfYoot3dWz+UY43wXpdbPwVC0CeRUVs/Oik/k3IMWz+EWzmCAchaP6AeJ0g8hFo/9ilxPCFBWj/jKni6rv5ZP0JfjCHjvFk/jkbl1Lx7WT/PaZk7OjtZP5w6lsBZ+1g/gwmY0hm8WD8HFCLkeH1YP42qdmt1P1g/cG6P4g0CWD9jk7HGQMVXP93Kf5gMiVc/KVet3G9NVz8bGoAbaRJXP2jgx+D211Y/dqLWuxeeVj8E2Xg/ymRWP9zl7QENLFY/v5DgnN7zVT+hmF+tPbxVP25Z1tMohVU/bYYFtJ5OVT98+fv0nRhVP0CXD0El41Q/bEjWRTOuVD9cCB+0xnlUPw0J6z/eRVQ/texmoHgSVD8UFeSPlN9TPzO3zMswrVM/YQnrE0x7Uz/0JEgr5UlTP0B/Pdj6GFM/kk4g5IvoUj+GuTobl7hSPysWxUwbiVI/9DjfShdaUj+D04nqiStSP0TjnwNy/VE/9C/QcM7PUT/62ZYPnqJRP8D4NsDfdVE/5Ui0ZZJJUT9t6szltB1RP+8u8yhG8lA/sHdHGkXHUD/UI5KnsJxQP4iOPcGHclA/Qx1QWslIUD88RUNodB9QPyoIR8YP7U8/MQ3FigWcTz/UskAYyEtPP1uS8W1V/E4/0Sz7j6utTj/VbGGHyF9OP4BC/WGqEk4/UllxMk/GTT8+6B4QtXpNP6+bGhfaL00/tpkhaLzlTD84oI4oWpxMPyw9T4KxU0w/9CDZo8ALTD+6ih/AhcRLP+LOiA7/fUs/jvfjyio4Sz8uf141B/NKPyElepKSrko/GbrSKstqSj+pEvxKrydKP9tzGEQ95Uk/Au13a3OjST91/YoaUGJJP0Lp2K7RIUk/aSf2ifbhSD+Q6XoRvaJIP0q9+a4jZEg/2Ub2zygmSD97FdzlyuhHPziR9WUIrEc/NgJjyd9vRz+SsRGNTzRHP8AjszFW+UY/a2y0O/K+Rj/imzUzIoVGP/1FAaTkS0Y/liKEHTgTRj9+x8QyG9tFP/R7W3qMo0U/qyVqjopsRT9OT5QMFDZFP4hI95UnAEU/Fdf8zsPKRD+rgcNd55VEPx8+weyQYUQ/WPg2Kr8tRD9cxK/HcPpDP50o+Xmkx0M/n38b+ViVQz8CcVIAjWNDP+qBBU4/MkM/zLzAo24BQz+ScC3GGdFCPykHC30/oUI/ZPMnk95xQj9OtlrW9UJCP8v7eheEFEI/ps5aKojmQT/647/lALlBP/n9XCPti0E/GGbLv0tfQT+YfoSaGzNBP21r25VbB0E/jNL2lgrcQD+Ss8qFJ7FAP8tWEk2xhkA/olNK2qZcQD/hIEkcBzNAPzDLxwPRCUA/rS2TCwfCPz+2vuMzO3E/PzUr93Q8IT8/8ntmyAjSPj8sBuIsnoM+PxC6Jab6NT4/SprtPBzpPT+lXOr+AJ09P7gztv6mUT0/r8HJUwwHPT8ZNHEaL708P9aIwXMNdDw/BvyNhaUrPD8fn1169eM7P/8YYYH7nDs/H49ozrVWOz/St9mZIhE7P5cVpiBAzDo/fFtBpAyIOj+U+pdqhkQ6P33YBb6rATo/+y5N7Xq/OT88LKZK8n05P1ADcCcQPTk/Woko3dL8OD/E+FzKOL04PwQet1FAfjg/D9Pz2ec/OD8vndnNLQI4P0NtL5wQxTc/W4Kzt46INz+5bhKXpkw3PzM/3rRWETc//8SFj53WNj/WAUypeZw2P362P4jpYjY/0hMztuspNj/sjbPAfvE1P/bRATmhuTU/N94JtFGCNT+TPFvKjks1P2RfIRhXFTU/vCAcPanfND8FZJjcg6o0PwvaaJ3ldTQ/ZOfeKc1BND/mOsAvOQ40P7KDLVwo2zM/TXGtX5moMz9iEPDwinYzP48n5sn7RDM/PqW5p+oTMz+RKcZKVuMyP02skXY9szI/1D7F8Z6DMj8b6iWGeVQyP7mojQDMJTI/7nzkMJX3MT+6ohnq08kxP/bdHAKHnDE/feTXUa1vMT9R5Ce1RUMxP9Ql1wpPFzE/AMqWNMjrMD+npPgWsMAwP8IyaZkFljA/vKwppsdrMD/TNEoq9UEwP28hpBWNGDA/JMeotRzfLz+NEmze740vP9BPW5ORPS8/eYNxwP/tLj+9/LNdOJ8uP61zDWk5US4/gvKA5QAELj+lCB7bjLctP1Ar9Vbbay0/rkMMa+ogLT+WalMuuNYsP8vRmbxCjSw/z9qCNohELD9CW3vBhvwrP9AOr4c8tSs/qDb+t6duKz+MZvOFxigrP2J/uSmX4yo/WdcR4BefKj+gj0rqRlsqP6EXNY4iGCo/090cFqnVKT8VLr7Q2JMpP5k9PRGwUik/WmQdLy0SKT8jhDiGTtIoP6APgnYSkyg/0RNmXXdUKD/OV8ueexYoP/YIpKUd2Sc/QbXn4FucJz+u8InDNGAnPzQfccSmJCc/LmNtXrDpJj9OsC8QUK8mPwoDQVyEdSY/i7z5yEs8Jj8YI3ngpAMmPwoHnTCOyyU/NIz5SgaUJT/UF9HEC10lP/9iDDedJiU/jrEyPrnwJD+ILWJ6XrskPxVnSI+LhiQ/4/gaJD9SJD8VUZDjdx4kP7Ce2Hs06yM/hOOWnnO4Iz+VKtoANIYjPw3jFlt0VCM/1SGhZjMjIz+fi0Dcb/IiP4EEu3wowiI/Y/o1DFySIj9TKftRCWMiPyxScRgvNCI/XA4VLcwFIj/UwHFg39chPyKkGoZnqiE/o/WjdGN9IT/rPZwF0lAhP0q2hRWyJCE/c8vPgwL5ID9SvdAyws0gPwRcvwfwoiA/7+Gs6op4ID8I637GkU4gPzuJ6YgDJSA/8evSRL73Hz/QwXwMR6YfP4S3ylSfVR8/nsYmD8UFHz8YC2AytrYeP+hJoLpwaB4/r9+aqPIaHj/i2df4Oc4dP7CqS7JEgh0/Tn2W4xA3HT+WYkygnOwcP2zQ6QDmohw/gk/IIutZHD+cVxMoqhEcPzhavTchyhs/sPt0fU6DGz/BepopMD0bP5BGNXHE9xo/FMPpjQmzGj/0O++9/W4aP9gFBkSfKxo/Js5tZ+zoGT8xGdxz46YZP9rucrmCZRk/nbW3jMgkGT8SPIpGs+QYP93wG0RBpRg/D0nn5nBmGD/0VKeUQCgYP1eDT7eu6hc/MZMDvbmtFz/6ceePX3EXPw+W9cOfNRc/nwDyKXj6Fj9q8j8/578WP73j/oTrhRY/oZIEgINMFj8GEde4rRMWP/TSprto2xU/trxIGLOjFT8LMTBii2wVP1EfaTDwNRU/tRGSHeD/FD9iO9bHWcoUP6yG59BblRQ/PaP43eRgFD9LFLeX8ywUP7o+RaqG+RM/Vnc0xZzGEz/1EH+bNJQTP7JqguNMYhM/Dv74VuQwEz8obfSy+f8SP+WQ17eLzxI/IYdQKZmfEj+vTNbMIHASP7OjhWIhQRI/Bx6EtJkSEj+i0q+RiOQRPxU7/MvsthE/rLprOMWJET+NJQmvEF0RP9JH4QrOMBE/sGz8KfwEET+M5VftmdkQPyGR3zimrhA/mmJn8x+EED+z6KQGBloQP9fUKF9XMBA/PYJY7BIHED8S+s5Ab7wPP9MSouCIaw8/bFWjp3AbDz8aVcGKJMwOP+Y/U4SifQ4/4+wLlOgvDj9s6uy+9OINP12MOQ/Flg0/U/pplFdLDT/qPR5jqgANP/lQEZW7tgw/zisMSYltDD9r09iiESUMP8hnNctS3Qs/CaIw6kqWCz9k73ka+E8LP7PTOY1YCgs/5V5RemrFCj8u2RseLIEKP5aSYLmbPQo/lLJEkbf6CT+WBz3vfbgJP5jW/yDtdgk/tqp2eAM2CT+4JLBLv/UIP6/K0fQetgg/edcJ0iB3CD8=\",\"dtype\":\"float64\",\"order\":\"little\",\"shape\":[1000]}},\"selected\":{\"id\":\"1498\"},\"selection_policy\":{\"id\":\"1499\"}},\"id\":\"1483\",\"type\":\"ColumnDataSource\"},{\"attributes\":{},\"id\":\"1498\",\"type\":\"Selection\"},{\"attributes\":{\"bottom_units\":\"screen\",\"fill_alpha\":0.5,\"fill_color\":\"lightgrey\",\"left_units\":\"screen\",\"level\":\"overlay\",\"line_alpha\":1.0,\"line_color\":\"black\",\"line_dash\":[4,4],\"line_width\":2,\"right_units\":\"screen\",\"syncable\":false,\"top_units\":\"screen\"},\"id\":\"1457\",\"type\":\"BoxAnnotation\"},{\"attributes\":{\"line_alpha\":0.1,\"line_color\":\"#1f77b3\",\"line_width\":2,\"x\":{\"field\":\"x\"},\"y\":{\"field\":\"y\"}},\"id\":\"1467\",\"type\":\"Line\"},{\"attributes\":{},\"id\":\"1499\",\"type\":\"UnionRenderers\"},{\"attributes\":{\"end\":10},\"id\":\"1435\",\"type\":\"Range1d\"},{\"attributes\":{},\"id\":\"1441\",\"type\":\"LinearScale\"},{\"attributes\":{},\"id\":\"1439\",\"type\":\"LinearScale\"},{\"attributes\":{},\"id\":\"1473\",\"type\":\"BasicTickFormatter\"},{\"attributes\":{\"data_source\":{\"id\":\"1465\"},\"glyph\":{\"id\":\"1466\"},\"hover_glyph\":null,\"muted_glyph\":null,\"nonselection_glyph\":{\"id\":\"1467\"},\"view\":{\"id\":\"1469\"}},\"id\":\"1468\",\"type\":\"GlyphRenderer\"},{\"attributes\":{},\"id\":\"1437\",\"type\":\"DataRange1d\"},{\"attributes\":{},\"id\":\"1474\",\"type\":\"AllLabels\"},{\"attributes\":{\"axis_label\":\"dimensionless time\",\"formatter\":{\"id\":\"1476\"},\"major_label_policy\":{\"id\":\"1477\"},\"ticker\":{\"id\":\"1444\"}},\"id\":\"1443\",\"type\":\"LinearAxis\"},{\"attributes\":{},\"id\":\"1444\",\"type\":\"BasicTicker\"},{\"attributes\":{\"axis\":{\"id\":\"1443\"},\"ticker\":null},\"id\":\"1446\",\"type\":\"Grid\"},{\"attributes\":{},\"id\":\"1452\",\"type\":\"WheelZoomTool\"},{\"attributes\":{\"axis_label\":\"dimensionless y, z\",\"formatter\":{\"id\":\"1473\"},\"major_label_policy\":{\"id\":\"1474\"},\"ticker\":{\"id\":\"1448\"}},\"id\":\"1447\",\"type\":\"LinearAxis\"},{\"attributes\":{\"axis\":{\"id\":\"1447\"},\"dimension\":1,\"ticker\":null},\"id\":\"1450\",\"type\":\"Grid\"},{\"attributes\":{},\"id\":\"1448\",\"type\":\"BasicTicker\"},{\"attributes\":{\"active_multi\":null,\"tools\":[{\"id\":\"1451\"},{\"id\":\"1452\"},{\"id\":\"1453\"},{\"id\":\"1454\"},{\"id\":\"1455\"},{\"id\":\"1456\"}]},\"id\":\"1458\",\"type\":\"Toolbar\"},{\"attributes\":{},\"id\":\"1456\",\"type\":\"HelpTool\"},{\"attributes\":{},\"id\":\"1476\",\"type\":\"BasicTickFormatter\"},{\"attributes\":{},\"id\":\"1451\",\"type\":\"PanTool\"},{\"attributes\":{},\"id\":\"1477\",\"type\":\"AllLabels\"},{\"attributes\":{\"overlay\":{\"id\":\"1457\"}},\"id\":\"1453\",\"type\":\"BoxZoomTool\"},{\"attributes\":{},\"id\":\"1454\",\"type\":\"SaveTool\"},{\"attributes\":{},\"id\":\"1455\",\"type\":\"ResetTool\"},{\"attributes\":{},\"id\":\"1478\",\"type\":\"Selection\"},{\"attributes\":{},\"id\":\"1479\",\"type\":\"UnionRenderers\"},{\"attributes\":{\"items\":[{\"id\":\"1482\"},{\"id\":\"1501\"}]},\"id\":\"1481\",\"type\":\"Legend\"},{\"attributes\":{\"label\":{\"value\":\"z\"},\"renderers\":[{\"id\":\"1486\"}]},\"id\":\"1501\",\"type\":\"LegendItem\"},{\"attributes\":{\"source\":{\"id\":\"1465\"}},\"id\":\"1469\",\"type\":\"CDSView\"},{\"attributes\":{\"source\":{\"id\":\"1483\"}},\"id\":\"1487\",\"type\":\"CDSView\"},{\"attributes\":{\"line_color\":\"#ff7e0e\",\"line_width\":2,\"x\":{\"field\":\"x\"},\"y\":{\"field\":\"y\"}},\"id\":\"1484\",\"type\":\"Line\"},{\"attributes\":{\"label\":{\"value\":\"y\"},\"renderers\":[{\"id\":\"1468\"}]},\"id\":\"1482\",\"type\":\"LegendItem\"},{\"attributes\":{},\"id\":\"1471\",\"type\":\"Title\"},{\"attributes\":{\"line_alpha\":0.1,\"line_color\":\"#ff7e0e\",\"line_width\":2,\"x\":{\"field\":\"x\"},\"y\":{\"field\":\"y\"}},\"id\":\"1485\",\"type\":\"Line\"},{\"attributes\":{\"data\":{\"x\":{\"__ndarray__\":\"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\",\"dtype\":\"float64\",\"order\":\"little\",\"shape\":[1000]},\"y\":{\"__ndarray__\":\"AAAAAAAAAAAAAAAAAAAAAAAAAAAAAAAAAAAAAAAAAAAAAAAAAAAAAAAAAAAAAAAAAAAAAAAAAAAAAAAAAAAAAAAAAAAAAAAAAAAAAAAAAAAAAAAAAAAAAAAAAAAAAAAAAAAAAAAAAAAAAAAAAAAAAAAAAAAAAAAAAAAAAAAAAAAAAAAAAAAAAAAAAAAAAAAAAAAAAAAAAAAAAAAAAAAAAAAAAAAAAAAAAAAAAAAAAAAAAAAAAAAAAAAAAAAAAAAAAAAAAAAAAAAAAAAAAAAAAAAAAAAAAAAAAAAAAAAAAAAAAAAAAAAAAAAAAAAAAAAAAAAAAAAAAAAAAAAAAAAAAAAAAAAAAAAAAAAAAAAAAAAAAAAAAAAAAAAAAAAAAAAAAAAAAAAAAAAAAAAAAAAAAAAAAAAAAAAAAAAAAAAAAAAAAAAAAAAAAAAAAAAAAAAAAAAAAAAAAAAAAAAAAAAAAAAAAAAAAAAAAAAAAAAAAAAAAAAAAAAAAAAAAAAAAAAAAAAAAAAAAAAAAAAAAAAAAAAAAAAAAAAAAAAAAAAAAAAAAAAAAAAAAAAAAAAAAAAAAAAAAAAAAAAAAAAAAAAAAAAAAAAAAAAAAAAAAAAAAAAAAAAAAAAAAAAAAAAAAAAAAAAAAAAAAAAAAAAAAAAAAAAAAAAAAAAAAAAAAAAAAAAAAAAAAAAAAAAAAAAAAAAAAAAAAAAAAAAAAAAAAAAAAAAAAAAAAAAAAAAAAAAAAAAAAAAAAAAAAAAAAAAAAAAAAAAAAAAAAAAAAAAAAAAAAAAAAAAAAAAAAAAAAAAAAAAAAAAAAAAAAAAAAAAAAAAAAAAAAAAAAAAAAAAAAAAAAAAAAAAAAAAAAAAAAAAAAAAAAAAAAAAAAAAAAAAAAAAAAAAAAAAAAAAAAAAAAAAAAAAAAAAAAAAAAAAAAAAAAAAAAAAAAAAAAAAAAAAAAAAAAAAAAAAAAAAAAAAAAAAAAAAAAAAAAAAAAAAAAAAAAAAAAAAAAAAAAAAAAAAAAAAAAAAAAAAAAAAAAAAAAAAAAAAAAAAAAAAAAAAAAAAAAAD8WtnonDpKPzkXMNcK8YE/T9HQVm0KkT92OjqnwQeZP8o4C2pbeKA/FXZtZ8BipD/dXzGCKUOoP0utVS+wGaw/Wnjyom3mrz/lIW1ovdSxP55W7jZ4sbM/nWFQd3OJtT94jHREu1y3P68XuJpbK7k/+Xo/WGD1uj9agh891bq8P90vqOvFe74/D96z8x4cwD8OZINLJPjAP2wJJKL40cE/4nYGjqGpwj/IbFCXJH/DP5xuGjiHUsQ/4JiI3M4jxT9vYeDiAPPFPx9uvJsiwMY/aEcvSjmLxz9hQ90jSlTIPwWZG1FaG8k/LKEg7W7gyT/2nx4GjaPKP6BtSp25ZMs//wAkp/kjzD8O6ZMLUuHMPzu+CKbHnM0/JeOZRV9Wzj9YRSqtHQ7PPyS8WZMHxM8/ywtG0RA80D+AZLc8OJXQP869dVV87dA/pL0jX99E0T92Qp6XY5vRPzbN/DYL8dE/rda3b9hF0j8lYrJuzZnSP8TjR1vs7NI/3YdaVzc/0z8bgER/sJDTPzJvAepZ4dM/OOdCqTUx1D9J5nbJRYDUP8xn1lGMztQ/0PJkRAsc1T9LnfudxGjVP/pwb1a6tNU/S4GTYO7/1T+ptEaqYkrWPx6RexwZlNY/IccxmxPd1j/4d6MFVCXXP0jLSDbcbNc/1lDjAq6z1z/LAoc8y/nXP6UKnq81P9g/qwrzI++D2D9gtdRc+cfYPwojFRlWC9k/8ZMWEwdO2T99f9AADpDZPxss1Z0ju9k/oFkN3Yd52T/wJ7xlkzjZPwhyV41E+Ng/zKSQrZm42D/eE1UkkXnYPzGms1MpO9g/HFDjoWD91z/uYiZ5NcDXP4Ww00emg9c/ZwM4gLFH1z8yVYyYVQzXP8I44QqR0dY/SZFXVWKX1j915vX5x13WP+NTnH7AJNY/hs/4bErs1T8CnFFSZLTVP1T+eb8MfdU/j1wBSUJG1T8awAaHAxDVPy2oKxVP2tQ/dAGHkiOl1D8N0Aeif3DUP4q8QuphPNQ/eyT6FMkI1D/06lTPs9XTP02a1Mkgo9M/7MlLuA5x0z9HEfhRfD/TP+uvY1FoDtM/jStFdNHd0j/7sIZ7tq3SP38mPSsWftI/gKafSu9O0j8EzROkQCDSPwPBFAUJ8tE/5BsiPkfE0T+WQb8i+pbRP+72aokgatE/+b6XS7k90T+4/LhFwxHRP/kBJ1c95tA/nn8SYia70D8+AINLfZDQP8D9TvtAZtA/CCgWXHA80D9dsltbChPQP9Qoo9Ib1M8/F2el8fOCzz/K98n+mjLPPzlgY+oO484/MnL7qU2Uzj+B60M4VUbOP2sVB5Uj+c0/xw8ZxbaszT8o8+7SDGHNP/stE84jFs0/N+icyvnLzD+1xIPhjILMP1vPkTDbOcw/VWtV2uLxyz8+QRMGoqrLP1UtuN8WZMs/qi3Llz8eyz/2471jGtnKPzUCCn6llMo/NeYrJd9Qyj9N7hGcxQ3KP9jKEipXy8k/ZKfgGpKJyT/pU3y+dEjJP/htKGn9B8k/7IlccyrIyD9iE+Q5+ojIP5JJVh5rSsg/NiH4hXsMyD9L5xDaKc/HP/xT74d0ksc/9tXdAFpWxz/L3Ra62BrHP0YpuSzv38Y/zA681Zulxj95MfI13WvGP6cTmdKxMsY/8jtvNBj6xT80JcfnDsLFPw0tonyUisU/s+ilhqdTxT/CeRGdRh3FPwnjslpw58Q/WV3cXSOyxD/52qtIXn3EP+reFsAfScQ/zBnYbWYVxD+Sk0D+MOLDP5DTASF+r8M/93kjiUx9wz9e8/jsmkvDP2hGFwZoGsM/eftKkbLpwj+JHo5OebnCP4EdSQG7icI/kylNcHZawj/n8TRlqivCPwqor6xV/cE/5dF5FnfPwT8WZVV1DaLBP4sLAp8XdcE/TZE1bJRIwT+Me5S4ghzBP+HIqmLh8MA/NdvkS6/FwD+1cZlY65rAP6b4+W+UcMA/Xcb5e6lGwD/yd1RpKR3AP+XSD08m6L8/6bOcUcuWvz8MdzHEP0a/PxFeEpaB9r4/zVfbu46nvj9op3UvZVm+P/iXCvACDL4/x77YAGa/vT8A0TFqjHO9P0Le+zl0KL0/1msVgxvevD/hhEldgJS8Px38Q+WgS7w/Ct+FPHsDvD+oGlqJDby7P6xRyvZVdbs/NOSTtFIvuz9h6hj3Aeq6P33K6PZhpbo/8v018XBhuj8A2dYnLR66P5cWFOGU27k/bsSdZ6aZuT9SU4AKYFi5P7/LGR3AF7k/sCYP98TXuD+4ykH0bJi4P1wtxXS2Wbg/gF3R3J8buD/WEZOUJ963PwIJVwhMobc/jGt5qAtltz+GEVLpZCm3P2GNKkNW7rY/d1Y0Mt6ztj9WE382+3m2P6ID79OrQLY/zYkzku4Htj9t1L38wc+1PzLusqIkmLU/3UzFFhVhtT9zZ1zvkSq1P8xYf8aZ9LQ/9lTGOSu/tD8ytFHqRIq0P+gZwXzlVbQ/krcqmQsitD+bqxLrte6zPzZ8YiHju7M/La5g7pGJsz/Xt6MHwVezP9Ch+SVvJrM/PQqABZv1sj/17ZBlQ8WyP95duAhnlbI/64GstARmsj+ztUUyGzeyP5i+dk2pCLI/extF1a3asT8FbsGbJ62xP339/3UVgLE/tZAHPHZTsT8sHbrISCexP3kJ+vmL+7A/KbWPsD7QsD/ZjyDQX6WwP13+Jz/uerA/gFfw5uhQsD9p+IuzTiewPybhnCc9/K8/4oqL8q6qrz9Jm2ew8FmvP6xHD08ACq8/1PKswdu6rj9KdlYAgWyuPweOWAjuHq4/jPVH3CDSrT9lFM2DF4atP49RlwvQOq0/4o9QhUjwrD9x05AHf6asP+EP0q1xXaw/uh9kmB4VrD+z5GDsg82rP/OQoNOfhqs/TRmufHBAqz9tbqoa9PqqPz74EeUotqo/LX0bGA1yqj9Ql4T0ni6qP148gL/c66k/QqerwsSpqT8mZgNMVWipPwON2K2MJ6k/ogzGPmnnqD8mLqZZ6aeoPwgziF0Laag/kxmmrc0qqD/UTFqxLu2nP/yZ39MssKc/ZNBzhMZzpz9L7HM2+jenP7DuMGHG/KY/YQLmfynCpj8Wwa4RIoimP52YfZmuTqY/GFASns0Vpj9FrfCpfd2lP9w5V0u9paU/+Cg2FItupT+SXCaa5TelPxaSVXbLAaU/lgxPRTvMpD8XrUynM5ekP5pREUCzYqQ/9XHYtrgupD8de022QvujP51Gg+xPyKM/Ya7rCt+Voz+3PE/G7mOjP6L4xNZ9MqM/a06q94oBoz91FJvnFNGiP16saWgaoaI/nmv0Pppxoj9QvS8zk0KiP86vSBAEFKI/XEaApOvloT8kzCPBSLihP81AhToai6E/Fd7z515eoT9btrSjFTKhPyts+0o9BqE/uwLjvdTaoD9nx2bf2q+gPylUW5VOhaA/f3loyC5boD/2fbtjejGgP1XfeFUwCKA/vx34HJ++nz8lCakErm2fP4DyfU6LHZ8/hnE97DTOnj9YGO7UqH+ePyJ3yQTlMZ4/tE4vfefknT938ZhErpidP1vSjGY3TZ0/P0GS84ACnT9GqPMAibicP1CZuahNb5w/tDf8Cc0mnD+gGJ9IBd+bP+DLRI30l5s/ZvZCBZlRmz/kjZbi8AubP9402Fv6xpo/eLYwrLOCmj9SoU0TGz+aP8EAVtUu/Jk/rjPfOu25mT924OGQVHiZPxEFryhjN5k/0SLlVxf3mD8PHEZ4b7eYP6NMpudpeJg/sEYuCAU6mD999iVAP/yXP6YG6fkWv5c/Zinco4qClz8icmKwmEaXP12+0pU/C5c/PC1tzn3Qlj+xpFDYUZaWP5FjcDW6XJY/oJ+Ja7Ujlj/LLhkEQuuVP7A6UYxes5U/mv0OlQl8lT+KvgazQUWVP0lD2n4FD5U/q2tolFPZlD9akBiTKqSUPwpq1B2Jb5Q/Sub+2m07lD/LDGt01weUP4P0UpfE1JM/R8hO9DOikz8s2ks/JHCTPzvFgy+UPpM/8pxzf4INkz/6KdPs7dySP5EzjDjVrJI/H9WxJjd9kj9rJZd+Ek6SP5qF6ApmH5I/qeMrmTDxkT9ID/H5cMORPwpIzQAmlpE/3nFThE5pkT+SWgxe6TyRPx0Qb2r1EJE/UkfZiHHlkD+q0oebXLqQP9Qoj4e1j5A/tfrTNHtlkD+I2AOOrDuQP7/ljYBIEpA/zzY3+ZvSjz93byjqd4GPP7aqTr8iMY8/wPgnaZrhjj96I2/d3JKOP2Q6EhfoRI4/jTclFrr3jT/Gw9TfUKuNP58ZWX6qX40/rQbpAMUUjT+cCq17nsqMP5GTsgc1gYw/aVffwoY4jD9CyeTPkfCLP+uqM1ZUqYs/sLnvgcxiiz/j1O2D+ByLP5quwJHW14o/bh5x5WSTij/eUIq9oU+KPwt5EV2LDIo/G2J6CyDKiT+MHJwUXoiJPy7HpchDR4k/QnMTfM8GiT+BI6OH/8aIP33lSUjSh4g/HwUpH0ZJiD++WYNxWQuIP4essqgKzoc/vzcdMliRhz8qMS1/QFWHP1zqTAXCGYc/8N3OPdvehj+CkuiliqSGPyyZqb7OaoY/16rxDKYxhj+S3GYZD/mFP6fqa3AIwYU//JkWopCJhT95LyZCplKFP/v8+edHHIU/kQOILnTmhD+PqlO0KbGEPyqLZBtnfIQ/KlA9CStIhD8ZPdcmdBSEP/fArSBB4YM/2eeNppCugz9XV5prYXyDP7ZSRiaySoM/sDxNkIEZgz+DLapmzuiCP+Gcj2mXuII/gx9fXNuIgj8HOKEFmVmCP9o6/S7PKoI/zkQxpXz8gT8cRAo4oM6BP4cTXLo4oYE/QKf5AUV0gT8YA7Hnw0eBP20qWUe0G4E/Fo+h/xTwgD/LhBby5MSAP0GFHgMjmoA/TdfyGc5vgD+jRpgg5UWAP+fr1wNnHIA/hQlwZqXmfz+It+lBTpV/P1R/84PGRH8/wxO0Gwz1fj/WZ5T9HKZ+P6/2MSP3V34/OShRi5gKfj/h0c85/719P8/Slzcpcn0/GMuRkhQnfT9H7Zddv9x8P7fpaLAnk3w/a7LUp0tKfD+5OOFlKQJ8P/cX5xC/uns/9pTw0wp0ez+ZUrPeCi57PzdKhGW96Ho/IN9LoSCkej+9DHrPMmB6P9yu+jHyHHo/pOMpD13aeT/RhsixcZh5P5nF8GguV3k/7coKiJEWeT+Ag8FmmdZ4Px5592BEl3g/8MS71pBYeD8VGD8sfRp4PznayMkH3Xc/lV2sGy+gdz8ySj6S8WN3P6yAJKJNKHc/0cz+w0Htdj9RLRF0zLJ2P/j8ezLseHY/IgAyg58/dj+CiO7t5AZ2P/GuK/66znU/vqIYQyCXdT9BDpBPE2B1PzKQDrqSKXU/aEmpHJ3zdD+ifgQVMb50P/JNSkRNiXQ/YnchT/BUdD90OKTdGCF0Pxs6V5vF7XM/xpAgN/W6cz8Vzj5jpohzP90jQNXXVnM/SkYBRoglcz/YGwRytvRyPwwp0RhhxHI/sC8F/YaUcj9+6GXkJmVyP1vd2Zc/NnI/ylVg488Hcj9iVQmW1tlxP9ar7YFSrHE/VxYnfEJ/cT/rcchcpVJxP3j+1f55JnE/IrI9QL/6cD+ynM8BdM9wP7laNieXpHA/DZjvlid6cD9loUQ6JFBwP6kEQ/2LJnA/e39qnbv6bz/E+jZAMalvPxIgeMt2WG8/KdCnLYoIbz8x4QBaabluP9jR50gSa24/JKbt94Idbj9slcJpudBtP2nWKKazhG0/EYnnuW85bT9Evb226+5sP1iWVbMlpWw/mYo3yxtcbD9cvr0ezBNsPxx6B9M0zGs/ILvsEVSFaz8e3vEJKD9rP1xjO+6u+Wo/ycuB9ua0aj+NjgVfznBqP3smg2hjLWo/ADcnWKTqaT8OgMt3j6hpP8mr2BUjZ2k/VCyzhF0maT+t4AUbPeZoP/yxtzPApmg/nKXgLeVnaD9nB79sqiloP9urrFcO7Gc/qEkUWg+vZz8y6mbjq3JnP6FwEWfiNmc/DzdyXLH7Zj9Wwc4+F8FmPyiFSY0Sh2Y/78bXyqFNZj8Gizd+wxRmP+6a5TF23GU/+J0TdLikZT8IRZ7WiG1lP0HRBu/lNmU/rnDXVs4AZT+NGAyrQMtkP8dF+os7lmQ/4Nx3nb1hZD81JdKGxS1kP57YxPJR+mM/E0dxj2HHYz/6jVUO85RjP8fiQyQFY2M/jPBZiZYxYz8sSPj4pQBjP8/iuTEy0GI/ObZr9TmgYj+4WgQJvHBiPz3CmzS3QWI/WwBjQyoTYj+4IpwDFOVhP7cZkkZzt2E/3bCQ4EaKYT9AbRKojV1hP6BWq3lGMWE/7pZ4MXAFYT+ENqKvCdpgPx4JLdcRr2A/xHPzjYeEYD+OPp68aVpgP11ynU63MGA/fkIhMm8HYD9kBCawIL1fP0tMHGgzbF8/p6OyeBQcXz+Y4b7TwcxeP9u3UXA5fl4/ChWpSnkwXj+uniJkf+NdPy1DLsNJl10/jONAc9ZLXT8AFceEIwFdP136Fw0vt1w/ytfQJvdtXD/sd/zxeSVcPw/dqZK13Vs/JlqcMaiWWz8a6kb8T1BbP7jVvySrCls/q3K04bfFWj90+1xudIFaP2aAcArfPVo/rPEY+vX6WT9FQueFt7hZPxKkx/ohd1k/2tz1qTM2WT9gtPHo6vVYP2t7cxFGtlg/4KtggUN3WD/aocCa4ThYP79tscMe+1c/aL9cZvm9Vz856uzwb4FXP0sCgtWARVc/lBIniioKVz8RbMeIa89WP/cNJE9ClVY/CMr/Xq1bVj+uMltAqyJWP6QkiX066lU/vy3mo1myVT+RNX9EB3tVPxQdCPRBRFU/bnrSSggOVT/lcMTkWNhUP+akT2Eyo1Q/O0xoY5NuVD9dWnyRejpUP+jIapXmBlQ/NPx6HNbTUz8RRFTXR6FTP5549Xk6b1M/T7Osu6w9Uz8IJA9XnQxTP2MC8QkL3FI/FptdlfSrUj98eY+9WHxSPzut6Ek2TVI/FyzrBIweUj/bTzG8WPBRP25wZkCbwlE/Bpo/ZVKVUT9OzwEBfWhRPxQlqewZPFE/JyKrBCgQUT8Ro2copuRQPwAlITqTuVA/rfT1Hu6OUD91eNm+tWRQP6yVjQTpOlA/IjGc3YYRUD/GlaF0HNFPP1tqZBv8f08/Oc34mqovTz8VzzTkJeBOP1m1QO1rkU4/wEGLsXpDTj9oML4xUPZNP0bssnPqqU0/GHpngkdeTT+zmfNtZRNNP8kdfktCyUw/GnoyNdx/TD8UiDZKMTdMP9mBoK4/70s/vjNtiwWoSz+JURINgWFLP1GE4VywG0s/4t3YrpHWSj9+wvE8I5JKP3tVr0VjTko/CNwTDFALSj8cTJbX58hJP4gHGPQoh0k/J8PasRFGST9CmnZloAVJPwdO0GfTxUg/NLEPFqmGSD/XP5bRH0hIPz3j9f81Ckg/GeLnCurMRz+U/ENgOpBHP8S093ElVEc/IsP9takYRz8xt1Wmxd1GP0XE+8B3o0Y/crrgh75pRj+dK+KAmDBGP7O8wjUE+EU/BqMiNADART/ObXMNi4hFP5paLlGjUUU//sSOkkcbRT9XJH1sduVEP8c8dH0usEQ/Gtd4Z257RD/VmxHQNEdEP2oRP2CAE0Q/lL1zxE/gQz/XaYysoa1DPy2LyMt0e0M/0MzC2MdJQz84vmmNmRhDPzWk+Kbo50I/N23w5bO3Qj+2yBAO+odCP8phUea5WEI/4jzbOPIpQj+pOALToftBPweyPoXHzUE/WksnI2KgQT/F1mqDcHNBP65jyn/xRkE/Z28T9eMaQT/zOBrDRu9AP17n78oYxEA/3DpB61iZQD8qw6wKBm9AP/oVMBMfRUA/2DiR8aIbQD/7YLAqIeU/P+JWkeHNkz8/84+38UlDPz++6nNKk/M+PwbhaeCnpD4/ibeDrYVWPj9s5OawKgk+P0qs6O6UvD0/6fUCccJwPT+OVMlFsSU9P+xI3oBf2zw/xbjoOsuRPD8cnYmR8kg8PxjnUafTADw/fpu4o2y5Oz/SJBGzu3I7PxzcgQa/LDs/Scj603TnOj80lCxW26I6P7wAOMzwXjo/XFykcLMbOj9Suq2FIdk5P+z8DFY5lzk/M+3ZMPlVOT92+4BpXxU5Px8quVdq1Tg/xyJ6VxiWOD+SdfLIZ1c4P9YCfhBXGTg/AI+cluTbNz/HgOjHDp83P6DJDRXUYjc/dvjA8jInNz+0drbZKew2P4XvmUa3sTY/ZuEFutl3Nj/2WXu4jz42PxbcWcrXBTY/Q3DXe7DNNT9A3/hcGJY1PwIXigEOXzU/4LkWAZAoNT8N2OL2nPI0P1jT44EzvTQ/GMbLQVKIND8KOF/V91M0P4EreuQiIDQ/mMylGtLsMz9sptMmBLozPwHDVbu3hzM/3ezWjetVMz81ElNXniQzP9jJD9TO8zI/rvmUw3vDMj/rnqXoo5MyP963OAlGZDI/dU9y7mA1Mj9Xqpxk8wYyP7GVITv82DE/qteDRHqrMT91wVhWbH4xPxLjQUnRUTE/s+Dm+KclMT/Iae9D7/kwP7RR/QumzjA/JcqmNcujMD8Vv3CoXXkwP3VUyU5cTzA/1KyEFcYlMD85ZLbMM/kvPxB0TmKtpy8/myBQ1PZWLz+oLZUQDgcvP5ESRgrxty4/qLXNuZ1pLj/0W80cEhwuP0DNEDZMzy0/ZqyCDUqDLT/5AyGwCTgtPycH8i+J7Sw/+Ab5o8ajLD/MmysowFosPzADZ91zEiw/8bFl6d/KKz+GGrV2AoQrP8Snq7TZPSs/1+te12P4Kj+PA5oXn7MqP/Qt1LKJbyo/JZgn6yEsKj+GXUgHZukpPze8e1JUpyk/232PHOtlKT8dBKUhKCUpPyqcz/gK5Sg/GSC5QZGlKD8ZyYtcuWYoPyWheK2BKCg/HjGxnOjqJz/zLmGW7K0nP70rqAqMcSc/4EGTbcU1Jz8vwxY3l/omPwjnB+P/vyY/d3gW8f2FJj9ZhMbkj0wmP3YHakW0EyY/qpwanmnbJT/9KrN9rqMlP82TyXaBbCU/5mCoH+E1JT+mckgSzP8kPyGuSuxAyiQ/O6vxTj6VJD/PYhvfwmAkP8zcOkXNLCQ/Vt5RLVz5Iz/XeTpFbsYjP7pHjDQClCM/6MUWrhZiIz9ww9hpqjAjPwnCJCO8/yI/0wqamErPIj8Mwx2MVJ8iP84A1MLYbyI/xt8YBdZAIj/xlXkeSxIiP1KIrd025CE/sF+PFJi2IT9QHRaYbYkhP6wvTkC2XCE/LodS6HAwIT/sqkVunAQhP2DNSrM32SA/JuF+m0GuID+urfENuYMgP//jnvScWSA/bDNnPOwvID9PXgnVpQYgP4edNmKRux8/wVYGjKdqHz/j1+AXjBofP2bcqfs8yx4/FRW8Mrh8Hj+BUdu9+y4eP3ipJqMF4h0/vuJe59OVHT/Wz8J+ZEodP+5u23e1/xw/eJiv6MS1HD/m/hfskGwcP7Tbr6EXJBw/dpzFLVfcGz/aj0u5TZUbP7aSyHH5Ths/D71IiVgJGz8iD042acQaP24ewbMpgBo/vsLhQJg8Gj8=\",\"dtype\":\"float64\",\"order\":\"little\",\"shape\":[1000]}},\"selected\":{\"id\":\"1478\"},\"selection_policy\":{\"id\":\"1479\"}},\"id\":\"1465\",\"type\":\"ColumnDataSource\"},{\"attributes\":{\"line_color\":\"#1f77b3\",\"line_width\":2,\"x\":{\"field\":\"x\"},\"y\":{\"field\":\"y\"}},\"id\":\"1466\",\"type\":\"Line\"}],\"root_ids\":[\"1434\"]},\"title\":\"Bokeh Application\",\"version\":\"2.3.0\"}};\n",
       "  var render_items = [{\"docid\":\"8d0dc756-1de8-4461-bc9f-a879db83974a\",\"root_ids\":[\"1434\"],\"roots\":{\"1434\":\"e8955ed9-d76f-44ce-bf37-8c0e76a1afe5\"}}];\n",
       "  root.Bokeh.embed.embed_items_notebook(docs_json, render_items);\n",
       "\n",
       "  }\n",
       "  if (root.Bokeh !== undefined) {\n",
       "    embed_document(root);\n",
       "  } else {\n",
       "    var attempts = 0;\n",
       "    var timer = setInterval(function(root) {\n",
       "      if (root.Bokeh !== undefined) {\n",
       "        clearInterval(timer);\n",
       "        embed_document(root);\n",
       "      } else {\n",
       "        attempts++;\n",
       "        if (attempts > 100) {\n",
       "          clearInterval(timer);\n",
       "          console.log(\"Bokeh: ERROR: Unable to run BokehJS code because BokehJS library is missing\");\n",
       "        }\n",
       "      }\n",
       "    }, 10, root)\n",
       "  }\n",
       "})(window);"
      ],
      "application/vnd.bokehjs_exec.v0+json": ""
     },
     "metadata": {
      "application/vnd.bokehjs_exec.v0+json": {
       "id": "1434"
      }
     },
     "output_type": "display_data"
    }
   ],
   "source": [
    "# Set up parameters for the pulse (on at t = 1, off at t = 1.7, x_0 = 2)\n",
    "x_args = (1.0, 0.7, 2.0)\n",
    "\n",
    "# Package parameters into a tuple\n",
    "args = (beta, gamma, n_x, n_y, x_pulse, x_args)\n",
    "\n",
    "# Integrate ODEs\n",
    "yz = scipy.integrate.odeint(cascade_rhs_x_fun, yz_0, t, args=args)\n",
    "\n",
    "# Pluck out y and z\n",
    "y, z = yz.transpose()\n",
    "\n",
    "# Plot the results\n",
    "p = bokeh.plotting.figure(\n",
    "    frame_width=450,\n",
    "    frame_height=250,\n",
    "    x_axis_label=\"dimensionless time\",\n",
    "    y_axis_label=\"dimensionless y, z\",\n",
    "    x_range=[0, 10],\n",
    ")\n",
    "\n",
    "# Populate glyphs\n",
    "p.line(t, y, line_width=2, color=colors[0], legend_label=\"y\")\n",
    "p.line(t, z, line_width=2, color=colors[1], legend_label=\"z\")\n",
    "\n",
    "# Place the legend\n",
    "p.legend.location = \"top_right\"\n",
    "\n",
    "# Show plot\n",
    "bokeh.io.show(p)"
   ]
  },
  {
   "cell_type": "markdown",
   "metadata": {},
   "source": [
    "We see that Z basically does not respond strongly to a short pulse.  The delay of the circuit allows short pulses to be ignored, but large pulses to be detected and responded to."
   ]
  },
  {
   "cell_type": "markdown",
   "metadata": {},
   "source": [
    "### Really short pulses and a lesson about scipy.integrate.odeint()\n",
    "\n",
    "Now, we will take a brief interlude to learn an important lesson about the algorithm of `scipy.integrate.odeint()` and its use in these applications. We will consider a very brief pulse, $1 \\le t \\le 1.05$."
   ]
  },
  {
   "cell_type": "code",
   "execution_count": 12,
   "metadata": {},
   "outputs": [
    {
     "data": {
      "text/html": [
       "\n",
       "\n",
       "\n",
       "\n",
       "\n",
       "\n",
       "  <div class=\"bk-root\" id=\"7920c504-b49c-41f6-ac85-c97682175f4c\" data-root-id=\"1617\"></div>\n"
      ]
     },
     "metadata": {},
     "output_type": "display_data"
    },
    {
     "data": {
      "application/javascript": [
       "(function(root) {\n",
       "  function embed_document(root) {\n",
       "    \n",
       "  var docs_json = {\"509abf8b-109a-4510-857f-810da6e08500\":{\"defs\":[{\"extends\":null,\"module\":null,\"name\":\"DataModel\",\"overrides\":[],\"properties\":[]}],\"roots\":{\"references\":[{\"attributes\":{\"below\":[{\"id\":\"1626\"}],\"center\":[{\"id\":\"1629\"},{\"id\":\"1633\"},{\"id\":\"1664\"}],\"frame_height\":250,\"frame_width\":450,\"left\":[{\"id\":\"1630\"}],\"renderers\":[{\"id\":\"1651\"},{\"id\":\"1669\"}],\"title\":{\"id\":\"1654\"},\"toolbar\":{\"id\":\"1641\"},\"x_range\":{\"id\":\"1618\"},\"x_scale\":{\"id\":\"1622\"},\"y_range\":{\"id\":\"1620\"},\"y_scale\":{\"id\":\"1624\"}},\"id\":\"1617\",\"subtype\":\"Figure\",\"type\":\"Plot\"},{\"attributes\":{},\"id\":\"1659\",\"type\":\"BasicTickFormatter\"},{\"attributes\":{},\"id\":\"1660\",\"type\":\"AllLabels\"},{\"attributes\":{\"active_multi\":null,\"tools\":[{\"id\":\"1634\"},{\"id\":\"1635\"},{\"id\":\"1636\"},{\"id\":\"1637\"},{\"id\":\"1638\"},{\"id\":\"1639\"}]},\"id\":\"1641\",\"type\":\"Toolbar\"},{\"attributes\":{},\"id\":\"1661\",\"type\":\"Selection\"},{\"attributes\":{},\"id\":\"1662\",\"type\":\"UnionRenderers\"},{\"attributes\":{},\"id\":\"1634\",\"type\":\"PanTool\"},{\"attributes\":{\"label\":{\"value\":\"z\"},\"renderers\":[{\"id\":\"1669\"}]},\"id\":\"1684\",\"type\":\"LegendItem\"},{\"attributes\":{\"source\":{\"id\":\"1666\"}},\"id\":\"1670\",\"type\":\"CDSView\"},{\"attributes\":{\"label\":{\"value\":\"y\"},\"renderers\":[{\"id\":\"1651\"}]},\"id\":\"1665\",\"type\":\"LegendItem\"},{\"attributes\":{\"line_color\":\"#ff7e0e\",\"line_width\":2,\"x\":{\"field\":\"x\"},\"y\":{\"field\":\"y\"}},\"id\":\"1667\",\"type\":\"Line\"},{\"attributes\":{},\"id\":\"1637\",\"type\":\"SaveTool\"},{\"attributes\":{\"line_alpha\":0.1,\"line_color\":\"#1f77b3\",\"line_width\":2,\"x\":{\"field\":\"x\"},\"y\":{\"field\":\"y\"}},\"id\":\"1650\",\"type\":\"Line\"},{\"attributes\":{\"line_alpha\":0.1,\"line_color\":\"#ff7e0e\",\"line_width\":2,\"x\":{\"field\":\"x\"},\"y\":{\"field\":\"y\"}},\"id\":\"1668\",\"type\":\"Line\"},{\"attributes\":{\"source\":{\"id\":\"1648\"}},\"id\":\"1652\",\"type\":\"CDSView\"},{\"attributes\":{\"items\":[{\"id\":\"1665\"},{\"id\":\"1684\"}]},\"id\":\"1664\",\"type\":\"Legend\"},{\"attributes\":{\"overlay\":{\"id\":\"1640\"}},\"id\":\"1636\",\"type\":\"BoxZoomTool\"},{\"attributes\":{},\"id\":\"1638\",\"type\":\"ResetTool\"},{\"attributes\":{},\"id\":\"1656\",\"type\":\"BasicTickFormatter\"},{\"attributes\":{},\"id\":\"1654\",\"type\":\"Title\"},{\"attributes\":{},\"id\":\"1639\",\"type\":\"HelpTool\"},{\"attributes\":{},\"id\":\"1657\",\"type\":\"AllLabels\"},{\"attributes\":{},\"id\":\"1681\",\"type\":\"Selection\"},{\"attributes\":{},\"id\":\"1682\",\"type\":\"UnionRenderers\"},{\"attributes\":{},\"id\":\"1635\",\"type\":\"WheelZoomTool\"},{\"attributes\":{\"data_source\":{\"id\":\"1648\"},\"glyph\":{\"id\":\"1649\"},\"hover_glyph\":null,\"muted_glyph\":null,\"nonselection_glyph\":{\"id\":\"1650\"},\"view\":{\"id\":\"1652\"}},\"id\":\"1651\",\"type\":\"GlyphRenderer\"},{\"attributes\":{\"data\":{\"x\":{\"__ndarray__\":\"AAAAAAAAAAACSAHNIICEPwJIAc0ggJQ/A+yBMzHAnj8CSAHNIICkPwKaQQApoKk/A+yBMzHArj8CH2GzHPCxPwJIAc0ggLQ/AnGh5iQQtz8CmkEAKaC5PwPD4RktMLw/A+yBMzHAvj+CCpGmGqjAPwIfYbMc8ME/gjMxwB44wz8CSAHNIIDEP4Jc0dkiyMU/AnGh5iQQxz+ChXHzJljIPwKaQQApoMk/g64RDSvoyj8Dw+EZLTDMP4PXsSYveM0/A+yBMzHAzj9CACmgGQTQP4IKkaYaqNA/whT5rBtM0T8CH2GzHPDRP0IpybkdlNI/gjMxwB440z/CPZnGH9zTPwJIAc0ggNQ/QlJp0yEk1T+CXNHZIsjVP8JmOeAjbNY/AnGh5iQQ1z9CewntJbTXP4KFcfMmWNg/wo/Z+Sf82D8CmkEAKaDZP0OkqQYqRNo/g64RDSvo2j/DuHkTLIzbPwPD4RktMNw/Q81JIC7U3D+D17EmL3jdP8PhGS0wHN4/A+yBMzHA3j9D9uk5MmTfP0IAKaAZBOA/YgVdIxpW4D+CCpGmGqjgP6IPxSkb+uA/whT5rBtM4T/iGS0wHJ7hPwIfYbMc8OE/IiSVNh1C4j9CKcm5HZTiP2Iu/Twe5uI/gjMxwB444z+iOGVDH4rjP8I9mcYf3OM/4kLNSSAu5D8CSAHNIIDkPyJNNVAh0uQ/QlJp0yEk5T9iV51WInblP4Jc0dkiyOU/omEFXSMa5j/CZjngI2zmP+JrbWMkvuY/AnGh5iQQ5z8idtVpJWLnP0J7Ce0ltOc/YoA9cCYG6D+ChXHzJljoP6KKpXYnqug/wo/Z+Sf86D/ilA19KE7pPwKaQQApoOk/I591gyny6T9DpKkGKkTqP2Op3Ykqluo/g64RDSvo6j+js0WQKzrrP8O4eRMsjOs/472tlize6z8Dw+EZLTDsPyPIFZ0tguw/Q81JIC7U7D9j0n2jLibtP4PXsSYveO0/o9zlqS/K7T/D4RktMBzuP+PmTbAwbu4/A+yBMzHA7j8j8bW2MRLvP0P26TkyZO8/Y/sdvTK27z9CACmgGQTwP9ICw+EZLfA/YgVdIxpW8D/yB/dkGn/wP4IKkaYaqPA/Eg0r6BrR8D+iD8UpG/rwPzISX2sbI/E/whT5rBtM8T9SF5PuG3XxP+IZLTAcnvE/chzHcRzH8T8CH2GzHPDxP5Ih+/QcGfI/IiSVNh1C8j+yJi94HWvyP0IpybkdlPI/0itj+x298j9iLv08HubyP/Iwl34eD/M/gjMxwB448z8SNssBH2HzP6I4ZUMfivM/Mjv/hB+z8z/CPZnGH9zzP1JAMwggBfQ/4kLNSSAu9D9yRWeLIFf0PwJIAc0ggPQ/kkqbDiGp9D8iTTVQIdL0P7JPz5Eh+/Q/QlJp0yEk9T/SVAMVIk31P2JXnVYidvU/8lk3mCKf9T+CXNHZIsj1PxJfaxsj8fU/omEFXSMa9j8yZJ+eI0P2P8JmOeAjbPY/UmnTISSV9j/ia21jJL72P3JuB6Uk5/Y/AnGh5iQQ9z+SczsoJTn3PyJ21WklYvc/snhvqyWL9z9CewntJbT3P9J9oy4m3fc/YoA9cCYG+D/ygtexJi/4P4KFcfMmWPg/EogLNSeB+D+iiqV2J6r4PzKNP7gn0/g/wo/Z+Sf8+D9SknM7KCX5P+KUDX0oTvk/cpenvih3+T8CmkEAKaD5P5Oc20Epyfk/I591gyny+T+zoQ/FKRv6P0OkqQYqRPo/06ZDSCpt+j9jqd2JKpb6P/Ord8sqv/o/g64RDSvo+j8TsatOKxH7P6OzRZArOvs/M7bf0Stj+z/DuHkTLIz7P1O7E1Ustfs/472tlize+z9zwEfYLAf8PwPD4RktMPw/k8V7Wy1Z/D8jyBWdLYL8P7PKr94tq/w/Q81JIC7U/D/Tz+NhLv38P2PSfaMuJv0/89QX5S5P/T+D17EmL3j9PxPaS2gvof0/o9zlqS/K/T8z33/rL/P9P8PhGS0wHP4/U+SzbjBF/j/j5k2wMG7+P3Pp5/Ewl/4/A+yBMzHA/j+T7ht1Men+PyPxtbYxEv8/s/NP+DE7/z9D9uk5MmT/P9P4g3syjf8/Y/sdvTK2/z/z/bf+Mt//P0IAKaAZBABAigH2wJkYAEDSAsPhGS0AQBoEkAKaQQBAYgVdIxpWAECqBipEmmoAQPIH92QafwBAOgnEhZqTAECCCpGmGqgAQMoLXseavABAEg0r6BrRAEBaDvgIm+UAQKIPxSkb+gBA6hCSSpsOAUAyEl9rGyMBQHoTLIybNwFAwhT5rBtMAUAKFsbNm2ABQFIXk+4bdQFAmhhgD5yJAUDiGS0wHJ4BQCob+lCcsgFAchzHcRzHAUC6HZSSnNsBQAIfYbMc8AFASiAu1JwEAkCSIfv0HBkCQNoiyBWdLQJAIiSVNh1CAkBqJWJXnVYCQLImL3gdawJA+if8mJ1/AkBCKcm5HZQCQIoqltqdqAJA0itj+x29AkAaLTAcntECQGIu/Twe5gJAqi/KXZ76AkDyMJd+Hg8DQDoyZJ+eIwNAgjMxwB44A0DKNP7gnkwDQBI2ywEfYQNAWjeYIp91A0CiOGVDH4oDQOo5MmSfngNAMjv/hB+zA0B6PMyln8cDQMI9mcYf3ANACj9m55/wA0BSQDMIIAUEQJpBACmgGQRA4kLNSSAuBEAqRJpqoEIEQHJFZ4sgVwRAukY0rKBrBEACSAHNIIAEQEpJzu2glARAkkqbDiGpBEDaS2gvob0EQCJNNVAh0gRAak4CcaHmBECyT8+RIfsEQPpQnLKhDwVAQlJp0yEkBUCKUzb0oTgFQNJUAxUiTQVAGlbQNaJhBUBiV51WInYFQKpYaneiigVA8lk3mCKfBUA6WwS5orMFQIJc0dkiyAVAyl2e+qLcBUASX2sbI/EFQFpgODyjBQZAomEFXSMaBkDqYtJ9oy4GQDJkn54jQwZAemVsv6NXBkDCZjngI2wGQApoBgGkgAZAUmnTISSVBkCaaqBCpKkGQOJrbWMkvgZAKm06hKTSBkBybgelJOcGQLpv1MWk+wZAAnGh5iQQB0BKcm4HpSQHQJJzOyglOQdA2nQISaVNB0AidtVpJWIHQGp3ooqldgdAsnhvqyWLB0D6eTzMpZ8HQEJ7Ce0ltAdAinzWDabIB0DSfaMuJt0HQBp/cE+m8QdAYoA9cCYGCECqgQqRphoIQPKC17EmLwhAOoSk0qZDCECChXHzJlgIQMqGPhSnbAhAEogLNSeBCEBaidhVp5UIQKKKpXYnqghA6otyl6e+CEAyjT+4J9MIQHqODNmn5whAwo/Z+Sf8CEAKkaYaqBAJQFKSczsoJQlAmpNAXKg5CUDilA19KE4JQCqW2p2oYglAcpenvih3CUC6mHTfqIsJQAKaQQApoAlAS5sOIam0CUCTnNtBKckJQNudqGKp3QlAI591gynyCUBroEKkqQYKQLOhD8UpGwpA+6Lc5akvCkBDpKkGKkQKQIuldieqWApA06ZDSCptCkAbqBBpqoEKQGOp3YkqlgpAq6qqqqqqCkDzq3fLKr8KQDutROyq0wpAg64RDSvoCkDLr94tq/wKQBOxq04rEQtAW7J4b6slC0Cjs0WQKzoLQOu0ErGrTgtAM7bf0StjC0B7t6zyq3cLQMO4eRMsjAtAC7pGNKygC0BTuxNVLLULQJu84HWsyQtA472tlizeC0Arv3q3rPILQHPAR9gsBwxAu8EU+awbDEADw+EZLTAMQEvErjqtRAxAk8V7Wy1ZDEDbxkh8rW0MQCPIFZ0tggxAa8niva2WDECzyq/eLasMQPvLfP+tvwxAQ81JIC7UDECLzhZBrugMQNPP42Eu/QxAG9Gwgq4RDUBj0n2jLiYNQKvTSsSuOg1A89QX5S5PDUA71uQFr2MNQIPXsSYveA1Ay9h+R6+MDUAT2ktoL6ENQFvbGImvtQ1Ao9zlqS/KDUDr3bLKr94NQDPff+sv8w1Ae+BMDLAHDkDD4RktMBwOQAvj5k2wMA5AU+SzbjBFDkCb5YCPsFkOQOPmTbAwbg5AK+ga0bCCDkBz6efxMJcOQLvqtBKxqw5AA+yBMzHADkBL7U5UsdQOQJPuG3Ux6Q5A2+/olbH9DkAj8bW2MRIPQGvygtexJg9As/NP+DE7D0D79BwZsk8PQEP26TkyZA9Ai/e2WrJ4D0DT+IN7Mo0PQBv6UJyyoQ9AY/sdvTK2D0Cr/OrdssoPQPP9t/4y3w9AO/+EH7PzD0BCACmgGQQQQOaAj7BZDhBAigH2wJkYEEAuglzR2SIQQNICw+EZLRBAdoMp8lk3EEAaBJACmkEQQL6E9hLaSxBAYgVdIxpWEEAGhsMzWmAQQKoGKkSaahBAToeQVNp0EEDyB/dkGn8QQJaIXXVaiRBAOgnEhZqTEEDeiSqW2p0QQIIKkaYaqBBAJov3tlqyEEDKC17HmrwQQG6MxNfaxhBAEg0r6BrREEC2jZH4WtsQQFoO+Aib5RBA/o5eGdvvEECiD8UpG/oQQEaQKzpbBBFA6hCSSpsOEUCOkfha2xgRQDISX2sbIxFA1pLFe1stEUB6EyyMmzcRQB6UkpzbQRFAwhT5rBtMEUBmlV+9W1YRQAoWxs2bYBFArpYs3ttqEUBSF5PuG3URQPaX+f5bfxFAmhhgD5yJEUA+mcYf3JMRQOIZLTAcnhFAhpqTQFyoEUAqG/pQnLIRQM6bYGHcvBFAchzHcRzHEUAWnS2CXNERQLodlJKc2xFAXp76otzlEUACH2GzHPARQKafx8Nc+hFASiAu1JwEEkDuoJTk3A4SQJIh+/QcGRJANqJhBV0jEkDaIsgVnS0SQH6jLibdNxJAIiSVNh1CEkDGpPtGXUwSQGolYledVhJADqbIZ91gEkCyJi94HWsSQFanlYhddRJA+if8mJ1/EkCeqGKp3YkSQEIpybkdlBJA5qkvyl2eEkCKKpbanagSQC6r/OrdshJA0itj+x29EkB2rMkLXscSQBotMBye0RJAvq2WLN7bEkBiLv08HuYSQAavY01e8BJAqi/KXZ76EkBOsDBu3gQTQPIwl34eDxNAlrH9jl4ZE0A6MmSfniMTQN6yyq/eLRNAgjMxwB44E0AmtJfQXkITQMo0/uCeTBNAbrVk8d5WE0ASNssBH2ETQLa2MRJfaxNAWjeYIp91E0D+t/4y338TQKI4ZUMfihNARrnLU1+UE0DqOTJkn54TQI66mHTfqBNAMjv/hB+zE0DWu2WVX70TQHo8zKWfxxNAHr0ytt/RE0DCPZnGH9wTQGa+/9Zf5hNACj9m55/wE0Cuv8z33/oTQFJAMwggBRRA9sCZGGAPFECaQQApoBkUQD7CZjngIxRA4kLNSSAuFECGwzNaYDgUQCpEmmqgQhRAzsQAe+BMFEByRWeLIFcUQBbGzZtgYRRAukY0rKBrFEBex5q84HUUQAJIAc0ggBRApshn3WCKFEBKSc7toJQUQO7JNP7gnhRAkkqbDiGpFEA2ywEfYbMUQNpLaC+hvRRAfszOP+HHFEAiTTVQIdIUQMbNm2Bh3BRAak4CcaHmFEAOz2iB4fAUQLJPz5Eh+xRAVtA1omEFFUD6UJyyoQ8VQJ7RAsPhGRVAQlJp0yEkFUDm0s/jYS4VQIpTNvShOBVALtScBOJCFUDSVAMVIk0VQHbVaSViVxVAGlbQNaJhFUC+1jZG4msVQGJXnVYidhVABtgDZ2KAFUCqWGp3oooVQE7Z0IfilBVA8lk3mCKfFUCW2p2oYqkVQDpbBLmisxVA3ttqyeK9FUCCXNHZIsgVQCbdN+pi0hVAyl2e+qLcFUBu3gQL4+YVQBJfaxsj8RVAtt/RK2P7FUBaYDg8owUWQP7gnkzjDxZAomEFXSMaFkBG4mttYyQWQOpi0n2jLhZAjuM4juM4FkAyZJ+eI0MWQNbkBa9jTRZAemVsv6NXFkAe5tLP42EWQMJmOeAjbBZAZuef8GN2FkAKaAYBpIAWQK7obBHkihZAUmnTISSVFkD26TkyZJ8WQJpqoEKkqRZAPusGU+SzFkDia21jJL4WQIbs03NkyBZAKm06hKTSFkDO7aCU5NwWQHJuB6Uk5xZAFu9ttWTxFkC6b9TFpPsWQF7wOtbkBRdAAnGh5iQQF0Cm8Qf3ZBoXQEpybgelJBdA7vLUF+UuF0CSczsoJTkXQDb0oThlQxdA2nQISaVNF0B+9W5Z5VcXQCJ21WklYhdAxvY7emVsF0Bqd6KKpXYXQA74CJvlgBdAsnhvqyWLF0BW+dW7ZZUXQPp5PMylnxdAnvqi3OWpF0BCewntJbQXQOb7b/1lvhdAinzWDabIF0Au/Twe5tIXQNJ9oy4m3RdAdv4JP2bnF0Aaf3BPpvEXQL7/1l/m+xdAYoA9cCYGGEAGAaSAZhAYQKqBCpGmGhhATgJxoeYkGEDygtexJi8YQJYDPsJmORhAOoSk0qZDGEDeBAvj5k0YQIKFcfMmWBhAJgbYA2diGEDKhj4Up2wYQG4HpSTndhhAEogLNSeBGEC2CHJFZ4sYQFqJ2FWnlRhA/gk/ZuefGECiiqV2J6oYQEYLDIdntBhA6otyl6e+GECODNmn58gYQDKNP7gn0xhA1g2myGfdGEB6jgzZp+cYQB4Pc+nn8RhAwo/Z+Sf8GEBmEEAKaAYZQAqRphqoEBlArhENK+gaGUBSknM7KCUZQPYS2ktoLxlAmpNAXKg5GUA+FKds6EMZQOKUDX0oThlAhhV0jWhYGUAqltqdqGIZQM4WQa7obBlAcpenvih3GUAWGA7PaIEZQLqYdN+oixlAXhnb7+iVGUACmkEAKaAZQKcaqBBpqhlAS5sOIam0GUDvG3Ux6b4ZQJOc20EpyRlANx1CUmnTGUDbnahiqd0ZQH8eD3Pp5xlAI591gynyGUDHH9yTafwZQGugQqSpBhpADyGptOkQGkCzoQ/FKRsaQFcidtVpJRpA+6Lc5akvGkCfI0P26TkaQEOkqQYqRBpA5yQQF2pOGkCLpXYnqlgaQC8m3TfqYhpA06ZDSCptGkB3J6pYancaQBuoEGmqgRpAvyh3eeqLGkBjqd2JKpYaQAcqRJpqoBpAq6qqqqqqGkBPKxG76rQaQPOrd8sqvxpAlyze22rJGkA7rUTsqtMaQN8tq/zq3RpAg64RDSvoGkAnL3gda/IaQMuv3i2r/BpAbzBFPusGG0ATsatOKxEbQLcxEl9rGxtAW7J4b6slG0D/Mt9/6y8bQKOzRZArOhtARzSsoGtEG0DrtBKxq04bQI81ecHrWBtAM7bf0StjG0DXNkbia20bQHu3rPKrdxtAHzgTA+yBG0DDuHkTLIwbQGc54CNslhtAC7pGNKygG0CvOq1E7KobQFO7E1UstRtA9zt6ZWy/G0CbvOB1rMkbQD89R4bs0xtA472tlizeG0CHPhSnbOgbQCu/eres8htAzz/hx+z8G0BzwEfYLAccQBdBruhsERxAu8EU+awbHEBfQnsJ7SUcQAPD4RktMBxAp0NIKm06HEBLxK46rUQcQO9EFUvtThxAk8V7Wy1ZHEA3RuJrbWMcQNvGSHytbRxAf0evjO13HEAjyBWdLYIcQMdIfK1tjBxAa8niva2WHEAPSknO7aAcQLPKr94tqxxAV0sW7221HED7y3z/rb8cQJ9M4w/uyRxAQ81JIC7UHEDnTbAwbt4cQIvOFkGu6BxAL099Ue7yHEDTz+NhLv0cQHdQSnJuBx1AG9Gwgq4RHUC/UReT7hsdQGPSfaMuJh1AB1Pks24wHUCr00rErjodQE9UsdTuRB1A89QX5S5PHUCXVX71blkdQDvW5AWvYx1A31ZLFu9tHUCD17EmL3gdQCdYGDdvgh1Ay9h+R6+MHUBvWeVX75YdQBPaS2gvoR1At1qyeG+rHUBb2xiJr7UdQP9bf5nvvx1Ao9zlqS/KHUBHXUy6b9QdQOvdssqv3h1Aj14Z2+/oHUAz33/rL/MdQNdf5vtv/R1Ae+BMDLAHHkAfYbMc8BEeQMPhGS0wHB5AZ2KAPXAmHkAL4+ZNsDAeQK9jTV7wOh5AU+SzbjBFHkD3ZBp/cE8eQJvlgI+wWR5AP2bnn/BjHkDj5k2wMG4eQIdntMBweB5AK+ga0bCCHkDPaIHh8IweQHPp5/Ewlx5AF2pOAnGhHkC76rQSsaseQF9rGyPxtR5AA+yBMzHAHkCnbOhDccoeQEvtTlSx1B5A7221ZPHeHkCT7ht1MekeQDdvgoVx8x5A2+/olbH9HkB/cE+m8QcfQCPxtbYxEh9Ax3Ecx3EcH0Br8oLXsSYfQA9z6efxMB9As/NP+DE7H0BXdLYIckUfQPv0HBmyTx9An3WDKfJZH0BD9uk5MmQfQOd2UEpybh9Ai/e2WrJ4H0AveB1r8oIfQNP4g3syjR9Ad3nqi3KXH0Ab+lCcsqEfQL96t6zyqx9AY/sdvTK2H0AHfITNcsAfQKv86t2yyh9AT31R7vLUH0Dz/bf+Mt8fQJd+Hg9z6R9AO/+EH7PzH0Dff+sv8/0fQEIAKaAZBCBAlEBcqDkJIEDmgI+wWQ4gQDjBwrh5EyBAigH2wJkYIEDcQSnJuR0gQC6CXNHZIiBAgMKP2fknIEDSAsPhGS0gQCRD9uk5MiBAdoMp8lk3IEDIw1z6eTwgQBoEkAKaQSBAbETDCrpGIEC+hPYS2ksgQBDFKRv6UCBAYgVdIxpWIEC0RZArOlsgQAaGwzNaYCBAWMb2O3plIECqBipEmmogQPxGXUy6byBAToeQVNp0IECgx8Nc+nkgQPIH92QafyBAREgqbTqEIECWiF11WokgQOjIkH16jiBAOgnEhZqTIECMSfeNupggQN6JKpbanSBAMMpdnvqiIECCCpGmGqggQNRKxK46rSBAJov3tlqyIEB4yyq/ercgQMoLXseavCBAHEyRz7rBIEBujMTX2sYgQMDM99/6yyBAEg0r6BrRIEBkTV7wOtYgQLaNkfha2yBACM7EAHvgIEBaDvgIm+UgQKxOKxG76iBA/o5eGdvvIEBQz5Eh+/QgQKIPxSkb+iBA9E/4MTv/IEBGkCs6WwQhQJjQXkJ7CSFA6hCSSpsOIUA8UcVSuxMhQI6R+FrbGCFA4NErY/sdIUAyEl9rGyMhQIRSknM7KCFA1pLFe1stIUAo0/iDezIhQHoTLIybNyFAzFNflLs8IUAelJKc20EhQHDUxaT7RiFAwhT5rBtMIUAUVSy1O1EhQGaVX71bViFAuNWSxXtbIUAKFsbNm2AhQFxW+dW7ZSFArpYs3ttqIUAA11/m+28hQFIXk+4bdSFApFfG9jt6IUD2l/n+W38hQEjYLAd8hCFAmhhgD5yJIUDsWJMXvI4hQD6Zxh/ckyFAkNn5J/yYIUDiGS0wHJ4hQDRaYDg8oyFAhpqTQFyoIUDY2sZIfK0hQCob+lCcsiFAfFstWby3IUDOm2Bh3LwhQCDck2n8wSFAchzHcRzHIUDEXPp5PMwhQBadLYJc0SFAaN1ginzWIUC6HZSSnNshQAxex5q84CFAXp76otzlIUCw3i2r/OohQAIfYbMc8CFAVF+Uuzz1IUCmn8fDXPohQPjf+st8/yFASiAu1JwEIkCcYGHcvAkiQO6glOTcDiJAQOHH7PwTIkCSIfv0HBkiQORhLv08HiJANqJhBV0jIkCI4pQNfSgiQNoiyBWdLSJALGP7Hb0yIkB+oy4m3TciQNDjYS79PCJAIiSVNh1CIkB0ZMg+PUciQMak+0ZdTCJAGOUuT31RIkBqJWJXnVYiQLxllV+9WyJADqbIZ91gIkBg5vtv/WUiQLImL3gdayJABGdigD1wIkBWp5WIXXUiQKjnyJB9eiJA+if8mJ1/IkBMaC+hvYQiQJ6oYqndiSJA8OiVsf2OIkBCKcm5HZQiQJRp/ME9mSJA5qkvyl2eIkA46mLSfaMiQIoqltqdqCJA3GrJ4r2tIkAuq/zq3bIiQIDrL/P9tyJA0itj+x29IkAkbJYDPsIiQHasyQtexyJAyOz8E37MIkAaLTAcntEiQGxtYyS+1iJAvq2WLN7bIkAQ7sk0/uAiQGIu/Twe5iJAtG4wRT7rIkAGr2NNXvAiQFjvllV+9SJAqi/KXZ76IkD8b/1lvv8iQE6wMG7eBCNAoPBjdv4JI0DyMJd+Hg8jQERxyoY+FCNAlrH9jl4ZI0Do8TCXfh4jQDoyZJ+eIyNAjHKXp74oI0Dessqv3i0jQDDz/bf+MiNAgjMxwB44I0DUc2TIPj0jQCa0l9BeQiNAePTK2H5HI0DKNP7gnkwjQBx1Mem+USNAbrVk8d5WI0DA9Zf5/lsjQBI2ywEfYSNAZHb+CT9mI0C2tjESX2sjQAj3ZBp/cCNAWjeYIp91I0Csd8sqv3ojQP63/jLffyNAUPgxO/+EI0CiOGVDH4ojQPR4mEs/jyNARrnLU1+UI0CY+f5bf5kjQOo5MmSfniNAPHplbL+jI0COuph036gjQOD6y3z/rSNAMjv/hB+zI0CEezKNP7gjQNa7ZZVfvSNAKPyYnX/CI0B6PMyln8cjQMx8/62/zCNAHr0ytt/RI0Bw/WW+/9YjQMI9mcYf3CNAFH7Mzj/hI0Bmvv/WX+YjQLj+Mt9/6yNACj9m55/wI0Bcf5nvv/UjQK6/zPff+iNAAAAAAAAAJEA=\",\"dtype\":\"float64\",\"order\":\"little\",\"shape\":[1000]},\"y\":{\"__ndarray__\":\"AAAAAAAAAAAAAAAAAAAAAAAAAAAAAAAAAAAAAAAAAAAAAAAAAAAAAAAAAAAAAAAAAAAAAAAAAAAAAAAAAAAAAAAAAAAAAAAAAAAAAAAAAAAAAAAAAAAAAAAAAAAAAAAAAAAAAAAAAAAAAAAAAAAAAAAAAAAAAAAAAAAAAAAAAAAAAAAAAAAAAAAAAAAAAAAAAAAAAAAAAAAAAAAAAAAAAAAAAAAAAAAAAAAAAAAAAAAAAAAAAAAAAAAAAAAAAAAAAAAAAAAAAAAAAAAAAAAAAAAAAAAAAAAAAAAAAAAAAAAAAAAAAAAAAAAAAAAAAAAAAAAAAAAAAAAAAAAAAAAAAAAAAAAAAAAAAAAAAAAAAAAAAAAAAAAAAAAAAAAAAAAAAAAAAAAAAAAAAAAAAAAAAAAAAAAAAAAAAAAAAAAAAAAAAAAAAAAAAAAAAAAAAAAAAAAAAAAAAAAAAAAAAAAAAAAAAAAAAAAAAAAAAAAAAAAAAAAAAAAAAAAAAAAAAAAAAAAAAAAAAAAAAAAAAAAAAAAAAAAAAAAAAAAAAAAAAAAAAAAAAAAAAAAAAAAAAAAAAAAAAAAAAAAAAAAAAAAAAAAAAAAAAAAAAAAAAAAAAAAAAAAAAAAAAAAAAAAAAAAAAAAAAAAAAAAAAAAAAAAAAAAAAAAAAAAAAAAAAAAAAAAAAAAAAAAAAAAAAAAAAAAAAAAAAAAAAAAAAAAAAAAAAAAAAAAAAAAAAAAAAAAAAAAAAAAAAAAAAAAAAAAAAAAAAAAAAAAAAAAAAAAAAAAAAAAAAAAAAAAAAAAAAAAAAAAAAAAAAAAAAAAAAAAAAAAAAAAAAAAAAAAAAAAAAAAAAAAAAAAAAAAAAAAAAAAAAAAAAAAAAAAAAAAAAAAAAAAAAAAAAAAAAAAAAAAAAAAAAAAAAAAAAAAAAAAAAAAAAAAAAAAAAAAAAAAAAAAAAAAAAAAAAAAAAAAAAAAAAAAAAAAAAAAAAAAAAAAAAAAAAAAAAAAAAAAAAAAAAAAAAAAAAAAAAAAAAAAAAAAAAAAAAAAAAAAAAAAAAAAAAAAAAAAAAAAAAAAAAAAAAAAAAAAAAAAAAAAAAAAAAAAAAAAAAAAAAAAAAAAAAAAAAAAAAAAAAAAAAAAAAAAAAAAAAAAAAAAAAAAAAAAAAAAAAAAAAAAAAAAAAAAAAAAAAAAAAAAAAAAAAAAAAAAAAAAAAAAAAAAAAAAAAAAAAAAAAAAAAAAAAAAAAAAAAAAAAAAAAAAAAAAAAAAAAAAAAAAAAAAAAAAAAAAAAAAAAAAAAAAAAAAAAAAAAAAAAAAAAAAAAAAAAAAAAAAAAAAAAAAAAAAAAAAAAAAAAAAAAAAAAAAAAAAAAAAAAAAAAAAAAAAAAAAAAAAAAAAAAAAAAAAAAAAAAAAAAAAAAAAAAAAAAAAAAAAAAAAAAAAAAAAAAAAAAAAAAAAAAAAAAAAAAAAAAAAAAAAAAAAAAAAAAAAAAAAAAAAAAAAAAAAAAAAAAAAAAAAAAAAAAAAAAAAAAAAAAAAAAAAAAAAAAAAAAAAAAAAAAAAAAAAAAAAAAAAAAAAAAAAAAAAAAAAAAAAAAAAAAAAAAAAAAAAAAAAAAAAAAAAAAAAAAAAAAAAAAAAAAAAAAAAAAAAAAAAAAAAAAAAAAAAAAAAAAAAAAAAAAAAAAAAAAAAAAAAAAAAAAAAAAAAAAAAAAAAAAAAAAAAAAAAAAAAAAAAAAAAAAAAAAAAAAAAAAAAAAAAAAAAAAAAAAAAAAAAAAAAAAAAAAAAAAAAAAAAAAAAAAAAAAAAAAAAAAAAAAAAAAAAAAAAAAAAAAAAAAAAAAAAAAAAAAAAAAAAAAAAAAAAAAAAAAAAAAAAAAAAAAAAAAAAAAAAAAAAAAAAAAAAAAAAAAAAAAAAAAAAAAAAAAAAAAAAAAAAAAAAAAAAAAAAAAAAAAAAAAAAAAAAAAAAAAAAAAAAAAAAAAAAAAAAAAAAAAAAAAAAAAAAAAAAAAAAAAAAAAAAAAAAAAAAAAAAAAAAAAAAAAAAAAAAAAAAAAAAAAAAAAAAAAAAAAAAAAAAAAAAAAAAAAAAAAAAAAAAAAAAAAAAAAAAAAAAAAAAAAAAAAAAAAAAAAAAAAAAAAAAAAAAAAAAAAAAAAAAAAAAAAAAAAAAAAAAAAAAAAAAAAAAAAAAAAAAAAAAAAAAAAAAAAAAAAAAAAAAAAAAAAAAAAAAAAAAAAAAAAAAAAAAAAAAAAAAAAAAAAAAAAAAAAAAAAAAAAAAAAAAAAAAAAAAAAAAAAAAAAAAAAAAAAAAAAAAAAAAAAAAAAAAAAAAAAAAAAAAAAAAAAAAAAAAAAAAAAAAAAAAAAAAAAAAAAAAAAAAAAAAAAAAAAAAAAAAAAAAAAAAAAAAAAAAAAAAAAAAAAAAAAAAAAAAAAAAAAAAAAAAAAAAAAAAAAAAAAAAAAAAAAAAAAAAAAAAAAAAAAAAAAAAAAAAAAAAAAAAAAAAAAAAAAAAAAAAAAAAAAAAAAAAAAAAAAAAAAAAAAAAAAAAAAAAAAAAAAAAAAAAAAAAAAAAAAAAAAAAAAAAAAAAAAAAAAAAAAAAAAAAAAAAAAAAAAAAAAAAAAAAAAAAAAAAAAAAAAAAAAAAAAAAAAAAAAAAAAAAAAAAAAAAAAAAAAAAAAAAAAAAAAAAAAAAAAAAAAAAAAAAAAAAAAAAAAAAAAAAAAAAAAAAAAAAAAAAAAAAAAAAAAAAAAAAAAAAAAAAAAAAAAAAAAAAAAAAAAAAAAAAAAAAAAAAAAAAAAAAAAAAAAAAAAAAAAAAAAAAAAAAAAAAAAAAAAAAAAAAAAAAAAAAAAAAAAAAAAAAAAAAAAAAAAAAAAAAAAAAAAAAAAAAAAAAAAAAAAAAAAAAAAAAAAAAAAAAAAAAAAAAAAAAAAAAAAAAAAAAAAAAAAAAAAAAAAAAAAAAAAAAAAAAAAAAAAAAAAAAAAAAAAAAAAAAAAAAAAAAAAAAAAAAAAAAAAAAAAAAAAAAAAAAAAAAAAAAAAAAAAAAAAAAAAAAAAAAAAAAAAAAAAAAAAAAAAAAAAAAAAAAAAAAAAAAAAAAAAAAAAAAAAAAAAAAAAAAAAAAAAAAAAAAAAAAAAAAAAAAAAAAAAAAAAAAAAAAAAAAAAAAAAAAAAAAAAAAAAAAAAAAAAAAAAAAAAAAAAAAAAAAAAAAAAAAAAAAAAAAAAAAAAAAAAAAAAAAAAAAAAAAAAAAAAAAAAAAAAAAAAAAAAAAAAAAAAAAAAAAAAAAAAAAAAAAAAAAAAAAAAAAAAAAAAAAAAAAAAAAAAAAAAAAAAAAAAAAAAAAAAAAAAAAAAAAAAAAAAAAAAAAAAAAAAAAAAAAAAAAAAAAAAAAAAAAAAAAAAAAAAAAAAAAAAAAAAAAAAAAAAAAAAAAAAAAAAAAAAAAAAAAAAAAAAAAAAAAAAAAAAAAAAAAAAAAAAAAAAAAAAAAAAAAAAAAAAAAAAAAAAAAAAAAAAAAAAAAAAAAAAAAAAAAAAAAAAAAAAAAAAAAAAAAAAAAAAAAAAAAAAAAAAAAAAAAAAAAAAAAAAAAAAAAAAAAAAAAAAAAAAAAAAAAAAAAAAAAAAAAAAAAAAAAAAAAAAAAAAAAAAAAAAAAAAAAAAAAAAAAAAAAAAAAAAAAAAAAAAAAAAAAAAAAAAAAAAAAAAAAAAAAAAAAAAAAAAAAAAAAAAAAAAAAAAAAAAAAAAAAAAAAAAAAAAAAAAAAAAAAAAAAAAAAAAAAAAAAAAAAAAAAAAAAAAAAAAAAAAAAAAAAAAAAAAAAAAAAAAAAAAAAAAAAAAAAAAAAAAAAAAAAAAAAAAAAAAAAAAAAAAAAAAAAAAAAAAAAAAAAAAAAAAAAAAAAAAAAAAAAAAAAAAAAAAAAAAAAAAAAAAAAAAAAAAAAAAAAAAAAAAAAAAAAAAAAAAAAAAAAAAAAAAAAAAAAAAAAAAAAAAAAAAAAAAAAAAAAAAAAAAAAAAAAAAAAAAAAAAAAAAAAAAAAAAAAAAAAAAAAAAAAAAAAAAAAAAAAAAAAAAAAAAAAAAAAAAAAAAAAAAAAAAAAAAAAAAAAAAAAAAAAAAAAAAAAAAAAAAAAAAAAAAAAAAAAAAAAAAAAAAAAAAAAAAAAAAAAAAAAAAAAAAAAAAAAAAAAAAAAAAAAAAAAAAAAAAAAAAAAAAAAAAAAAAAAAAAAAAAAAAAAAAAAAAAAAAAAAAAAAAAAAAAAAAAAAAAAAAAAAAAAAAAAAAAAAAAAAAAAAAAAAAAAAAAAAAAAAAAAAAAAAAAAAAAAAAAAAAAAAAAAAAAAAAAAAAAAAAAAAAAAAAAAAAAAAAAAAAAAAAAAAAAAAAAAAAAAAAAAAAAAAAAAAAAAAAAAAAAAAAAAAAAAAAAAAAAAAAAAAAAAAAAAAAAAAAAAAAAAAAAAAAAAAAAAAAAAAAAAAAAAAAAAAAAAAAAAAAAAAAAAAAAAAAAAAAAAAAAAAAAAAAAAAAAAAAAAAAAAAAAAAAAAAAAAAAAAAAAAAAAAAAAAAAAAAAAAAAAAAAAAAAAAAAAAAAAAAAAAAAAAAAAAAAAAAAAAAAAAAAAAAAAAAAAAAAAAAAAAAAAAAAAAAAAAAAAAAAAAAAAAAAAAAAAAAAAAAAAAAAAAAAAAAAAAAAAAAAAAAAAAAAAAAAAAAAAAAAAAAAAAAAAAAAAAAAAAAAAAAAAAAAAAAAAAAAAAAAAAAAAAAAAAAAAAAAAAAAAAAAAAAAAAAAAAAAAAAAAAAAAAAAAAAAAAAAAAAAAAAAAAAAAAAAAAAAAAAAAAAAAAAAAAAAAAAAAAAAAAAAAAAAAAAAAAAAAAAAAAAAAAAAAAAAAAAAAAAAAAAAAAAAAAAAAAAAAAAAAAAAAAAAAAAAAAAAAAAAAAAAAAAAAAAAAAAAAAAAAAAAAAAAAAAAAAAAAAAAAAAAAAAAAAAAAAAAAAAAAAAAAAAAAAAAAAAAAAAAAAAAAAAAAAAAAAAAAAAAAAAAAAAAAAAAAAAAAAAAAAAAAAAAAAAAAAAAAAAAAAAAAAAAAAAAAAAAAAAAAAAAAAAAAAAAAAAAAAAAAAAAAAAAAAAAAAAAAAAAAAAAAAAAAAAAAAAAAAAAAAAAAAAAAAAAAAAAAAAAAAAAAAAAAAAAAAAAAAAAAAAAAAAAAAAAAAAAAAAAAAAAAAAAAAAAAAAAAAAAAAAAAAAAAAAAAAAAAAAAAAAAAAAAAAAAAAAAAAAAAAAAAAAAAAAAAAAAAAAAAAAAAAAAAAAAAAAAAAAAAAAAAAAAAAAAAAAAAAAAAAAAAAAAAAAAAAAAAAAAAAAAAAAAAAAAAAAAAAAAAAAAAAAAAAAAAAAAAAAAAAAAAAAAAAAAAAAAAAAAAAAAAAAAAAAAAAAAAAAAAAAAAAAAAAAAAAAAAAAAAAAAAAAAAAAAAAAAAAAAAAAAAAAAAAAAAAAAAAAAAAAAAAAAAAAAAAAAAAAAAAAAAAAAAAAAAAAAAAAAAAAAAAAAAAAAAAAAAAAAAAAAAAAAAAAAAAAAAAAAAAAAAAAAAAAAAAAAAAAAAAAAAAAAAAAAAAAAAAAAAAAAAAAAAAAAAAAAAAAAAAAAAAAAAAAAAAAAAAAAAAAAAAAAAAAAAAAAAAAAAAAAAAAAAAAAAAAAAAAAAAAAAAAAAAAAAAAAAAAAAAAAAAAAAAAAAAAAAAAAAAAAAAAAAAAAAAAAAAAAAAAAAAAAAAAAAAAAAAAAAAAAAAAAAAAAAAAAAAAAAAAAAAAAAAAAAAAAAAAAAAAAAAAAAAAAAAAAAAAAAAAAAAAAAAAAAAAAAAAAAAAAAAAAAAAAAAAAAAAAAAAAAAAAAAAAAAAAAAAAAAAAAAAAAAAAAAAAAAAAAAAAAAAAAAAAAAAAAAAAAAAAAAAAAAAAAAAAAAAAAAAAAAAAAAAAAAAAAAAAAAAAAAAAAAAAAAAAAAAAAAAAAAAAAAAAAAAAAAAAAAAAAAAAAAAAAAAAAAAAAAAAAAAAAAAAAAAAAAAAAAAAAAAAAAAAAAAAAAAAAAAAAAAAAAAAAAAAAAAAAAAAAAAAAAAAAAAAAAAAAAAAAAAAAAAAAAAAAAAAAAAAAAAAAAAAAAAAAAAAAAAAAAAAAAAAAAAAAAAAAAAAAAAAAAAAAAAAAAAAAAAAAAAAAAAAAAAAAAAAAAAAAAAAAAAAAAAAAAAAAAAAAAAAAAAAAAAAAAAAAAAAAAAAAAAAAAAAAAAAAAAAAAAAAAAAAAAAAAAAAAAAAAAAAAAAAAAAAAAAAAAAAAAAAAAAAAAAAAAAAAAAAAAAAAAAAAAAAAAAAAAAAAAAAAAAAAAAAAAAAAAAAAAAAAAAAAAAAAAAAAAAAAAAAAAAAAAAAAAAAAAAAAAAAAAAAAAAAAAAAAAAAAAAAAAAAAAAAAAAAAAAAAAAAAAAAAAAAAAAAAAAAAAAAAAAAAAAAAAAAAAAAAAAAAAAAAAAAAAAAAAAAAAAAAAAAAAAAAAAAAAAAAAAAAAAAAAAAAAAAAAAAAAAAAAAAAAAAAAAAAAAAAAAAAAAAAAAAAAAAAAAAAAAAAAAAAAAAAAAAAAAAAAAAAAAAAAAAAAAAAAAAAAAAAAAAAAAAAAAAAAAAAAAAAAAAAAAAAAAAAAAAAAAAAAAAAAAAAAAAAAAAAAAAAAAAAAAAAAAAAAAAAAAAAAAAAAAAAAAAAAAAAAAAAAAAAAAAAAAAAAAAAAAAAAAAAAAAAAAAAAAAAAAAAAAAAAAAAAAAAAAAAAAAAAAAAAAAAAAAAAAAAAAAAAAAAAAAAAAAAAAAAAAAAAAAAAAAAAAAAAAAAAAAAAAAAAAAAAAAAAAAAAAAAAAAAAAAAAAAAAAAAAAAAAAAAAAAAAAAAAAAAAAAAAAAAAAAAAAAAAAAAAAAAAAAAAAAAAAAAAAAAAAAAAAAAAAAAAAAAAAAAAAAAAAAAAAAAAAAAAAAAAAAAAAAAAAAAAAAAAAAAAAAAAAAAAAAAAAAAAAAAAAAAAAAAAAAAAAAAAAAAAAAAAAAAAAAAAAAAAAAAAAAAAAAAAAAAAAAAAAAAAAAAAAAAAAAAAAAAAAAAAAAAAAAAAAAAAAAAAAAAAAAAAAAAAAAAAAAAAAAAAAAAAAAAAAAAAAAAAAAAAAAAAAAAAAAAAAAAAAAAAAAAAAAAAAAAAAAAAAAAAAAAAAAAAAAAAAAAAAAAAAAAAAAAAAAAAAAAAAAAAAAAAAAAAAAAAAAAAAAAAAAAAAAAAAAAAAAAAAAAAAAAAAAAAAAAAAAAAAAAAAAAAAAAAAAAAAAAAAAAAAAAAAAAAAAAAAAAAAAAAAAAAAAAAAAAAAAAAAAAAAAAAAAAAAAAAAAAAAAAAAAAAAAAAAAAAAAAAAAAAAAAAAAAAAAAAAAAAAAAAAAAAAAAAAAAAAAAAAAAAAAAAAAAAAAAAAAAAAAAAAAAAAAAAAAAAAAAAAAAAAAAAAAAAAAAAAAAAAAAAAAAAAAAAAAAAAAAAAAAAAAAAAAAAAAAAAAAAAAAAAAAAAAAAAAAAAAAAAAAAAAAAAAAAAAAAAAAAAAAAAAAAAAAAAAAAAAAAAAAAAAAAAAAAAAAAAAAAAAAAAAAAAAAAAAAAAAAAAAAAAAAAAAAAAAAAAAAAAAAAAAAAAAAAAAAAAAAAAAAAAAAAAAAAAAAAAAAAAAAAAAAAAAAAAAAAAAAAAAAAAAAAAAAAAAAAAAAAAAAAAAAAAAAAAAAAAAAAAAAAAAAAAAAAAAAAAAAAAAAAAAAAAAAAAAAAAAAAAAAAAAAAAAAAAAAAAAAAAAAAAAAAAAAAAAAAAAAAAAAAAAAAAAAAAAAAAAAAAAAAAAAAAAAAAAAAAAAAAAAAAAAAAAAAAAAAAAAAAAAAAAAAAAAAAAAAAAAAAAAAAAAAAAAAAAAAAAAAAAAAAAAAAAAAAAAAAAAAAAAAAAAAAAAAAAAAAAAAAAAAAAAAAAAAAAAAAAAAAAAAAAAAAAAAAAAAAAAAAAAAAAAAAAAAAAAAAAAAAAAAAAAAAAAAAAAAAAAAAAAAAAAAAAAAAAAAAAAAAAAAAAAAAAAAAAAAAAAAAAAAAAAAAAAAAAAAAAAAAAAAAAAAAAAAAAAAAAAAAAAAAAAAAAAAAAAAAAAAAAAAAAAAAAAAAAAAAAAAAAAAAAAAAAAAAAAAAAAAAAAAAAAAAAAAAAAAAAAAAAAAAAAAAAAAAAAAAAAAAAAAAAAAAAAAAAAAAAAAAAAAAAAAAAAAAAAAAAAAAAAAAAAAAAAAAAAAAAAAAAAAAAAAAAAAAAAAAAAAAAAAAAAAAAAAAAAAAAAAAAAAAAAAAAAAAAAAAAAAAAAAAAAAAAAAAAAAAAAAAAAAAAAAAAAAAAAAAAAAAAAAAAAAAAAAAAAAAAAAAAAAAAAAAAAAAAAAAAAAAAAAAAAAAAAAAAAAAAAAAAAAAAAAAAAAAAAAAAAAAAAAAAAAAAAAAAAAAAAAAAAAAAAAAAAAAAAAAAAAAAAAAAAAAAAAAAAAAAAAAAAAAAAAAAAAAAAAAAAAAAAAAAAAAAAAAAAAAAAAAAAAAAAAAAAAAAAAAAAAAAAAAAAAAAAAAAAAAAAAAAAAAAAAAAAAAAAAAAAAAAAAAAAAAAAAAAAAAAAAAAAAAAAAAAAAAAAAAAAAAAAAAAAAAAAAAAAAAAAAAAAAAAAAAAAAAAAAAAAAAAAAAAAAAAAAAAAAAAAAAAAAAAAAAAAAAAAAAAAAAAAAAAAAAAAAAAAAAAAAAAAAAAAAAAAAAAAAAAAAAAAAAAAAAAAAAAAAAAAAAAAAAAAAAAAAAAAAAAAAAAAAAAAAAAAAAAAAAAAAAAAAAAAAAAAAAAAAAAAAAAAAAAAAAAAAAAAAAAAAAAAAAAAAAAAAAAAAAAAAAAAAAAAAAAAAAAAAAAAAAAAAAAAAAAAAAAAAAAAAAAAAAAAAAAAAAAAAAAAAAAAAAAAAAAAAAAAAAAAAAAAAAAAAAAAAAAAAAAAAAAAAAAAAAAAAAAAAAAAAAAAAAAAAAAAAAAAAAAAAAAAAAAAAAAAAAAAAAAAAAAAAAAAAAAAAAAAAAAAAAAAAAAAAAAAAAAAAAAAAAAAAAAAAAAAAAAAAAAAAAAAAAAAAAAAAAAAAAAAAAAAAAAAAAAAAAAAAAAAAAAAAAAAAAAAAAAAAAAAAAAAAAAAAAAAAAAAAAAAAAAAAAAAAAAAAAAAAAAAAAAAAAAAAAAAAAAAAAAAAAAAAAAAAAAAAAAAAAAAAAAAAAAAAAAAAAAAAAAAAAAAAAAAAAAAAAAAAAAAAAAAAAAAAAAAAAAAAAAAAAAAAAAAAAAAAAAAAAAAAAAAAAAAAAAAAAAAAAAAAAAAAAAAAAAAAAAAAAAAAAAAAAAAAAAAAAAAAAAAAAAAAAAAAAAAAAAAAAAAAAAAAAAAAAAAAAAAAAAAAAAAAAAAAAAAAAAAAAAAAAAAAAAAAAAAAAAAAAAAAAAAAAAAAAAAAAAAAAAAAAAAAAAAAAAAAAAAAAAAAAAAAAAAAAAAAAAAAAAAAAAAAAAAAAAAAAAAAAAAAAAAAAAAAAAAAAAAAAAAAAAAAAAAAAAAAAAAAAAAAAAAAAAAAAAAAAAAAAAAAAAAAAAAAAAAAAAAAAAAAAAAAAAAAAAAAAAAAAAAAAAAAAAAAAAAAAAAAAAAAAAAAAAAAAAAAAAAAAAAAAAAAAAAAAAAAAAAAAAAAAAAAAAAAAAAAAAAAAAAAAAAAAAAAAAAAAAAAAAAAAAAAAAAAAAAAAAAAAAAAAAAAAAAAAAAAAAAAAAAAAAAAAAAAAAAAAAAAAAAAAAAAAAAAAAAAAAAAAAAAAAAAAAAAAAAAAAAAAAAAAAAAAAAAAAAAAAAAAAAAAAAAAAAAAAAAAAAAAAAAAAAAAAAAAAAAAAAAAAAAAAAAAAAAAAAAAAAAAAAAAAAAAAAAAAAAAAAAAAAAAAAAAAAAAAAAAAAAAAAAAAAAAAAAAAAAAAAAAAAAAAAAAAAAAAAAAAAAAAAAAAAAAAAAAAAAAAAAAAAAAAAAAAAAAAAAAAAAAAAAAAAAAAAAAAAAAAAAAAAAAAAAAAAAAAAAAAAAAAAAAAAAAAAAAAAAAAAAAAAAAAAAAAAAAAAAAAAAAAAAAAAAAAAAAAAAAAAAAAAAAAAAAAAAAAAAAAAAAAAAAAAAAAAAAAAAAAAAAAAAAAAAAAAAAAAAAAAAAAAAAAAAAAAAAAAAAAAAAAAAAAAAAAAAAAAAAAAAAAAAAAAAAAAAAAAAAAAAAAAAAAAAAAAAAAAAAAAAAAAAAAAAAAAAAAAAAAAAAAAAAAAAAAAAAAAAAAAAAAAAAAAAAAAAAAAAAAAAAAAAAAAAAAAAAAAAAAAAAAAAAAAAAAAAAAAAAAAAAAAAAAAAAAAAAAAAAAAAAAAAAAAAAAAAAAAAAAAAAAAAAAAAAAAAAAAAAAAAAAAAAAAAAAAAAAAAAAAAAAAAAAAAAAAAAAAAAAAAAAAAAAAAAAAAAAAAAAAAAAAAAAAAAAAAAAAAAAAAAAAAAAAAAAAAAAAAAAAAAAAAAAAAAAAAAAAAAAAAAAAAAAAAAAAAAAAAAAAAAAAAAAAAAAAAAAAAAAAAAAAAAAAAAAAAAAAAAAAAAAAAAAAAAAAAAAAAAAA=\",\"dtype\":\"float64\",\"order\":\"little\",\"shape\":[1000]}},\"selected\":{\"id\":\"1681\"},\"selection_policy\":{\"id\":\"1682\"}},\"id\":\"1666\",\"type\":\"ColumnDataSource\"},{\"attributes\":{\"data_source\":{\"id\":\"1666\"},\"glyph\":{\"id\":\"1667\"},\"hover_glyph\":null,\"muted_glyph\":null,\"nonselection_glyph\":{\"id\":\"1668\"},\"view\":{\"id\":\"1670\"}},\"id\":\"1669\",\"type\":\"GlyphRenderer\"},{\"attributes\":{\"axis\":{\"id\":\"1630\"},\"dimension\":1,\"ticker\":null},\"id\":\"1633\",\"type\":\"Grid\"},{\"attributes\":{\"data\":{\"x\":{\"__ndarray__\":\"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\",\"dtype\":\"float64\",\"order\":\"little\",\"shape\":[1000]},\"y\":{\"__ndarray__\":\"AAAAAAAAAAAAAAAAAAAAAAAAAAAAAAAAAAAAAAAAAAAAAAAAAAAAAAAAAAAAAAAAAAAAAAAAAAAAAAAAAAAAAAAAAAAAAAAAAAAAAAAAAAAAAAAAAAAAAAAAAAAAAAAAAAAAAAAAAAAAAAAAAAAAAAAAAAAAAAAAAAAAAAAAAAAAAAAAAAAAAAAAAAAAAAAAAAAAAAAAAAAAAAAAAAAAAAAAAAAAAAAAAAAAAAAAAAAAAAAAAAAAAAAAAAAAAAAAAAAAAAAAAAAAAAAAAAAAAAAAAAAAAAAAAAAAAAAAAAAAAAAAAAAAAAAAAAAAAAAAAAAAAAAAAAAAAAAAAAAAAAAAAAAAAAAAAAAAAAAAAAAAAAAAAAAAAAAAAAAAAAAAAAAAAAAAAAAAAAAAAAAAAAAAAAAAAAAAAAAAAAAAAAAAAAAAAAAAAAAAAAAAAAAAAAAAAAAAAAAAAAAAAAAAAAAAAAAAAAAAAAAAAAAAAAAAAAAAAAAAAAAAAAAAAAAAAAAAAAAAAAAAAAAAAAAAAAAAAAAAAAAAAAAAAAAAAAAAAAAAAAAAAAAAAAAAAAAAAAAAAAAAAAAAAAAAAAAAAAAAAAAAAAAAAAAAAAAAAAAAAAAAAAAAAAAAAAAAAAAAAAAAAAAAAAAAAAAAAAAAAAAAAAAAAAAAAAAAAAAAAAAAAAAAAAAAAAAAAAAAAAAAAAAAAAAAAAAAAAAAAAAAAAAAAAAAAAAAAAAAAAAAAAAAAAAAAAAAAAAAAAAAAAAAAAAAAAAAAAAAAAAAAAAAAAAAAAAAAAAAAAAAAAAAAAAAAAAAAAAAAAAAAAAAAAAAAAAAAAAAAAAAAAAAAAAAAAAAAAAAAAAAAAAAAAAAAAAAAAAAAAAAAAAAAAAAAAAAAAAAAAAAAAAAAAAAAAAAAAAAAAAAAAAAAAAAAAAAAAAAAAAAAAAAAAAAAAAAAAAAAAAAAAAAAAAAAAAAAAAAAAAAAAAAAAAAAAAAAAAAAAAAAAAAAAAAAAAAAAAAAAAAAAAAAAAAAAAAAAAAAAAAAAAAAAAAAAAAAAAAAAAAAAAAAAAAAAAAAAAAAAAAAAAAAAAAAAAAAAAAAAAAAAAAAAAAAAAAAAAAAAAAAAAAAAAAAAAAAAAAAAAAAAAAAAAAAAAAAAAAAAAAAAAAAAAAAAAAAAAAAAAAAAAAAAAAAAAAAAAAAAAAAAAAAAAAAAAAAAAAAAAAAAAAAAAAAAAAAAAAAAAAAAAAAAAAAAAAAAAAAAAAAAAAAAAAAAAAAAAAAAAAAAAAAAAAAAAAAAAAAAAAAAAAAAAAAAAAAAAAAAAAAAAAAAAAAAAAAAAAAAAAAAAAAAAAAAAAAAAAAAAAAAAAAAAAAAAAAAAAAAAAAAAAAAAAAAAAAAAAAAAAAAAAAAAAAAAAAAAAAAAAAAAAAAAAAAAAAAAAAAAAAAAAAAAAAAAAAAAAAAAAAAAAAAAAAAAAAAAAAAAAAAAAAAAAAAAAAAAAAAAAAAAAAAAAAAAAAAAAAAAAAAAAAAAAAAAAAAAAAAAAAAAAAAAAAAAAAAAAAAAAAAAAAAAAAAAAAAAAAAAAAAAAAAAAAAAAAAAAAAAAAAAAAAAAAAAAAAAAAAAAAAAAAAAAAAAAAAAAAAAAAAAAAAAAAAAAAAAAAAAAAAAAAAAAAAAAAAAAAAAAAAAAAAAAAAAAAAAAAAAAAAAAAAAAAAAAAAAAAAAAAAAAAAAAAAAAAAAAAAAAAAAAAAAAAAAAAAAAAAAAAAAAAAAAAAAAAAAAAAAAAAAAAAAAAAAAAAAAAAAAAAAAAAAAAAAAAAAAAAAAAAAAAAAAAAAAAAAAAAAAAAAAAAAAAAAAAAAAAAAAAAAAAAAAAAAAAAAAAAAAAAAAAAAAAAAAAAAAAAAAAAAAAAAAAAAAAAAAAAAAAAAAAAAAAAAAAAAAAAAAAAAAAAAAAAAAAAAAAAAAAAAAAAAAAAAAAAAAAAAAAAAAAAAAAAAAAAAAAAAAAAAAAAAAAAAAAAAAAAAAAAAAAAAAAAAAAAAAAAAAAAAAAAAAAAAAAAAAAAAAAAAAAAAAAAAAAAAAAAAAAAAAAAAAAAAAAAAAAAAAAAAAAAAAAAAAAAAAAAAAAAAAAAAAAAAAAAAAAAAAAAAAAAAAAAAAAAAAAAAAAAAAAAAAAAAAAAAAAAAAAAAAAAAAAAAAAAAAAAAAAAAAAAAAAAAAAAAAAAAAAAAAAAAAAAAAAAAAAAAAAAAAAAAAAAAAAAAAAAAAAAAAAAAAAAAAAAAAAAAAAAAAAAAAAAAAAAAAAAAAAAAAAAAAAAAAAAAAAAAAAAAAAAAAAAAAAAAAAAAAAAAAAAAAAAAAAAAAAAAAAAAAAAAAAAAAAAAAAAAAAAAAAAAAAAAAAAAAAAAAAAAAAAAAAAAAAAAAAAAAAAAAAAAAAAAAAAAAAAAAAAAAAAAAAAAAAAAAAAAAAAAAAAAAAAAAAAAAAAAAAAAAAAAAAAAAAAAAAAAAAAAAAAAAAAAAAAAAAAAAAAAAAAAAAAAAAAAAAAAAAAAAAAAAAAAAAAAAAAAAAAAAAAAAAAAAAAAAAAAAAAAAAAAAAAAAAAAAAAAAAAAAAAAAAAAAAAAAAAAAAAAAAAAAAAAAAAAAAAAAAAAAAAAAAAAAAAAAAAAAAAAAAAAAAAAAAAAAAAAAAAAAAAAAAAAAAAAAAAAAAAAAAAAAAAAAAAAAAAAAAAAAAAAAAAAAAAAAAAAAAAAAAAAAAAAAAAAAAAAAAAAAAAAAAAAAAAAAAAAAAAAAAAAAAAAAAAAAAAAAAAAAAAAAAAAAAAAAAAAAAAAAAAAAAAAAAAAAAAAAAAAAAAAAAAAAAAAAAAAAAAAAAAAAAAAAAAAAAAAAAAAAAAAAAAAAAAAAAAAAAAAAAAAAAAAAAAAAAAAAAAAAAAAAAAAAAAAAAAAAAAAAAAAAAAAAAAAAAAAAAAAAAAAAAAAAAAAAAAAAAAAAAAAAAAAAAAAAAAAAAAAAAAAAAAAAAAAAAAAAAAAAAAAAAAAAAAAAAAAAAAAAAAAAAAAAAAAAAAAAAAAAAAAAAAAAAAAAAAAAAAAAAAAAAAAAAAAAAAAAAAAAAAAAAAAAAAAAAAAAAAAAAAAAAAAAAAAAAAAAAAAAAAAAAAAAAAAAAAAAAAAAAAAAAAAAAAAAAAAAAAAAAAAAAAAAAAAAAAAAAAAAAAAAAAAAAAAAAAAAAAAAAAAAAAAAAAAAAAAAAAAAAAAAAAAAAAAAAAAAAAAAAAAAAAAAAAAAAAAAAAAAAAAAAAAAAAAAAAAAAAAAAAAAAAAAAAAAAAAAAAAAAAAAAAAAAAAAAAAAAAAAAAAAAAAAAAAAAAAAAAAAAAAAAAAAAAAAAAAAAAAAAAAAAAAAAAAAAAAAAAAAAAAAAAAAAAAAAAAAAAAAAAAAAAAAAAAAAAAAAAAAAAAAAAAAAAAAAAAAAAAAAAAAAAAAAAAAAAAAAAAAAAAAAAAAAAAAAAAAAAAAAAAAAAAAAAAAAAAAAAAAAAAAAAAAAAAAAAAAAAAAAAAAAAAAAAAAAAAAAAAAAAAAAAAAAAAAAAAAAAAAAAAAAAAAAAAAAAAAAAAAAAAAAAAAAAAAAAAAAAAAAAAAAAAAAAAAAAAAAAAAAAAAAAAAAAAAAAAAAAAAAAAAAAAAAAAAAAAAAAAAAAAAAAAAAAAAAAAAAAAAAAAAAAAAAAAAAAAAAAAAAAAAAAAAAAAAAAAAAAAAAAAAAAAAAAAAAAAAAAAAAAAAAAAAAAAAAAAAAAAAAAAAAAAAAAAAAAAAAAAAAAAAAAAAAAAAAAAAAAAAAAAAAAAAAAAAAAAAAAAAAAAAAAAAAAAAAAAAAAAAAAAAAAAAAAAAAAAAAAAAAAAAAAAAAAAAAAAAAAAAAAAAAAAAAAAAAAAAAAAAAAAAAAAAAAAAAAAAAAAAAAAAAAAAAAAAAAAAAAAAAAAAAAAAAAAAAAAAAAAAAAAAAAAAAAAAAAAAAAAAAAAAAAAAAAAAAAAAAAAAAAAAAAAAAAAAAAAAAAAAAAAAAAAAAAAAAAAAAAAAAAAAAAAAAAAAAAAAAAAAAAAAAAAAAAAAAAAAAAAAAAAAAAAAAAAAAAAAAAAAAAAAAAAAAAAAAAAAAAAAAAAAAAAAAAAAAAAAAAAAAAAAAAAAAAAAAAAAAAAAAAAAAAAAAAAAAAAAAAAAAAAAAAAAAAAAAAAAAAAAAAAAAAAAAAAAAAAAAAAAAAAAAAAAAAAAAAAAAAAAAAAAAAAAAAAAAAAAAAAAAAAAAAAAAAAAAAAAAAAAAAAAAAAAAAAAAAAAAAAAAAAAAAAAAAAAAAAAAAAAAAAAAAAAAAAAAAAAAAAAAAAAAAAAAAAAAAAAAAAAAAAAAAAAAAAAAAAAAAAAAAAAAAAAAAAAAAAAAAAAAAAAAAAAAAAAAAAAAAAAAAAAAAAAAAAAAAAAAAAAAAAAAAAAAAAAAAAAAAAAAAAAAAAAAAAAAAAAAAAAAAAAAAAAAAAAAAAAAAAAAAAAAAAAAAAAAAAAAAAAAAAAAAAAAAAAAAAAAAAAAAAAAAAAAAAAAAAAAAAAAAAAAAAAAAAAAAAAAAAAAAAAAAAAAAAAAAAAAAAAAAAAAAAAAAAAAAAAAAAAAAAAAAAAAAAAAAAAAAAAAAAAAAAAAAAAAAAAAAAAAAAAAAAAAAAAAAAAAAAAAAAAAAAAAAAAAAAAAAAAAAAAAAAAAAAAAAAAAAAAAAAAAAAAAAAAAAAAAAAAAAAAAAAAAAAAAAAAAAAAAAAAAAAAAAAAAAAAAAAAAAAAAAAAAAAAAAAAAAAAAAAAAAAAAAAAAAAAAAAAAAAAAAAAAAAAAAAAAAAAAAAAAAAAAAAAAAAAAAAAAAAAAAAAAAAAAAAAAAAAAAAAAAAAAAAAAAAAAAAAAAAAAAAAAAAAAAAAAAAAAAAAAAAAAAAAAAAAAAAAAAAAAAAAAAAAAAAAAAAAAAAAAAAAAAAAAAAAAAAAAAAAAAAAAAAAAAAAAAAAAAAAAAAAAAAAAAAAAAAAAAAAAAAAAAAAAAAAAAAAAAAAAAAAAAAAAAAAAAAAAAAAAAAAAAAAAAAAAAAAAAAAAAAAAAAAAAAAAAAAAAAAAAAAAAAAAAAAAAAAAAAAAAAAAAAAAAAAAAAAAAAAAAAAAAAAAAAAAAAAAAAAAAAAAAAAAAAAAAAAAAAAAAAAAAAAAAAAAAAAAAAAAAAAAAAAAAAAAAAAAAAAAAAAAAAAAAAAAAAAAAAAAAAAAAAAAAAAAAAAAAAAAAAAAAAAAAAAAAAAAAAAAAAAAAAAAAAAAAAAAAAAAAAAAAAAAAAAAAAAAAAAAAAAAAAAAAAAAAAAAAAAAAAAAAAAAAAAAAAAAAAAAAAAAAAAAAAAAAAAAAAAAAAAAAAAAAAAAAAAAAAAAAAAAAAAAAAAAAAAAAAAAAAAAAAAAAAAAAAAAAAAAAAAAAAAAAAAAAAAAAAAAAAAAAAAAAAAAAAAAAAAAAAAAAAAAAAAAAAAAAAAAAAAAAAAAAAAAAAAAAAAAAAAAAAAAAAAAAAAAAAAAAAAAAAAAAAAAAAAAAAAAAAAAAAAAAAAAAAAAAAAAAAAAAAAAAAAAAAAAAAAAAAAAAAAAAAAAAAAAAAAAAAAAAAAAAAAAAAAAAAAAAAAAAAAAAAAAAAAAAAAAAAAAAAAAAAAAAAAAAAAAAAAAAAAAAAAAAAAAAAAAAAAAAAAAAAAAAAAAAAAAAAAAAAAAAAAAAAAAAAAAAAAAAAAAAAAAAAAAAAAAAAAAAAAAAAAAAAAAAAAAAAAAAAAAAAAAAAAAAAAAAAAAAAAAAAAAAAAAAAAAAAAAAAAAAAAAAAAAAAAAAAAAAAAAAAAAAAAAAAAAAAAAAAAAAAAAAAAAAAAAAAAAAAAAAAAAAAAAAAAAAAAAAAAAAAAAAAAAAAAAAAAAAAAAAAAAAAAAAAAAAAAAAAAAAAAAAAAAAAAAAAAAAAAAAAAAAAAAAAAAAAAAAAAAAAAAAAAAAAAAAAAAAAAAAAAAAAAAAAAAAAAAAAAAAAAAAAAAAAAAAAAAAAAAAAAAAAAAAAAAAAAAAAAAAAAAAAAAAAAAAAAAAAAAAAAAAAAAAAAAAAAAAAAAAAAAAAAAAAAAAAAAAAAAAAAAAAAAAAAAAAAAAAAAAAAAAAAAAAAAAAAAAAAAAAAAAAAAAAAAAAAAAAAAAAAAAAAAAAAAAAAAAAAAAAAAAAAAAAAAAAAAAAAAAAAAAAAAAAAAAAAAAAAAAAAAAAAAAAAAAAAAAAAAAAAAAAAAAAAAAAAAAAAAAAAAAAAAAAAAAAAAAAAAAAAAAAAAAAAAAAAAAAAAAAAAAAAAAAAAAAAAAAAAAAAAAAAAAAAAAAAAAAAAAAAAAAAAAAAAAAAAAAAAAAAAAAAAAAAAAAAAAAAAAAAAAAAAAAAAAAAAAAAAAAAAAAAAAAAAAAAAAAAAAAAAAAAAAAAAAAAAAAAAAAAAAAAAAAAAAAAAAAAAAAAAAAAAAAAAAAAAAAAAAAAAAAAAAAAAAAAAAAAAAAAAAAAAAAAAAAAAAAAAAAAAAAAAAAAAAAAAAAAAAAAAAAAAAAAAAAAAAAAAAAAAAAAAAAAAAAAAAAAAAAAAAAAAAAAAAAAAAAAAAAAAAAAAAAAAAAAAAAAAAAAAAAAAAAAAAAAAAAAAAAAAAAAAAAAAAAAAAAAAAAAAAAAAAAAAAAAAAAAAAAAAAAAAAAAAAAAAAAAAAAAAAAAAAAAAAAAAAAAAAAAAAAAAAAAAAAAAAAAAAAAAAAAAAAAAAAAAAAAAAAAAAAAAAAAAAAAAAAAAAAAAAAAAAAAAAAAAAAAAAAAAAAAAAAAAAAAAAAAAAAAAAAAAAAAAAAAAAAAAAAAAAAAAAAAAAAAAAAAAAAAAAAAAAAAAAAAAAAAAAAAAAAAAAAAAAAAAAAAAAAAAAAAAAAAAAAAAAAAAAAAAAAAAAAAAAAAAAAAAAAAAAAAAAAAAAAAAAAAAAAAAAAAAAAAAAAAAAAAAAAAAAAAAAAAAAAAAAAAAAAAAAAAAAAAAAAAAAAAAAAAAAAAAAAAAAAAAAAAAAAAAAAAAAAAAAAAAAAAAAAAAAAAAAAAAAAAAAAAAAAAAAAAAAAAAAAAAAAAAAAAAAAAAAAAAAAAAAAAAAAAAAAAAAAAAAAAAAAAAAAAAAAAAAAAAAAAAAAAAAAAAAAAAAAAAAAAAAAAAAAAAAAAAAAAAAAAAAAAAAAAAAAAAAAAAAAAAAAAAAAAAAAAAAAAAAAAAAAAAAAAAAAAAAAAAAAAAAAAAAAAAAAAAAAAAAAAAAAAAAAAAAAAAAAAAAAAAAAAAAAAAAAAAAAAAAAAAAAAAAAAAAAAAAAAAAAAAAAAAAAAAAAAAAAAAAAAAAAAAAAAAAAAAAAAAAAAAAAAAAAAAAAAAAAAAAAAAAAAAAAAAAAAAAAAAAAAAAAAAAAAAAAAAAAAAAAAAAAAAAAAAAAAAAAAAAAAAAAAAAAAAAAAAAAAAAAAAAAAAAAAAAAAAAAAAAAAAAAAAAAAAAAAAAAAAAAAAAAAAAAAAAAAAAAAAAAAAAAAAAAAAAAAAAAAAAAAAAAAAAAAAAAAAAAAAAAAAAAAAAAAAAAAAAAAAAAAAAAAAAAAAAAAAAAAAAAAAAAAAAAAAAAAAAAAAAAAAAAAAAAAAAAAAAAAAAAAAAAAAAAAAAAAAAAAAAAAAAAAAAAAAAAAAAAAAAAAAAAAAAAAAAAAAAAAAAAAAAAAAAAAAAAAAAAAAAAAAAAAAAAAAAAAAAAAAAAAAAAAAAAAAAAAAAAAAAAAAAAAAAAAAAAAAAAAAAAAAAAAAAAAAAAAAAAAAAAAAAAAAAAAAAAAAAAAAAAAAAAAAAAAAAAAAAAAAAAAAAAAAAAAAAAAAAAAAAAAAAAAAAAAAAAAAAAAAAAAAAAAAAAAAAAAAAAAAAAAAAAAAAAAAAAAAAAAAAAAAAAAAAAAAAAAAAAAAAAAAAAAAAAAAAAAAAAAAAAAAAAAAAAAAAAAAAAAAAAAAAAAAAAAAAAAAAAAAAAAAAAAAAAAAAAAAAAAAAAAAAAAAAAAAAAAAAAAAAAAAAAAAAAAAAAAAAAAAAAAAAAAAAAAAAAAAAAAAAAAAAAAAAAAAAAAAAAAAAAAAAAAAAAAAAAAAAAAAAAAAAAAAAAAAAAAAAAAAAAAAAAAAAAAAAAAAAAAAAAAAAAAAAAAAAAAAAAAAAAAAAAAAAAAAAAAAAAAAAAAAAAAAAAAAAAAAAAAAAAAAAAAAAAAAAAAAAAAAAAAAAAAAAAAAAAAAAAAAAAAAAAAAAAAAAAAAAAAAAAAAAAAAAAAAAAAAAAAAAAAAAAAAAAAAAAAAAAAAAAAAAAAAAAAAAAAAAAAAAAAAAAAAAAAAAAAAAAAAAAAAAAAAAAAAAAAAAAAAAAAAAAAAAAAAAAAAAAAAAAAAAAAAAAAAAAAAAAAAAAAAAAAAAAAAAAAAAAAAAAAAAAAAAAAAAAAAAAAAAAAAAAAAAAAAAAAAAAAAAAAAAAAAAAAAAAAAAAAAAAAAAAAAAAAAAAAAAAAAAAAAAAAAAAAAAAAAAAAAAAAAAAAAAAAAAAAAAAAAAAAAAAAAAAAAAAAAAAAAAAAAAAAAAAAAAAAAAAAAAAAAAAAAAAAAAAAAAAAAAAAAAAAAAAAAAAAAAAAAAAAAAAAAAAAAAAAAAAAAAAAAAAAAAAAAAAAAAAAAAAAAAAAAAAAAAAAAAAAAAAAAAAAAAAAAAAAAAAAAAAAAAAAAAAAAAAAAAAAAAAAAAAAAAAAAAAAAAAAAAAAAAAAAAAAAAAAAAAAAAAAAAAAAAAAAAAAAAAAAAAAAAAAAAAAAAAAAAAAAAAAAAAAAAAAAAAAAAAAAAAAAAAAAAAAAAAAAAAAAAAAAAAAAAAAAAAAAAAAAAAAAAAAAAAAAAAAAAAAAAAAAAAAAAAAAAAAAAAAAAAAAAAAAAAAAAAAAAAAAAAAAAAAAAAAAAAAAAAAAAAAAAAAAAAAAAAAAAAAAAAAAAAAAAAAAAAAAAAAAAAAAAAAAAAAAAAAAAAAAAAAAAAAAAAAAAAAAAAAAAAAAAAAAAAAAAAAAAAAAAAAAAAAAAAAAAAAAAAAAAAAAAAAAAAAAAAAAAAAAAAAAAAAAAAAAAAAAAAAAAAAAAAAAAAAAAAAAAAAAAAAAAAAAAAAAAAAAAAAAAAAAAAAAAAAAAAAAAAAAAAAAAAAAAAAAAAAAAAAAAAAAAAAAAAAAAAAAAAAAAAAAAAAAAAAAAAAAAAAAAAAAAAAAAAAAAAAAAAAAAAAAAAAAAAAAAAAAAAAAAAAAAAAAAAAAAAAAAAAAAAAAAAAAAAAAAAAAAAAAAAAAAAAAAAAAAAAAAAAAAAAAAAAAAAAAAAAAAAAAAAAAAAAAAAAAAAAAAAAAAAAAAAAAAAAAAAAAAAAAAAAAAAAAAAAAAAAAAAAAAAAAAAAAAAAAAAAAAAAAAAAAAAAAAAAAAAAAAAAAAAAAAAAAAAAAAAAAAAAAAAAAAAAAAAAAAAAAAAAAAAAAAAAAAAAAAAAAAAAAAAAAAAAAAAAAAAAAAAAAAAAAAAAAAAAAAAAAAAAAAAAAAAAAAAAAAAAAAAAAAAAAAAAAAAAAAAAAAAAAAAAAAAAAAAAAAAAAAAAAAAAAAAAAAAAAAAAAAAAAAAAAAAAAAAAAAAAAAAAAAAAAAAAAAAAAAAAAAAAAAAAAAAAAAAAAAAAAAAAAAAAAAAAAAAAAAAAAAAAAAAAAAAAAAAAAAAAAAAAAAAAAAAAAAAAAAAAAAAAAAAAAAAAAAAAAAAAAAAAAAAAAAAAAAAAAAAAAAAAAAAAAAAAAAAAAAAAAAAAAAAAAAAAAAAAAAAAAAAAAAAAAAAAAAAAAAAAAAAAAAAAAAAAAAAAAAAAAAAAAAAAAAAAAAAAAAAAAAAAAAAAAAAAAAAAAAAAAAAAAAAAAAAAAAAAAAAAAAAAAAAAAAAAAAAAAAAAAAAAAAAAAAAAAAAAAAAAAAAAAAAAAAAAAAAAAAAAAAAAAAAAAAAAAAAAAAAAAAAAAAAAAAAAAAAAAAAAAAAAAAAAAAAAAAAAAAAAAAAAAAAAAAAAAAAAAAAAAAAAAAAAAAAAAAAAAAAAAAAAAAAAAAAAAAAAAAAAAAAAAAAAAAAAAAAAAAAAAAAAAAAAAAAAAAAAAAAAAAAAAAAAAAAAAAAAAAAAAAAAAAAAAAAAAAAAAAAAAAAAAAAAAAAAAAAAAAAAAAAAAAAAAAAAAAAAAAAAAAAAAAAAAAAAAAAAAAAAAAAAAAAAAAAAAAAAAAAAAAAAAAAAAAAAAAAAAAAAAAAAAAAAAAAAAAAAAAAAAAAAAAAAAAAAAAAAAAAAAAAAAAAAAAAAAAAAAAAAAAAAAAAAAAAAAAAAAAAAAAAAAAAAAAAAAAAAAAAAAAAAAAAAAAAAAAAAAAAAAAAAAAAAAAAAAAAAAAAAAAAAAAAAAAAAAAAAAAAAAAAAAAAAAAAAAAAAAAAAAAAAAAAAAAAAAAAAAAAAAAAAAAAAAAAAAAAAAAAAAAAAAAAAAAAAAAAAAAAAAAAAAAAAAAAAAAAAAAAAAAAAAAAAAAAAAAAAAAAAAAAAAAAAAAAAAAAAAAA=\",\"dtype\":\"float64\",\"order\":\"little\",\"shape\":[1000]}},\"selected\":{\"id\":\"1661\"},\"selection_policy\":{\"id\":\"1662\"}},\"id\":\"1648\",\"type\":\"ColumnDataSource\"},{\"attributes\":{\"end\":10},\"id\":\"1618\",\"type\":\"Range1d\"},{\"attributes\":{},\"id\":\"1631\",\"type\":\"BasicTicker\"},{\"attributes\":{\"line_color\":\"#1f77b3\",\"line_width\":2,\"x\":{\"field\":\"x\"},\"y\":{\"field\":\"y\"}},\"id\":\"1649\",\"type\":\"Line\"},{\"attributes\":{\"axis\":{\"id\":\"1626\"},\"ticker\":null},\"id\":\"1629\",\"type\":\"Grid\"},{\"attributes\":{\"bottom_units\":\"screen\",\"fill_alpha\":0.5,\"fill_color\":\"lightgrey\",\"left_units\":\"screen\",\"level\":\"overlay\",\"line_alpha\":1.0,\"line_color\":\"black\",\"line_dash\":[4,4],\"line_width\":2,\"right_units\":\"screen\",\"syncable\":false,\"top_units\":\"screen\"},\"id\":\"1640\",\"type\":\"BoxAnnotation\"},{\"attributes\":{\"axis_label\":\"dimensionless time\",\"formatter\":{\"id\":\"1659\"},\"major_label_policy\":{\"id\":\"1660\"},\"ticker\":{\"id\":\"1627\"}},\"id\":\"1626\",\"type\":\"LinearAxis\"},{\"attributes\":{},\"id\":\"1622\",\"type\":\"LinearScale\"},{\"attributes\":{\"axis_label\":\"dimensionless y, z\",\"formatter\":{\"id\":\"1656\"},\"major_label_policy\":{\"id\":\"1657\"},\"ticker\":{\"id\":\"1631\"}},\"id\":\"1630\",\"type\":\"LinearAxis\"},{\"attributes\":{},\"id\":\"1624\",\"type\":\"LinearScale\"},{\"attributes\":{},\"id\":\"1620\",\"type\":\"DataRange1d\"},{\"attributes\":{},\"id\":\"1627\",\"type\":\"BasicTicker\"}],\"root_ids\":[\"1617\"]},\"title\":\"Bokeh Application\",\"version\":\"2.3.0\"}};\n",
       "  var render_items = [{\"docid\":\"509abf8b-109a-4510-857f-810da6e08500\",\"root_ids\":[\"1617\"],\"roots\":{\"1617\":\"7920c504-b49c-41f6-ac85-c97682175f4c\"}}];\n",
       "  root.Bokeh.embed.embed_items_notebook(docs_json, render_items);\n",
       "\n",
       "  }\n",
       "  if (root.Bokeh !== undefined) {\n",
       "    embed_document(root);\n",
       "  } else {\n",
       "    var attempts = 0;\n",
       "    var timer = setInterval(function(root) {\n",
       "      if (root.Bokeh !== undefined) {\n",
       "        clearInterval(timer);\n",
       "        embed_document(root);\n",
       "      } else {\n",
       "        attempts++;\n",
       "        if (attempts > 100) {\n",
       "          clearInterval(timer);\n",
       "          console.log(\"Bokeh: ERROR: Unable to run BokehJS code because BokehJS library is missing\");\n",
       "        }\n",
       "      }\n",
       "    }, 10, root)\n",
       "  }\n",
       "})(window);"
      ],
      "application/vnd.bokehjs_exec.v0+json": ""
     },
     "metadata": {
      "application/vnd.bokehjs_exec.v0+json": {
       "id": "1617"
      }
     },
     "output_type": "display_data"
    }
   ],
   "source": [
    "# Set up parameters for the pulse (on at t = 1, off at t = 1.05, x_0 = 2)\n",
    "x_args = (1.0, 0.05, 2.0)\n",
    "\n",
    "# Package parameters into a tuple\n",
    "args = (beta, gamma, n_x, n_y, x_pulse, x_args)\n",
    "\n",
    "# Integrate ODEs\n",
    "yz = scipy.integrate.odeint(cascade_rhs_x_fun, yz_0, t, args=args)\n",
    "\n",
    "# Pluck out y and z\n",
    "y, z = yz.transpose()\n",
    "\n",
    "# Plot the results\n",
    "p = bokeh.plotting.figure(\n",
    "    frame_width=450,\n",
    "    frame_height=250,\n",
    "    x_axis_label=\"dimensionless time\",\n",
    "    y_axis_label=\"dimensionless y, z\",\n",
    "    x_range=[0, 10],\n",
    ")\n",
    "\n",
    "# Populate glyphs\n",
    "p.line(t, y, line_width=2, color=colors[0], legend_label=\"y\")\n",
    "p.line(t, z, line_width=2, color=colors[1], legend_label=\"z\")\n",
    "\n",
    "# Place the legend\n",
    "p.legend.location = \"top_right\"\n",
    "\n",
    "# Show plot\n",
    "bokeh.io.show(p)"
   ]
  },
  {
   "cell_type": "markdown",
   "metadata": {},
   "source": [
    "Uh oh!  Something went wrong; the Y signal never went up at all! This exposes an important issue with the algorithm used by `scipy.integrate.odeint()`. The Hindmarsh-Petzold algorithm uses variable step sizes so that it takes long steps when the system is not changing much and short steps when it is. Therefore, if we have a long period of no changes (leading up to $t = 1$), the step sizes taken by the solver will increase, and we'll step right over the pulse.\n",
    "\n",
    "So, it is in general good practice to explicitly take into account discontinuities in the parameters over time. In this case, we would use `scipy.integrate.odeint()` to integrate to the pulse and use the end point of that as the initial condition of a new solution during the pulse. Then, at the end of the pulse, we start again.  Let's try again using this method."
   ]
  },
  {
   "cell_type": "code",
   "execution_count": 13,
   "metadata": {},
   "outputs": [
    {
     "data": {
      "text/html": [
       "\n",
       "\n",
       "\n",
       "\n",
       "\n",
       "\n",
       "  <div class=\"bk-root\" id=\"28bafb3a-164a-4736-a6ec-46cee124ed64\" data-root-id=\"1813\"></div>\n"
      ]
     },
     "metadata": {},
     "output_type": "display_data"
    },
    {
     "data": {
      "application/javascript": [
       "(function(root) {\n",
       "  function embed_document(root) {\n",
       "    \n",
       "  var docs_json = {\"dddf9e84-e290-42f8-bb3a-8ca214b590d2\":{\"defs\":[{\"extends\":null,\"module\":null,\"name\":\"DataModel\",\"overrides\":[],\"properties\":[]}],\"roots\":{\"references\":[{\"attributes\":{\"below\":[{\"id\":\"1822\"}],\"center\":[{\"id\":\"1825\"},{\"id\":\"1829\"},{\"id\":\"1860\"}],\"frame_height\":250,\"frame_width\":450,\"left\":[{\"id\":\"1826\"}],\"renderers\":[{\"id\":\"1847\"},{\"id\":\"1865\"}],\"title\":{\"id\":\"1850\"},\"toolbar\":{\"id\":\"1837\"},\"x_range\":{\"id\":\"1814\"},\"x_scale\":{\"id\":\"1818\"},\"y_range\":{\"id\":\"1816\"},\"y_scale\":{\"id\":\"1820\"}},\"id\":\"1813\",\"subtype\":\"Figure\",\"type\":\"Plot\"},{\"attributes\":{\"label\":{\"value\":\"y\"},\"renderers\":[{\"id\":\"1847\"}]},\"id\":\"1861\",\"type\":\"LegendItem\"},{\"attributes\":{\"line_alpha\":0.1,\"line_color\":\"#1f77b3\",\"line_width\":2,\"x\":{\"field\":\"x\"},\"y\":{\"field\":\"y\"}},\"id\":\"1846\",\"type\":\"Line\"},{\"attributes\":{\"data\":{\"x\":{\"__ndarray__\":\"AAAAAAAAAAAor6G8hvKqPyivobyG8ro/XkN5DeU1xD8or6G8hvLKP3kN5TWU19A/XkN5DeU11D9DeQ3lNZTXPyivobyG8to/DeU1lNdQ3j95DeU1lNfgP2wor6G8huI/XkN5DeU15D9QXkN5DeXlP0N5DeU1lOc/NpTXUF5D6T8or6G8hvLqPxrKayivoew/DeU1lNdQ7j8AAAAAAADwP2cJu/ktBPA/zxJ281sI8D82HDHtiQzwP54l7Oa3EPA/BS+n4OUU8D9tOGLaExnwP9RBHdRBHfA/PEvYzW8h8D+jVJPHnSXwPwpeTsHLKfA/cmcJu/kt8D/ZcMS0JzLwP0F6f65VNvA/qIM6qIM68D8QjfWhsT7wP3eWsJvfQvA/359rlQ1H8D9GqSaPO0vwP66y4YhpT/A/FbycgpdT8D98xVd8xVfwP+TOEnbzW/A/S9jNbyFg8D+z4YhpT2TwPxrrQ2N9aPA/gvT+XKts8D/p/blW2XDwP1EHdVAHdfA/uBAwSjV58D8fGutDY33wP4cjpj2RgfA/7ixhN7+F8D9WNhwx7YnwP70/1yobjvA/JUmSJEmS8D+MUk0ed5bwP/RbCBilmvA/W2XDEdOe8D/Dbn4LAaPwPyp4OQUvp/A/kYH0/lyr8D/5iq/4iq/wP2CUavK4s/A/yJ0l7Oa38D8vp+DlFLzwP5ewm99CwPA//rlW2XDE8D9mwxHTnsjwP83MzMzMzPA/ubOE3fwW8j+lmjzuLGHzP5KB9P5cq/Q/fmisD4319T9qT2QgvT/3P1Y2HDHtifg/Qh3UQR3U+T8uBIxSTR77PxrrQ2N9aPw/B9L7c62y/T/zuLOE3fz+P/DPtcqGIwBAZsMR057IAEDctm3btm0BQFKqyePOEgJAyJ0l7Oa3AkA+kYH0/lwDQLSE3fwWAgRAKng5BS+nBECga5UNR0wFQBZf8RVf8QVAjFJNHneWBkACRqkmjzsHQHg5BS+n4AdA7ixhN7+FCEBkIL0/1yoJQNwTGUjvzwlAUgd1UAd1CkDI+tBYHxoLQD7uLGE3vwtAtOGIaU9kDEAq1eRxZwkNQKDIQHp/rg1AFrycgpdTDkCMr/iKr/gOQAKjVJPHnQ9APEvYzW8hEED3RAbS+3MQQLI+NNaHxhBAbThi2hMZEUAoMpDen2sRQOMrvuIrvhFAniXs5rcQEkBZHxrrQ2MSQBQZSO/PtRJAzxJ281sIE0CKDKT351oTQEUG0vtzrRNAAAAAAAAAFEA=\",\"dtype\":\"float64\",\"order\":\"little\",\"shape\":[118]},\"y\":{\"__ndarray__\":\"AAAAAAAAAAAAAAAAAAAAAAAAAAAAAAAAAAAAAAAAAAAAAAAAAAAAAAAAAAAAAAAAAAAAAAAAAAAAAAAAAAAAAAAAAAAAAAAAAAAAAAAAAAAAAAAAAAAAAAAAAAAAAAAAAAAAAAAAAAAAAAAAAAAAAAAAAAAAAAAAAAAAAAAAAAAAAAAAAAAAAAAAAAAAAAAAAAAAAAAAAAAAAAAAAAAAAKBaU3RThQ8+/vp9gE9RMz6/NE6VEipHPlx6jJsQVFU+IKqyu8e5Yj5wkQePONpuPqp24mOthXc+hnDW5lYOgD7LYY/tsmiHPlEG5H+vBpA+hHMAjtUUlT7ojhn3kv2aPmAnAOpd8qA+1tHG8SHypD7Gum8LB4upPgrSia/+ya4+GwZSK/1dsj46rKa89ba1PgVWCshhdrk+tHrECbqivT4SSg6fOyHBPk8OrRAJrsM+WEMVYZd6xj7cqQwlmIfJPuR2vE5Q18w+INT0Ryw20D48nCzNpCTSPtIS6A9eONQ+AbUJaaRy1j5kAXQxxNTYPrl2CcIJYNs++glqQsAV3j5WyiEBj3vgPuSdozWxAuI+gj8s2+mg4z6GbS0O3FblPtznGOsqJec+x2xgjnkM6T5LvHUUaw3rPpCUypmiKO0+WGIXL8Ne7z51aki1LtjwPpK/LlEAD/I+kmjzlyRU8z5UHEu26af0PvSS6tidCvY+Q4OGLI989z5spdPdC/74PjGwhhlij/o+GUjsqmlMIT89C9Pg4xMsP9MtfkIYHDI/6X6jRCMZNT/mtczMpDM3P+B1arcQljg/A7qrrNhjOT8rT4w2iLo5P6v48v+Lsjk/e9HzU3lgOT9LJNWCJtU4PwJQ2Px3Hjg/VHXNOdVHNz+chXIgk1o2P0nJKTRNXjU/sfyjgyNZND9LoUxR/U8zP+GZ7znMRjI/mhf3HqxAMT/iAhqb7j8wP2Z92QKwjC4/2JNleZGqLD/Y76bZV9sqP9UG1l1ZICk/AKSoUFd6Jz/gPu8LseklPxyuBypobiQ/mhLsEkcIIz/CdsKM5LYhP8fwH9GweSA/Aj69j/ufHj+VCOwBGXIcPxK1VdoeaBo/EtlcYUuAGD/jFnow5bgWP9Aq0xxBEBU/qunM4qOEEz9OLEX+XxQSP69qxLbbvRA/KLTbUf7+Dj8jLiWUh68MP4ufHrB1igo/VDfD6PuMCD80/j10crQGP0EWpOZj/gQ/Fp9aRnVoAz9zwCEwbvABP6icUo46lAA/5nwEbsWj/j4=\",\"dtype\":\"float64\",\"order\":\"little\",\"shape\":[118]}},\"selected\":{\"id\":\"1877\"},\"selection_policy\":{\"id\":\"1878\"}},\"id\":\"1862\",\"type\":\"ColumnDataSource\"},{\"attributes\":{\"line_color\":\"#1f77b3\",\"line_width\":2,\"x\":{\"field\":\"x\"},\"y\":{\"field\":\"y\"}},\"id\":\"1845\",\"type\":\"Line\"},{\"attributes\":{},\"id\":\"1877\",\"type\":\"Selection\"},{\"attributes\":{\"data_source\":{\"id\":\"1844\"},\"glyph\":{\"id\":\"1845\"},\"hover_glyph\":null,\"muted_glyph\":null,\"nonselection_glyph\":{\"id\":\"1846\"},\"view\":{\"id\":\"1848\"}},\"id\":\"1847\",\"type\":\"GlyphRenderer\"},{\"attributes\":{},\"id\":\"1852\",\"type\":\"BasicTickFormatter\"},{\"attributes\":{},\"id\":\"1878\",\"type\":\"UnionRenderers\"},{\"attributes\":{\"axis_label\":\"dimensionless y, z\",\"formatter\":{\"id\":\"1852\"},\"major_label_policy\":{\"id\":\"1853\"},\"ticker\":{\"id\":\"1827\"}},\"id\":\"1826\",\"type\":\"LinearAxis\"},{\"attributes\":{},\"id\":\"1853\",\"type\":\"AllLabels\"},{\"attributes\":{\"data_source\":{\"id\":\"1862\"},\"glyph\":{\"id\":\"1863\"},\"hover_glyph\":null,\"muted_glyph\":null,\"nonselection_glyph\":{\"id\":\"1864\"},\"view\":{\"id\":\"1866\"}},\"id\":\"1865\",\"type\":\"GlyphRenderer\"},{\"attributes\":{\"bottom_units\":\"screen\",\"fill_alpha\":0.5,\"fill_color\":\"lightgrey\",\"left_units\":\"screen\",\"level\":\"overlay\",\"line_alpha\":1.0,\"line_color\":\"black\",\"line_dash\":[4,4],\"line_width\":2,\"right_units\":\"screen\",\"syncable\":false,\"top_units\":\"screen\"},\"id\":\"1836\",\"type\":\"BoxAnnotation\"},{\"attributes\":{\"data\":{\"x\":{\"__ndarray__\":\"AAAAAAAAAAAor6G8hvKqPyivobyG8ro/XkN5DeU1xD8or6G8hvLKP3kN5TWU19A/XkN5DeU11D9DeQ3lNZTXPyivobyG8to/DeU1lNdQ3j95DeU1lNfgP2wor6G8huI/XkN5DeU15D9QXkN5DeXlP0N5DeU1lOc/NpTXUF5D6T8or6G8hvLqPxrKayivoew/DeU1lNdQ7j8AAAAAAADwP2cJu/ktBPA/zxJ281sI8D82HDHtiQzwP54l7Oa3EPA/BS+n4OUU8D9tOGLaExnwP9RBHdRBHfA/PEvYzW8h8D+jVJPHnSXwPwpeTsHLKfA/cmcJu/kt8D/ZcMS0JzLwP0F6f65VNvA/qIM6qIM68D8QjfWhsT7wP3eWsJvfQvA/359rlQ1H8D9GqSaPO0vwP66y4YhpT/A/FbycgpdT8D98xVd8xVfwP+TOEnbzW/A/S9jNbyFg8D+z4YhpT2TwPxrrQ2N9aPA/gvT+XKts8D/p/blW2XDwP1EHdVAHdfA/uBAwSjV58D8fGutDY33wP4cjpj2RgfA/7ixhN7+F8D9WNhwx7YnwP70/1yobjvA/JUmSJEmS8D+MUk0ed5bwP/RbCBilmvA/W2XDEdOe8D/Dbn4LAaPwPyp4OQUvp/A/kYH0/lyr8D/5iq/4iq/wP2CUavK4s/A/yJ0l7Oa38D8vp+DlFLzwP5ewm99CwPA//rlW2XDE8D9mwxHTnsjwP83MzMzMzPA/ubOE3fwW8j+lmjzuLGHzP5KB9P5cq/Q/fmisD4319T9qT2QgvT/3P1Y2HDHtifg/Qh3UQR3U+T8uBIxSTR77PxrrQ2N9aPw/B9L7c62y/T/zuLOE3fz+P/DPtcqGIwBAZsMR057IAEDctm3btm0BQFKqyePOEgJAyJ0l7Oa3AkA+kYH0/lwDQLSE3fwWAgRAKng5BS+nBECga5UNR0wFQBZf8RVf8QVAjFJNHneWBkACRqkmjzsHQHg5BS+n4AdA7ixhN7+FCEBkIL0/1yoJQNwTGUjvzwlAUgd1UAd1CkDI+tBYHxoLQD7uLGE3vwtAtOGIaU9kDEAq1eRxZwkNQKDIQHp/rg1AFrycgpdTDkCMr/iKr/gOQAKjVJPHnQ9APEvYzW8hEED3RAbS+3MQQLI+NNaHxhBAbThi2hMZEUAoMpDen2sRQOMrvuIrvhFAniXs5rcQEkBZHxrrQ2MSQBQZSO/PtRJAzxJ281sIE0CKDKT351oTQEUG0vtzrRNAAAAAAAAAFEA=\",\"dtype\":\"float64\",\"order\":\"little\",\"shape\":[118]},\"y\":{\"__ndarray__\":\"AAAAAAAAAAAAAAAAAAAAAAAAAAAAAAAAAAAAAAAAAAAAAAAAAAAAAAAAAAAAAAAAAAAAAAAAAAAAAAAAAAAAAAAAAAAAAAAAAAAAAAAAAAAAAAAAAAAAAAAAAAAAAAAAAAAAAAAAAAAAAAAAAAAAAAAAAAAAAAAAAAAAAAAAAAAAAAAAAAAAAAAAAAAAAAAAAAAAAAAAAAAAAAAAAAAAANzy8RVLvEo/PthZSNa4Wj+pSbA3BQhkP0II6QbhsWo/aADc0f+scD/rJQjOMAB0PxLz+HeDUnc/FAm30/ajej//JOZ5jvR9PyVZyhMkooA/x01dC5JJgj9EyfxLkfCDP8QvBQUil4U/LpMLWEQ9hz/ElY1m+OKIPzTYCFI+iIo/vvz6OxYtjD8RpOFFgNGNP29wOpF8dY8/Q4HBn4WMkD8Zfhw5Fl6RP6f/bCVwL5I/T7inc5MAkz/q1JcpgNGTPyE80lM2opQ/5qBUALZylT9htRw9/0KWP4YsKBgSE5c/fbh0n+7ilz8GDADhlLKYP+HZx+oEgpk/jyXRyj5Rmj8b3KCPQiCbP3EPhEcQ75s/yQieAKi9nD+TEBLJCYydPwdwA681Wp4/l2+VwCsonz95WOsL7PWfP485lE+7YaA/4uY3xGXIoD/t2sNq9S6hP/YYGEpqlaE/K001acT7oT9bIxzPA2KiP7VHzYIoyKI/BWZJizIuoz98KpHvIZSjP+ZApbb2+aM/8foWguVtoj8sRLGDgAChP25Gn0bQXp8/roU9KdbwnD+ZV78tCLOaP7bu8O6qoZg/pVugPU25lj9WmyYxwvaUP3bGmKwcV5M/B/kV5KfXkT+sX5615XWQP5xIEcoSX44/Fb6plucEjD+oKr6PX9mJP0Se6ujd2Ic/kuyLqQ0Ahj84qW8F3EuEP2lJ8pRyuYI/RtNDNzNGgT+UY7wBad9/P8h98lZ5Z30/4IMv6Xogez9imPHSowZ5Pw9r1lR0Fnc/JVP6m7JMdT+mV++eZKZzP2q2j7fLIHI/5WrqU1+5cD95QVRdkttuPwCBQqHCd2w/jsHhLVVDaj9QmrM9njpoPwRFm+U6WmY/4uzRiQyfZD8krU+IMQZjP/3TZowAjWE/lWj+SwYxYD+q7LpD/99dP2mz/x6rj1s/K4x9EDdtWT/vA67mFXVXPxrwXGj/o1U/ACT0OO72Uz9aQODAGGtSP4UF0RXr/VA/kynUcQtaTz/EQaCHcOxMP2BLC1r5rko/+wtDBuydSD8=\",\"dtype\":\"float64\",\"order\":\"little\",\"shape\":[118]}},\"selected\":{\"id\":\"1857\"},\"selection_policy\":{\"id\":\"1858\"}},\"id\":\"1844\",\"type\":\"ColumnDataSource\"},{\"attributes\":{\"end\":5},\"id\":\"1814\",\"type\":\"Range1d\"},{\"attributes\":{},\"id\":\"1820\",\"type\":\"LinearScale\"},{\"attributes\":{},\"id\":\"1818\",\"type\":\"LinearScale\"},{\"attributes\":{},\"id\":\"1833\",\"type\":\"SaveTool\"},{\"attributes\":{\"source\":{\"id\":\"1844\"}},\"id\":\"1848\",\"type\":\"CDSView\"},{\"attributes\":{},\"id\":\"1816\",\"type\":\"DataRange1d\"},{\"attributes\":{\"axis_label\":\"dimensionless time\",\"formatter\":{\"id\":\"1855\"},\"major_label_policy\":{\"id\":\"1856\"},\"ticker\":{\"id\":\"1823\"}},\"id\":\"1822\",\"type\":\"LinearAxis\"},{\"attributes\":{},\"id\":\"1823\",\"type\":\"BasicTicker\"},{\"attributes\":{\"axis\":{\"id\":\"1822\"},\"ticker\":null},\"id\":\"1825\",\"type\":\"Grid\"},{\"attributes\":{},\"id\":\"1831\",\"type\":\"WheelZoomTool\"},{\"attributes\":{},\"id\":\"1855\",\"type\":\"BasicTickFormatter\"},{\"attributes\":{},\"id\":\"1856\",\"type\":\"AllLabels\"},{\"attributes\":{\"axis\":{\"id\":\"1826\"},\"dimension\":1,\"ticker\":null},\"id\":\"1829\",\"type\":\"Grid\"},{\"attributes\":{},\"id\":\"1827\",\"type\":\"BasicTicker\"},{\"attributes\":{\"label\":{\"value\":\"z\"},\"renderers\":[{\"id\":\"1865\"}]},\"id\":\"1880\",\"type\":\"LegendItem\"},{\"attributes\":{\"active_multi\":null,\"tools\":[{\"id\":\"1830\"},{\"id\":\"1831\"},{\"id\":\"1832\"},{\"id\":\"1833\"},{\"id\":\"1834\"},{\"id\":\"1835\"}]},\"id\":\"1837\",\"type\":\"Toolbar\"},{\"attributes\":{\"line_color\":\"#ff7e0e\",\"line_width\":2,\"x\":{\"field\":\"x\"},\"y\":{\"field\":\"y\"}},\"id\":\"1863\",\"type\":\"Line\"},{\"attributes\":{},\"id\":\"1835\",\"type\":\"HelpTool\"},{\"attributes\":{},\"id\":\"1857\",\"type\":\"Selection\"},{\"attributes\":{},\"id\":\"1830\",\"type\":\"PanTool\"},{\"attributes\":{\"source\":{\"id\":\"1862\"}},\"id\":\"1866\",\"type\":\"CDSView\"},{\"attributes\":{},\"id\":\"1858\",\"type\":\"UnionRenderers\"},{\"attributes\":{\"overlay\":{\"id\":\"1836\"}},\"id\":\"1832\",\"type\":\"BoxZoomTool\"},{\"attributes\":{},\"id\":\"1834\",\"type\":\"ResetTool\"},{\"attributes\":{\"items\":[{\"id\":\"1861\"},{\"id\":\"1880\"}]},\"id\":\"1860\",\"type\":\"Legend\"},{\"attributes\":{\"line_alpha\":0.1,\"line_color\":\"#ff7e0e\",\"line_width\":2,\"x\":{\"field\":\"x\"},\"y\":{\"field\":\"y\"}},\"id\":\"1864\",\"type\":\"Line\"},{\"attributes\":{},\"id\":\"1850\",\"type\":\"Title\"}],\"root_ids\":[\"1813\"]},\"title\":\"Bokeh Application\",\"version\":\"2.3.0\"}};\n",
       "  var render_items = [{\"docid\":\"dddf9e84-e290-42f8-bb3a-8ca214b590d2\",\"root_ids\":[\"1813\"],\"roots\":{\"1813\":\"28bafb3a-164a-4736-a6ec-46cee124ed64\"}}];\n",
       "  root.Bokeh.embed.embed_items_notebook(docs_json, render_items);\n",
       "\n",
       "  }\n",
       "  if (root.Bokeh !== undefined) {\n",
       "    embed_document(root);\n",
       "  } else {\n",
       "    var attempts = 0;\n",
       "    var timer = setInterval(function(root) {\n",
       "      if (root.Bokeh !== undefined) {\n",
       "        clearInterval(timer);\n",
       "        embed_document(root);\n",
       "      } else {\n",
       "        attempts++;\n",
       "        if (attempts > 100) {\n",
       "          clearInterval(timer);\n",
       "          console.log(\"Bokeh: ERROR: Unable to run BokehJS code because BokehJS library is missing\");\n",
       "        }\n",
       "      }\n",
       "    }, 10, root)\n",
       "  }\n",
       "})(window);"
      ],
      "application/vnd.bokehjs_exec.v0+json": ""
     },
     "metadata": {
      "application/vnd.bokehjs_exec.v0+json": {
       "id": "1813"
      }
     },
     "output_type": "display_data"
    }
   ],
   "source": [
    "# Integrate prior to pulse\n",
    "t_before_pulse = np.linspace(0, 1.0, 20)\n",
    "args = (beta, gamma, n_x, n_y, 0.0)\n",
    "yz_0 = np.array([0.0, 0.0])\n",
    "yz_before_pulse = scipy.integrate.odeint(\n",
    "    cascade_rhs, yz_0, t_before_pulse, args=args\n",
    ")\n",
    "\n",
    "# Integrate during pulse\n",
    "t_during_pulse = np.linspace(1.0, 1.05, 50)\n",
    "args = (beta, gamma, n_x, n_y, 2.0)\n",
    "yz_0 = yz_before_pulse[-1]\n",
    "yz_during_pulse = scipy.integrate.odeint(\n",
    "    cascade_rhs, yz_0, t_during_pulse, args=args\n",
    ")\n",
    "\n",
    "# Integrate after pulse\n",
    "t_after_pulse = np.linspace(1.05, 5, 50)\n",
    "args = (beta, gamma, n_x, n_y, 0.0)\n",
    "yz_0 = yz_during_pulse[-1]\n",
    "yz_after_pulse = scipy.integrate.odeint(\n",
    "    cascade_rhs, yz_0, t_after_pulse, args=args\n",
    ")\n",
    "\n",
    "# Piece together solution\n",
    "t = np.concatenate((t_before_pulse, t_during_pulse[1:], t_after_pulse[1:]))\n",
    "yz = np.vstack(\n",
    "    (yz_before_pulse, yz_during_pulse[1:, :], yz_after_pulse[1:, :])\n",
    ")\n",
    "y, z = yz.transpose()\n",
    "\n",
    "# Plot the results\n",
    "p = bokeh.plotting.figure(\n",
    "    frame_width=450,\n",
    "    frame_height=250,\n",
    "    x_axis_label=\"dimensionless time\",\n",
    "    y_axis_label=\"dimensionless y, z\",\n",
    "    x_range=[0, 5],\n",
    ")\n",
    "\n",
    "# Populate glyphs\n",
    "p.line(t, y, line_width=2, color=colors[0], legend_label=\"y\")\n",
    "p.line(t, z, line_width=2, color=colors[1], legend_label=\"z\")\n",
    "\n",
    "# Place the legend\n",
    "p.legend.location = \"top_right\"\n",
    "\n",
    "# Show plot\n",
    "bokeh.io.show(p)"
   ]
  },
  {
   "cell_type": "markdown",
   "metadata": {},
   "source": [
    "Much better. Dealing with discontinuities like this while solving systems of ODEs are facilitated by **event handling**. Unfortunately, `scipy.integrate.odeint()` does not allow for event handling, and we need to take the less elegant approach we just showed.\n",
    "\n",
    "Note that `scipy.integrate.solve_ivp()` *does* have event handling capabilities. However, we will seldom need event handing for our purposes, and it is still advantageous to use `scipy.integrate.odeint()` due to its low overhead."
   ]
  },
  {
   "cell_type": "markdown",
   "metadata": {},
   "source": [
    "## Periodic input\n",
    "\n",
    "As our final variety of input, we will consider the case where we have periodic forcing of the circuit. We will do this for highly cooperative activation by Y, taking $n_y = 10$. Recall that this gives a longer time delay.\n",
    "\n",
    "We first write a function for the forcing, `x_fun`, which is periodic with frequency $f$."
   ]
  },
  {
   "cell_type": "code",
   "execution_count": 14,
   "metadata": {},
   "outputs": [
    {
     "data": {
      "text/html": [
       "\n",
       "\n",
       "\n",
       "\n",
       "\n",
       "\n",
       "  <div class=\"bk-root\" id=\"8dc51e27-e3ee-42b9-96fe-f19b1c236809\" data-root-id=\"2022\"></div>\n"
      ]
     },
     "metadata": {},
     "output_type": "display_data"
    },
    {
     "data": {
      "application/javascript": [
       "(function(root) {\n",
       "  function embed_document(root) {\n",
       "    \n",
       "  var docs_json = {\"31811981-7071-46c7-ae6c-6b6d2d513fe7\":{\"defs\":[{\"extends\":null,\"module\":null,\"name\":\"DataModel\",\"overrides\":[],\"properties\":[]}],\"roots\":{\"references\":[{\"attributes\":{\"below\":[{\"id\":\"2031\"}],\"center\":[{\"id\":\"2034\"},{\"id\":\"2038\"}],\"frame_height\":250,\"frame_width\":450,\"left\":[{\"id\":\"2035\"}],\"renderers\":[{\"id\":\"2056\"}],\"title\":{\"id\":\"2135\"},\"toolbar\":{\"id\":\"2046\"},\"x_range\":{\"id\":\"2023\"},\"x_scale\":{\"id\":\"2027\"},\"y_range\":{\"id\":\"2025\"},\"y_scale\":{\"id\":\"2029\"}},\"id\":\"2022\",\"subtype\":\"Figure\",\"type\":\"Plot\"},{\"attributes\":{},\"id\":\"2135\",\"type\":\"Title\"},{\"attributes\":{},\"id\":\"2044\",\"type\":\"HelpTool\"},{\"attributes\":{},\"id\":\"2039\",\"type\":\"PanTool\"},{\"attributes\":{},\"id\":\"2042\",\"type\":\"SaveTool\"},{\"attributes\":{\"overlay\":{\"id\":\"2045\"}},\"id\":\"2041\",\"type\":\"BoxZoomTool\"},{\"attributes\":{\"axis_label\":\"dimensionless y, z\",\"formatter\":{\"id\":\"2137\"},\"major_label_policy\":{\"id\":\"2138\"},\"ticker\":{\"id\":\"2036\"}},\"id\":\"2035\",\"type\":\"LinearAxis\"},{\"attributes\":{},\"id\":\"2029\",\"type\":\"LinearScale\"},{\"attributes\":{},\"id\":\"2043\",\"type\":\"ResetTool\"},{\"attributes\":{},\"id\":\"2138\",\"type\":\"AllLabels\"},{\"attributes\":{},\"id\":\"2025\",\"type\":\"DataRange1d\"},{\"attributes\":{},\"id\":\"2032\",\"type\":\"BasicTicker\"},{\"attributes\":{},\"id\":\"2137\",\"type\":\"BasicTickFormatter\"},{\"attributes\":{},\"id\":\"2140\",\"type\":\"BasicTickFormatter\"},{\"attributes\":{},\"id\":\"2141\",\"type\":\"AllLabels\"},{\"attributes\":{\"bottom_units\":\"screen\",\"fill_alpha\":0.5,\"fill_color\":\"lightgrey\",\"left_units\":\"screen\",\"level\":\"overlay\",\"line_alpha\":1.0,\"line_color\":\"black\",\"line_dash\":[4,4],\"line_width\":2,\"right_units\":\"screen\",\"syncable\":false,\"top_units\":\"screen\"},\"id\":\"2045\",\"type\":\"BoxAnnotation\"},{\"attributes\":{\"axis\":{\"id\":\"2035\"},\"dimension\":1,\"ticker\":null},\"id\":\"2038\",\"type\":\"Grid\"},{\"attributes\":{},\"id\":\"2142\",\"type\":\"Selection\"},{\"attributes\":{},\"id\":\"2143\",\"type\":\"UnionRenderers\"},{\"attributes\":{},\"id\":\"2027\",\"type\":\"LinearScale\"},{\"attributes\":{\"source\":{\"id\":\"2053\"}},\"id\":\"2057\",\"type\":\"CDSView\"},{\"attributes\":{\"data_source\":{\"id\":\"2053\"},\"glyph\":{\"id\":\"2054\"},\"hover_glyph\":null,\"muted_glyph\":null,\"nonselection_glyph\":{\"id\":\"2055\"},\"view\":{\"id\":\"2057\"}},\"id\":\"2056\",\"type\":\"GlyphRenderer\"},{\"attributes\":{\"axis_label\":\"dimensionless time\",\"formatter\":{\"id\":\"2140\"},\"major_label_policy\":{\"id\":\"2141\"},\"ticker\":{\"id\":\"2032\"}},\"id\":\"2031\",\"type\":\"LinearAxis\"},{\"attributes\":{\"line_alpha\":0.1,\"line_color\":\"#2ba02b\",\"line_width\":2,\"x\":{\"field\":\"x\"},\"y\":{\"field\":\"y\"}},\"id\":\"2055\",\"type\":\"Line\"},{\"attributes\":{\"data\":{\"x\":{\"__ndarray__\":\"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\",\"dtype\":\"float64\",\"order\":\"little\",\"shape\":[500]},\"y\":{\"__ndarray__\":\"AAAAAAAAAEB/Rx0CvJkBQDYX28RbLwNALIcml828BEBK+mnJFD4GQDnOy+pTrwdAfFMvttYMCUDYcnqVG1MKQEHtsaLcfgtA0mjMDxiNDECqJabfF3sNQEJNQNx4Rg5AeNVquDDtDkA44RlNk20PQMzp8eRWxg9AcOsCi5f2D0AoEzRU2f0PQGx/gJ0J3A9AFM7TO3+RD0CCjQud+R4PQCg+WtyehQ5AOWr6zvjGDUBfh8UQ8eQMQFUP1BrM4QtAXObDcCPACkBubJnz3oIJQLhzYGstLQhA9Cy3WnzCBkCkuEAxb0YFQG/CmvPVvANAXDPVcKMpAkARD5Ee45AAQOYIomtd7f0/XZtRVke++j8iG606sZz3P1bs06qlkPQ/XeDf5veh8T/4m5yIX7DtP4rALa7sdOg/bkw1HAef4z8Q85PIM3beP0zSNs/WqNY/gJR+iQHUzz9I3RjFCJbEPwA+H5hEabc/wMdy8XEapT+AOuhXqMeFPwAA3OEigOI+gOQo7pFYgz+gIxbHduSjP8A/0EO6grY/yE18QiX+wz+wcfy/BRnPP/iqJeC8OtY/CHYWkJj43T+INYAkGlnjP5RL3O6TKOg/6KP1El9e7T8jTHgcjXbxP07u+NA/Y/Q/gKCw58Rt9z+h2U0LTY76P35DAV/QvP0/d/QYj5F4AEDpgTNMhRECQKrYwSkppQNA9TQHj3AvBUAhirPtZqwGQE89Qeo5GAhAUIN/LENvCUC+3xS/Ea4KQOmJ5+Vy0QtAnJS5VHrWDEDjFuGwiboNQLEg1UpXew5AxVRK/vMWD0A6asgp0IsPQNQA97C/2A9ASB5W//z8D0DSBqcDK/gPQBVa7h5Wyg9AJKepBPRzD0DuG4qM4vUOQOiUvHhlUQ5Axid2NiOIDUDibRyhIJwMQA+Q69K7jwtAH+BqEKZlCkC/ZU3e3CAJQLJBgFOixAdALLAfu3RUBkCIsM+bBdQEQNxngjswRwNAoDgIuO+xAUBR3tjNVBgAQDrArc72/Pw/rIa6HgDR+T8ERWLE6rT2P5ze6S+zsPM/gUnzhhjM8D8czw5/ER3sP2pVPRcb/uY/YNdQjHRI4j9URu4/bBDcP7i+OiCVkNQ/4AvPNkxJzD8oOxMHOrrBP9CDFAMjHrM/gDV9+Wfmnj8AWMw/sEF2PwCwyk4j9UY/gAcMhpFokD8gi221bD2qPwCzKoJ3JLs/cJOndbIDxz9Uxhh6v2XRP+gyfyawZdg/uP5cqtg34D/+PynojrfkP6IiWhBtpuk/giVp8Mf37j8F8j+0+07yP+JE+L48RfU/xEaUzgtX+D8rirfVhnz7P7SoDEKZrf4/InFOXgjxAEBUOE0b2YgCQF0+R4YnGgRAghPRBO2gBUC2/IUKPhkHQCrNQypUfwhAXDoRyJfPCUCM2MhSqQYLQNaz1+1pIQxAWxXQdAMdDUAQxTvE7/YNQCKx+DT/rA5Ag4p6OV49D0CASYYOmqYPQMj6W3Ok5w9ADY/BX9b/D0ApS/iw8e4PQGs6T8khtQ9AQNa4IPtSD0DxA4LHeckOQGSY/d7+GQ5Al82iDk1GDUAkpbf+g1AMQCNkI+QaOwtAorZqK9oICkCwcBhT1LwIQKKJ7QdeWgdASnEblwXlBUDwV4DMiWAEQJETWVTQ0AJA3iAcuds5AUD6TGMugj//PziH9UE7Dfw/O90pHBjl+D+m8/YhNM/1P/b4Mdx70/I/6vYRPDHz7z+i4i6wuZHqP8bAOJVikOU/vg45jgb84D9sjAe80MDZP/hYb2YpkNI/iHtCQhzxyD/gDPy4kCa+P+BGvPS2gK4/gM7JhnBXlT8ARA5FOxFgPwBohWLHmWk/AOD3nZXnmD9AkSIF4LmwP7Dd64LjGMA/aPq2c/A8yj+A9g3uhVfTP3Axjrafp9o/qMOu5f594T+0UXr/nR/mP2op4FbILOs/iuRDdUJM8D9MDSTtcyrzP2EdzxObKfY/YQcGxQVC+T/EBRz7wGv8P7CCJTmtnv8/Lkess0lpAUAQEwb2nP8CQL/xk+U8jgRA3I7iyikRBkDbqR76gYQHQL5D88qL5AhApUWlKb8tCkB5BNuozlwLQP0ExfyvbgxAvzTgyaNgDUCiiESzPDAOQHAxYZZl2w5AYlsk5GZgD0BsUNIJ670PQC3+ON4B8w9AwBxzCiP/D0D+CgtoL+IPQBEv+lBxnA9Ax2m34JsuD0BL+j4oyZkOQDIUsVl33w1AjHPL8oQBDUAHnBbwKwIMQEWHGhX84wpAN/ZJWNSpCUBQUYmD21YIQNpZQBx47gZA+qW/p0d0BUA3MmdiFewDQJwTZoHQWQJAbtMYGILBAECLe/J1hU7+PzIKevVfHvs/TcBNpcP69z85Tl1KwOv0P/NFAMQw+fE/mlmYv01V7j90ZiLSrw7pP4S900sULOQ/8DOfxQ103z/wJC5+5IfXP/zZmVEFqNA/EANloC/MxT8AICbOlEO5P8CLOSyToac/gIx13DgUiz8AgDYUFegsPwABoODJ0X0/oFakWLmToT8A6EeS68K0P2CRle/E1MI/EByzJSipzT/Il+rLZ2HVPzjBhVcLAN0/yETSnXbO4j/sqVGI95DnP4qNfydPu+w//Kb/xRwg8T8gngIWxQj0PyyQ7iQoEPc/QAooqX4u+j9aUDBoxlv9P73A8GPrRwBAcogb4TrhAUA63emCtnUDQDSbgYZPAQVAii6H+g2ABkDP+y3wGu4HQJy4glfKRwlAxQedbaSJCkCQZoCkbrALQOBpze0zuQxAZPf3UkyhDUB+gYHHY2YOQETAsiOABg9AfNB5OAaAD0CagWLvvdEPQGL2EGzV+g9A4kw0J+P6D0BMOIn95tEPQD2QNDBKgA9Akux0Vt4GD0ABfGFD22YOQJ9iHOXboQ1A8i+BJdq5DEB4m+XWKbELQIso9blyigpAMkcBrKlICUCgFUkPCe8HQNZ2uIAIgQZAbLNo8FMCBUAeqsAzwnYDQIivaylL4gFAKCV5iP1IAEA4X6Hp6F39P/BDe+eZMPo/jEhMtzYS9z9qCh60wQr0PyS8p1UCIvE/Xl7za+K+7D/cqWTDSZTnP5iaBUh/0eI/qJoJ9XkF3T+o6Ua/JWbVP8DA91wqsc0/yFsy5jjbwj/wmE/Zlcy0PyAC0/VgoKE/AF9LRZsAfj8AAEqSyeUrP4AnZSvI9Io/IDG0TvGSpz/AxK3Q8zi5Pyh7OMBExcU/CMS0ksuj0D+4BYhK8YLXP4jhi9Ntbt8/4qqNLPUo5D/q+t2QSQvpPzIdQRepUe4/nPnh6UP38T/9dQDcven0P3Fs0cuw+Pc/5msnBEIc+z8az4/cYUz+Pwn7hTZwwABAu91NSsFYAkBEE02OC+sDQL+mUeFFcwVAheN9+YDtBkAeFh9/8VUIQMAFNMv5qAlAnOecMDPjCkDs4xu4dgEMQN7atzjlAA1ASEW3t+7eDUAhokL9WJkOQHEXyExFLg9AaI1vMjWcD0AA4ElZDuIPQDDJYGAd/w9ApHdhpxfzD0DExUIOHL4PQGbj+qWyYA9A8xIQU8vbDkCQ3YVluzAOQErlVCw6YQ1AgF84jVxvDEDmjyKsj10LQMTcErCSLgpA7AtOtW/lCED6Ihb/c4UHQJ277XwnEgZAKIUtuUOPBEBunzVIqgADQA+my9BaagFAZqF8jtGg/z8Gy1vr4W38PzinttgdRPk/9Lo66qQr9j9TSiZKaizzP7CGu04gTvA/AHZgbEkw6z/Qqbl32yLmP+xsf27wgOE/JFL8ytus2j9IMMyTDVzTP+DCmJ1/RMo/KPx2Id8ewD+Q/cZwkcKwPwCVKbrq/Jg/AJi9ajXXaT8AyCxjocFfP0B/vau3Q5U/oLvwFR5wrj/QEcJg+xq+P9j3aQG86cg/LABH9LeL0j9gZzxhqbvZP+Kuo4oe+eA/PGIrsi2N5T8ulswpQI7qP9Qbw/577+8/i8n1JIjR8j8YonpVLM31P79jVXEB4/g/IgfgFRsL/D+Zy4z2XT3/P8haQlfKOAFAreqkasLPAkBhEB0Qgl8EQKdMV60G5AVAhF9uf2pZB0C8d0qd7rsIQEhbOpYECApACkoSlFc6C0B2BVzp1E8MQGVUn/WzRQ1AvKx+S30ZDkBcEEwGEckOQIyy0T6sUg9AmklLke20D0C8O/Ko2O4PQJf1AcjY/w9Aeju0RcLnD0CGeGD+0qYPQEQanrSxPQ9A0vUBZWytDkBMiMKQdfcNQPW0N4agHQ1AgpHBsBwiDED2QCD8bwcLQHVepllw0AlAL/vpdzyACEDY8qe/MxoHQPMYbartoQVAo6NDiTAbBEC0/RTT54kCQIYXpRMa8gBA4qECKr2v/j+9W9+7pX77P1zxskAgWfg/fSurZUFH9T8FdrRg61DyP6YK72Jz++4/TpTfL9up6T+63I3ltrrkPyjFnGqyOuA/uJiHiLhq2D/w2PDQD2rRPzi9z+TMCsc/APx/Z3svuz8AInf62UyqP0CCdcjneZA/AIAr59FpRz8A5FRnXRl2P4C7Evyyzp4/gGNg6twUsz84NYh29rPBP4D1ODh4Qcw/2Dcq9+yL1D+U/rTiEQvcP+g7QSN1ReI/REWIJtH65j9KpOh4hRnsP8LYHAc2yvA/QvdtCrmu8z+oShkN3rL2P3czLRnmzvk/7IKQ4NT6/D8DK4SfQhcAQIi0jhLfsAFA7G8U2yNGA0A0j6YxANMEQLyak+Z4UwZAfkBMm7LDB0D/cRKq+x8JQJnhgqLVZApAdBacQv6OC0BmDDjVd5sMQOI8euCQhw1ATAl4EOtQDkDZQ1hMgfUOQHbzSuascw9AQPQG2SnKD0AQxekHGvgPQOqFYHkH/Q9AxkPhheXYD0C0f2r4EIwPQNt7NSBPFw9AV0v/1ct7DkCv9P15FrsNQPQ0O/Id1wxAAeCesyvSC0DM12ji3a4KQL7VL5kgcAlA+MWoZyYZCEBwoXwcYK0GQJ5lQ+9zMAVAfEtVITSmA0Coo4MtlRICQIUs7Z+jeQBA1t8GYPO+/T+i4upuaZD6P9I2HELVb/c/ahNT1T5l9D91gGaqdXjxP7C6pHT5Ye0/qHSUVe4r6D8C/8bzK1zjP5B1pTsb/t0/LIrwcZA/1j/g0NrlNSHPP6DueWPJBMQ/cAjEX8iMtj8gR68N6/GjP4AbDw45c4M/AACcIdzF3j4AG26ddKuFP8CEywKcDKU/QGrV5AZftz8w3OSzTY/EP1AJx4m7y88/YM289/ij1j/glvSYp3DeP9DG7ffwm+M/iFucao5x6D8mRSfMwaztP9TB5vANoPE/8bRjh6WO9D8ckAENoJr3Pw==\",\"dtype\":\"float64\",\"order\":\"little\",\"shape\":[500]}},\"selected\":{\"id\":\"2142\"},\"selection_policy\":{\"id\":\"2143\"}},\"id\":\"2053\",\"type\":\"ColumnDataSource\"},{\"attributes\":{\"active_multi\":null,\"tools\":[{\"id\":\"2039\"},{\"id\":\"2040\"},{\"id\":\"2041\"},{\"id\":\"2042\"},{\"id\":\"2043\"},{\"id\":\"2044\"}]},\"id\":\"2046\",\"type\":\"Toolbar\"},{\"attributes\":{\"line_color\":\"#2ba02b\",\"line_width\":2,\"x\":{\"field\":\"x\"},\"y\":{\"field\":\"y\"}},\"id\":\"2054\",\"type\":\"Line\"},{\"attributes\":{},\"id\":\"2040\",\"type\":\"WheelZoomTool\"},{\"attributes\":{\"end\":10},\"id\":\"2023\",\"type\":\"Range1d\"},{\"attributes\":{\"axis\":{\"id\":\"2031\"},\"ticker\":null},\"id\":\"2034\",\"type\":\"Grid\"},{\"attributes\":{},\"id\":\"2036\",\"type\":\"BasicTicker\"}],\"root_ids\":[\"2022\"]},\"title\":\"Bokeh Application\",\"version\":\"2.3.0\"}};\n",
       "  var render_items = [{\"docid\":\"31811981-7071-46c7-ae6c-6b6d2d513fe7\",\"root_ids\":[\"2022\"],\"roots\":{\"2022\":\"8dc51e27-e3ee-42b9-96fe-f19b1c236809\"}}];\n",
       "  root.Bokeh.embed.embed_items_notebook(docs_json, render_items);\n",
       "\n",
       "  }\n",
       "  if (root.Bokeh !== undefined) {\n",
       "    embed_document(root);\n",
       "  } else {\n",
       "    var attempts = 0;\n",
       "    var timer = setInterval(function(root) {\n",
       "      if (root.Bokeh !== undefined) {\n",
       "        clearInterval(timer);\n",
       "        embed_document(root);\n",
       "      } else {\n",
       "        attempts++;\n",
       "        if (attempts > 100) {\n",
       "          clearInterval(timer);\n",
       "          console.log(\"Bokeh: ERROR: Unable to run BokehJS code because BokehJS library is missing\");\n",
       "        }\n",
       "      }\n",
       "    }, 10, root)\n",
       "  }\n",
       "})(window);"
      ],
      "application/vnd.bokehjs_exec.v0+json": ""
     },
     "metadata": {
      "application/vnd.bokehjs_exec.v0+json": {
       "id": "2022"
      }
     },
     "output_type": "display_data"
    }
   ],
   "source": [
    "def x_periodic(t, f, x_0):\n",
    "    \"\"\"\n",
    "    Returns x value for periodic forcing of amplitude x_0 and frequency f.\n",
    "    \"\"\"\n",
    "    if type(f) in [float, int]:\n",
    "        return x_0 * (1 + np.sin(f * t))\n",
    "    else:\n",
    "        sin_sum = np.zeros_like(t)\n",
    "        for freq, amp in zip(f, x_0):\n",
    "            sin_sum += amp * (1 + np.sin(freq * t))\n",
    "        return sin_sum\n",
    "\n",
    "\n",
    "# Plot the forcing\n",
    "t = np.linspace(0, 10, 500)\n",
    "\n",
    "# Plot the results\n",
    "p = bokeh.plotting.figure(\n",
    "    frame_width=450,\n",
    "    frame_height=250,\n",
    "    x_axis_label=\"dimensionless time\",\n",
    "    y_axis_label=\"dimensionless y, z\",\n",
    "    x_range=[0, 10],\n",
    ")\n",
    "\n",
    "# Populate glyphs\n",
    "p.line(t, x_periodic(t, 5, 2.0), line_width=2, color=colors[2])\n",
    "\n",
    "# Show plot\n",
    "bokeh.io.show(p)"
   ]
  },
  {
   "cell_type": "markdown",
   "metadata": {},
   "source": [
    "Let's see how the circuit responds to a low-frequency input."
   ]
  },
  {
   "cell_type": "code",
   "execution_count": 15,
   "metadata": {},
   "outputs": [
    {
     "data": {
      "text/html": [
       "\n",
       "\n",
       "\n",
       "\n",
       "\n",
       "\n",
       "  <div class=\"bk-root\" id=\"a24f9da4-8076-4b45-894f-209a03947909\" data-root-id=\"2200\"></div>\n"
      ]
     },
     "metadata": {},
     "output_type": "display_data"
    },
    {
     "data": {
      "application/javascript": [
       "(function(root) {\n",
       "  function embed_document(root) {\n",
       "    \n",
       "  var docs_json = {\"b0523dd1-4272-4278-ba0f-cbe26f8b4525\":{\"defs\":[{\"extends\":null,\"module\":null,\"name\":\"DataModel\",\"overrides\":[],\"properties\":[]}],\"roots\":{\"references\":[{\"attributes\":{\"below\":[{\"id\":\"2209\"}],\"center\":[{\"id\":\"2212\"},{\"id\":\"2216\"},{\"id\":\"2247\"}],\"frame_height\":250,\"frame_width\":450,\"left\":[{\"id\":\"2213\"}],\"renderers\":[{\"id\":\"2234\"},{\"id\":\"2252\"},{\"id\":\"2271\"}],\"title\":{\"id\":\"2237\"},\"toolbar\":{\"id\":\"2224\"},\"x_range\":{\"id\":\"2201\"},\"x_scale\":{\"id\":\"2205\"},\"y_range\":{\"id\":\"2203\"},\"y_scale\":{\"id\":\"2207\"}},\"id\":\"2200\",\"subtype\":\"Figure\",\"type\":\"Plot\"},{\"attributes\":{},\"id\":\"2205\",\"type\":\"LinearScale\"},{\"attributes\":{\"active_multi\":null,\"tools\":[{\"id\":\"2217\"},{\"id\":\"2218\"},{\"id\":\"2219\"},{\"id\":\"2220\"},{\"id\":\"2221\"},{\"id\":\"2222\"}]},\"id\":\"2224\",\"type\":\"Toolbar\"},{\"attributes\":{},\"id\":\"2264\",\"type\":\"Selection\"},{\"attributes\":{},\"id\":\"2203\",\"type\":\"DataRange1d\"},{\"attributes\":{},\"id\":\"2265\",\"type\":\"UnionRenderers\"},{\"attributes\":{\"axis_label\":\"dimensionless time\",\"formatter\":{\"id\":\"2242\"},\"major_label_policy\":{\"id\":\"2243\"},\"ticker\":{\"id\":\"2210\"}},\"id\":\"2209\",\"type\":\"LinearAxis\"},{\"attributes\":{},\"id\":\"2239\",\"type\":\"BasicTickFormatter\"},{\"attributes\":{},\"id\":\"2240\",\"type\":\"AllLabels\"},{\"attributes\":{},\"id\":\"2210\",\"type\":\"BasicTicker\"},{\"attributes\":{\"axis\":{\"id\":\"2209\"},\"ticker\":null},\"id\":\"2212\",\"type\":\"Grid\"},{\"attributes\":{},\"id\":\"2218\",\"type\":\"WheelZoomTool\"},{\"attributes\":{\"axis_label\":\"dimensionless y, z\",\"formatter\":{\"id\":\"2239\"},\"major_label_policy\":{\"id\":\"2240\"},\"ticker\":{\"id\":\"2214\"}},\"id\":\"2213\",\"type\":\"LinearAxis\"},{\"attributes\":{\"axis\":{\"id\":\"2213\"},\"dimension\":1,\"ticker\":null},\"id\":\"2216\",\"type\":\"Grid\"},{\"attributes\":{},\"id\":\"2214\",\"type\":\"BasicTicker\"},{\"attributes\":{},\"id\":\"2222\",\"type\":\"HelpTool\"},{\"attributes\":{\"items\":[{\"id\":\"2248\"},{\"id\":\"2267\"},{\"id\":\"2288\"}]},\"id\":\"2247\",\"type\":\"Legend\"},{\"attributes\":{},\"id\":\"2217\",\"type\":\"PanTool\"},{\"attributes\":{\"overlay\":{\"id\":\"2223\"}},\"id\":\"2219\",\"type\":\"BoxZoomTool\"},{\"attributes\":{\"label\":{\"value\":\"y\"},\"renderers\":[{\"id\":\"2234\"}]},\"id\":\"2248\",\"type\":\"LegendItem\"},{\"attributes\":{},\"id\":\"2220\",\"type\":\"SaveTool\"},{\"attributes\":{\"source\":{\"id\":\"2231\"}},\"id\":\"2235\",\"type\":\"CDSView\"},{\"attributes\":{},\"id\":\"2221\",\"type\":\"ResetTool\"},{\"attributes\":{},\"id\":\"2242\",\"type\":\"BasicTickFormatter\"},{\"attributes\":{},\"id\":\"2243\",\"type\":\"AllLabels\"},{\"attributes\":{\"line_alpha\":0.2,\"line_color\":\"#2ba02b\",\"line_width\":2,\"x\":{\"field\":\"x\"},\"y\":{\"field\":\"y\"}},\"id\":\"2269\",\"type\":\"Line\"},{\"attributes\":{\"line_alpha\":0.1,\"line_color\":\"#1f77b3\",\"line_width\":2,\"x\":{\"field\":\"x\"},\"y\":{\"field\":\"y\"}},\"id\":\"2233\",\"type\":\"Line\"},{\"attributes\":{\"source\":{\"id\":\"2268\"}},\"id\":\"2272\",\"type\":\"CDSView\"},{\"attributes\":{},\"id\":\"2237\",\"type\":\"Title\"},{\"attributes\":{},\"id\":\"2244\",\"type\":\"Selection\"},{\"attributes\":{\"line_alpha\":0.1,\"line_color\":\"#2ba02b\",\"line_width\":2,\"x\":{\"field\":\"x\"},\"y\":{\"field\":\"y\"}},\"id\":\"2270\",\"type\":\"Line\"},{\"attributes\":{},\"id\":\"2245\",\"type\":\"UnionRenderers\"},{\"attributes\":{\"label\":{\"value\":\"z\"},\"renderers\":[{\"id\":\"2252\"}]},\"id\":\"2267\",\"type\":\"LegendItem\"},{\"attributes\":{\"data_source\":{\"id\":\"2268\"},\"glyph\":{\"id\":\"2269\"},\"hover_glyph\":null,\"muted_glyph\":null,\"nonselection_glyph\":{\"id\":\"2270\"},\"view\":{\"id\":\"2272\"}},\"id\":\"2271\",\"type\":\"GlyphRenderer\"},{\"attributes\":{\"source\":{\"id\":\"2249\"}},\"id\":\"2253\",\"type\":\"CDSView\"},{\"attributes\":{\"data_source\":{\"id\":\"2231\"},\"glyph\":{\"id\":\"2232\"},\"hover_glyph\":null,\"muted_glyph\":null,\"nonselection_glyph\":{\"id\":\"2233\"},\"view\":{\"id\":\"2235\"}},\"id\":\"2234\",\"type\":\"GlyphRenderer\"},{\"attributes\":{\"data\":{\"x\":{\"__ndarray__\":\"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\",\"dtype\":\"float64\",\"order\":\"little\",\"shape\":[300]},\"y\":{\"__ndarray__\":\"9mgXOZAA4D/IMEJvYBLhPzb4FCP3IuI/j3ctORwx4z+T2HlimjvkP/dFX35AQeU/U9MW+OJA5j+burAdXTnnP3kxNW+SKeg/DiBj5G8Q6T/TwJcn7ezpP86adsQNvuo/n033SOKC6z+1OY5XiTrsPzIdNqkw5Ow/HjMz/hV/7T9mKnz8hwruPzZNyvrmhe4/QVhot6Xw7j9zsu75SUrvP1HWMx9tku8/ArPQjrzI7z8vd7IZ+uzvPxp+TUH8/u8/mtkfZ67+7z8tE03kEOzvPzUcOAk5x+8/KuIbBVGQ7z8CeL61l0fvPxwidl9g7e4/Ha/STRKC7j/BRlhdKAbuPzIZ024weu0/CQDlxMre7D9dEIdMqTTsP042UdGOfOs/OBtxHk636j9BtU8NyeXpPx7Y+YLvCOk/tdtzXb4h6D/31jJSPjHnPxfvBr+COOY/OcHRbqg45T+a5XFT1DLkP5zmWDYyKOM/ELZLYfMZ4j9mo9ZATQnhP10XCgTw7t8/mdDkWVrL3T/L+Zt7TKrbPxFY2Hs2jtk/qNQAvYJ51z/OwzEtk27VP0Y64ou+b9M/hgpXvE1/0T8ys+hP8j7PP7Yg2WbMpMs/7adrk0k0yD86hCz/WfHEP+YL9qS538E/6Gu8FNgFvj/oepFzcLy4P0pBcgNK6bM/6b7B9tUjrz8OqDqyl3anP1ifWmCj06A/s061hiSFlj/OVXAVECeLPz4aj2G7cns/49w6yUdCYz9IKMNwE7gtP85soTZ9KDY/0BwTruf9ZT8qbNuHA7h9P1BWynsjvIw/3Izs/P2Hlz/NVd3Mo3ChP4Uc3Ax4Lqg/uSjitsP1rz8hc81nz160P4FdOc39Pbk/kc45DtmSvj+sw5I4oyvCP7tZtr5VQsU/akOSxfqJyD8qVxfu0P7LP/9u2xrjnM8/t3ULfAaw0T+yZNjc/6HTP+2e9YQjotU/HY6FESeu1z+rixGHssPZP9GygABj4Ns/KFaNas0B3j/rHUykwBLgPyEF17+FJOE/jBtGkvw04j/Crbck7ULjP3yHOmQiTeQ/CKuvg2tS5T/0osdYnVHmP7jYi7KTSec/R77rpzI56D8Hvc7cZx/pP863Nrwr++k/3HILpoLL6j+oVTUPfo/rP2OnvZI9Ruw/PI278u/u7D8DnucH1IjtPzG8w545E+4/kP5ZQYKN7j8tqavsIffuP/95ALGfT+8/X7xePJaW7z8YmI1OtMvvP1nIHBa97u8/JDYHdoj/7z80u6AzA/7vPw93mgwv6u8/woAEtSLE7z+jPU+9CYzvP20gamAkQu8/Te04Osfm7j/EtrPmWnruPxp/IIpb/e0/lKHvQlhw7T+qwt2F8tPsP5fmFmXdKOw/fFguw9xv6z80I9ZyxKnqP2voVkR31+k/kcfdAeb56D9YrMlbDhLoP0awM8b5IOc/WSL/SLwn5j+/Nc1DcyflP580PidEIeQ/TlX2JFsW4z+U4ebX6QfiPyA8ZeYl9+A/Mc1AP4/K3z/c8xUsEafdPzn6pXBEhts/EmEF1Zhq2T/5ZcpBeFbXP0rEj/xDTNU/n/la7lFO0z/GywT36V7RP5bKZ6GGAM8/jfXNDARpyz8xKuwAafvHP4HwslOiu8Q/CoPQYWitwT+2ioWYdai9P2r2vO24Zrg/B8LDmJ+bsz++rWQxTZmuP7ujG5t5/aY/3OykpHpsoD/Gir0AqtuVP4sxSwVNH4o/fi8pOfX7eT/w98eelYlhPyulG40cmiU/nWwhQr3UOz+a7+9FB+pnP9QtB2NFSH8/QUafTHjQjT9SgMMkpDeYP7qa9DHQ2qE/q1dGMoSqqD9JWVTKkEGwPzc+pETWrbQ/XpUzHAKVuT8r2Ystd/G+P1jhjQWJXsI/Wuo6Aph4xT+fa6JfW8PIP2SuoSwOO8w/hD/zBLjbzz+fdXbOmNDRP17veMGUw9M/oYCTiJTE1T8wJ+DETNHXPxWeBqxk59k/+g4guHgE3D8apuRjHSbeP62rAPjwJOA/a9U0l6k24T+oRDko/0biPyrqP9q5VOM/gYcH2KRe5D86xXapj2PlP1MrOJBPYuY/kNbH3cBZ5z8bRmtByEjoP4HelAxULuk/Lbg/bF0J6j/v7tyV6djqP6DleeYKnOs/yrXW8uFR7D+JQzWHnvnsP/UPvJWAku0/kNhbEtkb7j94PDy7CpXuP7bsycyK/e4/qD6YoOFU7z+sNmA2q5rvP1cvgKaXzu8/TQR5fWvw7z8AAAAAAADwPzqcV1dD/e8/sU68pTjo7z/c/s0C+MDvP9NA+l+uh+8/ouoGVZ087z9W7/fUGuDuP1Z9psuQcu4/1wx6pHz07T/7Os66bmbtP4/cqbQJyew/ZYiEyAEd7D+D0u/uG2PrP615EAEtnOo/Ur/pxBjJ6T8R9JHo0OroP4PSeu1TAug/iH4KBawQ5z9XztLf7RbmP0TWw3A3FuU/nnHEpa4P5D/npycXgATjP1pCgK/d9eE/iqRcTf3k4D+p5ffALqbfP/KDJQjLgt0/HM5xL0Ji2z8pETexA0fZP9yGHPl4M9c/ZyEooQIq1T+KRem49SzTP8ZM2hmZPtE/fBMPmEXCzj9Z0e/7ai3LP+ZreiW8wsc/m3XxkSKGxD+zlQj7UnvBP8HlQDGSS70/8FGQR4cRuD8Dnyo/gU6zPxdwTrDnD64/52ThnIiFpj/cUbJ9hwagP7jkG9eoNJU/CS8VaZMciT+6nV/mY494P0wskTfzyl8/V+Sggq2NHT8Gj2XsHxNBP4XHHMi06mk/DsO3nVpxgD8JqzfM0emOP5Hvl5zA6Zg/2v1/UjBGoj8No0FGuyepPxYo7B7QiLA/b85G0Gf9tD9lBkfEiuy5PxCWu7iSUL8/rL4MyqmRwj/LJ1Q7Ea/FPxngaq7u/Mg/w1r5pHl3zD9mBIA8Ww3QPxP2J3Y98dE/Q1Gudjnl0z/TCvnFEufVP9CYEAx99Nc/SVLDsh4L2j/xh3KWkyjcP2St9MJvSt4/cAm1HCE34D+Huuvdy0jhP9+Dqc3+WOI/GtnGQoJm4z/TdUGnIXDkP4cJj9msdOU/mxTWiPly5j+YQn6K5GnnP7orkSdTWOg/jcltYDQ96T9v/FslghfqP38+moJC5uo/WvWNvoio6z/6tc5odl3sPz4j1lg8BO0/lMswmxuc7T8ycSBMZiTuPz5ptV6AnO4/\",\"dtype\":\"float64\",\"order\":\"little\",\"shape\":[300]}},\"selected\":{\"id\":\"2285\"},\"selection_policy\":{\"id\":\"2286\"}},\"id\":\"2268\",\"type\":\"ColumnDataSource\"},{\"attributes\":{\"line_color\":\"#ff7e0e\",\"line_width\":2,\"x\":{\"field\":\"x\"},\"y\":{\"field\":\"y\"}},\"id\":\"2250\",\"type\":\"Line\"},{\"attributes\":{\"label\":{\"value\":\"x (normalized)\"},\"renderers\":[{\"id\":\"2271\"}]},\"id\":\"2288\",\"type\":\"LegendItem\"},{\"attributes\":{\"data_source\":{\"id\":\"2249\"},\"glyph\":{\"id\":\"2250\"},\"hover_glyph\":null,\"muted_glyph\":null,\"nonselection_glyph\":{\"id\":\"2251\"},\"view\":{\"id\":\"2253\"}},\"id\":\"2252\",\"type\":\"GlyphRenderer\"},{\"attributes\":{\"line_alpha\":0.1,\"line_color\":\"#ff7e0e\",\"line_width\":2,\"x\":{\"field\":\"x\"},\"y\":{\"field\":\"y\"}},\"id\":\"2251\",\"type\":\"Line\"},{\"attributes\":{},\"id\":\"2286\",\"type\":\"UnionRenderers\"},{\"attributes\":{\"line_color\":\"#1f77b3\",\"line_width\":2,\"x\":{\"field\":\"x\"},\"y\":{\"field\":\"y\"}},\"id\":\"2232\",\"type\":\"Line\"},{\"attributes\":{},\"id\":\"2285\",\"type\":\"Selection\"},{\"attributes\":{\"data\":{\"x\":{\"__ndarray__\":\"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\",\"dtype\":\"float64\",\"order\":\"little\",\"shape\":[300]},\"y\":{\"__ndarray__\":\"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\",\"dtype\":\"float64\",\"order\":\"little\",\"shape\":[300]}},\"selected\":{\"id\":\"2264\"},\"selection_policy\":{\"id\":\"2265\"}},\"id\":\"2249\",\"type\":\"ColumnDataSource\"},{\"attributes\":{\"bottom_units\":\"screen\",\"fill_alpha\":0.5,\"fill_color\":\"lightgrey\",\"left_units\":\"screen\",\"level\":\"overlay\",\"line_alpha\":1.0,\"line_color\":\"black\",\"line_dash\":[4,4],\"line_width\":2,\"right_units\":\"screen\",\"syncable\":false,\"top_units\":\"screen\"},\"id\":\"2223\",\"type\":\"BoxAnnotation\"},{\"attributes\":{\"data\":{\"x\":{\"__ndarray__\":\"AAAAAAAAAADDVFfOrR/BP8NUV86tH9E/JP+CtYSv2T/DVFfOrR/hP/Qp7UGZZ+U/JP+CtYSv6T9V1BgpcPftP8NUV86tH/E/Wz8iiKND8z/0Ke1BmWf1P4wUuPuOi/c/JP+CtYSv+T+96U1vetP7P1XUGClw9/0/d99x8bINAEDDVFfOrR8BQA/KPKuoMQJAWz8iiKNDA0CotAdlnlUEQPQp7UGZZwVAQJ/SHpR5BkCMFLj7josHQNiJndiJnQhAJP+CtYSvCUBxdGiSf8EKQL3pTW960wtACV8zTHXlDEBV1BgpcPcNQKFJ/gVrCQ9Ad99x8bINEEAdmuRfsJYQQMNUV86tHxFAaQ/KPKuoEUAPyjyrqDESQLWErxmmuhJAWz8iiKNDE0AB+pT2oMwTQKi0B2WeVRRATm9605veFED0Ke1BmWcVQJrkX7CW8BVAQJ/SHpR5FkDmWUWNkQIXQIwUuPuOixdAMs8qaowUGEDYiZ3YiZ0YQH5EEEeHJhlAJP+CtYSvGUDLufUjgjgaQHF0aJJ/wRpAFy/bAH1KG0C96U1vetMbQGOkwN13XBxACV8zTHXlHECvGaa6cm4dQFXUGClw9x1A+46Ll22AHkChSf4FawkfQEgEcXRokh9Ad99x8bINIEDKPKuoMVIgQB2a5F+wliBAcPcdFy/bIEDDVFfOrR8hQBaykIUsZCFAaQ/KPKuoIUC8bAP0Ke0hQA/KPKuoMSJAYid2Yid2IkC1hK8ZproiQAji6NAk/yJAWz8iiKNDI0CunFs/IogjQAH6lPagzCNAVVfOrR8RJECotAdlnlUkQPsRQRwdmiRATm9605veJEChzLOKGiMlQPQp7UGZZyVAR4cm+ResJUCa5F+wlvAlQO1BmWcVNSZAQJ/SHpR5JkCT/AvWEr4mQOZZRY2RAidAObd+RBBHJ0CMFLj7josnQN9x8bIN0CdAMs8qaowUKECFLGQhC1koQNiJndiJnShAK+fWjwjiKEB+RBBHhyYpQNGhSf4FaylAJP+CtYSvKUB4XLxsA/QpQMu59SOCOCpAHhcv2wB9KkBxdGiSf8EqQMTRoUn+BStAFy/bAH1KK0BqjBS4+44rQL3pTW960ytAEEeHJvkXLEBjpMDdd1wsQLYB+pT2oCxACV8zTHXlLEBcvGwD9CktQK8Zprpybi1AAnffcfGyLUBV1BgpcPctQKgxUuDuOy5A+46Ll22ALkBO7MRO7MQuQKFJ/gVrCS9A9KY3velNL0BIBHF0aJIvQJthqivn1i9Ad99x8bINMEAgjg5N8i8wQMo8q6gxUjBAc+tHBHF0MEAdmuRfsJYwQMZIgbvvuDBAcPcdFy/bMEAZprpybv0wQMNUV86tHzFAbQP0Ke1BMUAWspCFLGQxQMBgLeFrhjFAaQ/KPKuoMUATvmaY6soxQLxsA/Qp7TFAZhugT2kPMkAPyjyrqDEyQLl42QboUzJAYid2Yid2MkAM1hK+ZpgyQLWErxmmujJAXzNMdeXcMkAI4ujQJP8yQLKQhSxkITNAWz8iiKNDM0AF7r7j4mUzQK6cWz8iiDNAWEv4mmGqM0AB+pT2oMwzQKuoMVLg7jNAVVfOrR8RNED+BWsJXzM0QKi0B2WeVTRAUWOkwN13NED7EUEcHZo0QKTA3XdcvDRATm9605veNED3HRcv2wA1QKHMs4oaIzVASntQ5llFNUD0Ke1BmWc1QJ3YiZ3YiTVAR4cm+ResNUDwNcNUV841QJrkX7CW8DVAQ5P8C9YSNkDtQZlnFTU2QJbwNcNUVzZAQJ/SHpR5NkDpTW9605s2QJP8C9YSvjZAPauoMVLgNkDmWUWNkQI3QJAI4ujQJDdAObd+RBBHN0DjZRugT2k3QIwUuPuOizdANsNUV86tN0DfcfGyDdA3QIkgjg5N8jdAMs8qaowUOEDcfcfFyzY4QIUsZCELWThAL9sAfUp7OEDYiZ3YiZ04QII4OjTJvzhAK+fWjwjiOEDVlXPrRwQ5QH5EEEeHJjlAKPOsosZIOUDRoUn+BWs5QHtQ5llFjTlAJP+CtYSvOUDOrR8RxNE5QHhcvGwD9DlAIQtZyEIWOkDLufUjgjg6QHRokn/BWjpAHhcv2wB9OkDHxcs2QJ86QHF0aJJ/wTpAGiMF7r7jOkDE0aFJ/gU7QG2APqU9KDtAFy/bAH1KO0DA3XdcvGw7QGqMFLj7jjtAEzuxEzuxO0C96U1vetM7QGaY6sq59TtAEEeHJvkXPEC59SOCODo8QGOkwN13XDxADFNdObd+PEC2AfqU9qA8QGCwlvA1wzxACV8zTHXlPECzDdCntAc9QFy8bAP0KT1ABmsJXzNMPUCvGaa6cm49QFnIQhaykD1AAnffcfGyPUCsJXzNMNU9QFXUGClw9z1A/4K1hK8ZPkCoMVLg7js+QFLg7jsuXj5A+46Ll22APkClPSjzrKI+QE7sxE7sxD5A+JphqivnPkChSf4Fawk/QEv4mmGqKz9A9KY3velNP0CeVdQYKXA/QEgEcXRokj9A8bIN0Ke0P0CbYaor59Y/QEQQR4cm+T9Ad99x8bINQEDMNkCf0h5AQCCODk3yL0BAdeXc+hFBQEDKPKuoMVJAQB+UeVZRY0BAc+tHBHF0QEDIQhaykIVAQB2a5F+wlkBAcvGyDdCnQEDGSIG777hAQBugT2kPykBAcPcdFy/bQEDFTuzETuxAQBmmunJu/UBAbv2III4OQUDDVFfOrR9BQBisJXzNMEFAbQP0Ke1BQUDBWsLXDFNBQBaykIUsZEFAawlfM0x1QUDAYC3ha4ZBQBS4+46Ll0FAaQ/KPKuoQUC+ZpjqyrlBQBO+ZpjqykFAZxU1RgrcQUC8bAP0Ke1BQBHE0aFJ/kFAZhugT2kPQkC6cm79iCBCQA/KPKuoMUJAZCELWchCQkC5eNkG6FNCQA3Qp7QHZUJAYid2Yid2QkC3fkQQR4dCQAzWEr5mmEJAYS3ha4apQkC1hK8ZprpCQArcfcfFy0JAXzNMdeXcQkC0ihojBe5CQAji6NAk/0JAXTm3fkQQQ0CykIUsZCFDQAfoU9qDMkNAWz8iiKNDQ0CwlvA1w1RDQAXuvuPiZUNAWkWNkQJ3Q0CunFs/IohDQAP0Ke1BmUNAWEv4mmGqQ0CtosZIgbtDQAH6lPagzENAVlFjpMDdQ0CrqDFS4O5DQAAAAAAAAERA\",\"dtype\":\"float64\",\"order\":\"little\",\"shape\":[300]},\"y\":{\"__ndarray__\":\"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\",\"dtype\":\"float64\",\"order\":\"little\",\"shape\":[300]}},\"selected\":{\"id\":\"2244\"},\"selection_policy\":{\"id\":\"2245\"}},\"id\":\"2231\",\"type\":\"ColumnDataSource\"},{\"attributes\":{\"end\":10},\"id\":\"2201\",\"type\":\"Range1d\"},{\"attributes\":{},\"id\":\"2207\",\"type\":\"LinearScale\"}],\"root_ids\":[\"2200\"]},\"title\":\"Bokeh Application\",\"version\":\"2.3.0\"}};\n",
       "  var render_items = [{\"docid\":\"b0523dd1-4272-4278-ba0f-cbe26f8b4525\",\"root_ids\":[\"2200\"],\"roots\":{\"2200\":\"a24f9da4-8076-4b45-894f-209a03947909\"}}];\n",
       "  root.Bokeh.embed.embed_items_notebook(docs_json, render_items);\n",
       "\n",
       "  }\n",
       "  if (root.Bokeh !== undefined) {\n",
       "    embed_document(root);\n",
       "  } else {\n",
       "    var attempts = 0;\n",
       "    var timer = setInterval(function(root) {\n",
       "      if (root.Bokeh !== undefined) {\n",
       "        clearInterval(timer);\n",
       "        embed_document(root);\n",
       "      } else {\n",
       "        attempts++;\n",
       "        if (attempts > 100) {\n",
       "          clearInterval(timer);\n",
       "          console.log(\"Bokeh: ERROR: Unable to run BokehJS code because BokehJS library is missing\");\n",
       "        }\n",
       "      }\n",
       "    }, 10, root)\n",
       "  }\n",
       "})(window);"
      ],
      "application/vnd.bokehjs_exec.v0+json": ""
     },
     "metadata": {
      "application/vnd.bokehjs_exec.v0+json": {
       "id": "2200"
      }
     },
     "output_type": "display_data"
    }
   ],
   "source": [
    "# Set up parameters for periodic forcing with f = 0.5 and x_0 = 2.\n",
    "x_args = (0.5, 2.0)\n",
    "\n",
    "# Package parameters into a tuple, now with high ultrasensitivity\n",
    "n_y = 10\n",
    "args = (beta, gamma, n_x, n_y, x_periodic, x_args)\n",
    "\n",
    "# Time points\n",
    "t = np.linspace(0, 40, 300)\n",
    "\n",
    "# Initial condition\n",
    "yz_0 = np.array([0.0, 0.0])\n",
    "\n",
    "# Integrate ODES\n",
    "yz = scipy.integrate.odeint(cascade_rhs_x_fun, yz_0, t, args=args)\n",
    "\n",
    "# Pluck out y and z\n",
    "y, z = yz.transpose()\n",
    "\n",
    "# x\n",
    "x = x_periodic(t, *x_args)\n",
    "x /= x.max()\n",
    "\n",
    "# Plot the results\n",
    "p = bokeh.plotting.figure(\n",
    "    frame_width=450,\n",
    "    frame_height=250,\n",
    "    x_axis_label=\"dimensionless time\",\n",
    "    y_axis_label=\"dimensionless y, z\",\n",
    "    x_range=[0, 10],\n",
    ")\n",
    "\n",
    "# Populate glyphs\n",
    "p.line(t, y, line_width=2, color=colors[0], legend_label=\"y\")\n",
    "p.line(t, z, line_width=2, color=colors[1], legend_label=\"z\")\n",
    "p.line(\n",
    "    t,\n",
    "    x,\n",
    "    line_width=2,\n",
    "    color=colors[2],\n",
    "    alpha=0.2,\n",
    "    legend_label=\"x (normalized)\",\n",
    "    line_join=\"bevel\",\n",
    ")\n",
    "\n",
    "# Place the legend\n",
    "p.legend.location = \"top_right\"\n",
    "\n",
    "# Show plot\n",
    "bokeh.io.show(p)"
   ]
  },
  {
   "cell_type": "markdown",
   "metadata": {},
   "source": [
    "We roughly follow the forcing with some lag.  Now, for high-frequency forcing, we have a different response."
   ]
  },
  {
   "cell_type": "code",
   "execution_count": 16,
   "metadata": {},
   "outputs": [
    {
     "data": {
      "text/html": [
       "\n",
       "\n",
       "\n",
       "\n",
       "\n",
       "\n",
       "  <div class=\"bk-root\" id=\"eae14d5a-fa7f-44e5-a51a-119ef639aa54\" data-root-id=\"2466\"></div>\n"
      ]
     },
     "metadata": {},
     "output_type": "display_data"
    },
    {
     "data": {
      "application/javascript": [
       "(function(root) {\n",
       "  function embed_document(root) {\n",
       "    \n",
       "  var docs_json = {\"65602fa9-2cc4-4793-a0c0-0c242b6c9623\":{\"defs\":[{\"extends\":null,\"module\":null,\"name\":\"DataModel\",\"overrides\":[],\"properties\":[]}],\"roots\":{\"references\":[{\"attributes\":{\"below\":[{\"id\":\"2475\"}],\"center\":[{\"id\":\"2478\"},{\"id\":\"2482\"},{\"id\":\"2513\"}],\"frame_height\":250,\"frame_width\":450,\"left\":[{\"id\":\"2479\"}],\"renderers\":[{\"id\":\"2500\"},{\"id\":\"2518\"},{\"id\":\"2537\"}],\"title\":{\"id\":\"2503\"},\"toolbar\":{\"id\":\"2490\"},\"x_range\":{\"id\":\"2467\"},\"x_scale\":{\"id\":\"2471\"},\"y_range\":{\"id\":\"2469\"},\"y_scale\":{\"id\":\"2473\"}},\"id\":\"2466\",\"subtype\":\"Figure\",\"type\":\"Plot\"},{\"attributes\":{\"line_color\":\"#1f77b3\",\"line_width\":2,\"x\":{\"field\":\"x\"},\"y\":{\"field\":\"y\"}},\"id\":\"2498\",\"type\":\"Line\"},{\"attributes\":{},\"id\":\"2488\",\"type\":\"HelpTool\"},{\"attributes\":{\"end\":10},\"id\":\"2467\",\"type\":\"Range1d\"},{\"attributes\":{},\"id\":\"2503\",\"type\":\"Title\"},{\"attributes\":{\"bottom_units\":\"screen\",\"fill_alpha\":0.5,\"fill_color\":\"lightgrey\",\"left_units\":\"screen\",\"level\":\"overlay\",\"line_alpha\":1.0,\"line_color\":\"black\",\"line_dash\":[4,4],\"line_width\":2,\"right_units\":\"screen\",\"syncable\":false,\"top_units\":\"screen\"},\"id\":\"2489\",\"type\":\"BoxAnnotation\"},{\"attributes\":{},\"id\":\"2473\",\"type\":\"LinearScale\"},{\"attributes\":{},\"id\":\"2530\",\"type\":\"Selection\"},{\"attributes\":{},\"id\":\"2471\",\"type\":\"LinearScale\"},{\"attributes\":{},\"id\":\"2531\",\"type\":\"UnionRenderers\"},{\"attributes\":{},\"id\":\"2551\",\"type\":\"Selection\"},{\"attributes\":{\"data\":{\"x\":{\"__ndarray__\":\"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\",\"dtype\":\"float64\",\"order\":\"little\",\"shape\":[600]},\"y\":{\"__ndarray__\":\"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\",\"dtype\":\"float64\",\"order\":\"little\",\"shape\":[600]}},\"selected\":{\"id\":\"2510\"},\"selection_policy\":{\"id\":\"2511\"}},\"id\":\"2497\",\"type\":\"ColumnDataSource\"},{\"attributes\":{},\"id\":\"2469\",\"type\":\"DataRange1d\"},{\"attributes\":{},\"id\":\"2505\",\"type\":\"BasicTickFormatter\"},{\"attributes\":{},\"id\":\"2506\",\"type\":\"AllLabels\"},{\"attributes\":{},\"id\":\"2476\",\"type\":\"BasicTicker\"},{\"attributes\":{\"axis\":{\"id\":\"2475\"},\"ticker\":null},\"id\":\"2478\",\"type\":\"Grid\"},{\"attributes\":{},\"id\":\"2484\",\"type\":\"WheelZoomTool\"},{\"attributes\":{\"axis_label\":\"dimensionless y, z\",\"formatter\":{\"id\":\"2505\"},\"major_label_policy\":{\"id\":\"2506\"},\"ticker\":{\"id\":\"2480\"}},\"id\":\"2479\",\"type\":\"LinearAxis\"},{\"attributes\":{\"line_color\":\"#ff7e0e\",\"line_width\":2,\"x\":{\"field\":\"x\"},\"y\":{\"field\":\"y\"}},\"id\":\"2516\",\"type\":\"Line\"},{\"attributes\":{\"axis\":{\"id\":\"2479\"},\"dimension\":1,\"ticker\":null},\"id\":\"2482\",\"type\":\"Grid\"},{\"attributes\":{},\"id\":\"2480\",\"type\":\"BasicTicker\"},{\"attributes\":{\"label\":{\"value\":\"z\"},\"renderers\":[{\"id\":\"2518\"}]},\"id\":\"2533\",\"type\":\"LegendItem\"},{\"attributes\":{\"data\":{\"x\":{\"__ndarray__\":\"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\",\"dtype\":\"float64\",\"order\":\"little\",\"shape\":[600]},\"y\":{\"__ndarray__\":\"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\",\"dtype\":\"float64\",\"order\":\"little\",\"shape\":[600]}},\"selected\":{\"id\":\"2530\"},\"selection_policy\":{\"id\":\"2531\"}},\"id\":\"2515\",\"type\":\"ColumnDataSource\"},{\"attributes\":{},\"id\":\"2483\",\"type\":\"PanTool\"},{\"attributes\":{\"overlay\":{\"id\":\"2489\"}},\"id\":\"2485\",\"type\":\"BoxZoomTool\"},{\"attributes\":{},\"id\":\"2486\",\"type\":\"SaveTool\"},{\"attributes\":{\"active_multi\":null,\"tools\":[{\"id\":\"2483\"},{\"id\":\"2484\"},{\"id\":\"2485\"},{\"id\":\"2486\"},{\"id\":\"2487\"},{\"id\":\"2488\"}]},\"id\":\"2490\",\"type\":\"Toolbar\"},{\"attributes\":{\"items\":[{\"id\":\"2514\"},{\"id\":\"2533\"},{\"id\":\"2554\"}]},\"id\":\"2513\",\"type\":\"Legend\"},{\"attributes\":{\"data_source\":{\"id\":\"2497\"},\"glyph\":{\"id\":\"2498\"},\"hover_glyph\":null,\"muted_glyph\":null,\"nonselection_glyph\":{\"id\":\"2499\"},\"view\":{\"id\":\"2501\"}},\"id\":\"2500\",\"type\":\"GlyphRenderer\"},{\"attributes\":{\"source\":{\"id\":\"2534\"}},\"id\":\"2538\",\"type\":\"CDSView\"},{\"attributes\":{},\"id\":\"2487\",\"type\":\"ResetTool\"},{\"attributes\":{},\"id\":\"2508\",\"type\":\"BasicTickFormatter\"},{\"attributes\":{},\"id\":\"2509\",\"type\":\"AllLabels\"},{\"attributes\":{\"source\":{\"id\":\"2497\"}},\"id\":\"2501\",\"type\":\"CDSView\"},{\"attributes\":{},\"id\":\"2552\",\"type\":\"UnionRenderers\"},{\"attributes\":{\"line_alpha\":0.2,\"line_color\":\"#2ba02b\",\"line_width\":2,\"x\":{\"field\":\"x\"},\"y\":{\"field\":\"y\"}},\"id\":\"2535\",\"type\":\"Line\"},{\"attributes\":{\"label\":{\"value\":\"y\"},\"renderers\":[{\"id\":\"2500\"}]},\"id\":\"2514\",\"type\":\"LegendItem\"},{\"attributes\":{\"line_alpha\":0.1,\"line_color\":\"#2ba02b\",\"line_width\":2,\"x\":{\"field\":\"x\"},\"y\":{\"field\":\"y\"}},\"id\":\"2536\",\"type\":\"Line\"},{\"attributes\":{\"data_source\":{\"id\":\"2534\"},\"glyph\":{\"id\":\"2535\"},\"hover_glyph\":null,\"muted_glyph\":null,\"nonselection_glyph\":{\"id\":\"2536\"},\"view\":{\"id\":\"2538\"}},\"id\":\"2537\",\"type\":\"GlyphRenderer\"},{\"attributes\":{\"line_alpha\":0.1,\"line_color\":\"#1f77b3\",\"line_width\":2,\"x\":{\"field\":\"x\"},\"y\":{\"field\":\"y\"}},\"id\":\"2499\",\"type\":\"Line\"},{\"attributes\":{\"data\":{\"x\":{\"__ndarray__\":\"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\",\"dtype\":\"float64\",\"order\":\"little\",\"shape\":[600]},\"y\":{\"__ndarray__\":\"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\",\"dtype\":\"float64\",\"order\":\"little\",\"shape\":[600]}},\"selected\":{\"id\":\"2551\"},\"selection_policy\":{\"id\":\"2552\"}},\"id\":\"2534\",\"type\":\"ColumnDataSource\"},{\"attributes\":{},\"id\":\"2510\",\"type\":\"Selection\"},{\"attributes\":{},\"id\":\"2511\",\"type\":\"UnionRenderers\"},{\"attributes\":{\"source\":{\"id\":\"2515\"}},\"id\":\"2519\",\"type\":\"CDSView\"},{\"attributes\":{\"axis_label\":\"dimensionless time\",\"formatter\":{\"id\":\"2508\"},\"major_label_policy\":{\"id\":\"2509\"},\"ticker\":{\"id\":\"2476\"}},\"id\":\"2475\",\"type\":\"LinearAxis\"},{\"attributes\":{\"line_alpha\":0.1,\"line_color\":\"#ff7e0e\",\"line_width\":2,\"x\":{\"field\":\"x\"},\"y\":{\"field\":\"y\"}},\"id\":\"2517\",\"type\":\"Line\"},{\"attributes\":{\"label\":{\"value\":\"x (normalized)\"},\"renderers\":[{\"id\":\"2537\"}]},\"id\":\"2554\",\"type\":\"LegendItem\"},{\"attributes\":{\"data_source\":{\"id\":\"2515\"},\"glyph\":{\"id\":\"2516\"},\"hover_glyph\":null,\"muted_glyph\":null,\"nonselection_glyph\":{\"id\":\"2517\"},\"view\":{\"id\":\"2519\"}},\"id\":\"2518\",\"type\":\"GlyphRenderer\"}],\"root_ids\":[\"2466\"]},\"title\":\"Bokeh Application\",\"version\":\"2.3.0\"}};\n",
       "  var render_items = [{\"docid\":\"65602fa9-2cc4-4793-a0c0-0c242b6c9623\",\"root_ids\":[\"2466\"],\"roots\":{\"2466\":\"eae14d5a-fa7f-44e5-a51a-119ef639aa54\"}}];\n",
       "  root.Bokeh.embed.embed_items_notebook(docs_json, render_items);\n",
       "\n",
       "  }\n",
       "  if (root.Bokeh !== undefined) {\n",
       "    embed_document(root);\n",
       "  } else {\n",
       "    var attempts = 0;\n",
       "    var timer = setInterval(function(root) {\n",
       "      if (root.Bokeh !== undefined) {\n",
       "        clearInterval(timer);\n",
       "        embed_document(root);\n",
       "      } else {\n",
       "        attempts++;\n",
       "        if (attempts > 100) {\n",
       "          clearInterval(timer);\n",
       "          console.log(\"Bokeh: ERROR: Unable to run BokehJS code because BokehJS library is missing\");\n",
       "        }\n",
       "      }\n",
       "    }, 10, root)\n",
       "  }\n",
       "})(window);"
      ],
      "application/vnd.bokehjs_exec.v0+json": ""
     },
     "metadata": {
      "application/vnd.bokehjs_exec.v0+json": {
       "id": "2466"
      }
     },
     "output_type": "display_data"
    }
   ],
   "source": [
    "# Set up parameters for periodic forcing with f = 5 and x_0 = 2.\n",
    "x_args = (5.0, 2.0)\n",
    "\n",
    "# Package parameters into a tuple\n",
    "args = (beta, gamma, n_x, 10, x_periodic, x_args)\n",
    "\n",
    "# Time points\n",
    "t = np.linspace(0, 25, 600)\n",
    "\n",
    "# Initial condition\n",
    "yz_0 = np.array([0.0, 0.0])\n",
    "\n",
    "# Integrate ODES\n",
    "yz = scipy.integrate.odeint(cascade_rhs_x_fun, yz_0, t, args=args)\n",
    "\n",
    "# Pluck out y and z\n",
    "y, z = yz.transpose()\n",
    "\n",
    "# x\n",
    "x = x_periodic(t, *x_args)\n",
    "x /= x.max()\n",
    "\n",
    "# Plot the results\n",
    "p = bokeh.plotting.figure(\n",
    "    frame_width=450,\n",
    "    frame_height=250,\n",
    "    x_axis_label=\"dimensionless time\",\n",
    "    y_axis_label=\"dimensionless y, z\",\n",
    "    x_range=[0, 10],\n",
    ")\n",
    "\n",
    "# Populate glyphs\n",
    "p.line(\n",
    "    t, y, line_width=2, color=colors[0], legend_label=\"y\", line_join=\"bevel\"\n",
    ")\n",
    "p.line(\n",
    "    t, z, line_width=2, color=colors[1], legend_label=\"z\", line_join=\"bevel\"\n",
    ")\n",
    "p.line(\n",
    "    t,\n",
    "    x,\n",
    "    line_width=2,\n",
    "    color=colors[2],\n",
    "    alpha=0.2,\n",
    "    legend_label=\"x (normalized)\",\n",
    "    line_join=\"bevel\",\n",
    ")\n",
    "\n",
    "# Place the legend\n",
    "p.legend.location = \"top_right\"\n",
    "\n",
    "# Show plot\n",
    "bokeh.io.show(p)"
   ]
  },
  {
   "cell_type": "markdown",
   "metadata": {},
   "source": [
    "We see that Z does not really respond to high frequency forcing, even though the forcing is with the same amplitude. This gives us a design principle, that **a cascade can filter out high frequency fluctuations**. We can see this by adding another frequency to the signal."
   ]
  },
  {
   "cell_type": "code",
   "execution_count": 17,
   "metadata": {},
   "outputs": [
    {
     "data": {
      "text/html": [
       "\n",
       "\n",
       "\n",
       "\n",
       "\n",
       "\n",
       "  <div class=\"bk-root\" id=\"ab622cb8-d3de-4368-b30a-8c269eb5c6d4\" data-root-id=\"2747\"></div>\n"
      ]
     },
     "metadata": {},
     "output_type": "display_data"
    },
    {
     "data": {
      "application/javascript": [
       "(function(root) {\n",
       "  function embed_document(root) {\n",
       "    \n",
       "  var docs_json = {\"90c5ad27-aa76-4353-82a4-11e148d1482f\":{\"defs\":[{\"extends\":null,\"module\":null,\"name\":\"DataModel\",\"overrides\":[],\"properties\":[]}],\"roots\":{\"references\":[{\"attributes\":{\"below\":[{\"id\":\"2756\"}],\"center\":[{\"id\":\"2759\"},{\"id\":\"2763\"},{\"id\":\"2794\"}],\"frame_height\":250,\"frame_width\":450,\"left\":[{\"id\":\"2760\"}],\"renderers\":[{\"id\":\"2781\"},{\"id\":\"2799\"},{\"id\":\"2818\"}],\"title\":{\"id\":\"2784\"},\"toolbar\":{\"id\":\"2771\"},\"x_range\":{\"id\":\"2748\"},\"x_scale\":{\"id\":\"2752\"},\"y_range\":{\"id\":\"2750\"},\"y_scale\":{\"id\":\"2754\"}},\"id\":\"2747\",\"subtype\":\"Figure\",\"type\":\"Plot\"},{\"attributes\":{},\"id\":\"2791\",\"type\":\"Selection\"},{\"attributes\":{\"source\":{\"id\":\"2796\"}},\"id\":\"2800\",\"type\":\"CDSView\"},{\"attributes\":{},\"id\":\"2792\",\"type\":\"UnionRenderers\"},{\"attributes\":{\"line_alpha\":0.1,\"line_color\":\"#2ba02b\",\"line_width\":2,\"x\":{\"field\":\"x\"},\"y\":{\"field\":\"y\"}},\"id\":\"2817\",\"type\":\"Line\"},{\"attributes\":{\"line_alpha\":0.1,\"line_color\":\"#ff7e0e\",\"line_width\":2,\"x\":{\"field\":\"x\"},\"y\":{\"field\":\"y\"}},\"id\":\"2798\",\"type\":\"Line\"},{\"attributes\":{\"active_multi\":null,\"tools\":[{\"id\":\"2764\"},{\"id\":\"2765\"},{\"id\":\"2766\"},{\"id\":\"2767\"},{\"id\":\"2768\"},{\"id\":\"2769\"}]},\"id\":\"2771\",\"type\":\"Toolbar\"},{\"attributes\":{\"data_source\":{\"id\":\"2796\"},\"glyph\":{\"id\":\"2797\"},\"hover_glyph\":null,\"muted_glyph\":null,\"nonselection_glyph\":{\"id\":\"2798\"},\"view\":{\"id\":\"2800\"}},\"id\":\"2799\",\"type\":\"GlyphRenderer\"},{\"attributes\":{},\"id\":\"2832\",\"type\":\"Selection\"},{\"attributes\":{\"label\":{\"value\":\"x (normalized)\"},\"renderers\":[{\"id\":\"2818\"}]},\"id\":\"2835\",\"type\":\"LegendItem\"},{\"attributes\":{\"bottom_units\":\"screen\",\"fill_alpha\":0.5,\"fill_color\":\"lightgrey\",\"left_units\":\"screen\",\"level\":\"overlay\",\"line_alpha\":1.0,\"line_color\":\"black\",\"line_dash\":[4,4],\"line_width\":2,\"right_units\":\"screen\",\"syncable\":false,\"top_units\":\"screen\"},\"id\":\"2770\",\"type\":\"BoxAnnotation\"},{\"attributes\":{},\"id\":\"2833\",\"type\":\"UnionRenderers\"},{\"attributes\":{\"data_source\":{\"id\":\"2815\"},\"glyph\":{\"id\":\"2816\"},\"hover_glyph\":null,\"muted_glyph\":null,\"nonselection_glyph\":{\"id\":\"2817\"},\"view\":{\"id\":\"2819\"}},\"id\":\"2818\",\"type\":\"GlyphRenderer\"},{\"attributes\":{\"source\":{\"id\":\"2815\"}},\"id\":\"2819\",\"type\":\"CDSView\"},{\"attributes\":{\"label\":{\"value\":\"z\"},\"renderers\":[{\"id\":\"2799\"}]},\"id\":\"2814\",\"type\":\"LegendItem\"},{\"attributes\":{},\"id\":\"2754\",\"type\":\"LinearScale\"},{\"attributes\":{},\"id\":\"2811\",\"type\":\"Selection\"},{\"attributes\":{},\"id\":\"2812\",\"type\":\"UnionRenderers\"},{\"attributes\":{},\"id\":\"2757\",\"type\":\"BasicTicker\"},{\"attributes\":{},\"id\":\"2786\",\"type\":\"BasicTickFormatter\"},{\"attributes\":{},\"id\":\"2787\",\"type\":\"AllLabels\"},{\"attributes\":{},\"id\":\"2765\",\"type\":\"WheelZoomTool\"},{\"attributes\":{\"line_color\":\"#1f77b3\",\"line_width\":2,\"x\":{\"field\":\"x\"},\"y\":{\"field\":\"y\"}},\"id\":\"2779\",\"type\":\"Line\"},{\"attributes\":{\"line_color\":\"#ff7e0e\",\"line_width\":2,\"x\":{\"field\":\"x\"},\"y\":{\"field\":\"y\"}},\"id\":\"2797\",\"type\":\"Line\"},{\"attributes\":{\"data\":{\"x\":{\"__ndarray__\":\"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\",\"dtype\":\"float64\",\"order\":\"little\",\"shape\":[600]},\"y\":{\"__ndarray__\":\"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\",\"dtype\":\"float64\",\"order\":\"little\",\"shape\":[600]}},\"selected\":{\"id\":\"2811\"},\"selection_policy\":{\"id\":\"2812\"}},\"id\":\"2796\",\"type\":\"ColumnDataSource\"},{\"attributes\":{},\"id\":\"2761\",\"type\":\"BasicTicker\"},{\"attributes\":{},\"id\":\"2768\",\"type\":\"ResetTool\"},{\"attributes\":{\"line_alpha\":0.1,\"line_color\":\"#1f77b3\",\"line_width\":2,\"x\":{\"field\":\"x\"},\"y\":{\"field\":\"y\"}},\"id\":\"2780\",\"type\":\"Line\"},{\"attributes\":{},\"id\":\"2767\",\"type\":\"SaveTool\"},{\"attributes\":{\"items\":[{\"id\":\"2795\"},{\"id\":\"2814\"},{\"id\":\"2835\"}]},\"id\":\"2794\",\"type\":\"Legend\"},{\"attributes\":{},\"id\":\"2748\",\"type\":\"DataRange1d\"},{\"attributes\":{},\"id\":\"2769\",\"type\":\"HelpTool\"},{\"attributes\":{\"source\":{\"id\":\"2778\"}},\"id\":\"2782\",\"type\":\"CDSView\"},{\"attributes\":{\"data_source\":{\"id\":\"2778\"},\"glyph\":{\"id\":\"2779\"},\"hover_glyph\":null,\"muted_glyph\":null,\"nonselection_glyph\":{\"id\":\"2780\"},\"view\":{\"id\":\"2782\"}},\"id\":\"2781\",\"type\":\"GlyphRenderer\"},{\"attributes\":{\"axis_label\":\"dimensionless time\",\"formatter\":{\"id\":\"2789\"},\"major_label_policy\":{\"id\":\"2790\"},\"ticker\":{\"id\":\"2757\"}},\"id\":\"2756\",\"type\":\"LinearAxis\"},{\"attributes\":{},\"id\":\"2752\",\"type\":\"LinearScale\"},{\"attributes\":{},\"id\":\"2764\",\"type\":\"PanTool\"},{\"attributes\":{\"data\":{\"x\":{\"__ndarray__\":\"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\",\"dtype\":\"float64\",\"order\":\"little\",\"shape\":[600]},\"y\":{\"__ndarray__\":\"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\",\"dtype\":\"float64\",\"order\":\"little\",\"shape\":[600]}},\"selected\":{\"id\":\"2791\"},\"selection_policy\":{\"id\":\"2792\"}},\"id\":\"2778\",\"type\":\"ColumnDataSource\"},{\"attributes\":{},\"id\":\"2789\",\"type\":\"BasicTickFormatter\"},{\"attributes\":{\"line_alpha\":0.2,\"line_color\":\"#2ba02b\",\"line_width\":2,\"x\":{\"field\":\"x\"},\"y\":{\"field\":\"y\"}},\"id\":\"2816\",\"type\":\"Line\"},{\"attributes\":{},\"id\":\"2750\",\"type\":\"DataRange1d\"},{\"attributes\":{\"overlay\":{\"id\":\"2770\"}},\"id\":\"2766\",\"type\":\"BoxZoomTool\"},{\"attributes\":{\"label\":{\"value\":\"y\"},\"renderers\":[{\"id\":\"2781\"}]},\"id\":\"2795\",\"type\":\"LegendItem\"},{\"attributes\":{\"axis_label\":\"dimensionless y, z\",\"formatter\":{\"id\":\"2786\"},\"major_label_policy\":{\"id\":\"2787\"},\"ticker\":{\"id\":\"2761\"}},\"id\":\"2760\",\"type\":\"LinearAxis\"},{\"attributes\":{},\"id\":\"2790\",\"type\":\"AllLabels\"},{\"attributes\":{\"axis\":{\"id\":\"2760\"},\"dimension\":1,\"ticker\":null},\"id\":\"2763\",\"type\":\"Grid\"},{\"attributes\":{\"data\":{\"x\":{\"__ndarray__\":\"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\",\"dtype\":\"float64\",\"order\":\"little\",\"shape\":[600]},\"y\":{\"__ndarray__\":\"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\",\"dtype\":\"float64\",\"order\":\"little\",\"shape\":[600]}},\"selected\":{\"id\":\"2832\"},\"selection_policy\":{\"id\":\"2833\"}},\"id\":\"2815\",\"type\":\"ColumnDataSource\"},{\"attributes\":{\"axis\":{\"id\":\"2756\"},\"ticker\":null},\"id\":\"2759\",\"type\":\"Grid\"},{\"attributes\":{},\"id\":\"2784\",\"type\":\"Title\"}],\"root_ids\":[\"2747\"]},\"title\":\"Bokeh Application\",\"version\":\"2.3.0\"}};\n",
       "  var render_items = [{\"docid\":\"90c5ad27-aa76-4353-82a4-11e148d1482f\",\"root_ids\":[\"2747\"],\"roots\":{\"2747\":\"ab622cb8-d3de-4368-b30a-8c269eb5c6d4\"}}];\n",
       "  root.Bokeh.embed.embed_items_notebook(docs_json, render_items);\n",
       "\n",
       "  }\n",
       "  if (root.Bokeh !== undefined) {\n",
       "    embed_document(root);\n",
       "  } else {\n",
       "    var attempts = 0;\n",
       "    var timer = setInterval(function(root) {\n",
       "      if (root.Bokeh !== undefined) {\n",
       "        clearInterval(timer);\n",
       "        embed_document(root);\n",
       "      } else {\n",
       "        attempts++;\n",
       "        if (attempts > 100) {\n",
       "          clearInterval(timer);\n",
       "          console.log(\"Bokeh: ERROR: Unable to run BokehJS code because BokehJS library is missing\");\n",
       "        }\n",
       "      }\n",
       "    }, 10, root)\n",
       "  }\n",
       "})(window);"
      ],
      "application/vnd.bokehjs_exec.v0+json": ""
     },
     "metadata": {
      "application/vnd.bokehjs_exec.v0+json": {
       "id": "2747"
      }
     },
     "output_type": "display_data"
    }
   ],
   "source": [
    "# Set up parameters for periodic forcing with f = 5 and x_0 = 2.\n",
    "x_args = ((0.5, 10.0), (0.5, 2.0))\n",
    "\n",
    "# Package parameters into a tuple\n",
    "args = (beta, gamma, n_x, 10, x_periodic, x_args)\n",
    "\n",
    "# Time points\n",
    "t = np.linspace(0, 25, 600)\n",
    "\n",
    "# Initial condition\n",
    "yz_0 = np.array([0.0, 0.0])\n",
    "\n",
    "# Integrate ODES\n",
    "yz = scipy.integrate.odeint(cascade_rhs_x_fun, yz_0, t, args=args)\n",
    "\n",
    "# Pluck out y and z\n",
    "y, z = yz.transpose()\n",
    "\n",
    "# x\n",
    "x = x_periodic(t, *x_args)\n",
    "x /= x.max()\n",
    "\n",
    "# Plot the results\n",
    "p = bokeh.plotting.figure(\n",
    "    frame_width=450,\n",
    "    frame_height=250,\n",
    "    x_axis_label=\"dimensionless time\",\n",
    "    y_axis_label=\"dimensionless y, z\",\n",
    ")\n",
    "\n",
    "# Populate glyphs\n",
    "p.line(\n",
    "    t, y, line_width=2, color=colors[0], legend_label=\"y\", line_join=\"bevel\"\n",
    ")\n",
    "p.line(\n",
    "    t, z, line_width=2, color=colors[1], legend_label=\"z\", line_join=\"bevel\"\n",
    ")\n",
    "p.line(\n",
    "    t,\n",
    "    x,\n",
    "    line_width=2,\n",
    "    color=colors[2],\n",
    "    alpha=0.2,\n",
    "    legend_label=\"x (normalized)\",\n",
    "    line_join=\"bevel\",\n",
    ")\n",
    "\n",
    "# Place the legend\n",
    "p.legend.location = \"top_right\"\n",
    "\n",
    "# Show plot\n",
    "bokeh.io.show(p)"
   ]
  },
  {
   "cell_type": "markdown",
   "metadata": {},
   "source": [
    "Even though the high frequency part of the forcing has a bigger amplitude, the signal in *z* responds predominantly to the low frequency part of the signal."
   ]
  },
  {
   "cell_type": "markdown",
   "metadata": {},
   "source": [
    "## Interactive plotting and varying parameters\n",
    "\n",
    "Plotting with Bokeh in Jupyter notebooks allows for interactivity with plots that can help to rapidly gain insights about how parameter values might affect the dynamics. We have found that this is a useful tool to rapidly explore parameter dependence on circuit behavior. We will construct an interactive plot for the cascade circuit to demonstrate how it is done.\n",
    "\n",
    "To make an interactive plot in Bokeh, there are three major components.\n",
    "\n",
    "1. The plot or plots themselves.\n",
    "2. The **widgets**. Widgets for parameter values are primarily sliders, which enable you to vary parameter values by clicking and dragging. We will also make use of a toggle, which is a pushbutton whose True/False state dictates a feature of the plot.\n",
    "3. The **callback function**. This is a function that is executed whenever a widget changes value. Most of the time, we use it to update the `ColumnDataSource` of the plot. A `ColumnDataSource` is a Bokeh object that dictates where the glyphs are placed on the plot. You may have more than one callback functions for different sliders, toggles, and also for changes in the range of the axis of the plot due to zooming.\n",
    "4. The **layout**. This is the spatial arrangement of the plots and widgets.\n",
    "5. The **app**. Bokeh will create an application that can be embedded in a notebook. To create, it you need to make a simple function that adds the layout you built to the document that Bokeh will make into an app. (This sounds a lot more complicated than it is; see the example below.)\n",
    "\n",
    "We refer to a plot or set of plots with widgets for interactivity as a **dashboard**.\n",
    "\n",
    "<div class=\"alert alert-info\">\n",
    "\n",
    "Note \n",
    "\n",
    "The excellent package [Panel](https://panel.holoviz.org) allows for more declarative (and hence fewer lines of code) means of dashboarding. We intend to use Panel exclusively for this purpose in the future. At the present point in Panel and JupterLab's development cycle, though, there are problems. As of Panel version 0.10.3, Panel graphics do not natively render in JupyterLab version 3.0.0 and above. Furthermore, when serving up dashboards with Panel (that is, serving them so they render by themselves outside of JupyterLab in their own browser tab), there are problems communicating with Bokeh's JavaScript libraries.\n",
    "    \n",
    "We expect this to be fixed in short order, and in the future will likely replace the pure-Bokeh means of dashboarding presented here. Learning how to build the dashboards using only Bokeh is still quite valuable because it offers greater flexibility and performance. It is also not *that* much more effort to code up.\n",
    "       \n",
    "</div>"
   ]
  },
  {
   "cell_type": "markdown",
   "metadata": {},
   "source": [
    "### A simple contrived example\n",
    "\n",
    "To demonstrate dashboard construction, we will first build a simple example, plotting a sine wave with a slider to adjust the frequency."
   ]
  },
  {
   "cell_type": "markdown",
   "metadata": {},
   "source": [
    "#### Step 1: Generate the plot (but don't show it)\n",
    "\n",
    "First, we will generate the plot. When we generate the plot, we specify the data in a `ColumnDataSource`, a Bokeh class that allows us to change the data on a plot. When we populate the plot with glyphs, we use the `source` keyword argument to specify the `ColumnDataSource`, and then specify `x` and `y` as strings indicating which columns of the `ColumnDataSource` are used to specify the $x$ and $y$ values, respectively.\n",
    "\n",
    "We cannot show the plot here, since we will show it in the app. A Bokeh plot can only be in a single document, in our case the app (which as far as Bokeh is concerned is separate from showing it in the JupyterLab cell below)."
   ]
  },
  {
   "cell_type": "code",
   "execution_count": 18,
   "metadata": {},
   "outputs": [],
   "source": [
    "# x-y data for plotting\n",
    "x = np.linspace(0, 1, 200)\n",
    "y = np.sin(2 * np.pi * x)\n",
    "\n",
    "# Place the data in a ColumnDataSource\n",
    "cds = bokeh.models.ColumnDataSource(dict(x=x, y=y))\n",
    "\n",
    "# Build the plot\n",
    "p = bokeh.plotting.figure(\n",
    "    frame_height=200,\n",
    "    frame_width=400,\n",
    "    x_axis_label=\"x\",\n",
    "    y_axis_label=\"sin(2π f x)\",\n",
    "    x_range=[0, 1],\n",
    "    y_range=[-1.1, 1.1]\n",
    ")\n",
    "p.line(source=cds, x=\"x\", y=\"y\", line_width=2);"
   ]
  },
  {
   "cell_type": "markdown",
   "metadata": {},
   "source": [
    "#### Step 2: Make the widgets\n",
    "\n",
    "Now we will make our widget, in this case a slider."
   ]
  },
  {
   "cell_type": "code",
   "execution_count": 19,
   "metadata": {},
   "outputs": [],
   "source": [
    "freq_slider = bokeh.models.Slider(\n",
    "    title=\"freq\", start=0, end=5, step=0.01, value=1, width=150\n",
    ")"
   ]
  },
  {
   "cell_type": "markdown",
   "metadata": {},
   "source": [
    "The slider is instantiated using `bokeh.models.Slider()`, with keyword arguments whose meaning should be obvious from their names. The `value` attribute of the slider is the present value of the slider; we started the example off at a value of 1."
   ]
  },
  {
   "cell_type": "markdown",
   "metadata": {},
   "source": [
    "#### Step 3: Make the callbacks\n",
    "\n",
    "Next, we specify the callback function that will be used to update the plot as the slider changes. The callback function for a slider must take three arguments, the attribute that changes, its old value, and its new one. We will not directly use these arguments (though we could), but will rather directly read the value from the slider using its `value` attribute. Our callback function simply updates the `y` data values of the `ColumnDataSource`."
   ]
  },
  {
   "cell_type": "code",
   "execution_count": 20,
   "metadata": {},
   "outputs": [],
   "source": [
    "def callback(attr, old, new):\n",
    "    cds.data[\"y\"] = np.sin(2 * np.pi * freq_slider.value * cds.data[\"x\"])\n",
    "\n",
    "    # Could also do: cds.data[\"y\"] = np.sin(2 * np.pi * new * cds.data[\"x\"])"
   ]
  },
  {
   "cell_type": "markdown",
   "metadata": {},
   "source": [
    "Now, we need to alert Bokeh that it should trigger the callback function whenever the slider `value` changes."
   ]
  },
  {
   "cell_type": "code",
   "execution_count": 21,
   "metadata": {},
   "outputs": [],
   "source": [
    "freq_slider.on_change(\"value\", callback)"
   ]
  },
  {
   "cell_type": "markdown",
   "metadata": {},
   "source": [
    "#### Step 4: Build the layout\n",
    "\n",
    "Now that we have a slider and a plot and have linked the data source of the plot to the slider, we can lay out the dashboard. We will put the slider next to the plot, putting a spacer in between."
   ]
  },
  {
   "cell_type": "code",
   "execution_count": 22,
   "metadata": {},
   "outputs": [],
   "source": [
    "layout = bokeh.layouts.row(p, bokeh.models.Spacer(width=30), freq_slider)"
   ]
  },
  {
   "cell_type": "markdown",
   "metadata": {},
   "source": [
    "#### Step 5: Make the app\n",
    "\n",
    "Now we are ready to make a function to produce the app. The function needs to have call signature `app(doc)`, where `doc` represents the document that Bokeh will build into an app. The purpose of this function is to add the layout we have just build to the document."
   ]
  },
  {
   "cell_type": "code",
   "execution_count": 23,
   "metadata": {},
   "outputs": [],
   "source": [
    "def app(doc):\n",
    "    doc.add_root(layout)"
   ]
  },
  {
   "cell_type": "markdown",
   "metadata": {},
   "source": [
    "#### Step 6: Enjoy your interactive plot!\n",
    "\n",
    "And we are finally ready to see the app! When we call `bokeh.io.show()`, we pass the `app()` function as the first argument. We also need to use the `notebook_url` keyword argument to specify where the notebook is being hosted. This is usually `'localhost:8888'`, but the number may change (e.g., `8889` or `8890`). You can look in the navigation bar of your browser to make sure you get the right number.\n",
    "\n",
    "<div class=\"alert alert-info\">\n",
    "\n",
    "Note \n",
    "\n",
    "In the static HTML rendering of this notebook, the app will not appear. This is because it is running a Python engine for the interactivity, and no such engine is available in the browser. In a later chapter, we will show how you can get interactivity in an HTML rendering of a notebook using JavaScript.\n",
    "    \n",
    "Also, Bokeh apps currently are not supported by Google Colab.\n",
    "       \n",
    "</div>"
   ]
  },
  {
   "cell_type": "code",
   "execution_count": 24,
   "metadata": {},
   "outputs": [
    {
     "data": {
      "application/vnd.bokehjs_exec.v0+json": "",
      "text/html": [
       "\n",
       "<script id=\"3083\">\n",
       "  var xhr = new XMLHttpRequest()\n",
       "  xhr.responseType = 'blob';\n",
       "  xhr.open('GET', \"http://localhost:53302/autoload.js?bokeh-autoload-element=3083&bokeh-absolute-url=http://localhost:53302&resources=none\", true);\n",
       "  \n",
       "  xhr.onload = function (event) {\n",
       "    var script = document.createElement('script'),\n",
       "    src = URL.createObjectURL(event.target.response);\n",
       "    script.src = src;\n",
       "    document.body.appendChild(script);\n",
       "  };\n",
       "xhr.send();\n",
       "</script>"
      ]
     },
     "metadata": {
      "application/vnd.bokehjs_exec.v0+json": {
       "server_id": "18f6b9c7e95c4067b0eabe355c8748c4"
      }
     },
     "output_type": "display_data"
    }
   ],
   "source": [
    "bokeh.io.show(app, notebook_url='localhost:8888')"
   ]
  },
  {
   "cell_type": "markdown",
   "metadata": {},
   "source": [
    "#### Serving an app\n",
    "\n",
    "If you wanted to have a stand-alone interactive plot on its own browser tab, you can put all of the code necessary to generate it in a single `.py` file and then serve it from the command line. For this example, we could have a file `sine_wave.py` with the following contents.\n",
    "\n",
    "```python\n",
    "import numpy as np\n",
    "import bokeh.plotting\n",
    "import bokeh.models\n",
    "\n",
    "# x-y data for plotting\n",
    "x = np.linspace(0, 1, 200)\n",
    "y = np.sin(2 * np.pi * x)\n",
    "\n",
    "# Place the data in a ColumnDataSource\n",
    "cds = bokeh.models.ColumnDataSource(dict(x=x, y=y))\n",
    "\n",
    "# Build the plot\n",
    "p = bokeh.plotting.figure(\n",
    "    frame_height=200,\n",
    "    frame_width=400,\n",
    "    x_axis_label=\"x\",\n",
    "    y_axis_label=\"sin(2πfx)\",\n",
    "    x_range=[0, 1],\n",
    "    y_range=[-1.1, 1.1]\n",
    ")\n",
    "p.line(source=cds, x=\"x\", y=\"y\", line_width=2)\n",
    "\n",
    "freq_slider = bokeh.models.Slider(\n",
    "    title=\"freq\", start=0, end=5, step=0.01, value=1, width=150\n",
    ")\n",
    "\n",
    "def callback(attr, old, new):\n",
    "    cds.data[\"y\"] = np.sin(2 * np.pi * freq_slider.value * cds.data[\"x\"])\n",
    "\n",
    "freq_slider.on_change(\"value\", callback)\n",
    "\n",
    "layout = bokeh.layouts.row(p, bokeh.models.Spacer(width=30), freq_slider)\n",
    "\n",
    "def app(doc):\n",
    "    doc.add_root(layout)\n",
    "\n",
    "# Build the app in the current doc\n",
    "app(bokeh.plotting.curdoc())\n",
    "```\n",
    "\n",
    "After saving that file, you can serve it be doing the following on the command line.\n",
    "\n",
    "```bash\n",
    "bokeh serve --show sine_wave.py\n",
    "```"
   ]
  },
  {
   "cell_type": "markdown",
   "metadata": {},
   "source": [
    "### An app for the cascade model\n",
    "\n",
    "We now follow the same steps to build an interactive plot for the response of the cascade model to a step in input concentration $x_0$."
   ]
  },
  {
   "cell_type": "markdown",
   "metadata": {},
   "source": [
    "#### Step 1: Build the plot\n",
    "\n",
    "To build the plot, we use the same function as above, but we modify it to use a `ColumnDataSource`, which is also returned along with the plot."
   ]
  },
  {
   "cell_type": "code",
   "execution_count": 25,
   "metadata": {},
   "outputs": [],
   "source": [
    "def cascade_response_plot(\n",
    "    log_beta=0,\n",
    "    log_gamma=0,\n",
    "    n_x=2,\n",
    "    n_y=2,\n",
    "    log_x0=np.log10(2),\n",
    "    t_max=10,\n",
    "    normalize=False,\n",
    "):\n",
    "    \"\"\"Generate a plot showing response of the cascade circuit\n",
    "    to a step in x0.\n",
    "    \"\"\"\n",
    "    # Package parameters into a tuple\n",
    "    args = (\n",
    "        10 ** log_beta,\n",
    "        10 ** log_gamma,\n",
    "        n_x,\n",
    "        n_y,\n",
    "        10 ** log_x0,\n",
    "    )\n",
    "\n",
    "    # Integrate ODES\n",
    "    t = np.linspace(0, t_max, 1000)\n",
    "    yz = scipy.integrate.odeint(cascade_rhs, yz_0, t, args=args)\n",
    "    y, z = yz.transpose()\n",
    "\n",
    "    # Normalize Y and Z responses\n",
    "    if normalize:\n",
    "        y /= y.max()\n",
    "        z /= z.max()\n",
    "\n",
    "    # Set up the column data source\n",
    "    cds = bokeh.models.ColumnDataSource(dict(t=t, y=y, z=z))\n",
    "\n",
    "    # Set up plot\n",
    "    p = bokeh.plotting.figure(\n",
    "        frame_width=325,\n",
    "        frame_height=250,\n",
    "        x_axis_label=\"dimensionless time\",\n",
    "        y_axis_label=f\"{'normalized ' if normalize else ''}dimensionless y, z\",\n",
    "        x_range=[0, t_max],\n",
    "    )\n",
    "\n",
    "    # Populate glyphs\n",
    "    p.line(source=cds, x=\"t\", y=\"y\", line_width=2, color=colors[0], legend_label=\"y\")\n",
    "    p.line(source=cds, x=\"t\", y=\"z\", line_width=2, color=colors[1], legend_label=\"z\")\n",
    "\n",
    "    # Place the legend\n",
    "    p.legend.location = \"bottom_right\"\n",
    "\n",
    "    return p, cds"
   ]
  },
  {
   "cell_type": "markdown",
   "metadata": {},
   "source": [
    "Let's call the function to get our plot and `ColumnDataSource`."
   ]
  },
  {
   "cell_type": "code",
   "execution_count": 26,
   "metadata": {},
   "outputs": [],
   "source": [
    "p, cds = cascade_response_plot()"
   ]
  },
  {
   "cell_type": "markdown",
   "metadata": {},
   "source": [
    "#### Step 2: Build the widgets\n",
    "\n",
    "Now we will build our sliders, one for each parameter. We are interested in varying the parameters $\\beta$, $\\gamma$, and $x_0$ on a logarithmic scale, so we will set up the sliders to specify $\\log_{10} \\beta$, $\\log_{10}\\gamma$ and $\\log_{10} x_0$."
   ]
  },
  {
   "cell_type": "code",
   "execution_count": 27,
   "metadata": {},
   "outputs": [],
   "source": [
    "log_beta_slider = bokeh.models.Slider(\n",
    "    title=\"log₁₀ β\", start=-1, end=2, step=0.1, value=0, width=150\n",
    ")\n",
    "log_gamma_slider = bokeh.models.Slider(\n",
    "    title=\"log₁₀ γ\", start=-1, end=2, step=0.1, value=0, width=150\n",
    ")\n",
    "nx_slider = bokeh.models.Slider(\n",
    "    title=\"nx\", start=0.1, end=10, step=0.1, value=2, width=150\n",
    ")\n",
    "ny_slider = bokeh.models.Slider(\n",
    "    title=\"ny\", start=0.1, end=10, step=0.1, value=2, width=150\n",
    ")\n",
    "log_x0_slider = bokeh.models.Slider(\n",
    "    title=\"log₁₀ x0\", start=-1, end=2, step=0.1, value=np.log10(2), width=150\n",
    ")"
   ]
  },
  {
   "cell_type": "markdown",
   "metadata": {},
   "source": [
    "We also want to be able to toggle between display of normalized versus unnormalized responses of $y$ and $z$. We can make a toggle button for that."
   ]
  },
  {
   "cell_type": "code",
   "execution_count": 28,
   "metadata": {},
   "outputs": [],
   "source": [
    "normalize_toggle = bokeh.models.Toggle(label='Normalize', active=False, width=50)"
   ]
  },
  {
   "cell_type": "markdown",
   "metadata": {},
   "source": [
    "#### Step 3: Build the callbacks\n",
    "\n",
    "We can now build our callback. This callback will be a bit more complicated. For each new slider value, we need to re-integrate the dynamical equations. We also need to check to see if the normalization toggle button is clicked and appropriately scale the data and change the y-axis label. We also will need to recalculate the result if the range of the time axis changes, so we need to read the time points off of the `x_range` property of the plot."
   ]
  },
  {
   "cell_type": "code",
   "execution_count": 29,
   "metadata": {},
   "outputs": [],
   "source": [
    "def cascade_callback(attr, old, new):\n",
    "    # Set up time values, keeping minimum at zero\n",
    "    t = np.linspace(0, p.x_range.end, 2000)\n",
    "\n",
    "    # Package slider values\n",
    "    args = (\n",
    "        10 ** log_beta_slider.value,\n",
    "        10 ** log_gamma_slider.value,\n",
    "        nx_slider.value,\n",
    "        ny_slider.value,\n",
    "        10 ** log_x0_slider.value,\n",
    "    )\n",
    "\n",
    "    # Integrate ODES\n",
    "    yz = scipy.integrate.odeint(cascade_rhs, yz_0, t, args=args)\n",
    "\n",
    "    # Normalize if desired\n",
    "    if normalize_toggle.active:\n",
    "        yz[:, 0] /= yz[:, 0].max()\n",
    "        yz[:, 1] /= yz[:, 1].max()\n",
    "        p.yaxis.axis_label = \"normalized dimensionless y, z\"\n",
    "    else:\n",
    "        p.yaxis.axis_label = \"dimensionless y, z\"\n",
    "\n",
    "    # Update data source\n",
    "    y, z = yz.transpose()\n",
    "    cds.data = dict(t=t, y=y, z=z)"
   ]
  },
  {
   "cell_type": "markdown",
   "metadata": {},
   "source": [
    "Now we link the callback to the sliders, and also to the normalization toggle and the range of the time axis."
   ]
  },
  {
   "cell_type": "code",
   "execution_count": 30,
   "metadata": {},
   "outputs": [],
   "source": [
    "log_beta_slider.on_change(\"value\", cascade_callback)\n",
    "log_gamma_slider.on_change(\"value\", cascade_callback)\n",
    "nx_slider.on_change(\"value\", cascade_callback)\n",
    "ny_slider.on_change(\"value\", cascade_callback)\n",
    "log_x0_slider.on_change(\"value\", cascade_callback)\n",
    "normalize_toggle.on_change(\"active\", cascade_callback)\n",
    "p.x_range.on_change(\"end\", cascade_callback)"
   ]
  },
  {
   "cell_type": "markdown",
   "metadata": {},
   "source": [
    "#### Step 4: The layout\n",
    "\n",
    "We can now lay things out. I will put the sliders and normalization toggle in a column next to the plot."
   ]
  },
  {
   "cell_type": "code",
   "execution_count": 31,
   "metadata": {},
   "outputs": [],
   "source": [
    "layout = bokeh.layouts.row(\n",
    "    p,\n",
    "    bokeh.layouts.Spacer(width=30),\n",
    "    bokeh.layouts.column(\n",
    "        log_beta_slider,\n",
    "        log_gamma_slider,\n",
    "        nx_slider,\n",
    "        ny_slider,\n",
    "        log_x0_slider,\n",
    "        normalize_toggle,\n",
    "    ),\n",
    ")"
   ]
  },
  {
   "cell_type": "markdown",
   "metadata": {},
   "source": [
    "#### Step 5: The app\n",
    "\n",
    "And now for the app! (Note again that this app will not appear in the HTML rendering of this notebook and will not work using Google Colab.)"
   ]
  },
  {
   "cell_type": "code",
   "execution_count": 32,
   "metadata": {},
   "outputs": [
    {
     "data": {
      "application/vnd.bokehjs_exec.v0+json": "",
      "text/html": [
       "\n",
       "<script id=\"3197\">\n",
       "  var xhr = new XMLHttpRequest()\n",
       "  xhr.responseType = 'blob';\n",
       "  xhr.open('GET', \"http://localhost:53305/autoload.js?bokeh-autoload-element=3197&bokeh-absolute-url=http://localhost:53305&resources=none\", true);\n",
       "  \n",
       "  xhr.onload = function (event) {\n",
       "    var script = document.createElement('script'),\n",
       "    src = URL.createObjectURL(event.target.response);\n",
       "    script.src = src;\n",
       "    document.body.appendChild(script);\n",
       "  };\n",
       "xhr.send();\n",
       "</script>"
      ]
     },
     "metadata": {
      "application/vnd.bokehjs_exec.v0+json": {
       "server_id": "2de2427661244958971c8a277992aac1"
      }
     },
     "output_type": "display_data"
    }
   ],
   "source": [
    "def app(doc):\n",
    "    doc.add_root(layout)\n",
    "    \n",
    "bokeh.io.show(app, notebook_url='localhost:8888')"
   ]
  },
  {
   "cell_type": "markdown",
   "metadata": {},
   "source": [
    "Importantly, when exploring the plot interactively, we see that when Y cooperatively activates Z (that is, $n_y$ is large), the delay is longer. The delay is also naturally longer as $\\gamma$ gets small. This makes sense, since $\\gamma$ is the ratio of the decay rate of Z to that of Y. As we saw in the previous chapter, the decay rate sets the speed of the response, and if Z decays more slowly than Y, its dynamics will be slower.\n",
    "\n",
    "Note that the above conclusions are clearer when we plot the normalized curves."
   ]
  },
  {
   "cell_type": "markdown",
   "metadata": {},
   "source": [
    "## A challenge\n",
    "\n",
    "In the above analysis of periodic forcing, I made a fresh plot each time of the response to an oscillating input so that the plots would display nicely in the HTML rendered version of this notebook. Can you make the sample plot(s) by making a single interactive plot?"
   ]
  },
  {
   "cell_type": "markdown",
   "metadata": {},
   "source": [
    "## Computing environment"
   ]
  },
  {
   "cell_type": "code",
   "execution_count": 33,
   "metadata": {},
   "outputs": [
    {
     "name": "stdout",
     "output_type": "stream",
     "text": [
      "Python implementation: CPython\n",
      "Python version       : 3.8.8\n",
      "IPython version      : 7.22.0\n",
      "\n",
      "numpy     : 1.19.2\n",
      "scipy     : 1.6.2\n",
      "bokeh     : 2.3.0\n",
      "colorcet  : 2.0.6\n",
      "jupyterlab: 3.0.11\n",
      "\n"
     ]
    }
   ],
   "source": [
    "%load_ext watermark\n",
    "%watermark -v -p numpy,scipy,bokeh,colorcet,jupyterlab"
   ]
  }
 ],
 "metadata": {
  "kernelspec": {
   "display_name": "Python 3",
   "language": "python",
   "name": "python3"
  },
  "language_info": {
   "codemirror_mode": {
    "name": "ipython",
    "version": 3
   },
   "file_extension": ".py",
   "mimetype": "text/x-python",
   "name": "python",
   "nbconvert_exporter": "python",
   "pygments_lexer": "ipython3",
   "version": "3.8.8"
  }
 },
 "nbformat": 4,
 "nbformat_minor": 4
}
