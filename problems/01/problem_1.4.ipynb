{
 "cells": [
  {
   "cell_type": "markdown",
   "metadata": {},
   "source": [
    "# Problem 1.4: Activators vs. repressors\n",
    "\n",
    "<hr>"
   ]
  },
  {
   "cell_type": "markdown",
   "metadata": {},
   "source": [
    "*This problem is still a draft.*\n",
    "\n",
    "We discussed regulation by activators and by repressors and presented two possible arguments as to why high-demand genes tend to be more frequently regulated by activators and low-demand genes by repressors. [Savageau](https://www.ncbi.nlm.nih.gov/pubmed/271992) posited a \"use-it-or-lose-it\" rule of evolutionary selection. [Shinar](https://doi.org/10.1073/pnas.0506610103) proposed a different explanation, that preventing DNA from being naked and therefore inadvertantly activated avoids a fitness cost of producing \"unintentional\" gene products.\n",
    "\n",
    "Can you devise an experimental way to discriminate among these potential explanations?"
   ]
  },
  {
   "cell_type": "markdown",
   "metadata": {},
   "source": [
    "<br />"
   ]
  }
 ],
 "metadata": {
  "anaconda-cloud": {},
  "kernelspec": {
   "display_name": "Python 3 (ipykernel)",
   "language": "python",
   "name": "python3"
  },
  "language_info": {
   "codemirror_mode": {
    "name": "ipython",
    "version": 3
   },
   "file_extension": ".py",
   "mimetype": "text/x-python",
   "name": "python",
   "nbconvert_exporter": "python",
   "pygments_lexer": "ipython3",
   "version": "3.9.7"
  }
 },
 "nbformat": 4,
 "nbformat_minor": 4
}
