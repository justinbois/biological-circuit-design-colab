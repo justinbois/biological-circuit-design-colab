{
 "cells": [
  {
   "cell_type": "markdown",
   "metadata": {},
   "source": [
    "# Homework 3.2: A tri-stable cell-fate determinant circuit (30 pts)\n",
    "\n",
    "<hr>"
   ]
  },
  {
   "cell_type": "markdown",
   "metadata": {},
   "source": [
    "Common myeloid precursor (CMP) cells are stem cells that can either differentiate into an erythroid (red blood cell) cell or a myeloid (bone marrow) cell. Such a binary differentiation may be regulated by a genetic circuit akin to the toggle circuit we have studied in class. However, the progenitor state of the CMP cells is also stable, which suggests tristability of the underlying circuit. In particular, the transcription factors GATA1 (which we will call X for convenience) and PU.1 (which we will call Y) are mutually repressive, which gives them the toggle-like behavior. They also are autoactivating. These interactions are summarized in the circuit below.\n",
    "\n",
    "<div style=\"margin: auto; width: 200px\">\n",
    "\n",
    "![tristable toggle](tristable_toggle.svg)\n",
    "    \n",
    "</div>\n",
    "<br />\n",
    "\n",
    "[Huang and coworkers (_Dev. Biol._, 2007)](https://doi.org/10.1016/j.ydbio.2007.02.036) claimed that this circuit can give tristability. Your task is to assess that claim. Model the circuit where the repression of X by Y and X's autoactivation exhibits OR logic as does repression of Y by X and Y's autoactivation. Can you come up with parameter values that show tristability?\n",
    "\n",
    "We have not covered some of the mathematical techniques, such as linear stability analysis, that help test the stability of fixed points. However, the graphical nullcline analysis we have covered is useful and sufficient to demonstrate tristability. Think about how many fixed points are necessary to get tristability. Here is a useful hint: It may be a bit tricky to plot the nullclines because they may be discontinuous and not defined on some intervals. Make sure you plot *plenty* of values of $x$ and $y$ so that you can catch all of the crossings of nullclines."
   ]
  },
  {
   "cell_type": "markdown",
   "metadata": {},
   "source": [
    "<br />"
   ]
  }
 ],
 "metadata": {
  "anaconda-cloud": {},
  "kernelspec": {
   "display_name": "Python 3",
   "language": "python",
   "name": "python3"
  },
  "language_info": {
   "codemirror_mode": {
    "name": "ipython",
    "version": 3
   },
   "file_extension": ".py",
   "mimetype": "text/x-python",
   "name": "python",
   "nbconvert_exporter": "python",
   "pygments_lexer": "ipython3",
   "version": "3.8.8"
  }
 },
 "nbformat": 4,
 "nbformat_minor": 4
}
