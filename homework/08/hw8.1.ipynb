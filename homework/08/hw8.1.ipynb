{
 "cells": [
  {
   "cell_type": "markdown",
   "id": "63a2abf0-da4a-45ad-bcc9-9b0e7aed7bb9",
   "metadata": {},
   "source": [
    "# Homework 8.1: Analysis of cis-inhibition in the Delta-Notch system (70 pts)\n",
    "\n",
    "\n",
    "<hr>"
   ]
  },
  {
   "cell_type": "code",
   "execution_count": 1,
   "id": "db37d93d-e3be-476a-bbd0-f9f727f7add7",
   "metadata": {},
   "outputs": [],
   "source": [
    "import collections\n",
    "import numpy as np"
   ]
  },
  {
   "cell_type": "markdown",
   "id": "44eca3eb-9df6-4960-9a17-3fe4ef30dea0",
   "metadata": {},
   "source": [
    "In this problem, we will perform some of the analysis of the Delta-Notch system, including *cis*-interactions, using a model developed in [Sprinzak, et al., 2010](https://doi.org/10.1038/nature08959).\n",
    "\n",
    "The dynamics of Delta ($D$), Notch ($N$), Nicd ($S$), and the fluorescent reporter ($R$) in a given cell are given by the following differential equations.\n",
    "\n",
    "\\begin{align}\n",
    "&\\frac{\\mathrm{d}N}{\\mathrm{d}t} = \\beta_N - \\gamma_N N - k_t N D_\\mathrm{trans} - k_c N D \\\\[1em]\n",
    "&\\frac{\\mathrm{d}D}{\\mathrm{d}t} = \\beta_D - \\gamma_D D - k_t N_\\mathrm{trans} D - k_c N D \\\\[1em]\n",
    "&\\frac{\\mathrm{d}S}{\\mathrm{d}t} = k_t N D_\\mathrm{trans} - \\gamma_S S \\\\[1em]\n",
    "&\\frac{\\mathrm{d}R}{\\mathrm{d}t} = \\beta_R\\left(\\frac{k_\\mathrm{RS}\\,k_t ND_\\mathrm{trans}}{\\gamma_S}\\right)^p - \\gamma_R R.\n",
    "\\end{align}\n",
    "\n",
    "In these equations, the subscript \"trans\" is used to denote the total amount of Delta or Notch in contact with the cell of interest, either from neighboring cells or from the plate on which they sit. We have also made approximations about fast dynamics of cleavage of the Notch-Delta complex and subsequent expression of reporter such that the equation for $R$ is decoupled from that of $S$.\n",
    "\n",
    "**a)** In one of the experiments in the Sprinzak paper, the authors placed cells on a plate with a set concentration $D_\\mathrm{trans} = D_\\mathrm{plate}$ in the absence of doxycycline.  In this case, $N_\\mathrm{trans} = 0$ and $\\beta_D = 0$. Because we are looking at reporter dynamics, we do not need to consider the ODE for $S$. \n",
    "\n",
    "We will use the following parameter values.\n",
    "\n",
    "| Parameter     | Value     | Units                                    |\n",
    "|:-------------:|:---------:|:----------------------------------------:|\n",
    "| $\\gamma_N$    | 0.08      | hours⁻¹                                  |\n",
    "| $\\gamma_D$    | 0.08      | hours⁻¹                                  |\n",
    "| $\\gamma_R$    | 0.01      | hours⁻¹                                  |\n",
    "| $\\gamma_S$    | 0.1       | hours⁻¹                                  |\n",
    "| $k_t$         | 0.5       | (plate concentration units · hours)⁻¹    |\n",
    "| $k_c$         | 5         | (relative fluorescent units · hours)⁻¹   |\n",
    "| $k_{RS}$      | 6.67×10⁻⁴ | (relative fluorescent units · hours)⁻¹   |\n",
    "| $\\beta_N$     | 1         | relative fluorescent units/hour          |\n",
    "| $\\beta_R$     | 1.25×10⁸  | relative fluorescent units/hour          |\n",
    "| $p$           | 2         | dimensionless                            |\n",
    "\n",
    "Note that we have set $\\gamma_N = \\gamma_D$, and we will assume this to be the case for this entire problem. Compute the reporter concentration over time for values of $D_\\mathrm{plate}$ ranging at least from 0.063 to 1.4 µg/mL, but you may use other values of $D_\\mathrm{plate}$ if you like. (In the Sprinzak, et al. paper, they used $D_\\mathrm{plate} =$ \\{0.063, 0.084, 0.11, 0.15, 0.20, 0.26, 0.35, 0.46, 0.62, 0.82, 1.1, 1.4\\}.) Start from an initial condition of $R(0) = 0$, $D(0) \\equiv D_0 = 200$, and\n",
    "\n",
    "\\begin{align}\n",
    "N(0) = \\frac{\\beta_N}{\\gamma_N + k_c D_0 + k_t D_\\mathrm{plate}}.\n",
    "\\end{align}\n",
    "\n",
    "For convenience, the parameters are given in the code cell below."
   ]
  },
  {
   "cell_type": "code",
   "execution_count": 2,
   "id": "18314a20-f503-4ce8-b75e-1ee0d53a75c8",
   "metadata": {},
   "outputs": [],
   "source": [
    "Params = collections.namedtuple(\n",
    "    \"Params\",\n",
    "    [\n",
    "        \"gamma_N\",\n",
    "        \"gamma_D\",\n",
    "        \"gamma_R\",\n",
    "        \"gamma_S\",\n",
    "        \"k_t\",\n",
    "        \"k_c\",\n",
    "        \"k_RS\",\n",
    "        \"beta_N\",\n",
    "        \"beta_R\",\n",
    "        \"p\",\n",
    "    ],\n",
    ")\n",
    "\n",
    "params = Params(\n",
    "    gamma_N=0.08,\n",
    "    gamma_D=0.08,\n",
    "    gamma_R=0.01,\n",
    "    gamma_S=0.1,\n",
    "    k_t=0.5,\n",
    "    k_c=5,\n",
    "    k_RS=1 / 1500,\n",
    "    beta_N=1,\n",
    "    beta_R=1.25e8,\n",
    "    p=2,\n",
    ")\n",
    "\n",
    "D_plate = np.array(\n",
    "    [0.063, 0.084, 0.11, 0.15, 0.20, 0.26, 0.35, 0.46, 0.62, 0.82, 1.1, 1.4]\n",
    ")"
   ]
  },
  {
   "cell_type": "markdown",
   "id": "11e354e1-56d9-4247-9b66-5747efcbcaf5",
   "metadata": {},
   "source": [
    "Comment on what the plots tell you about the timing and sharpness of turning on gene expression in response to a trans Delta signal."
   ]
  },
  {
   "cell_type": "markdown",
   "id": "a54dec2c-ae36-4bc7-a6ec-6f754834f10b",
   "metadata": {},
   "source": [
    "**b)** Now consider two cells in contact with each other. They have the same Notch production rate, $\\beta_N$, but they have different Delta production rates, $\\beta_D^{(1)}$ and $\\beta_D^{(2)}$. Our goal is to investigate the amplification in the level of signaling due to differing rates of Delta production. In other words, we want to compare the relative difference in levels of Nicd to the relative difference in the $\\beta_D$'s. The amplification is thus defined as\n",
    "\n",
    "\\begin{align}\n",
    "\\text{amplification} = \\frac{(S_2 - S_1) / S_1}{(\\beta_D^{(1)} - \\beta_D^{(2)}) / \\beta_D^{(1)}}\n",
    "= \\frac{1-S_1/S_2}{1 - \\beta_D^{(2)}/\\beta_D^{(1)}}.\n",
    "\\end{align}\n",
    "\n",
    "- Nondimensionalize the equations for the Delta and Notch dynamics to give\n",
    "\\begin{align}\n",
    "&\\frac{\\mathrm{d}n_1}{\\mathrm{d}t} = \\beta_n - n_1 - \\kappa d_1 n_1 - d_2 n_1 \\\\[1em]\n",
    "&\\frac{\\mathrm{d}n_2}{\\mathrm{d}t} = \\beta_n - n_2 - \\kappa d_2 n_2 - d_1 n_2 \\\\[1em]\n",
    "&\\frac{\\mathrm{d}d_1}{\\mathrm{d}t} = \\beta^{(1)}_d - d_1 - \\kappa d_1 n_1 - d_1 n_2 \\\\[1em]\n",
    "&\\frac{\\mathrm{d}d_2}{\\mathrm{d}t} = \\beta^{(2)}_d - d_2 - \\kappa d_2 n_2 - d_2 n_1.\n",
    "\\end{align}\n",
    "Be sure to identify how the dimensionless parameter and variables are defined.\n",
    "\n",
    "- Show that a homogeneous steady state $n_1 = n_2 \\equiv n_0$ and $d_1 = d_2 \\equiv d_0$ only exists when $\\beta_d^{(1)} = \\beta_d^{(2)}$.  Why is this fact pertinent when considering the states of these neighboring cells?\n",
    "\n",
    "- Show that the amplification is\n",
    "\n",
    "\\begin{align}\n",
    "\\text{amplification} = \\frac{1-d_2n_1/d_1n_2}{1 - \\beta_d^{(2)}/\\beta_d^{(1)}}.\n",
    "\\end{align}\n",
    "\n",
    "- The above dimensionless equations for the Delta-Notch dynamics have a unique steady state. Why is it important to know this fact? (If you are so inclined, you can you can prove the uniqueness of the steady state; it takes some effort.)\n",
    "\n",
    "- Show that the steady state is linearly stable.  Why is this an important fact?  *Hint*: Use the following facts about matrices.\n",
    "    1. A square matrix $\\mathsf{A}$ has the same eigenvalues as its transpose, $\\mathsf{A}^\\mathsf{T}$.\n",
    "    2. The [Gerschgorin Circle Theorem](https://en.wikipedia.org/wiki/Gershgorin_circle_theorem) states that for an $n\\times n$ matrix $\\mathsf{A}$ with entries $a_{ij}$, every (potentially complex) eigenvalue $\\lambda$ satisfies\n",
    "    $$\n",
    "    |\\lambda - a_{ii}| \\le \\sum_{j\\ne i}|a_{ij}|\n",
    "    $$\n",
    "    for at least one $i$. This gives the regions in the complex plane where the eigenvalues may lie.\n",
    "    3. A square matrix is strictly diagonally dominant if the magnitude of the entry on the diagonal is greater than the sum of the magnitudes of the off-diagonal entries for each row. It follows from the Gerschgorin Circle Theorem that all of the eigenvalues of a real strictly diagonally dominant matrix with positive entries on the diagonal have positive real parts.\n",
    "\n",
    "- Plot the amplification at steady state versus $\\bar{\\beta}_d \\equiv \\left.\\left(\\beta_d^{(1)}+ \\beta_d^{(1)}\\right) \\middle/ 2\\right.$ for varying values of $\\kappa$. For this plot, take $\\beta_d^{(2)} / \\beta_D^{(1)} = 1.35$ and $\\beta_n = 200$. Comment on what you see in the plot.\n",
    "\n",
    "**c)** *In an effort to keep the length of this homework problem from growing too large, this part of this problem is optional. I think it is an interesting problem to think about, though, so if you are interested in getting a more thorough understanding of the Delta-Notch system, I recommend doing it.*\n",
    "\n",
    "In many systems, the Nicd can serve to repress expression of Delta. If this is the case, we could model the repression with a Hill function, and our dimensionless dynamical system is\n",
    "\n",
    "\\begin{align}\n",
    "&\\frac{\\mathrm{d}n_1}{\\mathrm{d}t} = \\beta_n - n_1 - \\kappa d_1 n_1 - d_2 n_1 \\\\[1em]\n",
    "&\\frac{\\mathrm{d}n_2}{\\mathrm{d}t} = \\beta_n - n_2 - \\kappa d_2 n_2 - d_1 n_2 \\\\[1em]\n",
    "&\\frac{\\mathrm{d}d_1}{\\mathrm{d}t} = \\frac{\\beta_d}{1 + s_1^\\alpha} - d_1 - \\kappa d_1 n_1 - d_1 n_2 \\\\[1em]\n",
    "&\\frac{\\mathrm{d}d_2}{\\mathrm{d}t} = \\frac{\\beta_d}{1 + s_2^\\alpha} - d_2 - \\kappa d_2 n_2 - d_2 n_1 \\\\[1em]\n",
    "&\\frac{\\mathrm{d}s_1}{\\mathrm{d}t} = \\kappa_s d_2 n_1 - \\gamma s_1\\\\[1em]\n",
    "&\\frac{\\mathrm{d}s_2}{\\mathrm{d}t} = \\kappa_s d_1 n_2 - \\gamma s_2.\n",
    "\\end{align}\n",
    "\n",
    "Note that we have not imposed that $\\beta_d$ be different in the two cells. It can be shown that a unique homogeneous steady state ($n_1 = n_2 \\equiv n_0$ and $d_1 = d_2 \\equiv d_0$) exists. Use your intuition to devise a set of parameter values for which the homogeneous steady state is not stable, and demonstrate that it is not by solving the dynamical equations starting from the steady state."
   ]
  },
  {
   "cell_type": "markdown",
   "id": "ae485ba1-b54b-4a44-9bf7-40f209abeabf",
   "metadata": {},
   "source": [
    "<br />"
   ]
  }
 ],
 "metadata": {
  "kernelspec": {
   "display_name": "Python 3",
   "language": "python",
   "name": "python3"
  },
  "language_info": {
   "codemirror_mode": {
    "name": "ipython",
    "version": 3
   },
   "file_extension": ".py",
   "mimetype": "text/x-python",
   "name": "python",
   "nbconvert_exporter": "python",
   "pygments_lexer": "ipython3",
   "version": "3.8.8"
  }
 },
 "nbformat": 4,
 "nbformat_minor": 5
}
