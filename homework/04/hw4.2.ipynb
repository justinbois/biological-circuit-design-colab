{
 "cells": [
  {
   "cell_type": "markdown",
   "metadata": {},
   "source": [
    "# Homework 4.2: Kinetic proofreading in the immune system (50 pts)\n",
    "\n",
    "<hr>"
   ]
  },
  {
   "cell_type": "markdown",
   "metadata": {},
   "source": [
    "In class, we talked about kinetic proofreading in the context of translation. In this problem, we will consider a model for kinetic proofreading in the immune system. T cells recognize specific agonist major histocompatibility complexes (MHC) on an antigen presenting cell (APC). The APCs also have many endogenous MHCs that should not trigger T cell activation. It has been proposed that T cells are able to distinguish agonist MHCs (which should trigger T cell activation) and endogenous MHCs (which should not trigger T cell activation) via a kinetic proofreading mechanism. Such a mechanism is shown in below. In the figure, M = MHC and T = T cell receptor (TCR). The complexes $\\mathrm{C}_i$ denote MHC-TCR complexes with various stages of phosphorylation. In this model, all complexes may dissociate and \"reset\" to an unbound MHC and TCR. The rate of activation of T cells is proportional to the concentration of complex $\\mathrm{C}_n$. We say that $\\mathrm{C}_n$ is the \"active form.\"\n",
    "\n",
    "<div style=\"margin: auto; width:600px;\">\n",
    "\n",
    "![kinetic proofreading TCR](kinetic_proofreading_TCR.png)\n",
    "    \n",
    "</div> \n",
    "\n",
    "In this problem, we will ask you to think carefully about what plots and what limits are useful for analyzing the system and making conclusions about it. This is meant to help train you think carefully and creatively about new circuits you encounter. Specifically, you will think about the competing needs of the T cell activation system:\n",
    "\n",
    "- The system must be **selective**. That is, T cells should only be activated upon interaction with an agonist MHC, and not with endogenous MHCs.\n",
    "- The system must be **sensitive**. That means it should get considerable T cell activation when the agonist MHC is present.\n",
    "\n",
    "**a)** Assuming mass action kinetics, write down a system of ODEs for the concentrations of all chemical species. Consider only a single MHC species, M. To make notation consistent, let $c_i$ be the concentration of $\\mathrm{C}_i$, $c_T$ be the concentration of T-cell receptors, and $c_M$ be the concentration of unbound MHCs.\n",
    "\n",
    "**b)** Until part (g), assume that $k_{-n} = k_{-1}$. Henceforth, we will focus on the steady state concentrations. Show that at steady state $c_i = \\alpha c_{i-1}$, where\n",
    "\n",
    "\\begin{align}\n",
    "\\alpha = \\frac{1}{1 + k_{-1}/k_p}.\n",
    "\\end{align}\n",
    "\n",
    "As a result, $c_i = \\alpha^i\\,c_0$ for $1 \\le i \\le n-1$.\n",
    "\n",
    "**c)** Show that at steady state,\n",
    "\n",
    "\\begin{align}\n",
    "c_0 = \\frac{c_M\\,c_T}{K_\\mathrm{d} + k_p/k_\\mathrm{on}},\n",
    "\\end{align}\n",
    "\n",
    "where\n",
    "\n",
    "\\begin{align}\n",
    "K_\\mathrm{d} = \\frac{k_\\mathrm{off}}{k_\\mathrm{on}}\n",
    "\\end{align}\n",
    "\n",
    "is the dissociation constant for the MHC binding to the receptor.\n",
    "\n",
    "**d)** Show that the steady state total concentration of bound complexes is given by\n",
    "\n",
    "\\begin{align}\n",
    "c_\\mathrm{total} = \\sum_{i=0}^n c_i = \\frac{c_0}{1-\\alpha}.\n",
    "\\end{align}\n",
    "\n",
    "It will help to know that the sum of the first $n$ terms of a geometric series is given by\n",
    "\n",
    "\\begin{align}\n",
    "\\sum_{k=0}^{n-1} x^k = \\frac{1 - x^n}{1-x},\n",
    "\\end{align}\n",
    "\n",
    "provided $0 < x < 1$.\n",
    "\n",
    "**e)** Compute the steady state fraction of the MHCs that are bound to *active* T-cell receptors. That is, compute\n",
    "\n",
    "\\begin{align}\n",
    "f_m = \\frac{c_n}{c_M + c_\\mathrm{total}}.\n",
    "\\end{align}\n",
    "\n",
    "Show that\n",
    "\n",
    "\\begin{align}\n",
    "f_m = \\alpha^n\\,\\frac{c_T/K}{1 + c_T/K},\n",
    "\\end{align}\n",
    "\n",
    "where\n",
    "\n",
    "\\begin{align}\n",
    "K = (1-\\alpha)K_\\mathrm{d} + \\alpha\\,\\frac{k_{-1}}{k_\\mathrm{on}}.\n",
    "\\end{align}\n",
    "\n",
    "\n",
    "**f)** Discuss, with plots, limits, and/or words, how these results relate to the selectivity and sensitivity of the system. You can compute other quantities in our arguments if you like, such as the ratio of active complexes that are bound to agonist and endogenous MHCs.\n",
    "\n",
    "**g)** (not graded) If you are feeling motivated, you can investigate modifications to the kinetic proofreading mechanism. It has been argued that $k_{-n}$ can be tuned to get better performance of the system in terms of sensitivity without a comparable sacrifice in selectivity. You can evaluate this claim.\n",
    "\n",
    "To look at other modifications, you might want to postulate about how the fact that the interactions between MHCs and TCRs are happening on cell membranes. This part of the problem has no points associated with it, but is meant to provide something to think about and possibly to spark conversations among students and the course staff."
   ]
  },
  {
   "cell_type": "markdown",
   "metadata": {},
   "source": [
    "<br />"
   ]
  }
 ],
 "metadata": {
  "anaconda-cloud": {},
  "kernelspec": {
   "display_name": "Python 3",
   "language": "python",
   "name": "python3"
  },
  "language_info": {
   "codemirror_mode": {
    "name": "ipython",
    "version": 3
   },
   "file_extension": ".py",
   "mimetype": "text/x-python",
   "name": "python",
   "nbconvert_exporter": "python",
   "pygments_lexer": "ipython3",
   "version": "3.8.8"
  }
 },
 "nbformat": 4,
 "nbformat_minor": 4
}
