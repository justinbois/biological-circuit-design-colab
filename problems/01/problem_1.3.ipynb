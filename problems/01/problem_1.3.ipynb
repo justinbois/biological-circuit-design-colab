{
 "cells": [
  {
   "cell_type": "markdown",
   "metadata": {},
   "source": [
    "# Problem 1.3: Rate of production of gene product by an activator\n",
    "\n",
    "<hr>"
   ]
  },
  {
   "cell_type": "markdown",
   "metadata": {},
   "source": [
    "**a)** We wrote that the rate of production of a gene product as a function of the concentration of an activator is\n",
    "\n",
    "\\begin{align}\n",
    "\\beta(a) = \\beta_0\\,\\frac{a/K_\\mathrm{d}}{1+a/K_\\mathrm{d}}.\n",
    "\\end{align}\n",
    "\n",
    "Derive this result.\n",
    "\n",
    "**b)** Now, assume that activation does not happen unless **two** activators bind the promoter region at the same time. Show that the production rate is given by a Hill function,\n",
    "\n",
    "\\begin{align}\n",
    "\\beta(a) = \\beta_0\\,\\frac{\\left(a/K_\\mathrm{d}\\right)^2}{1+\\left(a/K_\\mathrm{d}\\right)^2}.\n",
    "\\end{align}\n",
    "\n",
    "In doing this calculation, assume that only zero or two activators may bind at a time.\n",
    "\n",
    "**c)** Repeat part (b), again assuming that activation does not happen unless two activators bind the promoter region at the same time, but now assume that zero, one, or two activators may bind at a time. How does the result differ from a Hill function? In what regime is it approximately a Hill function?"
   ]
  },
  {
   "cell_type": "markdown",
   "metadata": {},
   "source": [
    "<br />"
   ]
  }
 ],
 "metadata": {
  "anaconda-cloud": {},
  "kernelspec": {
   "display_name": "Python 3 (ipykernel)",
   "language": "python",
   "name": "python3"
  },
  "language_info": {
   "codemirror_mode": {
    "name": "ipython",
    "version": 3
   },
   "file_extension": ".py",
   "mimetype": "text/x-python",
   "name": "python",
   "nbconvert_exporter": "python",
   "pygments_lexer": "ipython3",
   "version": "3.9.7"
  }
 },
 "nbformat": 4,
 "nbformat_minor": 4
}
